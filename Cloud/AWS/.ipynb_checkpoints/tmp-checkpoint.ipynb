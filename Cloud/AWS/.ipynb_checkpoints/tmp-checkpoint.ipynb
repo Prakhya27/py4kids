{
 "cells": [
  {
   "cell_type": "code",
   "execution_count": 18,
   "metadata": {},
   "outputs": [],
   "source": [
    "import os\n",
    "db_host = os.environ.get('DB_HOST')\n",
    "db_name = os.environ.get('DB_NAME')\n",
    "db_user = os.environ.get('DB_USER')\n",
    "password = os.environ.get('PGPASSWORD')"
   ]
  },
  {
   "cell_type": "code",
   "execution_count": 21,
   "metadata": {},
   "outputs": [],
   "source": [
    "db_name=\"test\"\n",
    "db_user=\"user1\"\n",
    "db_host=\"aws.amazon.com\"\n",
    "password=\"secret1\""
   ]
  },
  {
   "cell_type": "code",
   "execution_count": 22,
   "metadata": {},
   "outputs": [],
   "source": [
    "db_connection_string = f\"dbname='{db_name}' \" + \\\n",
    "    f\"user='{db_user}' \" + \\\n",
    "    f\"host='{db_host}' \" + \\\n",
    "    f\"password='{password}'\""
   ]
  },
  {
   "cell_type": "code",
   "execution_count": 23,
   "metadata": {},
   "outputs": [
    {
     "name": "stdout",
     "output_type": "stream",
     "text": [
      "dbname='test' user='user1' host='aws.amazon.com' password='secret1'\n"
     ]
    }
   ],
   "source": [
    "print(db_connection_string)\n",
    "# dbname='test' user='user1' host='aws.amazon.com' password='secret1'"
   ]
  },
  {
   "cell_type": "code",
   "execution_count": null,
   "metadata": {},
   "outputs": [],
   "source": [
    "from datetime import datetime\n",
    "from pytz import timezone\n",
    "current_date = datetime.now(timezone('Europe/Amsterdam')).date()"
   ]
  },
  {
   "cell_type": "code",
   "execution_count": 27,
   "metadata": {
    "scrolled": true
   },
   "outputs": [
    {
     "name": "stdout",
     "output_type": "stream",
     "text": [
      "2019-01-26\n"
     ]
    }
   ],
   "source": [
    "print(current_date)\n",
    "# 2019-01-26"
   ]
  },
  {
   "cell_type": "code",
   "execution_count": null,
   "metadata": {},
   "outputs": [],
   "source": []
  }
 ],
 "metadata": {
  "kernelspec": {
   "display_name": "Python 3",
   "language": "python",
   "name": "python3"
  },
  "language_info": {
   "codemirror_mode": {
    "name": "ipython",
    "version": 3
   },
   "file_extension": ".py",
   "mimetype": "text/x-python",
   "name": "python",
   "nbconvert_exporter": "python",
   "pygments_lexer": "ipython3",
   "version": "3.6.5"
  }
 },
 "nbformat": 4,
 "nbformat_minor": 2
}
