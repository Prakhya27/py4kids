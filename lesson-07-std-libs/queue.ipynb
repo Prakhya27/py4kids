{
 "cells": [
  {
   "cell_type": "markdown",
   "metadata": {},
   "source": [
    "### [Python Queue examples]( http://www.learn4master.com/programming-language/python/python-queue-for-multithreading)  at [Learn for Master](http://www.learn4master.com)"
   ]
  },
  {
   "cell_type": "markdown",
   "metadata": {},
   "source": [
    "#### FIFO Queue"
   ]
  },
  {
   "cell_type": "code",
   "execution_count": 1,
   "metadata": {},
   "outputs": [],
   "source": [
    "import queue"
   ]
  },
  {
   "cell_type": "code",
   "execution_count": 15,
   "metadata": {},
   "outputs": [
    {
     "name": "stdout",
     "output_type": "stream",
     "text": [
      "FIFO queue ...\n",
      "enque  item-0\n",
      "enque  item-1\n",
      "enque  item-2\n",
      "enque  item-3\n",
      "Removing items ...\n",
      "deque  item-0\n",
      "deque  item-1\n",
      "deque  item-2\n",
      "deque  item-3\n"
     ]
    }
   ],
   "source": [
    "print(\"FIFO queue ...\")\n",
    "q1 = queue.Queue()\n",
    "\n",
    "#add items at the head of the queue\n",
    "for x in range(4):\n",
    "    item = \"item-\" + str(x)\n",
    "    print(\"enque \", item)\n",
    "    q1.put(item)\n",
    "    \n",
    "print(\"Removing items ...\")\n",
    "while not q1.empty():\n",
    "    item = q1.get()\n",
    "    print(\"deque \", item)"
   ]
  },
  {
   "cell_type": "code",
   "execution_count": 7,
   "metadata": {},
   "outputs": [],
   "source": [
    "q2 = queue.Queue(4)"
   ]
  },
  {
   "cell_type": "code",
   "execution_count": 8,
   "metadata": {},
   "outputs": [
    {
     "name": "stdout",
     "output_type": "stream",
     "text": [
      "i= 0\n",
      "i= 1\n",
      "i= 2\n",
      "i= 3\n",
      "i= 4\n",
      "q2 is full\n",
      "i= 5\n",
      "q2 is full\n"
     ]
    }
   ],
   "source": [
    "for i in range(6):\n",
    "    print(\"i=\",i)\n",
    "    if not q2.full():\n",
    "        q2.put(i)\n",
    "    else:\n",
    "        print(\"q2 is full\")"
   ]
  },
  {
   "cell_type": "code",
   "execution_count": 9,
   "metadata": {},
   "outputs": [
    {
     "name": "stdout",
     "output_type": "stream",
     "text": [
      "i= 0\n",
      "0\n",
      "i= 1\n",
      "1\n",
      "i= 2\n",
      "2\n",
      "i= 3\n",
      "3\n",
      "i= 4\n",
      "q2 is empty\n",
      "i= 5\n",
      "q2 is empty\n"
     ]
    }
   ],
   "source": [
    "for i in range(6):\n",
    "    print(\"i=\",i)\n",
    "    if not q2.empty():\n",
    "        print(q2.get(i))\n",
    "    else:\n",
    "        print(\"q2 is empty\")"
   ]
  },
  {
   "cell_type": "markdown",
   "metadata": {},
   "source": [
    "#### LIFO Queue"
   ]
  },
  {
   "cell_type": "code",
   "execution_count": 14,
   "metadata": {},
   "outputs": [
    {
     "name": "stdout",
     "output_type": "stream",
     "text": [
      "LIFO queue ...\n",
      "enque  item-0\n",
      "enque  item-1\n",
      "enque  item-2\n",
      "enque  item-3\n",
      "Removing items ...\n",
      "deque  item-3\n",
      "deque  item-2\n",
      "deque  item-1\n",
      "deque  item-0\n"
     ]
    }
   ],
   "source": [
    "print(\"LIFO queue ...\")\n",
    "q3 = queue.LifoQueue()\n",
    " \n",
    "#add items at the head of the queue\n",
    "for x in range(4):\n",
    "    item = \"item-\" + str(x)\n",
    "    print(\"enque \", item)\n",
    "    q3.put(item)\n",
    "    \n",
    "print(\"Removing items ...\")\n",
    "while not q3.empty():\n",
    "    item = q3.get()\n",
    "    print(\"deque \", item)"
   ]
  },
  {
   "cell_type": "markdown",
   "metadata": {},
   "source": [
    "#### PriorityQueue\n",
    "\n",
    "PriorityQueue is such a data structure that can be used pick up the items from the queue based on their priority value. \n",
    "\n",
    "Issue with Python3 \n",
    "\n",
    "https://bugs.python.org/issue31145"
   ]
  },
  {
   "cell_type": "code",
   "execution_count": 69,
   "metadata": {},
   "outputs": [
    {
     "name": "stdout",
     "output_type": "stream",
     "text": [
      "[KeyedItem(key=5, item=<function g at 0x000002333EBDE7B8>), KeyedItem(key=10, item=<function f at 0x000002333EBDE378>)]\n"
     ]
    }
   ],
   "source": [
    "from dataclasses import dataclass, field\n",
    "from typing import Any\n",
    "\n",
    "@dataclass(order=True)\n",
    "class KeyedItem:\n",
    "    key: int\n",
    "    item: Any=field(compare=False)\n",
    "\n",
    "def f(): pass\n",
    "def g(): pass\n",
    "print(sorted([KeyedItem(10, f), KeyedItem(5, g)]))"
   ]
  },
  {
   "cell_type": "code",
   "execution_count": 70,
   "metadata": {},
   "outputs": [],
   "source": [
    "task_list = [(100, 'a not agent task'),\n",
    "            (50, 'a highly agent task'),\n",
    "             (5, 'a highly agent task'),\n",
    "             (10, 'an important task')\n",
    "            ]"
   ]
  },
  {
   "cell_type": "code",
   "execution_count": 71,
   "metadata": {},
   "outputs": [],
   "source": [
    "import queue\n",
    "q = queue.PriorityQueue(3)"
   ]
  },
  {
   "cell_type": "code",
   "execution_count": 72,
   "metadata": {},
   "outputs": [
    {
     "name": "stdout",
     "output_type": "stream",
     "text": [
      "0 (100, 'a not agent task')\n",
      "1 (50, 'a highly agent task')\n",
      "2 (5, 'a highly agent task')\n",
      "3 (10, 'an important task')\n"
     ]
    }
   ],
   "source": [
    "for i, item in enumerate(task_list):\n",
    "    print(i,item)\n",
    "    t = KeyedItem(item[0], item)\n",
    "    if not q.full():\n",
    "        q.put(t)"
   ]
  },
  {
   "cell_type": "code",
   "execution_count": 73,
   "metadata": {},
   "outputs": [
    {
     "name": "stdout",
     "output_type": "stream",
     "text": [
      "qsize = 3\n",
      "process task: 5 (5, 'a highly agent task')\n",
      "qsize = 2\n",
      "process task: 50 (50, 'a highly agent task')\n",
      "qsize = 1\n",
      "process task: 100 (100, 'a not agent task')\n"
     ]
    }
   ],
   "source": [
    "while not q.empty():\n",
    "    print(\"qsize = {}\".format(q.qsize()))\n",
    "    cur_task = q.get()\n",
    "    print('process task:', cur_task.key, cur_task.item)"
   ]
  },
  {
   "cell_type": "code",
   "execution_count": null,
   "metadata": {},
   "outputs": [],
   "source": []
  },
  {
   "cell_type": "code",
   "execution_count": null,
   "metadata": {},
   "outputs": [],
   "source": []
  }
 ],
 "metadata": {
  "kernelspec": {
   "display_name": "Python 3",
   "language": "python",
   "name": "python3"
  },
  "language_info": {
   "codemirror_mode": {
    "name": "ipython",
    "version": 3
   },
   "file_extension": ".py",
   "mimetype": "text/x-python",
   "name": "python",
   "nbconvert_exporter": "python",
   "pygments_lexer": "ipython3",
   "version": "3.6.5"
  }
 },
 "nbformat": 4,
 "nbformat_minor": 2
}
