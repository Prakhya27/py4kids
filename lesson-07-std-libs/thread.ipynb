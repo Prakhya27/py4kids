{
 "cells": [
  {
   "cell_type": "markdown",
   "metadata": {},
   "source": [
    "### Threading module\n",
    "\n",
    "https://pythonprogramming.net/threading-tutorial-python/"
   ]
  },
  {
   "cell_type": "code",
   "execution_count": 1,
   "metadata": {},
   "outputs": [],
   "source": [
    "import threading\n",
    "from queue import Queue\n",
    "import time"
   ]
  },
  {
   "cell_type": "code",
   "execution_count": 2,
   "metadata": {},
   "outputs": [],
   "source": [
    "print_lock = threading.Lock()"
   ]
  },
  {
   "cell_type": "code",
   "execution_count": 3,
   "metadata": {},
   "outputs": [],
   "source": [
    "def exampleJob(worker):\n",
    "    time.sleep(.5) # pretend to do some work.\n",
    "    with print_lock:\n",
    "        print(\"[exampleJob] thread_name = {},  worker_id = {}\".format(threading.current_thread().name, worker))\n",
    "\n",
    "# The threader thread pulls an worker from the queue and processes it\n",
    "def threader():\n",
    "    while True:\n",
    "        # gets an worker from the queue\n",
    "        worker = q.get()\n",
    "\n",
    "        # Run the example job with the avail worker in queue (thread)\n",
    "        exampleJob(worker)\n",
    "\n",
    "        # completed with the job\n",
    "        q.task_done()"
   ]
  },
  {
   "cell_type": "code",
   "execution_count": 4,
   "metadata": {},
   "outputs": [
    {
     "name": "stdout",
     "output_type": "stream",
     "text": [
      "[exampleJob] thread_name = Thread-6,  worker_id = 0\n",
      "[exampleJob] thread_name = Thread-7,  worker_id = 1\n",
      "[exampleJob] thread_name = Thread-10,  worker_id = 4\n",
      "[exampleJob] thread_name = Thread-11,  worker_id = 5\n",
      "[exampleJob] thread_name = Thread-9,  worker_id = 3\n",
      "[exampleJob] thread_name = Thread-12,  worker_id = 6\n",
      "[exampleJob] thread_name = Thread-8,  worker_id = 2\n",
      "[exampleJob] thread_name = Thread-15,  worker_id = 9\n",
      "[exampleJob] thread_name = Thread-13,  worker_id = 7\n",
      "[exampleJob] thread_name = Thread-14,  worker_id = 8\n",
      "[exampleJob] thread_name = Thread-6,  worker_id = 10\n",
      "[exampleJob] thread_name = Thread-7,  worker_id = 11\n",
      "[exampleJob] thread_name = Thread-10,  worker_id = 12\n",
      "[exampleJob] thread_name = Thread-11,  worker_id = 13\n",
      "[exampleJob] thread_name = Thread-9,  worker_id = 14\n",
      "[exampleJob] thread_name = Thread-12,  worker_id = 15\n",
      "[exampleJob] thread_name = Thread-8,  worker_id = 16\n",
      "[exampleJob] thread_name = Thread-15,  worker_id = 17\n",
      "[exampleJob] thread_name = Thread-13,  worker_id = 18\n",
      "[exampleJob] thread_name = Thread-14,  worker_id = 19\n",
      "\n",
      "Entire job took: 1.0446674823760986\n"
     ]
    }
   ],
   "source": [
    "# Create the queue and threader \n",
    "q = Queue()\n",
    "\n",
    "NUM_WORKERS = 20\n",
    "NUM_THREADS = 5\n",
    "\n",
    "# 20 jobs assigned.\n",
    "for worker in range(NUM_WORKERS):\n",
    "    q.put(worker)\n",
    "\n",
    "# how many threads are we going to allow for\n",
    "for x in range(10):\n",
    "     t = threading.Thread(target=threader)\n",
    "\n",
    "     # classifying as a daemon, so they will die when the main dies\n",
    "     t.daemon = True\n",
    "\n",
    "     # begins, must come after daemon definition\n",
    "     t.start()\n",
    "\n",
    "start_time = time.time()\n",
    "\n",
    "# wait until the thread terminates.\n",
    "q.join()\n",
    "\n",
    "# with 10 workers and 20 tasks, with each task being .5 seconds, then the completed job\n",
    "# is ~1 second using threading. Normally 20 tasks with .5 seconds each would take 10 seconds.\n",
    "stop_time = time.time()\n",
    "print('\\nEntire job took:', stop_time - start_time)"
   ]
  },
  {
   "cell_type": "markdown",
   "metadata": {},
   "source": [
    "### Python 3 - Multithreaded Programming\n",
    "\n",
    "https://www.tutorialspoint.com/python3/python_multithreading.htm"
   ]
  },
  {
   "cell_type": "markdown",
   "metadata": {},
   "source": [
    "#### Creating Thread Using _thread Module"
   ]
  },
  {
   "cell_type": "code",
   "execution_count": 9,
   "metadata": {},
   "outputs": [
    {
     "name": "stdout",
     "output_type": "stream",
     "text": [
      "Thread-1: Fri Nov  9 15:35:21 2018\n",
      "Thread-2: Fri Nov  9 15:35:23 2018\n",
      "Thread-1: Fri Nov  9 15:35:23 2018\n",
      "Thread-1: Fri Nov  9 15:35:25 2018\n",
      "Thread-2: Fri Nov  9 15:35:27 2018\n",
      "Thread-1: Fri Nov  9 15:35:27 2018\n",
      "Thread-1: Fri Nov  9 15:35:29 2018\n",
      "Thread-2: Fri Nov  9 15:35:31 2018\n",
      "Thread-2: Fri Nov  9 15:35:35 2018\n",
      "Thread-2: Fri Nov  9 15:35:39 2018\n"
     ]
    }
   ],
   "source": [
    "import _thread\n",
    "import time\n",
    "\n",
    "# Define a function for the thread\n",
    "def print_time( threadName, delay):\n",
    "   count = 0\n",
    "   while count < 5:\n",
    "      time.sleep(delay)\n",
    "      count += 1\n",
    "      print (\"%s: %s\" % ( threadName, time.ctime(time.time()) ))\n",
    "\n",
    "# Create two threads as follows\n",
    "try:\n",
    "   _thread.start_new_thread( print_time, (\"Thread-1\", 2))\n",
    "   _thread.start_new_thread( print_time, (\"Thread-2\", 4))\n",
    "except:\n",
    "   print (\"Error: unable to start thread\")"
   ]
  },
  {
   "cell_type": "markdown",
   "metadata": {},
   "source": [
    "#### Creating Thread Using Threading Module"
   ]
  },
  {
   "cell_type": "code",
   "execution_count": 11,
   "metadata": {},
   "outputs": [
    {
     "name": "stdout",
     "output_type": "stream",
     "text": [
      "Starting Thread-1\n",
      "Starting Thread-2\n",
      "Thread-1: Fri Nov  9 15:38:59 2018\n",
      "Thread-1: Fri Nov  9 15:39:02 2018\n",
      "Thread-2: Fri Nov  9 15:39:02 2018\n",
      "Thread-1: Fri Nov  9 15:39:05 2018\n",
      "Thread-1: Fri Nov  9 15:39:08 2018\n",
      "Thread-2: Fri Nov  9 15:39:08 2018\n",
      "Thread-1: Fri Nov  9 15:39:11 2018\n",
      "Exiting Thread-1\n",
      "Thread-2: Fri Nov  9 15:39:14 2018\n",
      "Thread-2: Fri Nov  9 15:39:20 2018\n",
      "Thread-2: Fri Nov  9 15:39:26 2018\n",
      "Exiting Thread-2\n",
      "Exiting Main Thread\n"
     ]
    }
   ],
   "source": [
    "#!/usr/bin/python3\n",
    "\n",
    "import threading\n",
    "import time\n",
    "\n",
    "exitFlag = 0\n",
    "\n",
    "class myThread (threading.Thread):\n",
    "   def __init__(self, threadID, name, counter):\n",
    "      threading.Thread.__init__(self)\n",
    "      self.threadID = threadID\n",
    "      self.name = name\n",
    "      self.counter = counter\n",
    "   def run(self):\n",
    "      print (\"Starting \" + self.name)\n",
    "      print_time(self.name, self.counter, 5)\n",
    "      print (\"Exiting \" + self.name)\n",
    "\n",
    "def print_time(threadName, delay, counter):\n",
    "   while counter:\n",
    "      if exitFlag:\n",
    "         threadName.exit()\n",
    "      time.sleep(delay)\n",
    "      print (\"%s: %s\" % (threadName, time.ctime(time.time())))\n",
    "      counter -= 1\n",
    "\n",
    "# Create new threads\n",
    "thread1 = myThread(1, \"Thread-1\", 3)\n",
    "thread2 = myThread(2, \"Thread-2\", 6)\n",
    "\n",
    "# Start new Threads\n",
    "thread1.start()\n",
    "thread2.start()\n",
    "thread1.join()\n",
    "thread2.join()\n",
    "print (\"Exiting Main Thread\")"
   ]
  },
  {
   "cell_type": "markdown",
   "metadata": {},
   "source": [
    "#### Synchronizing Threads"
   ]
  },
  {
   "cell_type": "code",
   "execution_count": 14,
   "metadata": {},
   "outputs": [
    {
     "name": "stdout",
     "output_type": "stream",
     "text": [
      "Starting Thread-1\n",
      "Starting Thread-2\n",
      "Thread-1: Fri Nov  9 15:46:08 2018\n",
      "Thread-1: Fri Nov  9 15:46:11 2018\n",
      "Thread-1: Fri Nov  9 15:46:14 2018\n",
      "Thread-1: Fri Nov  9 15:46:17 2018\n",
      "Thread-1: Fri Nov  9 15:46:20 2018\n",
      "Thread-2: Fri Nov  9 15:46:26 2018\n",
      "Thread-2: Fri Nov  9 15:46:32 2018\n",
      "Thread-2: Fri Nov  9 15:46:38 2018\n",
      "Thread-2: Fri Nov  9 15:46:44 2018\n",
      "Thread-2: Fri Nov  9 15:46:50 2018\n",
      "Exiting Main Thread\n"
     ]
    }
   ],
   "source": [
    "#!/usr/bin/python3\n",
    "\n",
    "import threading\n",
    "import time\n",
    "\n",
    "class myThread (threading.Thread):\n",
    "   def __init__(self, threadID, name, counter):\n",
    "      threading.Thread.__init__(self)\n",
    "      self.threadID = threadID\n",
    "      self.name = name\n",
    "      self.counter = counter\n",
    "   def run(self):\n",
    "      print (\"Starting \" + self.name)\n",
    "      # Get lock to synchronize threads\n",
    "      threadLock.acquire()\n",
    "      print_time(self.name, self.counter, 5)\n",
    "      # Free lock to release next thread\n",
    "      threadLock.release()\n",
    "\n",
    "def print_time(threadName, delay, counter):\n",
    "   while counter:\n",
    "      time.sleep(delay)\n",
    "      print (\"%s: %s\" % (threadName, time.ctime(time.time())))\n",
    "      counter -= 1\n",
    "\n",
    "threadLock = threading.Lock()\n",
    "threads = []\n",
    "\n",
    "# Create new threads\n",
    "thread1 = myThread(1, \"Thread-1\", 3)\n",
    "thread2 = myThread(2, \"Thread-2\", 6)\n",
    "\n",
    "# Start new Threads\n",
    "thread1.start()\n",
    "thread2.start()\n",
    "\n",
    "# Add threads to thread list\n",
    "threads.append(thread1)\n",
    "threads.append(thread2)\n",
    "\n",
    "# Wait for all threads to complete\n",
    "for t in threads:\n",
    "   t.join()\n",
    "print (\"Exiting Main Thread\")"
   ]
  },
  {
   "cell_type": "markdown",
   "metadata": {},
   "source": [
    "#### Multithreaded Priority Queue"
   ]
  },
  {
   "cell_type": "code",
   "execution_count": 15,
   "metadata": {},
   "outputs": [
    {
     "name": "stdout",
     "output_type": "stream",
     "text": [
      "Starting Thread-1\n",
      "Starting Thread-2Starting Thread-3\n",
      "\n",
      "Thread-2 processing One\n",
      "Thread-2 processing Two\n",
      "Thread-2 processing Three\n",
      "Thread-2 processing Four\n",
      "Thread-2 processing Five\n",
      "Exiting Thread-1\n",
      "Exiting Thread-3\n",
      "Exiting Thread-2\n",
      "Exiting Main Thread\n"
     ]
    }
   ],
   "source": [
    "#!/usr/bin/python3\n",
    "\n",
    "import queue\n",
    "import threading\n",
    "import time\n",
    "\n",
    "exitFlag = 0\n",
    "\n",
    "class myThread (threading.Thread):\n",
    "   def __init__(self, threadID, name, q):\n",
    "      threading.Thread.__init__(self)\n",
    "      self.threadID = threadID\n",
    "      self.name = name\n",
    "      self.q = q\n",
    "   def run(self):\n",
    "      print (\"Starting \" + self.name)\n",
    "      process_data(self.name, self.q)\n",
    "      print (\"Exiting \" + self.name)\n",
    "\n",
    "def process_data(threadName, q):\n",
    "   while not exitFlag:\n",
    "      queueLock.acquire()\n",
    "      if not workQueue.empty():\n",
    "         data = q.get()\n",
    "         queueLock.release()\n",
    "         print (\"%s processing %s\" % (threadName, data))\n",
    "      else:\n",
    "         queueLock.release()\n",
    "         time.sleep(1)\n",
    "\n",
    "threadList = [\"Thread-1\", \"Thread-2\", \"Thread-3\"]\n",
    "nameList = [\"One\", \"Two\", \"Three\", \"Four\", \"Five\"]\n",
    "queueLock = threading.Lock()\n",
    "workQueue = queue.Queue(10)\n",
    "threads = []\n",
    "threadID = 1\n",
    "\n",
    "# Create new threads\n",
    "for tName in threadList:\n",
    "   thread = myThread(threadID, tName, workQueue)\n",
    "   thread.start()\n",
    "   threads.append(thread)\n",
    "   threadID += 1\n",
    "\n",
    "# Fill the queue\n",
    "queueLock.acquire()\n",
    "for word in nameList:\n",
    "   workQueue.put(word)\n",
    "queueLock.release()\n",
    "\n",
    "# Wait for queue to empty\n",
    "while not workQueue.empty():\n",
    "   pass\n",
    "\n",
    "# Notify threads it's time to exit\n",
    "exitFlag = 1\n",
    "\n",
    "# Wait for all threads to complete\n",
    "for t in threads:\n",
    "   t.join()\n",
    "print (\"Exiting Main Thread\")"
   ]
  },
  {
   "cell_type": "code",
   "execution_count": null,
   "metadata": {},
   "outputs": [],
   "source": []
  }
 ],
 "metadata": {
  "kernelspec": {
   "display_name": "Python 3",
   "language": "python",
   "name": "python3"
  },
  "language_info": {
   "codemirror_mode": {
    "name": "ipython",
    "version": 3
   },
   "file_extension": ".py",
   "mimetype": "text/x-python",
   "name": "python",
   "nbconvert_exporter": "python",
   "pygments_lexer": "ipython3",
   "version": "3.6.5"
  }
 },
 "nbformat": 4,
 "nbformat_minor": 2
}
