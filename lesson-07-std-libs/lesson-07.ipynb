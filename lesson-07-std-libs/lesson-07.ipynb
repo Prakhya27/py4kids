{
 "cells": [
  {
   "cell_type": "markdown",
   "metadata": {},
   "source": [
    "[py4kids](https://github.com/wgong/py4kids)"
   ]
  },
  {
   "cell_type": "markdown",
   "metadata": {},
   "source": [
    "# Built-in libraries - Python standard lib\n",
    "\n",
    "\n",
    "In this lesson, we learn several useful libraries in python:\n",
    "* sys\n",
    "* datetime\n",
    "* random\n",
    "* pickle\n",
    "* urllib\n",
    "\n",
    "Expanding our toolbox:\n",
    "<img src=../images/007-magic-toolbox.jpg width=70%>\n",
    "\n",
    "Use pre-built package:\n",
    "<img src=../images/007-home_depot.jpg width=70%>"
   ]
  },
  {
   "cell_type": "code",
   "execution_count": 1,
   "metadata": {},
   "outputs": [
    {
     "data": {
      "text/html": [
       "<div id=\"my_id_menu_nb\">run previous cell, wait for 2 seconds</div>\n",
       "<script>\n",
       "function repeat_indent_string(n){\n",
       "    var a = \"\" ;\n",
       "    for ( ; n > 0 ; --n) {\n",
       "        a += \"    \";\n",
       "    }\n",
       "    return a;\n",
       "}\n",
       "var update_menu_string = function(begin, lfirst, llast, sformat, send, keep_item) {\n",
       "    var anchors = document.getElementsByClassName(\"section\");\n",
       "    if (anchors.length == 0) {\n",
       "        anchors = document.getElementsByClassName(\"text_cell_render rendered_html\");\n",
       "    }\n",
       "    var i,t;\n",
       "    var text_menu = begin;\n",
       "    var text_memo = \"<pre>\\nlength:\" + anchors.length + \"\\n\";\n",
       "    var ind = \"\";\n",
       "    var memo_level = 1;\n",
       "    var href;\n",
       "    var tags = [];\n",
       "    var main_item = 0;\n",
       "    for (i = 0; i <= llast; i++) {\n",
       "        tags.push(\"h\" + i);\n",
       "    }\n",
       "\n",
       "    for (i = 0; i < anchors.length; i++) {\n",
       "        text_memo += \"**\" + anchors[i].id + \"--\\n\";\n",
       "\n",
       "        var child = null;\n",
       "        for(t = 0; t < tags.length; t++) {\n",
       "            var r = anchors[i].getElementsByTagName(tags[t]);\n",
       "            if (r.length > 0) {\n",
       "child = r[0];\n",
       "break;\n",
       "            }\n",
       "        }\n",
       "        if (child == null){\n",
       "            text_memo += \"null\\n\";\n",
       "            continue;\n",
       "        }\n",
       "        if (anchors[i].hasAttribute(\"id\")) {\n",
       "            // when converted in RST\n",
       "            href = anchors[i].id;\n",
       "            text_memo += \"#1-\" + href;\n",
       "            // passer à child suivant (le chercher)\n",
       "        }\n",
       "        else if (child.hasAttribute(\"id\")) {\n",
       "            // in a notebook\n",
       "            href = child.id;\n",
       "            text_memo += \"#2-\" + href;\n",
       "        }\n",
       "        else {\n",
       "            text_memo += \"#3-\" + \"*\" + \"\\n\";\n",
       "            continue;\n",
       "        }\n",
       "        var title = child.textContent;\n",
       "        var level = parseInt(child.tagName.substring(1,2));\n",
       "\n",
       "        text_memo += \"--\" + level + \"?\" + lfirst + \"--\" + title + \"\\n\";\n",
       "\n",
       "        if ((level < lfirst) || (level > llast)) {\n",
       "            continue ;\n",
       "        }\n",
       "        if (title.endsWith('¶')) {\n",
       "            title = title.substring(0,title.length-1).replace(\"<\", \"&lt;\").replace(\">\", \"&gt;\").replace(\"&\", \"&amp;\")\n",
       "        }\n",
       "\n",
       "        if (title.length == 0) {\n",
       "            continue;\n",
       "        }\n",
       "\n",
       "        while (level < memo_level) {\n",
       "            text_menu += \"</ul>\\n\";\n",
       "            memo_level -= 1;\n",
       "        }\n",
       "        if (level == lfirst) {\n",
       "            main_item += 1;\n",
       "        }\n",
       "        if (keep_item != -1 && main_item != keep_item + 1) {\n",
       "            // alert(main_item + \" - \" + level + \" - \" + keep_item);\n",
       "            continue;\n",
       "        }\n",
       "        while (level > memo_level) {\n",
       "            text_menu += \"<ul>\\n\";\n",
       "            memo_level += 1;\n",
       "        }\n",
       "        text_menu += repeat_indent_string(level-2) + sformat.replace(\"__HREF__\", href).replace(\"__TITLE__\", title);\n",
       "    }\n",
       "    while (1 < memo_level) {\n",
       "        text_menu += \"</ul>\\n\";\n",
       "        memo_level -= 1;\n",
       "    }\n",
       "    text_menu += send;\n",
       "    //text_menu += \"\\n\" + text_memo;\n",
       "    return text_menu;\n",
       "};\n",
       "var update_menu = function() {\n",
       "    var sbegin = \"\";\n",
       "    var sformat = '<li><a href=\"#__HREF__\">__TITLE__</a></li>';\n",
       "    var send = \"\";\n",
       "    var keep_item = -1;\n",
       "    var text_menu = update_menu_string(sbegin, 2, 4, sformat, send, keep_item);\n",
       "    var menu = document.getElementById(\"my_id_menu_nb\");\n",
       "    menu.innerHTML=text_menu;\n",
       "};\n",
       "window.setTimeout(update_menu,2000);\n",
       "            </script>"
      ],
      "text/plain": [
       "<IPython.core.display.HTML object>"
      ]
     },
     "execution_count": 1,
     "metadata": {},
     "output_type": "execute_result"
    }
   ],
   "source": [
    "from jyquickhelper import add_notebook_menu\n",
    "add_notebook_menu()"
   ]
  },
  {
   "cell_type": "markdown",
   "metadata": {
    "collapsed": true
   },
   "source": [
    "## System Info"
   ]
  },
  {
   "cell_type": "code",
   "execution_count": 2,
   "metadata": {},
   "outputs": [
    {
     "name": "stdout",
     "output_type": "stream",
     "text": [
      "3.5.2 |Anaconda custom (64-bit)| (default, Jul  5 2016, 11:41:13) [MSC v.1900 64 bit (AMD64)]\n"
     ]
    }
   ],
   "source": [
    "# Which Version of Python Am I Using?\n",
    "\n",
    "import sys\n",
    "print(sys.version)"
   ]
  },
  {
   "cell_type": "code",
   "execution_count": 3,
   "metadata": {},
   "outputs": [
    {
     "data": {
      "text/plain": [
       "sys.version_info(major=3, minor=5, micro=2, releaselevel='final', serial=0)"
      ]
     },
     "execution_count": 3,
     "metadata": {},
     "output_type": "execute_result"
    }
   ],
   "source": [
    "sys.version_info"
   ]
  },
  {
   "cell_type": "code",
   "execution_count": 4,
   "metadata": {},
   "outputs": [
    {
     "data": {
      "text/plain": [
       "(3, 5, 2)"
      ]
     },
     "execution_count": 4,
     "metadata": {},
     "output_type": "execute_result"
    }
   ],
   "source": [
    "sys.version_info.major, sys.version_info.minor, sys.version_info.micro"
   ]
  },
  {
   "cell_type": "code",
   "execution_count": 5,
   "metadata": {},
   "outputs": [
    {
     "data": {
      "text/plain": [
       "'3.5.2'"
      ]
     },
     "execution_count": 5,
     "metadata": {},
     "output_type": "execute_result"
    }
   ],
   "source": [
    "import platform\n",
    "platform.python_version()"
   ]
  },
  {
   "cell_type": "markdown",
   "metadata": {
    "collapsed": true
   },
   "source": [
    "## Date and Time"
   ]
  },
  {
   "cell_type": "code",
   "execution_count": 6,
   "metadata": {},
   "outputs": [
    {
     "name": "stdout",
     "output_type": "stream",
     "text": [
      "1508624518.9013386\n"
     ]
    }
   ],
   "source": [
    "# tell me the time\n",
    "import time\n",
    "print(time.time())\n",
    "# number of seconds since January 1, 1970, at 00:00:00 AM"
   ]
  },
  {
   "cell_type": "code",
   "execution_count": 7,
   "metadata": {},
   "outputs": [
    {
     "data": {
      "text/plain": [
       "1508112000"
      ]
     },
     "execution_count": 7,
     "metadata": {},
     "output_type": "execute_result"
    }
   ],
   "source": [
    "# double-check\n",
    "(2017-1970) * 365 * 24 * 60 * 60 + 10 * 30 * 24 * 60 * 60  # seconds"
   ]
  },
  {
   "cell_type": "code",
   "execution_count": 8,
   "metadata": {},
   "outputs": [
    {
     "name": "stdout",
     "output_type": "stream",
     "text": [
      "0\n",
      "100\n",
      "200\n",
      "300\n",
      "400\n",
      "500\n",
      "600\n",
      "700\n",
      "800\n",
      "900\n",
      "it took 0.0010001659393310547 seconds\n"
     ]
    }
   ],
   "source": [
    "# measure time lapse of each loop\n",
    "t1 = time.time()\n",
    "for x in range(0, 1000):\n",
    "    if x%100 == 0: \n",
    "        print(x)\n",
    "t2 = time.time()\n",
    "print('it took %s seconds' % (t2-t1))"
   ]
  },
  {
   "cell_type": "code",
   "execution_count": 9,
   "metadata": {},
   "outputs": [
    {
     "name": "stdout",
     "output_type": "stream",
     "text": [
      "Sat Oct 21 18:21:58 2017\n"
     ]
    }
   ],
   "source": [
    "t = time.asctime()\n",
    "print(t)"
   ]
  },
  {
   "cell_type": "code",
   "execution_count": 10,
   "metadata": {},
   "outputs": [
    {
     "name": "stdout",
     "output_type": "stream",
     "text": [
      "time.struct_time(tm_year=2017, tm_mon=10, tm_mday=21, tm_hour=18, tm_min=21, tm_sec=58, tm_wday=5, tm_yday=294, tm_isdst=1)\n"
     ]
    }
   ],
   "source": [
    "local_time = time.localtime()\n",
    "print(local_time)\n",
    "year, month, day = t[0], t[1], t[2]"
   ]
  },
  {
   "cell_type": "code",
   "execution_count": 11,
   "metadata": {},
   "outputs": [
    {
     "name": "stdout",
     "output_type": "stream",
     "text": [
      "1\n",
      "2\n",
      "3\n",
      "4\n",
      "5\n",
      "6\n",
      "7\n",
      "8\n",
      "9\n"
     ]
    }
   ],
   "source": [
    "# time for a nap\n",
    "for x in range(1, 10):\n",
    "    print(x)\n",
    "    time.sleep(3)"
   ]
  },
  {
   "cell_type": "code",
   "execution_count": 12,
   "metadata": {},
   "outputs": [
    {
     "data": {
      "text/plain": [
       "datetime.date(2017, 10, 21)"
      ]
     },
     "execution_count": 12,
     "metadata": {},
     "output_type": "execute_result"
    }
   ],
   "source": [
    "# dates are easily constructed and formatted\n",
    "from datetime import date\n",
    "now = date.today()\n",
    "now"
   ]
  },
  {
   "cell_type": "code",
   "execution_count": 13,
   "metadata": {},
   "outputs": [
    {
     "data": {
      "text/plain": [
       "'12-12-12. 12 Dec 2012 is a Wednesday on the 12 day of December.'"
      ]
     },
     "execution_count": 13,
     "metadata": {},
     "output_type": "execute_result"
    }
   ],
   "source": [
    "import datetime\n",
    "past = datetime.date(2012, 12, 12)\n",
    "past.strftime(\"%m-%d-%y. %d %b %Y is a %A on the %d day of %B.\")"
   ]
  },
  {
   "cell_type": "markdown",
   "metadata": {},
   "source": [
    "everything about string formating of time:\n",
    "http://strftime.org/"
   ]
  },
  {
   "cell_type": "code",
   "execution_count": 14,
   "metadata": {},
   "outputs": [
    {
     "data": {
      "text/plain": [
       "6595"
      ]
     },
     "execution_count": 14,
     "metadata": {},
     "output_type": "execute_result"
    }
   ],
   "source": [
    "# dates support calendar arithmetic\n",
    "birthday = date(1999, 10, 1)\n",
    "age = now - birthday\n",
    "age.days\n",
    "#14368"
   ]
  },
  {
   "cell_type": "markdown",
   "metadata": {
    "collapsed": true
   },
   "source": [
    "## Random Number Generator\n",
    "\n",
    "Throw a dice:\n",
    "\n",
    "<img src=../images/007-6sided_dice.jpg width=80%>"
   ]
  },
  {
   "cell_type": "code",
   "execution_count": 15,
   "metadata": {},
   "outputs": [
    {
     "name": "stdout",
     "output_type": "stream",
     "text": [
      "56\n",
      "147\n"
     ]
    }
   ],
   "source": [
    "import random\n",
    "print(random.randint(1, 100))     # pick a number randomly between 1 and 100\n",
    "print(random.randint(100, 1000))  # pick a number randomly between 100 and 1000"
   ]
  },
  {
   "cell_type": "code",
   "execution_count": null,
   "metadata": {},
   "outputs": [
    {
     "name": "stdout",
     "output_type": "stream",
     "text": [
      "Guess a number between 1 and 100\n"
     ]
    }
   ],
   "source": [
    "# Guess a number between 1 and 100\n",
    "import random\n",
    "num = random.randint(1, 100)\n",
    "while True:\n",
    "    print('Guess a number between 1 and 100')\n",
    "    guess = input()\n",
    "    i = int(guess)\n",
    "    if i == num:\n",
    "        print('You guessed right')\n",
    "        break\n",
    "    elif i < num:\n",
    "        print('Try higher')\n",
    "    elif i > num:\n",
    "        print('Try lower')\n",
    "        "
   ]
  },
  {
   "cell_type": "code",
   "execution_count": null,
   "metadata": {},
   "outputs": [],
   "source": [
    "import random\n",
    "desserts = ['ice cream', 'pancakes', 'brownies', 'cookies', 'candy']\n",
    "print(random.choice(desserts))\n",
    "\n",
    "random.shuffle(desserts)\n",
    "print(desserts)"
   ]
  },
  {
   "cell_type": "markdown",
   "metadata": {},
   "source": [
    "a little lottory app"
   ]
  },
  {
   "cell_type": "code",
   "execution_count": 18,
   "metadata": {},
   "outputs": [
    {
     "name": "stdout",
     "output_type": "stream",
     "text": [
      "[001]    57\n",
      "[002]   269\n",
      "[003]   102\n",
      "[004]   559\n",
      "[005]   139\n",
      "[006]   828\n",
      "[007]   581\n",
      "\n",
      "*** Good Luck ***  You got a 7-multiple\n"
     ]
    }
   ],
   "source": [
    "my_lucky_number = 7\n",
    "l_counter = 0\n",
    "while True:           # this is an infinite loop\n",
    "    your_number_pick = random.randint(0,1000)\n",
    "    l_counter = l_counter + 1\n",
    "    print(\"[%03d] %5d\" % (l_counter,your_number_pick))\n",
    "    if your_number_pick % my_lucky_number == 0:\n",
    "        print('\\n*** Good Luck ***  You got a %d-multiple' % my_lucky_number)\n",
    "        break         # will terminate the infinite loop\n",
    "    else:\n",
    "        continue      # go on forever"
   ]
  },
  {
   "cell_type": "markdown",
   "metadata": {
    "collapsed": true
   },
   "source": [
    "## Persist python"
   ]
  },
  {
   "cell_type": "code",
   "execution_count": 19,
   "metadata": {
    "collapsed": true
   },
   "outputs": [],
   "source": [
    "import pickle\n",
    "game_data = {\n",
    "    'player-position' : 'N23 E45',\n",
    "    'pockets' : ['keys', 'pocket knife', 'polished stone'],\n",
    "    'backpack' : ['rope', 'hammer', 'apple'],\n",
    "    'money' : 158.50\n",
    "}\n",
    "save_file = open('py-pickle.dat', 'wb')\n",
    "pickle.dump(game_data, save_file)\n",
    "save_file.close()\n",
    "# look at the file"
   ]
  },
  {
   "cell_type": "code",
   "execution_count": 20,
   "metadata": {},
   "outputs": [
    {
     "name": "stdout",
     "output_type": "stream",
     "text": [
      "{'player-position': 'N23 E45', 'pockets': ['keys', 'pocket knife', 'polished stone'], 'backpack': ['rope', 'hammer', 'apple'], 'money': 158.5}\n"
     ]
    }
   ],
   "source": [
    "load_file = open('py-pickle.dat', 'rb')\n",
    "loaded_game_data = pickle.load(load_file)\n",
    "load_file.close()\n",
    "\n",
    "print(loaded_game_data)"
   ]
  },
  {
   "cell_type": "markdown",
   "metadata": {
    "collapsed": true
   },
   "source": [
    "## Read the web"
   ]
  },
  {
   "cell_type": "markdown",
   "metadata": {},
   "source": [
    "[what time is it?](http://tycho.usno.navy.mil/cgi-bin/timer.pl)\n",
    "\n",
    "<img src=../images/007-us-naval-clock.JPG width=70%>"
   ]
  },
  {
   "cell_type": "code",
   "execution_count": 21,
   "metadata": {},
   "outputs": [
    {
     "name": "stdout",
     "output_type": "stream",
     "text": [
      "Oct. 21, 06:23:16 PM EDT\t\tEastern Time\n",
      "\n"
     ]
    }
   ],
   "source": [
    "from urllib.request import urlopen\n",
    "with urlopen('http://tycho.usno.navy.mil/cgi-bin/timer.pl') as response:\n",
    "    for line in response:\n",
    "        line = line.decode('utf-8')  # Decoding the binary data to text.\n",
    "        if 'EST' in line or 'EDT' in line:  # look for Eastern Time\n",
    "            line=line.replace('<BR>','')\n",
    "            print(line)"
   ]
  },
  {
   "cell_type": "code",
   "execution_count": 22,
   "metadata": {},
   "outputs": [],
   "source": [
    "fd = open('dream_poem.html','wb')\n",
    "with urlopen('https://100.best-poems.net/dream-within-dream.html') as response:\n",
    "    for line in response:\n",
    "        fd.write(line)\n",
    "fd.close()"
   ]
  },
  {
   "cell_type": "markdown",
   "metadata": {
    "collapsed": true
   },
   "source": [
    "## Statistics"
   ]
  },
  {
   "cell_type": "code",
   "execution_count": 23,
   "metadata": {},
   "outputs": [
    {
     "data": {
      "text/plain": [
       "(0.25,\n",
       " 3.5,\n",
       " 1.6071428571428572,\n",
       " 1.25,\n",
       " 1.171334200612195,\n",
       " 1.25,\n",
       " 1.3720238095238095)"
      ]
     },
     "execution_count": 23,
     "metadata": {},
     "output_type": "execute_result"
    }
   ],
   "source": [
    "import statistics as stat\n",
    "data = [2.75, 1.75, 1.25, 0.25, 0.5, 1.25, 3.5]\n",
    "min(data), max(data), stat.mean(data), stat.mode(data), stat.stdev(data), stat.median(data), stat.variance(data)"
   ]
  },
  {
   "cell_type": "code",
   "execution_count": 24,
   "metadata": {},
   "outputs": [
    {
     "data": {
      "text/plain": [
       "['Decimal',\n",
       " 'Fraction',\n",
       " 'StatisticsError',\n",
       " '__all__',\n",
       " '__builtins__',\n",
       " '__cached__',\n",
       " '__doc__',\n",
       " '__file__',\n",
       " '__loader__',\n",
       " '__name__',\n",
       " '__package__',\n",
       " '__spec__',\n",
       " '_coerce',\n",
       " '_convert',\n",
       " '_counts',\n",
       " '_decimal_to_ratio',\n",
       " '_exact_ratio',\n",
       " '_isfinite',\n",
       " '_ss',\n",
       " '_sum',\n",
       " 'collections',\n",
       " 'groupby',\n",
       " 'math',\n",
       " 'mean',\n",
       " 'median',\n",
       " 'median_grouped',\n",
       " 'median_high',\n",
       " 'median_low',\n",
       " 'mode',\n",
       " 'pstdev',\n",
       " 'pvariance',\n",
       " 'stdev',\n",
       " 'variance']"
      ]
     },
     "execution_count": 24,
     "metadata": {},
     "output_type": "execute_result"
    }
   ],
   "source": [
    "dir(stat)"
   ]
  },
  {
   "cell_type": "markdown",
   "metadata": {},
   "source": [
    "## [Brief Tour of the Standard Library](https://docs.python.org/3/tutorial/stdlib.html)\n",
    "\n",
    "\n",
    "*  10. Brief Tour of the Standard Library\n",
    "    *  10.1. Operating System Interface\n",
    "    *  10.2. File Wildcards\n",
    "    *  10.3. Command Line Arguments\n",
    "    *  10.4. Error Output Redirection and Program Termination\n",
    "    *  10.5. String Pattern Matching\n",
    "    *  10.6. Mathematics\n",
    "    *  10.7. Internet Access\n",
    "    *  10.8. Dates and Times\n",
    "    *  10.9. Data Compression\n",
    "    *  10.10. Performance Measurement\n",
    "    *  10.11. Quality Control\n",
    "    *  10.12. Batteries Included"
   ]
  },
  {
   "cell_type": "markdown",
   "metadata": {},
   "source": [
    "## [Python Quick Ref](http://www.cs.put.poznan.pl/csobaniec/software/python/py-qrc.html)"
   ]
  },
  {
   "cell_type": "code",
   "execution_count": null,
   "metadata": {
    "collapsed": true
   },
   "outputs": [],
   "source": []
  }
 ],
 "metadata": {
  "anaconda-cloud": {},
  "kernelspec": {
   "display_name": "Python 3",
   "language": "python",
   "name": "python3"
  },
  "language_info": {
   "codemirror_mode": {
    "name": "ipython",
    "version": 3
   },
   "file_extension": ".py",
   "mimetype": "text/x-python",
   "name": "python",
   "nbconvert_exporter": "python",
   "pygments_lexer": "ipython3",
   "version": "3.7.3"
  }
 },
 "nbformat": 4,
 "nbformat_minor": 1
}
