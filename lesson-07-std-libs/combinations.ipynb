{
 "cells": [
  {
   "cell_type": "code",
   "execution_count": 1,
   "metadata": {},
   "outputs": [],
   "source": [
    "from itertools import combinations\n"
   ]
  },
  {
   "cell_type": "code",
   "execution_count": 2,
   "metadata": {},
   "outputs": [],
   "source": [
    "L = [1, 2, 3, 4]"
   ]
  },
  {
   "cell_type": "code",
   "execution_count": 4,
   "metadata": {},
   "outputs": [
    {
     "data": {
      "text/plain": [
       "['1,2', '1,3', '1,4', '2,3', '2,4', '3,4']"
      ]
     },
     "execution_count": 4,
     "metadata": {},
     "output_type": "execute_result"
    }
   ],
   "source": [
    " [\",\".join(map(str, comb)) for comb in combinations(L, 2)]"
   ]
  },
  {
   "cell_type": "code",
   "execution_count": 5,
   "metadata": {},
   "outputs": [],
   "source": [
    "import random"
   ]
  },
  {
   "cell_type": "code",
   "execution_count": 7,
   "metadata": {},
   "outputs": [
    {
     "name": "stdout",
     "output_type": "stream",
     "text": [
      "None\n"
     ]
    }
   ],
   "source": [
    "random.shuffle(L)"
   ]
  },
  {
   "cell_type": "code",
   "execution_count": 8,
   "metadata": {},
   "outputs": [
    {
     "data": {
      "text/plain": [
       "[2, 4, 1, 3]"
      ]
     },
     "execution_count": 8,
     "metadata": {},
     "output_type": "execute_result"
    }
   ],
   "source": [
    "L"
   ]
  },
  {
   "cell_type": "code",
   "execution_count": 9,
   "metadata": {},
   "outputs": [],
   "source": [
    "random.shuffle(L)"
   ]
  },
  {
   "cell_type": "code",
   "execution_count": 10,
   "metadata": {},
   "outputs": [
    {
     "data": {
      "text/plain": [
       "[2, 3, 4, 1]"
      ]
     },
     "execution_count": 10,
     "metadata": {},
     "output_type": "execute_result"
    }
   ],
   "source": [
    "L"
   ]
  },
  {
   "cell_type": "code",
   "execution_count": 13,
   "metadata": {},
   "outputs": [
    {
     "data": {
      "text/plain": [
       "[1, 2, 3, 4]"
      ]
     },
     "execution_count": 13,
     "metadata": {},
     "output_type": "execute_result"
    }
   ],
   "source": [
    "random.sample(L,4)"
   ]
  },
  {
   "cell_type": "code",
   "execution_count": 15,
   "metadata": {},
   "outputs": [],
   "source": [
    "l1 = ['U','U','R','R']"
   ]
  },
  {
   "cell_type": "code",
   "execution_count": 24,
   "metadata": {},
   "outputs": [
    {
     "data": {
      "text/plain": [
       "['U', 'U', 'R', 'R']"
      ]
     },
     "execution_count": 24,
     "metadata": {},
     "output_type": "execute_result"
    }
   ],
   "source": [
    "random.sample(l1,4)"
   ]
  },
  {
   "cell_type": "code",
   "execution_count": 37,
   "metadata": {},
   "outputs": [
    {
     "name": "stdout",
     "output_type": "stream",
     "text": [
      "(1, 2)\n",
      "(1, 3)\n",
      "(2, 1)\n",
      "(2, 3)\n",
      "(3, 1)\n",
      "(3, 2)\n"
     ]
    }
   ],
   "source": [
    "# A Python program to print all  \n",
    "# permutations of given length \n",
    "from itertools import permutations \n",
    "\n",
    "# Get all permutations of length 2 \n",
    "# and length 2 \n",
    "perm = permutations([1, 2, 3], 2) \n",
    "\n",
    "# Print the obtained permutations \n",
    "for i in list(perm): \n",
    "    print (i) "
   ]
  },
  {
   "cell_type": "code",
   "execution_count": 52,
   "metadata": {},
   "outputs": [],
   "source": [
    "perm2 = set(permutations(l1, len(l1)))"
   ]
  },
  {
   "cell_type": "code",
   "execution_count": 53,
   "metadata": {},
   "outputs": [
    {
     "data": {
      "text/plain": [
       "{('R', 'R', 'U', 'U'),\n",
       " ('R', 'U', 'R', 'U'),\n",
       " ('R', 'U', 'U', 'R'),\n",
       " ('U', 'R', 'R', 'U'),\n",
       " ('U', 'R', 'U', 'R'),\n",
       " ('U', 'U', 'R', 'R')}"
      ]
     },
     "execution_count": 53,
     "metadata": {},
     "output_type": "execute_result"
    }
   ],
   "source": [
    "perm2"
   ]
  },
  {
   "cell_type": "code",
   "execution_count": 61,
   "metadata": {},
   "outputs": [],
   "source": [
    "from itertools import permutations \n",
    "def find_paths(x0,y0,x1,y1):\n",
    "    if abs(x0-x1) + abs(y0-y1) == 0:\n",
    "        return []\n",
    "    \n",
    "    move_x = ''\n",
    "    if (x1-x0) > 0:\n",
    "        move_x = 'right'\n",
    "    elif (x1-x0) < 0:\n",
    "        move_x = 'left'\n",
    "        \n",
    "    move_y = ''\n",
    "    if (y1-y0) > 0:\n",
    "        move_y = 'up'\n",
    "    elif (y1-y0) < 0:\n",
    "        move_y = 'down'\n",
    "        \n",
    "    move_seq = [move_x]*abs(x1-x0) + [move_y]*abs(y1-y0)\n",
    "    all_moves = set(permutations(move_seq, len(move_seq)))\n",
    "    print(all_moves)\n",
    "\n",
    "# test-1\n",
    "find_paths(0,0,0,0)\n",
    "\n",
    "# []\n",
    "\n",
    "# test-2\n",
    "find_paths(0,0,1,1)\n",
    "\n",
    "# {('right', 'up'), ('up', 'right')}\n",
    "\n",
    "# test-3\n",
    "find_paths(0,1,1,1)\n",
    "\n",
    "# {('right',)}\n",
    "\n",
    "# test-4\n",
    "find_paths(-1,-1,1,1)\n",
    "\n",
    "# {('up', 'right', 'up', 'right'), ('right', 'up', 'right', 'up'), ('right', 'right', 'up', 'up'), ('up', 'up', 'right', 'right'), ('up', 'right', 'right', 'up'), ('right', 'up', 'up', 'right')}"
   ]
  },
  {
   "cell_type": "code",
   "execution_count": null,
   "metadata": {},
   "outputs": [],
   "source": []
  }
 ],
 "metadata": {
  "kernelspec": {
   "display_name": "Python 3",
   "language": "python",
   "name": "python3"
  },
  "language_info": {
   "codemirror_mode": {
    "name": "ipython",
    "version": 3
   },
   "file_extension": ".py",
   "mimetype": "text/x-python",
   "name": "python",
   "nbconvert_exporter": "python",
   "pygments_lexer": "ipython3",
   "version": "3.6.5"
  }
 },
 "nbformat": 4,
 "nbformat_minor": 2
}
