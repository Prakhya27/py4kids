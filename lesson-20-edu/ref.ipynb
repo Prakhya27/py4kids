{
 "cells": [
  {
   "cell_type": "markdown",
   "metadata": {},
   "source": [
    "[A gallery of interesting Jupyter Notebooks](https://github.com/jupyter/jupyter/wiki/A-gallery-of-interesting-Jupyter-Notebooks)\n",
    "\n",
    "\n",
    "https://blog.jupyter.org/teaching-and-learning-with-jupyter-c1d965f7b93a\n",
    "\n",
    "https://jupyter4edu.github.io/jupyter-edu-book/\n",
    "\n",
    "\n",
    "[Open Univ](https://www.open.edu/openlearn/science-maths-technology/describing-motion-along-line/content-section-3.7)\n",
    "\n",
    "https://notebooks.azure.com/OUsefulInfo/projects/gettingstarted\n",
    " \n",
    "https://github.com/Auquan/Tutorials\n",
    "\n",
    "\n",
    "[Math at Cambridge](https://github.com/garth-wells/IA-maths-Jupyter)\n",
    "* https://github.com/garth-wells/IA-maths-Jupyter.git"
   ]
  },
  {
   "cell_type": "code",
   "execution_count": null,
   "metadata": {},
   "outputs": [],
   "source": []
  }
 ],
 "metadata": {
  "kernelspec": {
   "display_name": "Python 3",
   "language": "python",
   "name": "python3"
  },
  "language_info": {
   "codemirror_mode": {
    "name": "ipython",
    "version": 3
   },
   "file_extension": ".py",
   "mimetype": "text/x-python",
   "name": "python",
   "nbconvert_exporter": "python",
   "pygments_lexer": "ipython3",
   "version": "3.7.3"
  }
 },
 "nbformat": 4,
 "nbformat_minor": 2
}
