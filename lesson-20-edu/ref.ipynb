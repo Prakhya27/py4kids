{
 "cells": [
  {
   "cell_type": "markdown",
   "metadata": {},
   "source": [
    "## IPython Cookbook, Second Edition (2018) \n",
    "by [Cyrille Rossant](http://cyrille.rossant.net/)\n",
    "\n",
    "* [Text](https://github.com/wgong/cookbook-2nd)\n",
    "* [Code](https://github.com/wgong/cookbook-2nd-code)"
   ]
  },
  {
   "cell_type": "markdown",
   "metadata": {},
   "source": [
    "[A gallery of interesting Jupyter Notebooks](https://github.com/jupyter/jupyter/wiki/A-gallery-of-interesting-Jupyter-Notebooks)"
   ]
  },
  {
   "cell_type": "markdown",
   "metadata": {},
   "source": [
    "https://blog.jupyter.org/teaching-and-learning-with-jupyter-c1d965f7b93a\n",
    "\n",
    "https://jupyter4edu.github.io/jupyter-edu-book/"
   ]
  },
  {
   "cell_type": "markdown",
   "metadata": {},
   "source": [
    "[Open Univ](https://www.open.edu/openlearn/science-maths-technology/describing-motion-along-line/content-section-3.7)\n",
    "\n",
    "https://notebooks.azure.com/OUsefulInfo/projects/gettingstarted"
   ]
  },
  {
   "cell_type": "markdown",
   "metadata": {},
   "source": [
    "https://github.com/Auquan/Tutorials"
   ]
  },
  {
   "cell_type": "markdown",
   "metadata": {},
   "source": [
    "[Math at Cambridge](https://github.com/garth-wells/IA-maths-Jupyter)\n",
    "* https://github.com/garth-wells/IA-maths-Jupyter.git"
   ]
  },
  {
   "cell_type": "code",
   "execution_count": null,
   "metadata": {},
   "outputs": [],
   "source": []
  },
  {
   "cell_type": "code",
   "execution_count": null,
   "metadata": {},
   "outputs": [],
   "source": []
  },
  {
   "cell_type": "code",
   "execution_count": null,
   "metadata": {},
   "outputs": [],
   "source": []
  }
 ],
 "metadata": {
  "kernelspec": {
   "display_name": "Python 3",
   "language": "python",
   "name": "python3"
  },
  "language_info": {
   "codemirror_mode": {
    "name": "ipython",
    "version": 3
   },
   "file_extension": ".py",
   "mimetype": "text/x-python",
   "name": "python",
   "nbconvert_exporter": "python",
   "pygments_lexer": "ipython3",
   "version": "3.7.3"
  }
 },
 "nbformat": 4,
 "nbformat_minor": 2
}
