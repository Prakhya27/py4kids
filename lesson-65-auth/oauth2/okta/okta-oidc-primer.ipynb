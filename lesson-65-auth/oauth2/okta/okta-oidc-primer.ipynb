{
 "cells": [
  {
   "cell_type": "markdown",
   "metadata": {},
   "source": [
    "## OKTA - OIDC Primer\n",
    "\n",
    "- [An Illustrated Guide to OAuth and OpenID Connect](https://developer.okta.com/blog/2019/10/21/illustrated-guide-to-oauth-and-oidc)\n",
    "- [Part-1 Identity, Claims, & Tokens](https://developer.okta.com/blog/2017/07/25/oidc-primer-part-1)\n",
    "- [Part-2 OIDC in Action](https://developer.okta.com/blog/2017/07/25/oidc-primer-part-2)\n",
    "- [Part-3 What's in a Token?](https://developer.okta.com/blog/2017/07/25/oidc-primer-part-3)\n",
    "\n"
   ]
  },
  {
   "cell_type": "code",
   "execution_count": 2,
   "metadata": {},
   "outputs": [],
   "source": [
    "from IPython.core.display import HTML, display\n",
    "import oidcinfo as oi"
   ]
  },
  {
   "cell_type": "markdown",
   "metadata": {},
   "source": [
    "### A use-case"
   ]
  },
  {
   "cell_type": "markdown",
   "metadata": {},
   "source": [
    "<img src=okta-authorization-code-flow.jpg/>"
   ]
  },
  {
   "cell_type": "markdown",
   "metadata": {},
   "source": [
    "### Terminology"
   ]
  },
  {
   "cell_type": "code",
   "execution_count": 3,
   "metadata": {
    "scrolled": true
   },
   "outputs": [
    {
     "data": {
      "text/html": [
       "\n",
       "\n",
       "<table>\n",
       "    <tr align=left> \n",
       "        <th>Name </th> \n",
       "        <th>Description </th> \n",
       "    </tr>\n",
       "    <tr align=left> \n",
       "        <td>OpenID Provider (OP) \n",
       "        </td> \n",
       "        <td>an OAuth 2.0 server that is capable of authenticating the end-user and providing information about the result of the authentication and the end-user to the Relying Party \n",
       "        </td>\n",
       "    </tr>\n",
       "    <tr align=left> \n",
       "        <td>Relying Party (RP) \n",
       "        </td> \n",
       "        <td>an OAuth 2.0 application that “relies” on the OP to handle authentication requests \n",
       "        </td>\n",
       "    </tr>\n",
       "    <tr align=left> \n",
       "        <td>Resource Owner \n",
       "        </td> \n",
       "        <td>You are the owner of your identity, your data, and any actions that can be performed with your accounts \n",
       "        </td>\n",
       "    </tr>\n",
       "    <tr align=left> \n",
       "        <td>Client\n",
       "        </td> \n",
       "        <td>The application (e.g. “Terrible Pun of the Day”) that wants to access data or perform actions on behalf of the Resource Owner\n",
       "        </td>\n",
       "    </tr>\n",
       "    <tr align=left> \n",
       "        <td>Authorization Server\n",
       "        </td> \n",
       "        <td>The application that knows the Resource Owner, where the Resource Owner already has an account\n",
       "        </td>\n",
       "    </tr>\n",
       "    <tr align=left> \n",
       "        <td>Resource Server\n",
       "        </td> \n",
       "        <td>The Application Programming Interface (API) or service the Client wants to use on behalf of the Resource Owner\n",
       "        </td>\n",
       "    </tr>\n",
       "    \n",
       "<tr align=left>\n",
       "\t<td>Redirect URI\n",
       "\t</td>\n",
       "\t<td>The URL the Authorization Server will redirect the Resource Owner back to after granting permission to the Client. This is sometimes referred to as the “Callback URL.”\n",
       "\t</td>\n",
       "</tr>\n",
       "<tr align=left>\n",
       "\t<td>Response Type\n",
       "\t</td>\n",
       "\t<td>The type of information the Client expects to receive. The most common Response Type is code, where the Client expects an Authorization Code.\n",
       "\t</td>\n",
       "</tr>\n",
       "<tr align=left>\n",
       "\t<td>Scope\n",
       "\t</td>\n",
       "\t<td>These are the granular permissions the Client wants, such as access to data or to perform actions.\n",
       "\t</td>\n",
       "</tr>\n",
       "<tr align=left>\n",
       "\t<td>Consent\n",
       "\t</td>\n",
       "\t<td>The Authorization Server takes the Scopes the Client is requesting, and verifies with the Resource Owner whether or not they want to give the Client permission.\n",
       "\t</td>\n",
       "</tr>\n",
       "<tr align=left>\n",
       "\t<td>Client ID\n",
       "\t</td>\n",
       "\t<td>This ID is used to identify the Client with the Authorization Server.\n",
       "\t</td>\n",
       "</tr>\n",
       "<tr align=left>\n",
       "\t<td>Client Secret\n",
       "\t</td>\n",
       "\t<td>This is a secret password that only the Client and Authorization Server know. This allows them to securely share information privately behind the scenes.\n",
       "\t</td>\n",
       "</tr>\n",
       "<tr align=left>\n",
       "\t<td>Authorization Code\n",
       "\t</td>\n",
       "\t<td>A short-lived temporary code the Client gives the Authorization Server in exchange for an Access Token.\n",
       "\t</td>\n",
       "</tr>\n",
       "<tr align=left>\n",
       "\t<td>Access Token\n",
       "\t</td>\n",
       "\t<td>The key the client will use to communicate with the Resource Server. This is like a badge or key card that gives the Client permission to request data or perform actions with the Resource Server on your behalf.\n",
       "\t</td>\n",
       "</tr>    \n",
       "</table>\n",
       "\n"
      ],
      "text/plain": [
       "<IPython.core.display.HTML object>"
      ]
     },
     "metadata": {},
     "output_type": "display_data"
    }
   ],
   "source": [
    "display(HTML(oi.terms_table_str))"
   ]
  },
  {
   "cell_type": "markdown",
   "metadata": {},
   "source": [
    "###  Endpoints & Metadata"
   ]
  },
  {
   "cell_type": "code",
   "execution_count": 4,
   "metadata": {},
   "outputs": [
    {
     "data": {
      "text/html": [
       "\n",
       "<table>\n",
       "    <tr align=left> \n",
       "        <th>Endpoint </th> \n",
       "        <th>Description </th> \n",
       "    </tr>\n",
       "    <tr align=left> \n",
       "        <td>/authorization \n",
       "        </td> \n",
       "        <td>Typically, you kick off an OIDC interaction by hitting an <em>/authorization</em> endpoint with an HTTP GET. A number of query parameters indicate what you can expect to get back after authenticating and what you’ll have access to (authorization) \n",
       "        </td>\n",
       "    </tr>\n",
       "    <tr align=left> \n",
       "        <td>/token \n",
       "        </td> \n",
       "        <td>Often, you’ll need to hit a <em>/token</em> endpoint with an HTTP POST to get tokens which are used for further interactions\n",
       "        </td>\n",
       "    </tr>\n",
       "    <tr align=left> \n",
       "        <td>/introspect \n",
       "        </td> \n",
       "        <td>OIDC also has an <em>/introspect</em> endpoint for verifying a token\n",
       "        </td>\n",
       "    </tr>\n",
       "    <tr align=left> \n",
       "        <td>/userinfo \n",
       "        </td> \n",
       "        <td>OIDC also has an <em>/userinfo</em> endpoint for for getting identity information about the user.\n",
       "        </td>\n",
       "    </tr>\n",
       "    <tr align=left> \n",
       "        <td>metadata \n",
       "        </td> \n",
       "        <td>One of the great improvements in OIDC is a <em>metadata</em> mechanism to discover endpoints from the provider. For instance, if you navigate to: https://micah.okta.com/oauth2/aus2yrcz7aMrmDAKZ1t7/.well-known/openid-configuration, you’ll get back a JSON formatted document with the metadata that identifies all the available endpoints from the OP (Okta, in this case)\n",
       "        </td>\n",
       "    </tr>\n",
       "\n",
       "</table>\n",
       "\n"
      ],
      "text/plain": [
       "<IPython.core.display.HTML object>"
      ]
     },
     "metadata": {},
     "output_type": "display_data"
    }
   ],
   "source": [
    "display(HTML(oi.endpoints_table_str))"
   ]
  },
  {
   "cell_type": "markdown",
   "metadata": {},
   "source": [
    "### Scope & Claim\n",
    "\n",
    "`Scopes` are space-separated lists of identifiers used to specify what access privileges are being requested\n",
    "\n",
    "`claims` are name/value pairs that contain information about a user, as well meta-information about the OIDC service"
   ]
  },
  {
   "cell_type": "code",
   "execution_count": 5,
   "metadata": {},
   "outputs": [
    {
     "data": {
      "text/html": [
       "\n",
       "<table>\n",
       "    <tr align=left> \n",
       "        <th>Scope </th> \n",
       "        <th>Purpose </th> \n",
       "    </tr>\n",
       "    <tr align=left> \n",
       "        <td>openid\n",
       "        </td> \n",
       "        <td>required scope for ID \n",
       "        </td>\n",
       "    </tr>\n",
       "    <tr align=left> \n",
       "        <td>profile\n",
       "        </td> \n",
       "        <td>requests access to default profile claims\n",
       "        </td>\n",
       "    </tr>\n",
       "    <tr align=left> \n",
       "        <td>email\n",
       "        </td> \n",
       "        <td>requests access to email and email_verified claims\n",
       "        </td>\n",
       "    </tr>\n",
       "    <tr align=left> \n",
       "        <td>address\n",
       "        </td> \n",
       "        <td>requests access to address claim\n",
       "        </td>\n",
       "    </tr>\n",
       "\n",
       "    <tr align=left> \n",
       "        <td>address\n",
       "        </td> \n",
       "        <td>requests access to address claim\n",
       "        </td>\n",
       "    </tr>\n",
       "\n",
       "\n",
       "</table>\n",
       "\n"
      ],
      "text/plain": [
       "<IPython.core.display.HTML object>"
      ]
     },
     "metadata": {},
     "output_type": "display_data"
    }
   ],
   "source": [
    "display(HTML(oi.scope_table_str))"
   ]
  },
  {
   "cell_type": "markdown",
   "metadata": {},
   "source": [
    "The default profile claims are:\n",
    "\n",
    "- name\n",
    "- family_name\n",
    "- given_name\n",
    "- middle_name\n",
    "- nickname\n",
    "- preferred_username\n",
    "- profile\n",
    "- picture\n",
    "- website\n",
    "- gender\n",
    "- birthdate\n",
    "- zoneinfo\n",
    "- locale\n",
    "- updated_at\n",
    "\n",
    "typical set of claims:\n",
    "```\n",
    "{\n",
    "    \"family_name\": \"Silverman\",\n",
    "    \"given_name\": \"Micah\",\n",
    "    \"locale\": \"en-US\",\n",
    "    \"name\": \"Micah Silverman\",\n",
    "    \"preferred_username\": \"micah.silverman@okta.com\",\n",
    "    \"sub\": \"00u9vme99nxudvxZA0h7\",\n",
    "    \"updated_at\": 1490198843,\n",
    "    \"zoneinfo\": \"America/Los_Angeles\"\n",
    "}\n",
    "```"
   ]
  },
  {
   "cell_type": "markdown",
   "metadata": {},
   "source": [
    "### Flow & Response Type\n",
    "\n",
    "`Flows` are used to describe different common authentication and authorization scenarios. \n",
    "\n",
    "These flows are controlled by the response_type query parameter in the /authorization request. \n"
   ]
  },
  {
   "cell_type": "code",
   "execution_count": 9,
   "metadata": {},
   "outputs": [
    {
     "data": {
      "text/html": [
       "\n",
       "<table>\n",
       "    <tr align=left> \n",
       "        <th>Flow </th> \n",
       "        <th>Auth Scenario </th> \n",
       "    </tr>\n",
       "    <tr align=left> \n",
       "        <td>Authorization Code\n",
       "        </td> \n",
       "        <td><em>response_type=code</em>. After successful authentication, the response will contain a <em>code</em> value. This code can later be exchanged for an <em>access_token</em> and an <em>id_token</em>.\n",
       "         This flow is useful where you have “middleware” as part of the architecture. The middleware has a <em>client_id</em> and <em>client_secret</em>, which is required to exchange the code for <em>tokens</em> by hitting the <em>/token</em> endpoint. These <em>tokens</em> can then be returned to the end-user application, such as a browser, without the browser ever having to know the <em>client_secret</em>. This flow allows for long-lived sessions through the use of <em>refresh_tokens</em>. The only purpose of <em>refresh_token</em> is to obtain new <em>access_tokens</em> to extend a user session.\n",
       "        </td>\n",
       "    </tr>\n",
       "    <tr align=left> \n",
       "        <td>Implicit\n",
       "        </td> \n",
       "        <td><em>response_type=id_token token</em> or <em>response_type=id_token</em>.\n",
       "        After successful authentication, the response will contain an <em>id_token</em> and an <em>access_token</em> in the first case or just an <em>id_token</em> in the second case. This flow is useful when you have an app speaking directly to a backend to obtain tokens with no middleware. It does not support long-lived sessions.\n",
       "        </td>\n",
       "    </tr>\n",
       "    <tr align=left> \n",
       "        <td>Hybrid\n",
       "        </td> \n",
       "        <td>This flow combines the above two in different combinations – whatever make sense for the use case. An example would be <em>response_type=code id_token</em>. This approach enables a scenario whereby you can have a long lived session in an app and get tokens back immediately from the <em>/authorization</em> endpoint\n",
       "        </td>\n",
       "    </tr>\n",
       "\n",
       "</table>\n"
      ],
      "text/plain": [
       "<IPython.core.display.HTML object>"
      ]
     },
     "metadata": {},
     "output_type": "display_data"
    }
   ],
   "source": [
    "display(HTML(oi.flow_table_str))"
   ]
  },
  {
   "cell_type": "markdown",
   "metadata": {},
   "source": [
    "### Tokens - JWT\n",
    "\n",
    "`Flows` are used to describe different common authentication and authorization scenarios. \n",
    "\n",
    "These flows are controlled by the response_type query parameter in the /authorization request. \n",
    "\n",
    "JWT prevens from token tempering."
   ]
  },
  {
   "cell_type": "code",
   "execution_count": 8,
   "metadata": {},
   "outputs": [
    {
     "data": {
      "text/html": [
       "\n",
       "<table>\n",
       "    <tr align=left> \n",
       "        <th>Token </th> \n",
       "        <th>Description </th> \n",
       "    </tr>\n",
       "    <tr align=left> \n",
       "        <td>id_token\n",
       "        </td> \n",
       "        <td>ID tokens carry identity information encoded in the token itself, which must be a JWT. It has 3 parts: header, body, signing.\n",
       "        </td>\n",
       "    </tr>\n",
       "    <tr align=left> \n",
       "        <td>access_token\n",
       "        </td> \n",
       "        <td>Access tokens are used to gain access to resources by using them as bearer tokens. \n",
       "        It is shorted lived with expires.\n",
       "        </td>\n",
       "    </tr>\n",
       "    <tr align=left> \n",
       "        <td>refresh_token\n",
       "        </td> \n",
       "        <td>Refresh tokens exist solely to get more access tokens. It is long-lived.\n",
       "        </td>\n",
       "    </tr>\n",
       "\n",
       "\n",
       "</table>\n",
       "\n"
      ],
      "text/plain": [
       "<IPython.core.display.HTML object>"
      ]
     },
     "metadata": {},
     "output_type": "display_data"
    }
   ],
   "source": [
    "display(HTML(oi.token_table_str))"
   ]
  },
  {
   "cell_type": "markdown",
   "metadata": {},
   "source": [
    "### OIDC demo\n",
    "\n",
    "https://okta-oidc-fun.herokuapp.com/continue?code=ZLSVqIgxfQE_YXPBrkJT&state=purple-religion-verdant-air"
   ]
  },
  {
   "cell_type": "markdown",
   "metadata": {},
   "source": [
    "<img src=oidc-demo.png/>"
   ]
  },
  {
   "cell_type": "code",
   "execution_count": null,
   "metadata": {},
   "outputs": [],
   "source": []
  }
 ],
 "metadata": {
  "kernelspec": {
   "display_name": "Python 3",
   "language": "python",
   "name": "python3"
  },
  "language_info": {
   "codemirror_mode": {
    "name": "ipython",
    "version": 3
   },
   "file_extension": ".py",
   "mimetype": "text/x-python",
   "name": "python",
   "nbconvert_exporter": "python",
   "pygments_lexer": "ipython3",
   "version": "3.7.1"
  }
 },
 "nbformat": 4,
 "nbformat_minor": 2
}
