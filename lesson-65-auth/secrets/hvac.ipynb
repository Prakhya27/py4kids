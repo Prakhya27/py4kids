{
 "cells": [
  {
   "cell_type": "code",
   "execution_count": null,
   "metadata": {},
   "outputs": [],
   "source": [
    "import hvac   # python client for Vault\n",
    "client = hvac.Client(url='http://127.0.0.1:8200/',\\\n",
    "    token='s.1gXcsuHjPZKH3qecpqc6QtTd')\n",
    "db_secrets = client.read('kv/postgresql_dev')\n",
    "db_host,db_port,table_name,db_user,db_pwd = \\\n",
    "    db_secrets['data']['hostname'], \\\n",
    "    db_secrets['data']['port'], \\\n",
    "    db_secrets['data']['db_name'], \\\n",
    "    db_secrets['data']['user'], \\\n",
    "    db_secrets['data']['pwd']"
   ]
  }
 ],
 "metadata": {
  "kernelspec": {
   "display_name": "Python 3",
   "language": "python",
   "name": "python3"
  },
  "language_info": {
   "codemirror_mode": {
    "name": "ipython",
    "version": 3
   },
   "file_extension": ".py",
   "mimetype": "text/x-python",
   "name": "python",
   "nbconvert_exporter": "python",
   "pygments_lexer": "ipython3",
   "version": "3.6.5"
  }
 },
 "nbformat": 4,
 "nbformat_minor": 2
}
