{
 "cells": [
  {
   "cell_type": "markdown",
   "metadata": {},
   "source": [
    "## Data transformations"
   ]
  },
  {
   "cell_type": "markdown",
   "metadata": {},
   "source": [
    "### Reformat Data \n",
    "\n",
    "#### codecs\n",
    "\n",
    "Encoders and decoders for converting text between different representations.\n",
    "\n",
    "-https://pymotw.com/3/codecs/index.html"
   ]
  },
  {
   "cell_type": "code",
   "execution_count": 41,
   "metadata": {},
   "outputs": [
    {
     "name": "stdout",
     "output_type": "stream",
     "text": [
      "b'61 62 63 64 65 66'\n",
      "b'6162 6364 6566'\n"
     ]
    }
   ],
   "source": [
    "import binascii\n",
    "\n",
    "\n",
    "def to_hex(t, nbytes):\n",
    "    \"\"\"Format text t as a sequence of nbyte long values\n",
    "    separated by spaces.\n",
    "    \"\"\"\n",
    "    chars_per_item = nbytes * 2\n",
    "    hex_version = binascii.hexlify(t)\n",
    "    return b' '.join(\n",
    "        hex_version[start:start + chars_per_item]\n",
    "        for start in range(0, len(hex_version), chars_per_item)\n",
    "    )\n",
    "\n",
    "\n",
    "if __name__ == '__main__':\n",
    "    print(to_hex(b'abcdef', 1))\n",
    "    print(to_hex(b'abcdef', 2))"
   ]
  },
  {
   "cell_type": "code",
   "execution_count": 42,
   "metadata": {},
   "outputs": [
    {
     "name": "stdout",
     "output_type": "stream",
     "text": [
      "Original : 'français'\n",
      "Encoded  : b'66 72 61 6e c3 a7 61 69 73' <class 'bytes'>\n",
      "Decoded  : 'français' <class 'str'>\n"
     ]
    }
   ],
   "source": [
    "text = 'français'\n",
    "encoded = text.encode('utf-8')\n",
    "decoded = encoded.decode('utf-8')\n",
    "\n",
    "print('Original :', repr(text))\n",
    "print('Encoded  :', to_hex(encoded, 1), type(encoded))\n",
    "print('Decoded  :', repr(decoded), type(decoded))"
   ]
  },
  {
   "cell_type": "markdown",
   "metadata": {},
   "source": [
    "#### Base64\n",
    "Base64 encoding is a type of conversion of bytes into ASCII characters.  data sometimes need to be sent as text so it won't be corrupted. \n",
    "- [Encoding and Decoding Base64 Strings in Python](https://stackabuse.com/encoding-and-decoding-base64-strings-in-python/) "
   ]
  },
  {
   "cell_type": "code",
   "execution_count": 1,
   "metadata": {},
   "outputs": [],
   "source": [
    "import base64"
   ]
  },
  {
   "cell_type": "code",
   "execution_count": 2,
   "metadata": {},
   "outputs": [
    {
     "name": "stdout",
     "output_type": "stream",
     "text": [
      "UHl0aG9uIGlzIGZ1bg==\n"
     ]
    }
   ],
   "source": [
    "message = \"Python is fun\"\n",
    "message_bytes = message.encode('ascii')\n",
    "base64_bytes = base64.b64encode(message_bytes)\n",
    "base64_message = base64_bytes.decode('ascii')\n",
    "\n",
    "print(base64_message)"
   ]
  },
  {
   "cell_type": "code",
   "execution_count": 3,
   "metadata": {},
   "outputs": [
    {
     "name": "stdout",
     "output_type": "stream",
     "text": [
      "Python is fun\n"
     ]
    }
   ],
   "source": [
    "def b64_decode(payload):\n",
    "    # base64_bytes = base64_message.encode('utf-8')\n",
    "    base64_bytes = payload\n",
    "    message_bytes = base64.b64decode(base64_bytes)\n",
    "    message = message_bytes.decode('utf-8')\n",
    "\n",
    "    # print(message_bytes, '\\n', message)\n",
    "    return message\n",
    "\n",
    "print(b64_decode(base64_message))"
   ]
  },
  {
   "cell_type": "markdown",
   "metadata": {},
   "source": [
    "#### Unicode Data and Network Communication¶\n",
    "\n",
    "```\n",
    "$ python codecs_socket.py \"wen 光\"\n",
    "\n",
    "Sending : 'wen 光'\n",
    "Writing : b'wen \\xe5\\x85\\x89'\n",
    "Reading : b'wen \\xe5\\x85\\x89'\n",
    "Reading : b''\n",
    "Received: 'wen 光'\n",
    "\n",
    "\n",
    "```\n"
   ]
  },
  {
   "cell_type": "markdown",
   "metadata": {},
   "source": [
    "### Hash/Digest Data \n",
    "\n",
    "- [Cryptographic Hashing](https://pymotw.com/3/hashlib/index.html)\n",
    "- [Hashlib in Python](https://docs.python.org/3/library/hashlib.html)\n",
    "\n",
    "Since hashlib is “backed” by OpenSSL, all of the algorithms provided by that library are available, including:\n",
    "\n",
    "- md5\n",
    "- sha1\n",
    "- sha224\n",
    "- sha256\n",
    "- sha384\n",
    "- sha512"
   ]
  },
  {
   "cell_type": "code",
   "execution_count": 44,
   "metadata": {},
   "outputs": [
    {
     "name": "stdout",
     "output_type": "stream",
     "text": [
      "d80d7022d3af31e772fae4a0abc9b619\n"
     ]
    }
   ],
   "source": [
    "# md5\n",
    "import hashlib\n",
    "sent = b\"Covid-19 is such a deadly epidemic\"\n",
    "h = hashlib.md5()\n",
    "h.update(sent)\n",
    "print(h.hexdigest())"
   ]
  },
  {
   "cell_type": "code",
   "execution_count": 45,
   "metadata": {},
   "outputs": [],
   "source": [
    "# sha256\n",
    "import hashlib\n",
    "sent = b\"Covid-19 is such a deadly epidemic\"\n",
    "m = hashlib.sha256()\n",
    "m.update(sent)\n",
    "# m.update(b\" 2020 is a challenging year for humanity\")\n",
    "digest = m.digest()"
   ]
  },
  {
   "cell_type": "code",
   "execution_count": 22,
   "metadata": {},
   "outputs": [
    {
     "data": {
      "text/plain": [
       "b'\\xcc\\xe6Yd\\x8f\\x10\\xcc\\x95\\xc2\\xfd\\xbd\\x9d\\x04\\xc3*6b\\xc9/\\xa5[\\xc0\\xbc\\xd10`\\xb94\\xd4\\xfc\\x1bH'"
      ]
     },
     "execution_count": 22,
     "metadata": {},
     "output_type": "execute_result"
    }
   ],
   "source": [
    "digest"
   ]
  },
  {
   "cell_type": "code",
   "execution_count": 28,
   "metadata": {},
   "outputs": [
    {
     "data": {
      "text/plain": [
       "('sha256', 32, 64)"
      ]
     },
     "execution_count": 28,
     "metadata": {},
     "output_type": "execute_result"
    }
   ],
   "source": [
    "m.name, m.digest_size, m.block_size"
   ]
  },
  {
   "cell_type": "code",
   "execution_count": 25,
   "metadata": {},
   "outputs": [
    {
     "data": {
      "text/plain": [
       "'cce659648f10cc95c2fdbd9d04c32a3662c92fa55bc0bcd13060b934d4fc1b48'"
      ]
     },
     "execution_count": 25,
     "metadata": {},
     "output_type": "execute_result"
    }
   ],
   "source": [
    "hashlib.sha256(sent).hexdigest()"
   ]
  },
  {
   "cell_type": "code",
   "execution_count": 24,
   "metadata": {},
   "outputs": [
    {
     "data": {
      "text/plain": [
       "'5ec5ec3077f4930594ffd96c565cf84aa8bcb84b7b0aafa8ccd13be0'"
      ]
     },
     "execution_count": 24,
     "metadata": {},
     "output_type": "execute_result"
    }
   ],
   "source": [
    "hashlib.sha224(sent).hexdigest()"
   ]
  },
  {
   "cell_type": "code",
   "execution_count": 26,
   "metadata": {},
   "outputs": [
    {
     "data": {
      "text/plain": [
       "'173832593a72c04dca97db5b24921d5543c1f6c8'"
      ]
     },
     "execution_count": 26,
     "metadata": {},
     "output_type": "execute_result"
    }
   ],
   "source": [
    "h = hashlib.new('ripemd160')\n",
    "h.update(sent)\n",
    "h.hexdigest()"
   ]
  },
  {
   "cell_type": "code",
   "execution_count": 27,
   "metadata": {},
   "outputs": [
    {
     "data": {
      "text/plain": [
       "'ripemd160'"
      ]
     },
     "execution_count": 27,
     "metadata": {},
     "output_type": "execute_result"
    }
   ],
   "source": [
    "h.name"
   ]
  },
  {
   "cell_type": "code",
   "execution_count": 29,
   "metadata": {},
   "outputs": [
    {
     "data": {
      "text/plain": [
       "'63b42daf11d96f6400d02a208217bcd16034f8bc9a3976419dab1dd0e837081cfdaa9203669c884ef238e8edf6473e2382eb1b98e638f1cf97b2b5b9c764967e'"
      ]
     },
     "execution_count": 29,
     "metadata": {},
     "output_type": "execute_result"
    }
   ],
   "source": [
    "from hashlib import blake2b\n",
    "h = blake2b()\n",
    "h.update(sent)\n",
    "h.hexdigest()"
   ]
  },
  {
   "cell_type": "markdown",
   "metadata": {},
   "source": [
    "As a practical example, a web application can symmetrically sign cookies sent to users and later verify them to make sure they weren’t tampered with:"
   ]
  },
  {
   "cell_type": "code",
   "execution_count": 31,
   "metadata": {},
   "outputs": [
    {
     "name": "stdout",
     "output_type": "stream",
     "text": [
      "user-alice,b'43b3c982cf697e0c5ab22172d1ca7421'\n",
      "True\n",
      "False\n",
      "False\n"
     ]
    }
   ],
   "source": [
    "from hashlib import blake2b\n",
    "from hmac import compare_digest\n",
    "\n",
    "SECRET_KEY = b'pseudorandomly generated server secret key'\n",
    "AUTH_SIZE = 16\n",
    "\n",
    "def sign(cookie):\n",
    "    h = blake2b(digest_size=AUTH_SIZE, key=SECRET_KEY)\n",
    "    h.update(cookie)\n",
    "    return h.hexdigest().encode('utf-8')\n",
    "\n",
    "def verify(cookie, sig):\n",
    "    good_sig = sign(cookie)\n",
    "    return compare_digest(good_sig, sig)\n",
    "\n",
    "cookie = b'user-alice'\n",
    "sig = sign(cookie)\n",
    "print(\"{0},{1}\".format(cookie.decode('utf-8'), sig))\n",
    "# user-alice,b'43b3c982cf697e0c5ab22172d1ca7421'\n",
    "print(verify(cookie, sig))\n",
    "\n",
    "print(verify(b'user-bob', sig))\n",
    "\n",
    "print(verify(cookie, b'0102030405060708090a0b0c0d0e0f00'))"
   ]
  },
  {
   "cell_type": "markdown",
   "metadata": {},
   "source": [
    "By setting salt parameter users can introduce randomization to the hash function. Randomized hashing is useful for protecting against collision attacks on the hash function used in digital signatures."
   ]
  },
  {
   "cell_type": "code",
   "execution_count": 32,
   "metadata": {},
   "outputs": [
    {
     "data": {
      "text/plain": [
       "True"
      ]
     },
     "execution_count": 32,
     "metadata": {},
     "output_type": "execute_result"
    }
   ],
   "source": [
    "import os\n",
    "from hashlib import blake2b\n",
    "msg = b'Hello Python'\n",
    "# Calculate the first hash with a random salt.\n",
    "salt1 = os.urandom(blake2b.SALT_SIZE)\n",
    "h1 = blake2b(salt=salt1)\n",
    "h1.update(msg)\n",
    "# Calculate the second hash with a different random salt.\n",
    "salt2 = os.urandom(blake2b.SALT_SIZE)\n",
    "h2 = blake2b(salt=salt2)\n",
    "h2.update(msg)\n",
    "# The digests are different.\n",
    "h1.digest() != h2.digest()"
   ]
  },
  {
   "cell_type": "code",
   "execution_count": 33,
   "metadata": {},
   "outputs": [
    {
     "data": {
      "text/plain": [
       "('a65fecefac2df941f2b3a5d672fcc5a0141b5392c5d86f03d4329631a3b604d0e628f9892de14a8d4784f1e8f1fea13b09c7a2d71de74fc68fe2548961b8c186',\n",
       " '6b72c7112e5dc7b81ec478dda0da62f9453b19a155d8d05e8271f5cc1b9be6672b28e058d0f975553d286173d0aed7ee6d67462b73b07fd3eae8be515e735dd4')"
      ]
     },
     "execution_count": 33,
     "metadata": {},
     "output_type": "execute_result"
    }
   ],
   "source": [
    "h1.hexdigest(), h2.hexdigest()"
   ]
  },
  {
   "cell_type": "markdown",
   "metadata": {},
   "source": [
    "### Secure Data \n",
    "\n",
    "- [Encryption and Decryption in Python](https://nitratine.net/blog/post/encryption-and-decryption-in-python/)\n",
    "\n",
    "`python -m pip install cryptography`\n",
    "\n",
    "Symmetric encryption is when a key is used to encrypt and decrypt a message, so whoever encrypted it can decrypt it. The only way to decrypt the message is to know what was used to encrypt it; kind of like a password."
   ]
  },
  {
   "cell_type": "code",
   "execution_count": 34,
   "metadata": {},
   "outputs": [],
   "source": [
    "import cryptography"
   ]
  },
  {
   "cell_type": "code",
   "execution_count": 35,
   "metadata": {},
   "outputs": [
    {
     "data": {
      "text/plain": [
       "b'sKnL7D125K1XL86wM5BuTgGam-yHzxsJw0DGlj38g5o='"
      ]
     },
     "execution_count": 35,
     "metadata": {},
     "output_type": "execute_result"
    }
   ],
   "source": [
    "from cryptography.fernet import Fernet\n",
    "key = Fernet.generate_key()\n",
    "key"
   ]
  },
  {
   "cell_type": "code",
   "execution_count": 37,
   "metadata": {},
   "outputs": [],
   "source": [
    "with open('key.key', 'wb') as f:\n",
    "    f.write(key) # The key is type bytes still"
   ]
  },
  {
   "cell_type": "code",
   "execution_count": 38,
   "metadata": {},
   "outputs": [],
   "source": [
    "with open('key.key', 'rb') as f:\n",
    "    key = f.read() # The key will be type bytes"
   ]
  },
  {
   "cell_type": "code",
   "execution_count": 39,
   "metadata": {},
   "outputs": [
    {
     "data": {
      "text/plain": [
       "b'sKnL7D125K1XL86wM5BuTgGam-yHzxsJw0DGlj38g5o='"
      ]
     },
     "execution_count": 39,
     "metadata": {},
     "output_type": "execute_result"
    }
   ],
   "source": [
    "key"
   ]
  },
  {
   "cell_type": "code",
   "execution_count": 41,
   "metadata": {},
   "outputs": [
    {
     "data": {
      "text/plain": [
       "'sKnL7D125K1XL86wM5BuTgGam-yHzxsJw0DGlj38g5o='"
      ]
     },
     "execution_count": 41,
     "metadata": {},
     "output_type": "execute_result"
    }
   ],
   "source": [
    "key.decode('utf-8')"
   ]
  },
  {
   "cell_type": "code",
   "execution_count": 42,
   "metadata": {},
   "outputs": [
    {
     "data": {
      "text/plain": [
       "'sKnL7D125K1XL86wM5BuTgGam-yHzxsJw0DGlj38g5o='"
      ]
     },
     "execution_count": 42,
     "metadata": {},
     "output_type": "execute_result"
    }
   ],
   "source": [
    "key.decode('ascii')"
   ]
  },
  {
   "cell_type": "markdown",
   "metadata": {},
   "source": [
    "Generating a Key From A Password"
   ]
  },
  {
   "cell_type": "code",
   "execution_count": 43,
   "metadata": {},
   "outputs": [],
   "source": [
    "import base64\n",
    "import os\n",
    "from cryptography.hazmat.backends import default_backend\n",
    "from cryptography.hazmat.primitives import hashes\n",
    "from cryptography.hazmat.primitives.kdf.pbkdf2 import PBKDF2HMAC\n",
    "\n",
    "password_provided = \"password\" # This is input in the form of a string\n",
    "password = password_provided.encode() # Convert to type bytes\n",
    "salt = b'salt_' # CHANGE THIS - recommend using a key from os.urandom(16), must be of type bytes\n",
    "kdf = PBKDF2HMAC(\n",
    "    algorithm=hashes.SHA256(),\n",
    "    length=32,\n",
    "    salt=salt,\n",
    "    iterations=10000,\n",
    "    backend=default_backend()\n",
    ")\n",
    "key = base64.urlsafe_b64encode(kdf.derive(password)) # Can only use kdf once"
   ]
  },
  {
   "cell_type": "code",
   "execution_count": 44,
   "metadata": {},
   "outputs": [
    {
     "data": {
      "text/plain": [
       "b'BgZmHWY8OXdcNk-5QdFDxE2rS2dl_C2OX9zWHvu23mw='"
      ]
     },
     "execution_count": 44,
     "metadata": {},
     "output_type": "execute_result"
    }
   ],
   "source": [
    "key"
   ]
  },
  {
   "cell_type": "code",
   "execution_count": 45,
   "metadata": {},
   "outputs": [],
   "source": [
    "# Encrypting\n",
    "from cryptography.fernet import Fernet\n",
    "message = \"Hello Python\".encode()\n",
    "\n",
    "f = Fernet(key)\n",
    "encrypted = f.encrypt(message)"
   ]
  },
  {
   "cell_type": "code",
   "execution_count": 46,
   "metadata": {},
   "outputs": [
    {
     "data": {
      "text/plain": [
       "b'gAAAAABefsPptBmg8WLWvmFhmzhVU_3ZCnknGoQOvYnkYxw-7wh771YdWsH-2b3wcU2qzce5XRuV3hNfkDPXjyUENZIEyfYhCg=='"
      ]
     },
     "execution_count": 46,
     "metadata": {},
     "output_type": "execute_result"
    }
   ],
   "source": [
    "encrypted"
   ]
  },
  {
   "cell_type": "code",
   "execution_count": 49,
   "metadata": {},
   "outputs": [
    {
     "data": {
      "text/plain": [
       "'Hello Python'"
      ]
     },
     "execution_count": 49,
     "metadata": {},
     "output_type": "execute_result"
    }
   ],
   "source": [
    "# decrypting\n",
    "f = Fernet(key)\n",
    "decrypted = f.decrypt(encrypted)\n",
    "decrypted.decode('utf-8')"
   ]
  },
  {
   "cell_type": "markdown",
   "metadata": {},
   "source": [
    "### Squeeze Data \n",
    "\n",
    "- [Data Compression and Archiving](https://pymotw.com/3/compression.html)\n",
    "- [Compressing and Extracting Files in Python](https://code.tutsplus.com/tutorials/compressing-and-extracting-files-in-python--cms-26816)"
   ]
  },
  {
   "cell_type": "code",
   "execution_count": 1,
   "metadata": {},
   "outputs": [
    {
     "name": "stdout",
     "output_type": "stream",
     "text": [
      "/home/devopsgong/projects/py4kids/lesson-65-auth\n",
      "data_trans.ipynb  jwt.ipynb  jwt.ipynb.zip\n"
     ]
    }
   ],
   "source": [
    "!pwd\n",
    "!ls"
   ]
  },
  {
   "cell_type": "code",
   "execution_count": 2,
   "metadata": {},
   "outputs": [],
   "source": [
    "import zipfile\n",
    "\n",
    "fname = 'jwt.ipynb.zip'\n",
    "\n",
    "with zipfile.ZipFile(fname, 'w') as z:\n",
    "    z.write('jwt.ipynb', compress_type=zipfile.ZIP_DEFLATED)"
   ]
  },
  {
   "cell_type": "code",
   "execution_count": 3,
   "metadata": {},
   "outputs": [
    {
     "name": "stdout",
     "output_type": "stream",
     "text": [
      "data_trans.ipynb  jwt.ipynb  jwt.ipynb.zip\r\n"
     ]
    }
   ],
   "source": [
    "!ls"
   ]
  },
  {
   "cell_type": "code",
   "execution_count": 4,
   "metadata": {},
   "outputs": [
    {
     "name": "stdout",
     "output_type": "stream",
     "text": [
      "total 44\r\n",
      "-rw-r--r-- 1 devopsgong devopsgong 15200 Mar 28 14:22 data_trans.ipynb\r\n",
      "-rw-r--r-- 1 devopsgong devopsgong 18601 Mar 27 23:38 jwt.ipynb\r\n",
      "-rw-r--r-- 1 devopsgong devopsgong  4341 Mar 28 14:24 jwt.ipynb.zip\r\n"
     ]
    }
   ],
   "source": [
    "!ls -l"
   ]
  },
  {
   "cell_type": "code",
   "execution_count": 21,
   "metadata": {},
   "outputs": [],
   "source": [
    "# Compressing Multiple Files\n",
    "import os\n",
    "import zipfile\n",
    "\n",
    "dir_path = \".\"\n",
    "with zipfile.ZipFile('ipynb.zip', 'w') as nb_zip:\n",
    "    for folder, subfolders, files in os.walk(dir_path):\n",
    "        for file in files:\n",
    "            if file.endswith('.ipynb') and \"-checkpoint\" not in file:\n",
    "                nb_zip.write(\n",
    "                    os.path.join(folder, file), \n",
    "                    os.path.relpath(os.path.join(folder,file), dir_path),\n",
    "                    compress_type = zipfile.ZIP_DEFLATED\n",
    "                )\n"
   ]
  },
  {
   "cell_type": "code",
   "execution_count": 30,
   "metadata": {},
   "outputs": [
    {
     "name": "stdout",
     "output_type": "stream",
     "text": [
      "total 56\r\n",
      "-rw-r--r-- 1 devopsgong devopsgong 16515 Mar 28 14:43 data_trans.ipynb\r\n",
      "-rw-r--r-- 1 devopsgong devopsgong  8271 Mar 28 14:44 ipynb.zip\r\n",
      "-rw-r--r-- 1 devopsgong devopsgong 18601 Mar 27 23:38 jwt.ipynb\r\n",
      "drwxr-xr-x 2 devopsgong devopsgong  4096 Mar 28 14:44 tmp\r\n"
     ]
    }
   ],
   "source": [
    "!ls -l "
   ]
  },
  {
   "cell_type": "code",
   "execution_count": 25,
   "metadata": {},
   "outputs": [],
   "source": [
    "# extract all files\n",
    "import zipfile\n",
    "with zipfile.ZipFile('ipynb.zip') as nb_zip:\n",
    "    nb_zip.extractall(\"./tmp\")"
   ]
  },
  {
   "cell_type": "code",
   "execution_count": 31,
   "metadata": {},
   "outputs": [
    {
     "name": "stdout",
     "output_type": "stream",
     "text": [
      "total 40\r\n",
      "-rw-r--r-- 1 devopsgong devopsgong 16515 Mar 28 14:44 data_trans.ipynb\r\n",
      "-rw-r--r-- 1 devopsgong devopsgong 18601 Mar 28 14:44 jwt.ipynb\r\n"
     ]
    }
   ],
   "source": [
    "!ls -l tmp"
   ]
  },
  {
   "cell_type": "code",
   "execution_count": 32,
   "metadata": {},
   "outputs": [],
   "source": [
    "# extract a single file\n",
    "import zipfile\n",
    "with zipfile.ZipFile('ipynb.zip') as nb_zip:\n",
    "    nb_zip.extract(\"jwt.ipynb\", \"./tmp2\")"
   ]
  },
  {
   "cell_type": "code",
   "execution_count": 33,
   "metadata": {},
   "outputs": [
    {
     "name": "stdout",
     "output_type": "stream",
     "text": [
      "total 20\r\n",
      "-rw-r--r-- 1 devopsgong devopsgong 18601 Mar 28 14:47 jwt.ipynb\r\n"
     ]
    }
   ],
   "source": [
    "!ls -l tmp2"
   ]
  },
  {
   "cell_type": "code",
   "execution_count": 39,
   "metadata": {},
   "outputs": [
    {
     "name": "stdout",
     "output_type": "stream",
     "text": [
      "jwt.ipynb\n",
      "(2020, 3, 27, 23, 38, 34) 18601 4225\n",
      "data_trans.ipynb\n",
      "(2020, 3, 28, 14, 43, 48) 16515 3822\n"
     ]
    }
   ],
   "source": [
    "# get file info\n",
    "import zipfile\n",
    "with zipfile.ZipFile('ipynb.zip') as nb_zip:\n",
    "    for file in nb_zip.namelist():\n",
    "        print(file)\n",
    "        fi = nb_zip.getinfo(file)\n",
    "        print(fi.date_time, fi.file_size, fi.compress_size)"
   ]
  },
  {
   "cell_type": "code",
   "execution_count": null,
   "metadata": {},
   "outputs": [],
   "source": []
  }
 ],
 "metadata": {
  "kernelspec": {
   "display_name": "Python 3",
   "language": "python",
   "name": "python3"
  },
  "language_info": {
   "codemirror_mode": {
    "name": "ipython",
    "version": 3
   },
   "file_extension": ".py",
   "mimetype": "text/x-python",
   "name": "python",
   "nbconvert_exporter": "python",
   "pygments_lexer": "ipython3",
   "version": "3.7.1"
  }
 },
 "nbformat": 4,
 "nbformat_minor": 2
}
