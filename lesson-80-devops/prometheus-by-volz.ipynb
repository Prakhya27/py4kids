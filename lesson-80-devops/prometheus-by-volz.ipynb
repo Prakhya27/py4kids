{
 "cells": [
  {
   "cell_type": "markdown",
   "metadata": {},
   "source": [
    "* [GOTO 2019 • An Introduction to Systems & Service Monitoring with Prometheus • Julius Volz](https://youtu.be/5O1djJ13gRU) \n",
    "    * https://youtu.be/5O1djJ13gRU\n",
    "* [Prometheus: Deep-Dive](https://www.youtube.com/watch?v=9GMWvFcQjYI) \n",
    "    * https://www.youtube.com/watch?v=9GMWvFcQjYI"
   ]
  },
  {
   "cell_type": "code",
   "execution_count": 22,
   "metadata": {},
   "outputs": [],
   "source": [
    "files = !ls -haltr *.png   # sort screenshot in reverse date order"
   ]
  },
  {
   "cell_type": "code",
   "execution_count": 23,
   "metadata": {},
   "outputs": [],
   "source": [
    "from IPython.core.display import HTML"
   ]
  },
  {
   "cell_type": "code",
   "execution_count": 24,
   "metadata": {
    "scrolled": false
   },
   "outputs": [
    {
     "data": {
      "text/html": [
       "<img src=prometheus-archtecture.png><img src=features.png><img src=data-model-1.png><img src=data-model-2.png><img src=query-1.png><img src=query-2.png><img src=query-3.png><img src=query-4.png><img src=efficiency.png><img src=expression-browser.png><img src=graph.png><img src=dashboard.png><img src=alert.png><img src=dyna-envs.png><img src=service-discovery.png><img src=summary.png>"
      ],
      "text/plain": [
       "<IPython.core.display.HTML object>"
      ]
     },
     "execution_count": 24,
     "metadata": {},
     "output_type": "execute_result"
    }
   ],
   "source": [
    "img_html = \"\"\n",
    "for i in [f.split(' ')[-1] for f in files]:\n",
    "    img_html += f\"<img src={i}>\"\n",
    "HTML(img_html)"
   ]
  },
  {
   "cell_type": "code",
   "execution_count": null,
   "metadata": {},
   "outputs": [],
   "source": []
  }
 ],
 "metadata": {
  "kernelspec": {
   "display_name": "Python 3",
   "language": "python",
   "name": "python3"
  },
  "language_info": {
   "codemirror_mode": {
    "name": "ipython",
    "version": 3
   },
   "file_extension": ".py",
   "mimetype": "text/x-python",
   "name": "python",
   "nbconvert_exporter": "python",
   "pygments_lexer": "ipython3",
   "version": "3.7.3"
  }
 },
 "nbformat": 4,
 "nbformat_minor": 2
}
