{
 "cells": [
  {
   "cell_type": "markdown",
   "metadata": {},
   "source": [
    "[Python and DynamoDB](https://docs.aws.amazon.com/amazondynamodb/latest/developerguide/GettingStarted.Python.html)"
   ]
  },
  {
   "cell_type": "markdown",
   "metadata": {},
   "source": [
    "### Create a table in AWS DynamoDB"
   ]
  },
  {
   "cell_type": "code",
   "execution_count": 5,
   "metadata": {},
   "outputs": [],
   "source": [
    "import boto3\n",
    "# Get the service resource.\n",
    "dynamodb = boto3.resource('dynamodb')"
   ]
  },
  {
   "cell_type": "code",
   "execution_count": 6,
   "metadata": {},
   "outputs": [],
   "source": [
    "dyn_table_name=\"TrafficSpeed\"\n",
    "dyn_field_name_site=\"measurementSiteReference\"\n",
    "dyn_field_name_time=\"measurementTimeDefault\""
   ]
  },
  {
   "cell_type": "code",
   "execution_count": 7,
   "metadata": {},
   "outputs": [
    {
     "name": "stdout",
     "output_type": "stream",
     "text": [
      "Table already exists\n"
     ]
    }
   ],
   "source": [
    "try:\n",
    "    # Create the DynamoDB table.\n",
    "    table = dynamodb.create_table(\n",
    "        TableName=\"{}\".format(dyn_table_name),\n",
    "        KeySchema=[\n",
    "            {\n",
    "                'AttributeName': \"{}\".format(dyn_field_name_site),\n",
    "                'KeyType': 'HASH'\n",
    "            },\n",
    "            {\n",
    "                'AttributeName': \"{}\".format(dyn_field_name_time),\n",
    "                'KeyType': 'RANGE'\n",
    "            }\n",
    "        ],\n",
    "        AttributeDefinitions=[\n",
    "            {\n",
    "                'AttributeName': \"{}\".format(dyn_field_name_site),\n",
    "                'AttributeType': 'S'\n",
    "            },\n",
    "            {\n",
    "                'AttributeName': \"{}\".format(dyn_field_name_time),\n",
    "                'AttributeType': 'S'\n",
    "            },\n",
    "\n",
    "        ],\n",
    "        ProvisionedThroughput={\n",
    "            'ReadCapacityUnits': 10,\n",
    "            'WriteCapacityUnits': 10\n",
    "        }\n",
    "    )\n",
    "    \n",
    "    # Wait until the table exists.\n",
    "    table.meta.client.get_waiter('table_exists').wait(TableName=\"{}\".format(dyn_table_name))\n",
    "\n",
    "    # Print out some data about the table.\n",
    "    print(table.item_count)\n",
    "    print(\"Table created at:\", table.creation_date_time)\n",
    "    print(\"Table status:\", table.table_status)\n",
    "\n",
    "except Exception as e:\n",
    "    if \"Table already exists\" in str(e):\n",
    "        print(\"Table already exists\")\n",
    "    else:\n",
    "        raise e"
   ]
  },
  {
   "cell_type": "code",
   "execution_count": null,
   "metadata": {},
   "outputs": [],
   "source": []
  }
 ],
 "metadata": {
  "kernelspec": {
   "display_name": "Python 3",
   "language": "python",
   "name": "python3"
  },
  "language_info": {
   "codemirror_mode": {
    "name": "ipython",
    "version": 3
   },
   "file_extension": ".py",
   "mimetype": "text/x-python",
   "name": "python",
   "nbconvert_exporter": "python",
   "pygments_lexer": "ipython3",
   "version": "3.6.5"
  }
 },
 "nbformat": 4,
 "nbformat_minor": 2
}
