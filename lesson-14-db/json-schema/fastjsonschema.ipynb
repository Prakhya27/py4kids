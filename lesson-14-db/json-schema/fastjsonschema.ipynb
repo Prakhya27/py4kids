{
 "cells": [
  {
   "cell_type": "markdown",
   "metadata": {},
   "source": [
    "https://horejsek.github.io/python-fastjsonschema/\n",
    "\n",
    "`pip install fastjsonschema`"
   ]
  },
  {
   "cell_type": "code",
   "execution_count": 58,
   "metadata": {},
   "outputs": [],
   "source": [
    "import fastjsonschema as fjs"
   ]
  },
  {
   "cell_type": "code",
   "execution_count": 104,
   "metadata": {},
   "outputs": [],
   "source": [
    "def is_valid(schema, data):\n",
    "    try:\n",
    "        validate = fjs.compile(schema)\n",
    "        return validate(data) == data, None\n",
    "    except fjs.JsonSchemaException as ex:\n",
    "        return False, ex"
   ]
  },
  {
   "cell_type": "markdown",
   "metadata": {},
   "source": [
    "#### compile() is faster"
   ]
  },
  {
   "cell_type": "code",
   "execution_count": 59,
   "metadata": {},
   "outputs": [
    {
     "name": "stdout",
     "output_type": "stream",
     "text": [
      "CPU times: user 739 µs, sys: 116 µs, total: 855 µs\n",
      "Wall time: 865 µs\n"
     ]
    },
    {
     "data": {
      "text/plain": [
       "'hello'"
      ]
     },
     "execution_count": 59,
     "metadata": {},
     "output_type": "execute_result"
    }
   ],
   "source": [
    "%time fjs.validate({'type': 'string'}, 'hello')"
   ]
  },
  {
   "cell_type": "code",
   "execution_count": 60,
   "metadata": {},
   "outputs": [
    {
     "name": "stdout",
     "output_type": "stream",
     "text": [
      "CPU times: user 462 µs, sys: 72 µs, total: 534 µs\n",
      "Wall time: 542 µs\n"
     ]
    },
    {
     "data": {
      "text/plain": [
       "'hello'"
      ]
     },
     "execution_count": 60,
     "metadata": {},
     "output_type": "execute_result"
    }
   ],
   "source": [
    "%time fjs.compile({'type': 'string'})('hello')"
   ]
  },
  {
   "cell_type": "markdown",
   "metadata": {},
   "source": [
    "### basic type"
   ]
  },
  {
   "cell_type": "code",
   "execution_count": 105,
   "metadata": {},
   "outputs": [],
   "source": [
    "schema = {'type': 'string'}\n",
    "data = 'hello'"
   ]
  },
  {
   "cell_type": "code",
   "execution_count": 106,
   "metadata": {},
   "outputs": [
    {
     "data": {
      "text/plain": [
       "(True, None)"
      ]
     },
     "execution_count": 106,
     "metadata": {},
     "output_type": "execute_result"
    }
   ],
   "source": [
    "is_valid(schema, data)"
   ]
  },
  {
   "cell_type": "code",
   "execution_count": 107,
   "metadata": {},
   "outputs": [],
   "source": [
    "schema = {\n",
    "    'type': 'object',\n",
    "    'properties': {\n",
    "        'a': {'type': 'number', 'default': 42},\n",
    "    },\n",
    "}\n",
    "data = {'a': 42}"
   ]
  },
  {
   "cell_type": "code",
   "execution_count": 108,
   "metadata": {},
   "outputs": [
    {
     "data": {
      "text/plain": [
       "(True, None)"
      ]
     },
     "execution_count": 108,
     "metadata": {},
     "output_type": "execute_result"
    }
   ],
   "source": [
    "is_valid(schema, data)"
   ]
  },
  {
   "cell_type": "code",
   "execution_count": 109,
   "metadata": {},
   "outputs": [],
   "source": [
    "schema = {\n",
    "    'type': 'object',\n",
    "    'properties': {\n",
    "        'a': {'type': 'number', 'default': 42},\n",
    "    },\n",
    "}\n",
    "data = {}"
   ]
  },
  {
   "cell_type": "code",
   "execution_count": 110,
   "metadata": {},
   "outputs": [
    {
     "data": {
      "text/plain": [
       "(True, None)"
      ]
     },
     "execution_count": 110,
     "metadata": {},
     "output_type": "execute_result"
    }
   ],
   "source": [
    "is_valid(schema, data)"
   ]
  },
  {
   "cell_type": "code",
   "execution_count": null,
   "metadata": {},
   "outputs": [],
   "source": []
  },
  {
   "cell_type": "code",
   "execution_count": null,
   "metadata": {},
   "outputs": [],
   "source": []
  },
  {
   "cell_type": "code",
   "execution_count": 84,
   "metadata": {},
   "outputs": [],
   "source": [
    "schema = {\n",
    "    '$schema': 'http://json-schema.org/draft-04/schema',\n",
    "    'type': 'number',\n",
    "}\n",
    "data = 100"
   ]
  },
  {
   "cell_type": "code",
   "execution_count": 85,
   "metadata": {},
   "outputs": [
    {
     "data": {
      "text/plain": [
       "(True, None)"
      ]
     },
     "execution_count": 85,
     "metadata": {},
     "output_type": "execute_result"
    }
   ],
   "source": [
    "is_valid(schema, data)"
   ]
  },
  {
   "cell_type": "code",
   "execution_count": 86,
   "metadata": {},
   "outputs": [],
   "source": [
    "schema = {\n",
    "    '$schema': 'http://json-schema.org/draft-04/schema',\n",
    "    'type': 'number',\n",
    "}\n",
    "data = 'abc'"
   ]
  },
  {
   "cell_type": "code",
   "execution_count": 87,
   "metadata": {},
   "outputs": [
    {
     "data": {
      "text/plain": [
       "(False, fastjsonschema.exceptions.JsonSchemaException('data must be number'))"
      ]
     },
     "execution_count": 87,
     "metadata": {},
     "output_type": "execute_result"
    }
   ],
   "source": [
    "is_valid(schema, data)"
   ]
  },
  {
   "cell_type": "markdown",
   "metadata": {},
   "source": [
    "### complex schema: `nested`, `$ref`\n",
    "\n",
    "https://json-schema.org/understanding-json-schema/structuring.html"
   ]
  },
  {
   "cell_type": "code",
   "execution_count": 102,
   "metadata": {},
   "outputs": [],
   "source": [
    "schema = {\n",
    "  \"$schema\": \"http://json-schema.org/draft-07/schema#\",\n",
    "\n",
    "  \"definitions\": {\n",
    "    \"address\": {\n",
    "      \"type\": \"object\",\n",
    "      \"properties\": {\n",
    "        \"street_address\": { \"type\": \"string\" },\n",
    "        \"city\":           { \"type\": \"string\" },\n",
    "        \"state\":          { \"type\": \"string\" }\n",
    "      },\n",
    "      \"required\": [\"street_address\", \"city\", \"state\"]\n",
    "    }\n",
    "  },\n",
    "\n",
    "  \"type\": \"object\",\n",
    "\n",
    "  \"properties\": {\n",
    "    \"name\": { \"type\": \"string\" },\n",
    "    \"billing_address\": { \"$ref\": \"#/definitions/address\" },\n",
    "    \"shipping_address\": { \"$ref\": \"#/definitions/address\" }\n",
    "  },\n",
    "  \"required\": [\"name\", \"billing_address\"]\n",
    "}\n",
    "\n",
    "data = {\n",
    "  \"name\": \"Jose Goodman\",\n",
    "  \"shipping_address\": {\n",
    "    \"street_address\": \"1600 Pennsylvania Avenue NW\",\n",
    "    \"city\": \"Washington\",\n",
    "    \"state\": \"DC\"\n",
    "  },\n",
    "  \"billing_address\": {\n",
    "    \"street_address\": \"1st Street SE\",\n",
    "    \"city\": \"Washington\",\n",
    "    \"state\": \"DC\"\n",
    "  }\n",
    "}"
   ]
  },
  {
   "cell_type": "code",
   "execution_count": 103,
   "metadata": {},
   "outputs": [
    {
     "data": {
      "text/plain": [
       "(True, None)"
      ]
     },
     "execution_count": 103,
     "metadata": {},
     "output_type": "execute_result"
    }
   ],
   "source": [
    "is_valid(schema, data)"
   ]
  },
  {
   "cell_type": "code",
   "execution_count": null,
   "metadata": {},
   "outputs": [],
   "source": []
  }
 ],
 "metadata": {
  "kernelspec": {
   "display_name": "Python 3",
   "language": "python",
   "name": "python3"
  },
  "language_info": {
   "codemirror_mode": {
    "name": "ipython",
    "version": 3
   },
   "file_extension": ".py",
   "mimetype": "text/x-python",
   "name": "python",
   "nbconvert_exporter": "python",
   "pygments_lexer": "ipython3",
   "version": "3.7.1"
  }
 },
 "nbformat": 4,
 "nbformat_minor": 2
}
