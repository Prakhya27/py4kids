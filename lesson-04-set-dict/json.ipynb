{
 "cells": [
  {
   "cell_type": "markdown",
   "metadata": {},
   "source": [
    "[Python Json](https://www.w3schools.com/python/python_json.asp)\n",
    "\n",
    "JSON is text syntax used for storing and exchanging data"
   ]
  },
  {
   "cell_type": "markdown",
   "metadata": {},
   "source": [
    "### Convert from JSON (str) to Python (obj)"
   ]
  },
  {
   "cell_type": "code",
   "execution_count": null,
   "metadata": {},
   "outputs": [],
   "source": [
    "import json\n",
    "\n",
    "# some JSON:\n",
    "x =  '{ \"name\":\"John\", \"age\":30, \"city\":\"New York\"}'\n",
    "\n",
    "# parse x:\n",
    "y = json.loads(x)"
   ]
  },
  {
   "cell_type": "code",
   "execution_count": 3,
   "metadata": {},
   "outputs": [
    {
     "name": "stdout",
     "output_type": "stream",
     "text": [
      "name=John, age=30\n"
     ]
    }
   ],
   "source": [
    "# the result is a Python dictionary:\n",
    "print(f'name={y[\"name\"]}, age={y[\"age\"]}')"
   ]
  },
  {
   "cell_type": "markdown",
   "metadata": {},
   "source": [
    "### Convert from Python (obj) to JSON (str)"
   ]
  },
  {
   "cell_type": "code",
   "execution_count": 4,
   "metadata": {},
   "outputs": [
    {
     "name": "stdout",
     "output_type": "stream",
     "text": [
      "{\"name\": \"John\", \"age\": 30, \"city\": \"New York\"}\n"
     ]
    }
   ],
   "source": [
    "import json\n",
    "\n",
    "# a Python object (dict):\n",
    "x = {\n",
    "  \"name\": \"John\",\n",
    "  \"age\": 30,\n",
    "  \"city\": \"New York\"\n",
    "}\n",
    "\n",
    "# convert into JSON:\n",
    "y = json.dumps(x)\n",
    "\n",
    "# the result is a JSON string:\n",
    "print(y)"
   ]
  },
  {
   "cell_type": "code",
   "execution_count": 6,
   "metadata": {},
   "outputs": [
    {
     "data": {
      "text/plain": [
       "str"
      ]
     },
     "execution_count": 6,
     "metadata": {},
     "output_type": "execute_result"
    }
   ],
   "source": [
    "type(y)"
   ]
  },
  {
   "cell_type": "code",
   "execution_count": 7,
   "metadata": {},
   "outputs": [
    {
     "name": "stdout",
     "output_type": "stream",
     "text": [
      "{\"name\": \"John\", \"age\": 30}\n",
      "[\"apple\", \"bananas\"]\n",
      "[\"apple\", \"bananas\"]\n",
      "\"hello\"\n",
      "42\n",
      "31.76\n",
      "true\n",
      "false\n",
      "null\n"
     ]
    }
   ],
   "source": [
    "import json\n",
    "\n",
    "print(json.dumps({\"name\": \"John\", \"age\": 30}))\n",
    "print(json.dumps([\"apple\", \"bananas\"]))\n",
    "print(json.dumps((\"apple\", \"bananas\")))\n",
    "print(json.dumps(\"hello\"))\n",
    "print(json.dumps(42))\n",
    "print(json.dumps(31.76))\n",
    "print(json.dumps(True))\n",
    "print(json.dumps(False))\n",
    "print(json.dumps(None))"
   ]
  },
  {
   "cell_type": "code",
   "execution_count": 12,
   "metadata": {},
   "outputs": [],
   "source": [
    "x = {\n",
    "  \"name\": \"John\",\n",
    "  \"age\": 30,\n",
    "  \"married\": True,\n",
    "  \"divorced\": False,\n",
    "  \"children\": (\"Janet\", \"Ann\",\"Billy\"),\n",
    "  \"pets\": None,\n",
    "  \"cars\": [\n",
    "    {\"model\": \"Toyota\", \"mpg\": 35},\n",
    "    {\"model\": \"BMW 230\", \"mpg\": 27.5},\n",
    "    {\"model\": \"Ford Edge\", \"mpg\": 24.1}\n",
    "  ]\n",
    "}"
   ]
  },
  {
   "cell_type": "code",
   "execution_count": 11,
   "metadata": {},
   "outputs": [
    {
     "name": "stdout",
     "output_type": "stream",
     "text": [
      "{\n",
      "    \"age\": 30,\n",
      "    \"cars\": [\n",
      "        {\n",
      "            \"model\": \"Toyota\",\n",
      "            \"mpg\": 35\n",
      "        },\n",
      "        {\n",
      "            \"model\": \"BMW 230\",\n",
      "            \"mpg\": 27.5\n",
      "        },\n",
      "        {\n",
      "            \"model\": \"Ford Edge\",\n",
      "            \"mpg\": 24.1\n",
      "        }\n",
      "    ],\n",
      "    \"children\": [\n",
      "        \"Janet\",\n",
      "        \"Ann\",\n",
      "        \"Billy\"\n",
      "    ],\n",
      "    \"divorced\": false,\n",
      "    \"married\": true,\n",
      "    \"name\": \"John\",\n",
      "    \"pets\": null\n",
      "}\n"
     ]
    }
   ],
   "source": [
    "print(json.dumps(x, indent=4, sort_keys=True))\n",
    "# indent by 4 spaces for readability\n",
    "# sort key_name alphanumerically"
   ]
  },
  {
   "cell_type": "markdown",
   "metadata": {},
   "source": [
    "### Ymal to Json"
   ]
  },
  {
   "cell_type": "code",
   "execution_count": 21,
   "metadata": {},
   "outputs": [],
   "source": [
    "import json, yaml"
   ]
  },
  {
   "cell_type": "code",
   "execution_count": 22,
   "metadata": {},
   "outputs": [],
   "source": [
    "with open(\"Traffic.yml\") as f:\n",
    "    y = yaml.safe_load(f.read())  # y as python obj"
   ]
  },
  {
   "cell_type": "code",
   "execution_count": 26,
   "metadata": {},
   "outputs": [
    {
     "name": "stdout",
     "output_type": "stream",
     "text": [
      "<class 'dict'> \n",
      " {'meta': {'files': '%Trafficspeed%', 'version': '2017-06-26T23:13:00Z', 'description': 'Data from traffic speed and flow sensors, source - ndw.nu'}, 'processing': {'prefixes': {'xsi': 'http://www.w3.org/2001/XMLSchema-instance', 'ns0': 'http://schemas.xmlsoap.org/soap/envelope/', 'ns1': 'http://datex2.eu/schema/2/2_0'}, 'data': {'ns1.siteMeasurements[]': {'ns1.measurementSiteReference': '_.id, str, measurementSiteReference', 'ns1.measurementTimeDefault': 'text, timestamp, measurementTimeDefault', 'ns1.measuredValue[]': [{'_': '.[@index]', '_.index': 'int, Channel', 'ns1.basicData': [{'_': '.[@xsi:type=\"TrafficFlow\"]', '_.xsi.type': 'text, Type', 'ns1.vehicleFlowRate': 'text, float, Flow'}, {'_': '.[@xsi:type=\"TrafficSpeed\"]', '_.xsi.type': 'text, Type', 'ns1.averageVehicleSpeed': {'_.numberOfInputValuesUsed': 'int, InputSize', 'ns1.speed': 'text, float, Speed'}}]}]}}}}\n"
     ]
    }
   ],
   "source": [
    "print(type(y),\"\\n\", y)"
   ]
  },
  {
   "cell_type": "code",
   "execution_count": 24,
   "metadata": {},
   "outputs": [
    {
     "name": "stdout",
     "output_type": "stream",
     "text": [
      "{\n",
      "    \"meta\": {\n",
      "        \"files\": \"%Trafficspeed%\",\n",
      "        \"version\": \"2017-06-26T23:13:00Z\",\n",
      "        \"description\": \"Data from traffic speed and flow sensors, source - ndw.nu\"\n",
      "    },\n",
      "    \"processing\": {\n",
      "        \"prefixes\": {\n",
      "            \"xsi\": \"http://www.w3.org/2001/XMLSchema-instance\",\n",
      "            \"ns0\": \"http://schemas.xmlsoap.org/soap/envelope/\",\n",
      "            \"ns1\": \"http://datex2.eu/schema/2/2_0\"\n",
      "        },\n",
      "        \"data\": {\n",
      "            \"ns1.siteMeasurements[]\": {\n",
      "                \"ns1.measurementSiteReference\": \"_.id, str, measurementSiteReference\",\n",
      "                \"ns1.measurementTimeDefault\": \"text, timestamp, measurementTimeDefault\",\n",
      "                \"ns1.measuredValue[]\": [\n",
      "                    {\n",
      "                        \"_\": \".[@index]\",\n",
      "                        \"_.index\": \"int, Channel\",\n",
      "                        \"ns1.basicData\": [\n",
      "                            {\n",
      "                                \"_\": \".[@xsi:type=\\\"TrafficFlow\\\"]\",\n",
      "                                \"_.xsi.type\": \"text, Type\",\n",
      "                                \"ns1.vehicleFlowRate\": \"text, float, Flow\"\n",
      "                            },\n",
      "                            {\n",
      "                                \"_\": \".[@xsi:type=\\\"TrafficSpeed\\\"]\",\n",
      "                                \"_.xsi.type\": \"text, Type\",\n",
      "                                \"ns1.averageVehicleSpeed\": {\n",
      "                                    \"_.numberOfInputValuesUsed\": \"int, InputSize\",\n",
      "                                    \"ns1.speed\": \"text, float, Speed\"\n",
      "                                }\n",
      "                            }\n",
      "                        ]\n",
      "                    }\n",
      "                ]\n",
      "            }\n",
      "        }\n",
      "    }\n",
      "}\n"
     ]
    }
   ],
   "source": [
    "print(json.dumps(y, indent=4))"
   ]
  },
  {
   "cell_type": "code",
   "execution_count": null,
   "metadata": {},
   "outputs": [],
   "source": []
  }
 ],
 "metadata": {
  "kernelspec": {
   "display_name": "Python 3",
   "language": "python",
   "name": "python3"
  },
  "language_info": {
   "codemirror_mode": {
    "name": "ipython",
    "version": 3
   },
   "file_extension": ".py",
   "mimetype": "text/x-python",
   "name": "python",
   "nbconvert_exporter": "python",
   "pygments_lexer": "ipython3",
   "version": "3.6.5"
  }
 },
 "nbformat": 4,
 "nbformat_minor": 2
}
