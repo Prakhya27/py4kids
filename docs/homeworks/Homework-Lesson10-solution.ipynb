{
 "cells": [
  {
   "cell_type": "markdown",
   "metadata": {},
   "source": [
    "## Homework 10\n",
    "Don't worry if you don't have enough time to finish this week. You can continue to do it in next week. \n",
    "\n",
    "Starting from next week, we are going to learn advanced python contents beyond our textbook. I am not going to give you many homework in the next few weeks.\n"
   ]
  },
  {
   "cell_type": "markdown",
   "metadata": {},
   "source": [
    "## 1\n",
    "\n",
    "Print out the square of the numbers from 1 to 20"
   ]
  },
  {
   "cell_type": "code",
   "execution_count": null,
   "metadata": {
    "collapsed": true
   },
   "outputs": [],
   "source": [
    "# Write your solution at below\n",
    "\n",
    "\n",
    "\n"
   ]
  },
  {
   "cell_type": "markdown",
   "metadata": {},
   "source": [
    "## Try and Learn:\n",
    "\n",
    "[What is list comprehension?](https://www.youtube.com/watch?v=AhSvKGTh28Q)\n",
    "\n",
    "run the following code and compare it with your solution in Problem 1:"
   ]
  },
  {
   "cell_type": "code",
   "execution_count": null,
   "metadata": {
    "collapsed": true
   },
   "outputs": [],
   "source": [
    "# example of using list comprehension for the Problem 1\n",
    "print([num*num for num in range(1,21)])"
   ]
  },
  {
   "cell_type": "markdown",
   "metadata": {},
   "source": [
    "## 2\n",
    "\n",
    "Take two lists, say for example these two:\n",
    "```\n",
    "\ta = [1, 1, 2, 3, 5, 8, 13, 21, 34, 8, 55, 89]\n",
    "\tb = [1, 2, 3, 4, 5, 6, 7, 8, 9, 10, 11, 12, 13]\n",
    "```\n",
    "and write a program that returns a list that contains only the elements that are common between the lists (without duplicates). Make sure your program works on two lists of different sizes. "
   ]
  },
  {
   "cell_type": "code",
   "execution_count": 4,
   "metadata": {
    "collapsed": false
   },
   "outputs": [
    {
     "name": "stdout",
     "output_type": "stream",
     "text": [
      "Solution1 - shared items in two list is  [1, 2, 3, 5, 8, 13]\n",
      "Solution2 - shared items in two list is  [1, 2, 3, 5, 8, 13]\n",
      "Solution3 - shared items in two list is  [1, 2, 3, 5, 8, 13]\n"
     ]
    }
   ],
   "source": [
    "listA = [1, 1, 2, 3, 5, 8, 13, 21, 34, 8, 55, 89]\n",
    "listB = [1, 2, 3, 4, 5, 6, 7, 8, 9, 10, 11, 12, 13]\n",
    "\n",
    "# convert list 'listA' to a set which automatically remove duplicates\n",
    "uniqueList = set(listA)\n",
    "results = []\n",
    "for num in uniqueList:\n",
    "    if num in listB:\n",
    "        results.append(num)\n",
    "\n",
    "print(\"Solution1 - shared items in two list is \", results)\n",
    "\n",
    "# solution 2\n",
    "results = []\n",
    "for num in uniqueList:\n",
    "    if num in listB and num not in results:\n",
    "        results.append(num)\n",
    "\n",
    "print(\"Solution2 - shared items in two list is \", results)\n",
    "\n",
    "# solution 3 -- one line solution using \"Pythong list Comprehensions\" \n",
    "results = [num for num in set(listA) if num in listB]\n",
    "print(\"Solution3 - shared items in two list is \", results)"
   ]
  },
  {
   "cell_type": "markdown",
   "metadata": {},
   "source": [
    "## 3\n",
    "    \n",
    "    Write a Python function to get a string made of the first 2 and the last 2 chars from a given a string. If the string length is less than 2, return an empty string.  \n",
    "```\n",
    "Sample String : 'w3resource'\n",
    "Expected Result : 'w3ce'\n",
    "Sample String : 'w3'\n",
    "Expected Result : 'w3w3'\n",
    "Sample String : ' w'\n",
    "Expected Result : Empty String \n",
    "```"
   ]
  },
  {
   "cell_type": "code",
   "execution_count": 27,
   "metadata": {
    "collapsed": false
   },
   "outputs": [
    {
     "name": "stdout",
     "output_type": "stream",
     "text": [
      "w3ce\n",
      "w3w3\n",
      "\n"
     ]
    }
   ],
   "source": [
    "# define a function that accept a string as the input argument\n",
    "def string_both_ends(str):\n",
    "  if len(str) < 2:\n",
    "    return ''\n",
    "\n",
    "  return str[0:2] + str[-2:]\n",
    "\n",
    "# test the function by using input strings of \"w3resource\", \"w3\", \"w\"\n",
    "print(string_both_ends('w3resource'))\n",
    "print(string_both_ends('w3'))\n",
    "print(string_both_ends('w'))\n"
   ]
  },
  {
   "cell_type": "markdown",
   "metadata": {},
   "source": [
    "## 4\n",
    "\n",
    "Write a Python function to get a list, sorted in increasing order by the last element in each tuple from a given list of tuples, and then return the sorted list.\n",
    "\n",
    "For example:\n",
    "```\n",
    "[('m', 5), ('b', 2), ('h', 4), ('t', 3), ('c', 1)]\n",
    "```\n",
    "After sort the list based on the last element of each item, which is the number in the tuple, the result should be:\n",
    "```\n",
    "[('c', 1), ('b', 2), ('t', 3), ('h', 4), ('m', 5)]\n",
    "```\n",
    "\n",
    "Hints:\n",
    "* [Sort a list with customized key function](https://www.programiz.com/python-programming/methods/list/sort)"
   ]
  },
  {
   "cell_type": "code",
   "execution_count": 24,
   "metadata": {
    "collapsed": false
   },
   "outputs": [
    {
     "name": "stdout",
     "output_type": "stream",
     "text": [
      "[(2, 1), (1, 2), (2, 3), (4, 4), (2, 5)]\n"
     ]
    }
   ],
   "source": [
    "# Read the following code, do you know what it is doing?\n",
    "\n",
    "# what is the type of n? can u make a guess base on the line of 'return n[-1]'?\n",
    "def last(n): \n",
    "    return n[-1]   # what does '-1' mean here?\n",
    "\n",
    "def sort_list_last(tuples):\n",
    "  return sorted(tuples, key=last)   # what does 'key=last' mean here?\n",
    "\n",
    "print(sort_list_last([(2, 5), (1, 2), (4, 4), (2, 3), (2, 1)]))"
   ]
  },
  {
   "cell_type": "markdown",
   "metadata": {},
   "source": [
    "## 5\n",
    "\n",
    "Write a program to concatenate (join) the following dictionaries to create a new one. \n",
    "\n",
    "```\n",
    "Sample Dictionary : \n",
    "dic1={1:10, 2:20} \n",
    "dic2={3:30, 4:40} \n",
    "dic3={5:50, 6:60}\n",
    "Expected Result : {1: 10, 2: 20, 3: 30, 4: 40, 5: 50, 6: 60}\n",
    "```"
   ]
  },
  {
   "cell_type": "code",
   "execution_count": 18,
   "metadata": {
    "collapsed": false
   },
   "outputs": [
    {
     "name": "stdout",
     "output_type": "stream",
     "text": [
      "{1: 10, 2: 20, 3: 30, 4: 40, 5: 50, 6: 60}\n"
     ]
    }
   ],
   "source": [
    "dic1={1:10, 2:20}\n",
    "dic2={3:30, 4:40}\n",
    "dic3={5:50,6:60}\n",
    "dic4 = {}\n",
    "for d in (dic1, dic2, dic3): \n",
    "    dic4.update(d)\n",
    "print(dic4)"
   ]
  },
  {
   "cell_type": "markdown",
   "metadata": {},
   "source": [
    "## 6\n",
    "\n",
    "Make a function, accept a python dictionary, which represents a product catalog as the following\n",
    "```\n",
    "catalog = {'item1': 45.50, 'item2':35, 'item3': 41.30, 'item4':55, 'item5': 24, 'item5': 29.99}\n",
    "```\n",
    "The key in the catalog is the product name, for example, 'item1', 'item2', etc.\n",
    "The value in the catalog is the price of the product, for example, item1 is 45.50 dollars.\n",
    "\n",
    "You function will find the most expensive items in the following python dictionary. Return a new dictionary which contains only one item: the most expensive item. For example:\n",
    "{'item1': 45.50 }\n",
    "\n",
    "Hints:\n",
    "* [Sort a list with customized key function](https://www.programiz.com/python-programming/methods/list/sort)"
   ]
  },
  {
   "cell_type": "code",
   "execution_count": 17,
   "metadata": {
    "collapsed": false
   },
   "outputs": [
    {
     "name": "stdout",
     "output_type": "stream",
     "text": [
      "('item4', 55)\n"
     ]
    }
   ],
   "source": [
    "\n",
    "# this is the customized key funciton for sorting a tuple\n",
    "def getListItemValue(item):\n",
    "    return item[1]\n",
    "\n",
    "# this is the main function that accept a product dictionary and find the most expensive item in it\n",
    "def getMostExpensive(catalog):\n",
    "    items = list(catalog.items()) # this will return a list of tuple [('item1',45.50), ('item2', 35), ...]\n",
    "    # sort item list with the customized key function\n",
    "    items.sort(key=getListItemValue, reverse=True)\n",
    "    \n",
    "    return items[0]\n",
    "# We have our function defined. Now let's test it\n",
    "products = {'item1': 45.50, 'item2':35, 'item3': 41.30, 'item4':55, 'item5': 24, 'item5': 29.99}\n",
    "print(getMostExpensive(products))\n"
   ]
  },
  {
   "cell_type": "markdown",
   "metadata": {},
   "source": [
    "##  7\n",
    "Nicole has 5 books. She marked the books from 1 to 5. Nicole's friends, Andrew (A), Ben (B) and Cynthia (C) want to borrow books from Nicole. \n",
    "Nicole let each of his friends took one book randomly, start from A(Andrew), then B (Ben) then C(Cynthia).\n",
    "Write a program to print out all of the possible unique combinations of the books Nocole's friends can have. Print each combination in a row starts with a sequence number.\n",
    "\n",
    "For example, your program should output like this:\n",
    "No- 1:  A = 1, B = 2, c = 3\n",
    "No- 2:  A = 1, B = 2, c = 4\n",
    "No- 3:  A = 1, B = 2, c = 5\n",
    "...\n",
    "...\n",
    "No-13:  A = 2, B = 1, c = 3\n",
    "No-14:  A = 2, B = 1, c = 4\n",
    "...\n",
    "..."
   ]
  },
  {
   "cell_type": "code",
   "execution_count": 7,
   "metadata": {
    "collapsed": false
   },
   "outputs": [
    {
     "name": "stdout",
     "output_type": "stream",
     "text": [
      "No- 1:  A = 1, B = 2, c = 3\n",
      "No- 2:  A = 1, B = 2, c = 4\n",
      "No- 3:  A = 1, B = 2, c = 5\n",
      "No- 4:  A = 1, B = 3, c = 2\n",
      "No- 5:  A = 1, B = 3, c = 4\n",
      "No- 6:  A = 1, B = 3, c = 5\n",
      "No- 7:  A = 1, B = 4, c = 2\n",
      "No- 8:  A = 1, B = 4, c = 3\n",
      "No- 9:  A = 1, B = 4, c = 5\n",
      "No-10:  A = 1, B = 5, c = 2\n",
      "No-11:  A = 1, B = 5, c = 3\n",
      "No-12:  A = 1, B = 5, c = 4\n",
      "No-13:  A = 2, B = 1, c = 3\n",
      "No-14:  A = 2, B = 1, c = 4\n",
      "No-15:  A = 2, B = 1, c = 5\n",
      "No-16:  A = 2, B = 3, c = 1\n",
      "No-17:  A = 2, B = 3, c = 4\n",
      "No-18:  A = 2, B = 3, c = 5\n",
      "No-19:  A = 2, B = 4, c = 1\n",
      "No-20:  A = 2, B = 4, c = 3\n",
      "No-21:  A = 2, B = 4, c = 5\n",
      "No-22:  A = 2, B = 5, c = 1\n",
      "No-23:  A = 2, B = 5, c = 3\n",
      "No-24:  A = 2, B = 5, c = 4\n",
      "No-25:  A = 3, B = 1, c = 2\n",
      "No-26:  A = 3, B = 1, c = 4\n",
      "No-27:  A = 3, B = 1, c = 5\n",
      "No-28:  A = 3, B = 2, c = 1\n",
      "No-29:  A = 3, B = 2, c = 4\n",
      "No-30:  A = 3, B = 2, c = 5\n",
      "No-31:  A = 3, B = 4, c = 1\n",
      "No-32:  A = 3, B = 4, c = 2\n",
      "No-33:  A = 3, B = 4, c = 5\n",
      "No-34:  A = 3, B = 5, c = 1\n",
      "No-35:  A = 3, B = 5, c = 2\n",
      "No-36:  A = 3, B = 5, c = 4\n",
      "No-37:  A = 4, B = 1, c = 2\n",
      "No-38:  A = 4, B = 1, c = 3\n",
      "No-39:  A = 4, B = 1, c = 5\n",
      "No-40:  A = 4, B = 2, c = 1\n",
      "No-41:  A = 4, B = 2, c = 3\n",
      "No-42:  A = 4, B = 2, c = 5\n",
      "No-43:  A = 4, B = 3, c = 1\n",
      "No-44:  A = 4, B = 3, c = 2\n",
      "No-45:  A = 4, B = 3, c = 5\n",
      "No-46:  A = 4, B = 5, c = 1\n",
      "No-47:  A = 4, B = 5, c = 2\n",
      "No-48:  A = 4, B = 5, c = 3\n",
      "No-49:  A = 5, B = 1, c = 2\n",
      "No-50:  A = 5, B = 1, c = 3\n",
      "No-51:  A = 5, B = 1, c = 4\n",
      "No-52:  A = 5, B = 2, c = 1\n",
      "No-53:  A = 5, B = 2, c = 3\n",
      "No-54:  A = 5, B = 2, c = 4\n",
      "No-55:  A = 5, B = 3, c = 1\n",
      "No-56:  A = 5, B = 3, c = 2\n",
      "No-57:  A = 5, B = 3, c = 4\n",
      "No-58:  A = 5, B = 4, c = 1\n",
      "No-59:  A = 5, B = 4, c = 2\n",
      "No-60:  A = 5, B = 4, c = 3\n"
     ]
    }
   ],
   "source": [
    "count = 0\n",
    "for a in range(1,6):\n",
    "    for b in range(1,6):\n",
    "        if b != a:\n",
    "            for c in range(1,6):\n",
    "                if c != a and c !=b:\n",
    "                    count = count + 1\n",
    "                    print('No-%2d:  A = %d, B = %d, C = %d' % (count, a, b, c))"
   ]
  },
  {
   "cell_type": "markdown",
   "metadata": {},
   "source": [
    "## 8\n",
    "\n",
    "Rabbits can cause big problem. Please read this article:\n",
    "[The Rabbits Problem](https://plus.maths.org/content/fibonacci-sequence-brief-introduction)\n",
    "\n",
    "Alicia received a pair of new born rabbits in January 1, 2016. It only takes one month for a baby rabbits to become a adult rabbit. Then every month they will give birth to a pair of rabbits.\n",
    "\n",
    "How many rabbits will Alicia have by the end of 2017?\n",
    "\n",
    "Write a function called \"rabitCalculator\", which takes the number of months, and return the number of rabbits Alicia have in the end.\n",
    "\n",
    "For example:\n",
    "```\n",
    "    print(rabitCalculator(24))\n",
    "```\n",
    "the above line will print out the number of rabbits that Alicia will have after 24 months, which will be in the end of 2017."
   ]
  },
  {
   "cell_type": "code",
   "execution_count": 7,
   "metadata": {
    "collapsed": false
   },
   "outputs": [
    {
     "name": "stdout",
     "output_type": "stream",
     "text": [
      "input number of months: 3\n",
      "1, 1, 2, \n",
      "Total number of rabits in 3 month is 2\n"
     ]
    }
   ],
   "source": [
    "def rabitCalculator(months):\n",
    "    # Make sure the user has input valid data\n",
    "    if months < 1:\n",
    "        print(\"Month must be an integer bigger than one.\")\n",
    "        return 0\n",
    "    \n",
    "    # Treat the first two months differently since it is very simple\n",
    "    if months == 1:\n",
    "        return 1\n",
    "    elif months == 2:\n",
    "        return 2\n",
    "    \n",
    "    # Now let's calcuate rabbits when the time is more than two months\n",
    "    total = 2 # total number of rabbits\n",
    "    prev = 1  # previous month rabbits\n",
    "    cur = 1   # current month rabbits\n",
    "    print(\"1, 1\", end=', ')    # print the rabbit numbers of the first two months\n",
    "    for i in range(months-2):\n",
    "        next = prev + cur      # next month rabbits base on cur and prev\n",
    "        total = total + next   # undate total rabbits\n",
    "        prev = cur             # update previous month rabbit since one month has passed\n",
    "        cur = next             # update current month rabbit since one month has passed\n",
    "        print(cur, end=\", \")\n",
    "    print()\n",
    "    return cur    \n",
    "\n",
    "m = int(input(\"input number of months: \"))\n",
    "print(\"Total number of rabits in %d month is %d\" % (m, rabitCalculator(m)))"
   ]
  },
  {
   "cell_type": "markdown",
   "metadata": {},
   "source": [
    "## 9\n",
    "Ask the user to input a total row number. Output the following pattern:\n",
    "~~~\n",
    "*\n",
    "**\n",
    "***\n",
    "****\n",
    "*****\n",
    "******\n",
    "*******\n",
    "********\n",
    "~~~"
   ]
  },
  {
   "cell_type": "code",
   "execution_count": null,
   "metadata": {
    "collapsed": true
   },
   "outputs": [],
   "source": [
    "# write your solution at below\n",
    "# first take the user input of total row numbers\n",
    "\n",
    "\n",
    "# Then use a for loop to print out the pattern row by row\n",
    "\n",
    "\n"
   ]
  },
  {
   "cell_type": "markdown",
   "metadata": {},
   "source": [
    "### Try and Learn\n",
    "Please read and run the following code\n",
    "\n",
    "Note: multiplication can be used on a string. See how it works in the following program."
   ]
  },
  {
   "cell_type": "code",
   "execution_count": null,
   "metadata": {
    "collapsed": false
   },
   "outputs": [],
   "source": [
    "rows = int(input(\"Input the row number: \"))\n",
    "for i in range(rows):\n",
    "    row = '*'*(i+1)\n",
    "    print(row)"
   ]
  },
  {
   "cell_type": "markdown",
   "metadata": {},
   "source": [
    "## 10\n",
    "\n",
    "Modify the above code and Output the following pattern:\n",
    "~~~\n",
    "        *\n",
    "       **\n",
    "      ***\n",
    "     ****\n",
    "    *****\n",
    "   ******\n",
    "  *******\n",
    " ********\n",
    "~~~"
   ]
  },
  {
   "cell_type": "code",
   "execution_count": 15,
   "metadata": {
    "collapsed": false
   },
   "outputs": [
    {
     "name": "stdout",
     "output_type": "stream",
     "text": [
      "Input the row number: 8\n",
      "        *\n",
      "       **\n",
      "      ***\n",
      "     ****\n",
      "    *****\n",
      "   ******\n",
      "  *******\n",
      " ********\n"
     ]
    }
   ],
   "source": [
    "rows = int(input(\"Input the row number: \"))\n",
    "for i in range(rows):\n",
    "    stars = '*'*(i+1)\n",
    "    spaces = ' '*(rows - i)\n",
    "    print(spaces + stars)"
   ]
  },
  {
   "cell_type": "markdown",
   "metadata": {},
   "source": [
    "## 11\n",
    "Ask the user to input a total row number. Output the following pattern:\n",
    "~~~\n",
    "        *\n",
    "       ***\n",
    "      *****\n",
    "     *******\n",
    "    *********\n",
    "   ***********\n",
    "  *************\n",
    " ***************\n",
    "~~~\n",
    "\n",
    "Use Google to search anything you need. For example, \"How to Remove a character from string in Python\""
   ]
  },
  {
   "cell_type": "code",
   "execution_count": 12,
   "metadata": {
    "collapsed": false
   },
   "outputs": [
    {
     "name": "stdout",
     "output_type": "stream",
     "text": [
      "Input the row number: 8\n",
      "        *\n",
      "       ***\n",
      "      *****\n",
      "     *******\n",
      "    *********\n",
      "   ***********\n",
      "  *************\n",
      " ***************\n"
     ]
    }
   ],
   "source": [
    "rows = int(input(\"Input the row number: \"))\n",
    "for i in range(rows):\n",
    "    \n",
    "    # the number of stars in a row = rownumber x 2 -1, assume row number starts from 1\n",
    "    stars = '*'*(i+1)*2\n",
    "    #Need remove one start from the stars, there are two ways to do it\n",
    "    #stars = stars[:-1] # method 1: remove from the end\n",
    "    stars = stars[1:]   # method 2: remove from the begining\n",
    "    \n",
    "    # calcuate the number of space infront of the stars on each row\n",
    "    # number_of_space = total_row_number - row_number\n",
    "    spaces = ' '*(rows - i)\n",
    "    \n",
    "    print(spaces + stars)"
   ]
  },
  {
   "cell_type": "markdown",
   "metadata": {},
   "source": [
    "## 12\n",
    "\n",
    "In mathematics an automorphic number (sometimes referred to as a circular number) is a number whose square \"ends\" in the same digits as the number itself. For example, 5x5 = 25, 6x6 = 36, 25x25=625, so 5, 6 and 25 are all automorphic numbers.\n",
    "\n",
    "Write a progra to find out all of the automorphic number under 100,000\n",
    "\n",
    "Hint:\n",
    "You can conver the number to a string, and do string match\n",
    "Google \"python, string slice\""
   ]
  },
  {
   "cell_type": "code",
   "execution_count": 6,
   "metadata": {
    "collapsed": false
   },
   "outputs": [
    {
     "name": "stdout",
     "output_type": "stream",
     "text": [
      "0 \t Value of square:  0\n",
      "1 \t Value of square:  1\n",
      "5 \t Value of square:  25\n",
      "6 \t Value of square:  36\n",
      "25 \t Value of square:  625\n",
      "76 \t Value of square:  5776\n",
      "376 \t Value of square:  141376\n",
      "625 \t Value of square:  390625\n",
      "9376 \t Value of square:  87909376\n",
      "90625 \t Value of square:  8212890625\n"
     ]
    }
   ],
   "source": [
    "for num in range(100000):\n",
    "    sq = num*num\n",
    "    sq_string = str(sq)\n",
    "\n",
    "    num_string = str(num)\n",
    "    sq_string = sq_string[-1*len(num_string):]\n",
    "\n",
    "    if sq_string == num_string:\n",
    "        print(num, '\\t Value of square: ',num*num)\n",
    "    "
   ]
  },
  {
   "cell_type": "code",
   "execution_count": null,
   "metadata": {
    "collapsed": true
   },
   "outputs": [],
   "source": []
  }
 ],
 "metadata": {
  "anaconda-cloud": {},
  "kernelspec": {
   "display_name": "Python [default]",
   "language": "python",
   "name": "python3"
  },
  "language_info": {
   "codemirror_mode": {
    "name": "ipython",
    "version": 3
   },
   "file_extension": ".py",
   "mimetype": "text/x-python",
   "name": "python",
   "nbconvert_exporter": "python",
   "pygments_lexer": "ipython3",
   "version": "3.5.2"
  }
 },
 "nbformat": 4,
 "nbformat_minor": 1
}
