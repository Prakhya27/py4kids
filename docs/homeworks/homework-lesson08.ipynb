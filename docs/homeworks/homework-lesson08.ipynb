{
 "cells": [
  {
   "cell_type": "markdown",
   "metadata": {
    "collapsed": true
   },
   "source": [
    "## 1: Your Weight on the Moon\n",
    "This problem is from your \"Python for Kids\" book\n",
    "\n",
    "If you were standing on the moon right now, your weight would be\n",
    "16.5 percent of what it is on Earth. You can calculate that by multiplying\n",
    "your Earth weight by 0.165.\n",
    "\n",
    "what would your weight be when you visited the moon each year\n",
    "If you gained 2.1 pound in weight every year for the next 15 years?\n",
    "Write a program that prints your moon weight for each year in next 15 years.\n",
    "\n",
    "Your program should contain a function that takes your current weight on earth, your yearly weight gain and the years has passed and return your weight on the moon. For example\n",
    "\n",
    "getMoonWeight(30, 2.1, 8)  # this means your current weight is 30 pounds, your yearly weight gain is 2.1 pounds, and 8 means in eight years. The function getMoonWeight(30, 2.1, 8) will return the total weight on moon after 8 years."
   ]
  },
  {
   "cell_type": "code",
   "execution_count": 20,
   "metadata": {
    "collapsed": false
   },
   "outputs": [
    {
     "name": "stdout",
     "output_type": "stream",
     "text": [
      "What is your current weight?20\n",
      "year 0, your moon weight is 3.3000\n",
      "year 1, your moon weight is 3.6465\n",
      "year 2, your moon weight is 3.9930\n",
      "year 3, your moon weight is 4.3395\n",
      "year 4, your moon weight is 4.6860\n",
      "year 5, your moon weight is 5.0325\n",
      "year 6, your moon weight is 5.3790\n",
      "year 7, your moon weight is 5.7255\n",
      "year 8, your moon weight is 6.0720\n",
      "year 9, your moon weight is 6.4185\n",
      "year 10, your moon weight is 6.7650\n",
      "year 11, your moon weight is 7.1115\n",
      "year 12, your moon weight is 7.4580\n",
      "year 13, your moon weight is 7.8045\n",
      "year 14, your moon weight is 8.1510\n"
     ]
    }
   ],
   "source": [
    "def getMoonWeight(weight, increase, year):\n",
    "    # write your function below\n",
    "\n",
    "    \n",
    "# Your main program starts here\n",
    "currentWeight = int(input(\"What is your current weight?\"))  \n"
   ]
  },
  {
   "cell_type": "markdown",
   "metadata": {},
   "source": [
    "## 2 Write a program runs a math quiz consisting of division problems involving operands between 1 and 100:\n",
    "\n",
    "Use the random function to generate the two division operands. The questions must have integral solutions. \n",
    "\n",
    "* The program first ask the user how many problem he/she wants to solve, then output the problems one by one.\n",
    "* Once the user input the solution, the program check the solution and let the user know if the solution is correct or not. If the solution is incorrect, the correct solution will be print out.\n",
    "\n",
    "After the user finish the quiz, print out the following information:\n",
    "   * how many solutions of the total problems are correct.\n",
    "   * total time in seconds the user used for solving the 5 problems\n",
    "For example, if the user choose to solve 10 problems, the output will look like this: \"You've used 20 seconds, your score is 8/10\"\n",
    "   \n",
    "You must write at least two customized function"
   ]
  },
  {
   "cell_type": "code",
   "execution_count": 13,
   "metadata": {
    "collapsed": false
   },
   "outputs": [
    {
     "name": "stdout",
     "output_type": "stream",
     "text": [
      "How many problems do you want to solve?2\n",
      "What's 54 divided by 18? 3\n",
      "That's right -- well done.\n",
      "\n",
      "What's 88 divided by 22? 5\n",
      "No, I'm afraid the answer is 4.\n",
      "It took you 5 seconds to finish the quiz. You score is 1/2.\n",
      "Good-bye!\n"
     ]
    }
   ],
   "source": [
    "from random import randint \n",
    "import time\n",
    "\n",
    "\n"
   ]
  },
  {
   "cell_type": "markdown",
   "metadata": {},
   "source": [
    "## 3-a Prepare a file for your homework\n",
    "\n",
    "Run the following code. You only need to run once. It should create a file named 'whitman_poem.txt' for you.\n",
    "After you have run the following code, continue to the next section"
   ]
  },
  {
   "cell_type": "code",
   "execution_count": 36,
   "metadata": {
    "collapsed": true
   },
   "outputs": [],
   "source": [
    "f = open('whitman_poem.txt', 'w')\n",
    "\n",
    "f.write('''O CAPTAIN! my Captain! our fearful trip is done;\n",
    "The ship has weather'd every rack, the prize we sought is won;\n",
    "The port is near, the bells I hear, the people all exulting,\n",
    "While follow eyes the steady keel, the vessel grim and daring:\n",
    "But O heart! heart! heart!\n",
    "O the bleeding drops of red,\n",
    "Where on the deck my Captain lies,\n",
    "Fallen cold and dead.\n",
    "\n",
    "\n",
    "O Captain, my Captain! rise up and hear the bells;\n",
    "Rise up--for you the flag is flung--for you the bugle trills;\n",
    "For you bouquets and ribbon'd wreaths--for you the shores a-crowding;\n",
    "For you they call, the swaying mass, their eager faces turning;\n",
    "Here Captain! dear father!\n",
    "This arm beneath your head;\n",
    "It is some dream that on the deck,\n",
    "You've fallen cold and dead.\n",
    "\n",
    "\n",
    "My Captain does not answer, his lips are pale and still;\n",
    "My father does not feel my arm, he has no pulse nor will;\n",
    "The ship is anchor'd safe and sound, its voyage closed and done;\n",
    "From fearful trip, the victor ship, comes in with object won;\n",
    "Exult, O shores, and ring, O bells!\n",
    "But I, with mournful tread,\n",
    "Walk the deck my Captain lies,\n",
    "Fallen cold and dead.''')\n",
    "\n",
    "f.close()\n"
   ]
  },
  {
   "cell_type": "markdown",
   "metadata": {},
   "source": [
    "## 3-b File Reading and Literary Analysis\n",
    "\n",
    "Write a program that will take a text file as input, then count the number of occurances of each word in the file, and return a report listing the top 10 words that appeared the most in the article. \n",
    "\n",
    "<b>Note: Skip short words - Any words that have less than or equal to 3 characters are not counted. </b>\n",
    "\n",
    "Programming Reference links, click them to see details:\n",
    "\n",
    "* [replace a character in a string](https://www.tutorialspoint.com/python/string_replace.htm)\n",
    "* [split sentences into words](https://www.tutorialspoint.com/python/string_split.htm)\n",
    "* [how to convert a dictionary to a list of tuples](https://stackoverflow.com/questions/674519/how-can-i-convert-a-python-dictionary-to-a-list-of-tuples)\n",
    "* [how to sort a list of tuples](https://stackoverflow.com/questions/3121979/how-to-sort-list-tuple-of-lists-tuples)\n",
    "\n",
    "\n",
    "FYI: this is my output of the top 10 words, using the file of in section 3-a.\n",
    "```\n",
    "('Captain', 7)\n",
    "('heart', 3)\n",
    "('bells', 3)\n",
    "('cold', 3)\n",
    "('dead', 3)\n",
    "('deck', 3)\n",
    "('ship', 3)\n",
    "('fearful', 2)\n",
    "('hear', 2)\n",
    "('does', 2)\n",
    "```\n",
    "If you have no clue how to solve the problem, read the following tips. If you know what you are doing, skip the tips.\n",
    "\n",
    "Tips:\n",
    "\n",
    "* Read the file into a string variable\n",
    "* You may need to replace all of the non alphabetic characters (like: ',' '.' '-' '!' '\\'') with an empty string.\n",
    "* You may need to create a list by splitting string into words, using space character\n",
    "* You may need to create a dictionary. We've learned a dictionary contains {Key:Value} pairs in it. \n",
    "  - strip any extra space from the english word\n",
    "  - with the English word as a key, and the times that word appears in the article as the value.\n",
    "  - for each English word that is <b>longer than 3 characters</b>, look it up in the dictionary, if it is not in the dictionary, add the word in dictionary with the English word as the key and value as 1\n",
    "  - If it is in the dictionary, add 1 to the value of the key (which is the English word)\n",
    "* convert the dictionary to list\n",
    "* sort the list in <b>decedent order</b>\n",
    "* print out the first 10 items in the list since we only need the top 10 most used words.\n",
    "\n",
    "<b>You must write at least two customized function</b> For example, one function for cleaning the text, one for the literary analysis.\n"
   ]
  },
  {
   "cell_type": "code",
   "execution_count": 11,
   "metadata": {
    "collapsed": false
   },
   "outputs": [
    {
     "name": "stdout",
     "output_type": "stream",
     "text": [
      "O CAPTAIN! my Captain! our fearful trip is done;\n",
      "The ship has weather'd every rack, the prize we sought is won;\n",
      "The port is near, the bells I hear, the people all exulting,\n",
      "While follow eyes the steady keel, the vessel grim and daring:\n",
      "But O heart! heart! heart!\n",
      "O the bleeding drops of red,\n",
      "Where on the deck my Captain lies,\n",
      "Fallen cold and dead.\n",
      "\n",
      "\n",
      "O Captain, my Captain! rise up and hear the bells;\n",
      "Rise up--for you the flag is flung--for you the bugle trills;\n",
      "For you bouquets and ribbon'd wreaths--for you the shores a-crowding;\n",
      "For you they call, the swaying mass, their eager faces turning;\n",
      "Here Captain! dear father!\n",
      "This arm beneath your head;\n",
      "It is some dream that on the deck,\n",
      "You've fallen cold and dead.\n",
      "\n",
      "\n",
      "My Captain does not answer, his lips are pale and still;\n",
      "My father does not feel my arm, he has no pulse nor will;\n",
      "The ship is anchor'd safe and sound, its voyage closed and done;\n",
      "From fearful trip, the victor ship, comes in with object won;\n",
      "Exult, O shores, and ring, O bells!\n",
      "But I, with mournful tread,\n",
      "Walk the deck my Captain lies,\n",
      "Fallen cold and dead.\n",
      "\n",
      "('Captain', 7)\n",
      "('heart', 3)\n",
      "('bells', 3)\n",
      "('cold', 3)\n",
      "('dead', 3)\n",
      "('deck', 3)\n",
      "('ship', 3)\n",
      "('fearful', 2)\n",
      "('hear', 2)\n",
      "('does', 2)\n"
     ]
    }
   ],
   "source": [
    "\"\"\" \n",
    "    define a function that replace all of the non-alphabetic characters with space\n",
    "    Input: a String\n",
    "    Output: a String with only alphabetic characters and space\n",
    "\n",
    "\"\"\"\n",
    "# Write your function here\n",
    "\n",
    "\n",
    "\n",
    "\"\"\" \n",
    "    define a function that counts the occurance of each English words\n",
    "    Input: a String\n",
    "    Output: a list that each item in the list is a tuple of (string, int), where 'string' is the English word, \n",
    "        the 'int' is the number of times the English word occurred in the essay. \n",
    "        This is the list from the dictionary.items()\n",
    "        THis list should be sorted in decending order based on the 'int' value of the tuple.\n",
    "\n",
    "\"\"\"\n",
    "# Write your function here\n",
    "\n",
    "\n",
    "\n",
    "# the main program\n",
    "# read the file created in 3-a\n",
    "# clean the file remove non-alphabetical characters\n",
    "# do the word analysis\n",
    "\n",
    "\n",
    "\n",
    "\n",
    "    "
   ]
  },
  {
   "cell_type": "markdown",
   "metadata": {
    "collapsed": true
   },
   "source": [
    "## 4. Recursive Function (Optional)\n",
    "\n",
    "Do your own research to find out what is a \"Recursive Function\"\n",
    "for example, here is one:\n",
    "https://www.programiz.com/python-programming/recursion\n",
    "\n",
    "\n",
    "\n",
    "We can determine how many digits a positive integer has by repeatedly dividing by 10 (without keeping the remainder) until the number is less than 10, consisting of only 1 digit. We add 1 to this value for each time we divided by 10. Here is the recursive algorithm:\n",
    "\n",
    "*  If n < 10 return 1.\n",
    "*  Otherwise, return 1 + the number of digits in n/10 (ignoring the fractional part).\n",
    "\n",
    "Write a program, by using a recursive function, to accept a positive number that a user input and output how many digits the number has. "
   ]
  },
  {
   "cell_type": "code",
   "execution_count": 22,
   "metadata": {
    "collapsed": false
   },
   "outputs": [
    {
     "name": "stdout",
     "output_type": "stream",
     "text": [
      "Please input a positive number: 234567\n",
      "There are totally 6 digits in the number of 234567\n"
     ]
    }
   ],
   "source": [
    "def countDigits(number):\n",
    "    # write your function here\n",
    "    \n",
    "    \n",
    "    \n",
    "num = int(input('Please input a positive number: '))\n",
    "digits = countDigits(num)\n",
    "print('There are totally %d digits in the number of %d' % (digits, num))"
   ]
  },
  {
   "cell_type": "code",
   "execution_count": null,
   "metadata": {
    "collapsed": true
   },
   "outputs": [],
   "source": []
  }
 ],
 "metadata": {
  "anaconda-cloud": {},
  "kernelspec": {
   "display_name": "Python [default]",
   "language": "python",
   "name": "python3"
  },
  "language_info": {
   "codemirror_mode": {
    "name": "ipython",
    "version": 3
   },
   "file_extension": ".py",
   "mimetype": "text/x-python",
   "name": "python",
   "nbconvert_exporter": "python",
   "pygments_lexer": "ipython3",
   "version": "3.5.2"
  }
 },
 "nbformat": 4,
 "nbformat_minor": 1
}
