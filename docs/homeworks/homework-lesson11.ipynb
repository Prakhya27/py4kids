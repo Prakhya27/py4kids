{
 "cells": [
  {
   "cell_type": "markdown",
   "metadata": {},
   "source": [
    "## Help the Bank\n",
    "\n",
    "A bank has a monthly interest rate at 0.63%. Ben plans to save his money to this bank. He save the money on January 1st and he plans to withdrow \\$1000 on every December 31st in the next 5 years. In the 5th year, after he withdraw \\$1000 from his bank account, there should be no money left in the account. Write a program to calculate how much money Ben should deposit to his bank account at the very begining in order for Ben to do that. Rounded your result to the nearest dollars.\n",
    "\n",
    "Required in your solution: Your solution should contain at least one function.\n",
    "\n",
    "Hints:\n",
    "```\n",
    "1)\n",
    "after first month, money = deposit x (1+0.63%) = deposit x 1.0063\n",
    "after second month, money = (deposit x 1.0063) x 1.0063 \n",
    "                          = deposit x 1.063 x 1.063 \n",
    "                          = deposit x 1.0063**2\n",
    "after third month,  money = deposit x 1.0063**3\n",
    " ...   ... ... ...\n",
    "    after a year,   money = deposit x 1.0063**12\n",
    "   \n",
    "2) \n",
    "If Ben deposit $5000, He will definiteily has some money left after the 5th withdraw because the interests he earned. So the solution should not be more than $5000.\n",
    "\n",
    "```"
   ]
  },
  {
   "cell_type": "code",
   "execution_count": 18,
   "metadata": {
    "collapsed": false
   },
   "outputs": [
    {
     "name": "stdout",
     "output_type": "stream",
     "text": [
      "Ben should deposite $4011 at the very begining.\n"
     ]
    }
   ],
   "source": [
    "# write your solution at below\n",
    "\n",
    "\n",
    "\n"
   ]
  },
  {
   "cell_type": "markdown",
   "metadata": {},
   "source": [
    "## We like noodles\n",
    "\n",
    "In Panda's noodle restraurant, a beef noodle cost \\$7, a veggie noodle cost \\$6, a kid's noodle cost \\$3. A Python study group <b>of 10 students</b> had a dinner in Panda's restraurant. They bought totally \\$50 of noodles. Write a program to find out how many beef noodle, veggie noodle and kid's noodle they ordered."
   ]
  },
  {
   "cell_type": "code",
   "execution_count": 47,
   "metadata": {
    "collapsed": false
   },
   "outputs": [
    {
     "name": "stdout",
     "output_type": "stream",
     "text": [
      "beef: 2  vegi:  4  kid': 4\n",
      "beef: 5  vegi:  0  kid': 5\n"
     ]
    }
   ],
   "source": [
    "# write your solution at below\n",
    "\n",
    "\n",
    "\n"
   ]
  },
  {
   "cell_type": "markdown",
   "metadata": {},
   "source": [
    "## How to serve salards?\n",
    "\n",
    "There are 15 dishes of BBQ porks and 15 dishes of salards. All of the dishes are arranged in a circle, one after another, on a rotating platform of a machine. \n",
    "\n",
    "A dish serving robot will pick the dishes based on the following rules:\n",
    "* the robot will count dishes one by one, unitl it rearches the 9th dish. The 9th dish will be served.\n",
    "* after serving the dish, the robot will start to count the dishes from the next dish after the dish just served. Again, the 9th dish will be served. This will repeat again and again until all of the dishes have been served.\n",
    "* if in a position, the dish has been served, it will not be counted. The robot will skip the empty position and only count the positin that has dishes.\n",
    "\n",
    "Again, as we described before, There are 15 dishes of BBQ porks and 15 dishes of salards. All of the dishes are arranged in a circle. <b>One day, you are asked to serve 15 vegetarians. How do you arrange the dishes in the circle so that the robot will pick up 15 salard dishes continuously in the circle without serving any BBQ dishes?</b>\n",
    "\n",
    "Hint:\n",
    "* it is a circle, There is no data structure in Python that put data in a circle. So if you use a list to store the 30 dishes, when you count to the end of the list, you need to move back to the begining of the list. this can be done by using mod operator: index%(length of the list)\n",
    "* [Mod operator in Python](https://stackoverflow.com/questions/4432208/how-does-work-in-python)\n",
    "* [to remove an item in a list](https://stackoverflow.com/questions/627435/how-to-remove-an-element-from-a-list-by-index-in-python)\n",
    "* You need to print out the position index of each salad dish in a python list of 30 items.\n"
   ]
  },
  {
   "cell_type": "code",
   "execution_count": 1,
   "metadata": {
    "collapsed": false
   },
   "outputs": [
    {
     "name": "stdout",
     "output_type": "stream",
     "text": [
      "Note: Position starts from 0\n",
      "Dish- 1  Position:  8\n",
      "Dish- 2  Position:  17\n",
      "Dish- 3  Position:  26\n",
      "Dish- 4  Position:  5\n",
      "Dish- 5  Position:  15\n",
      "Dish- 6  Position:  25\n",
      "Dish- 7  Position:  6\n",
      "Dish- 8  Position:  18\n",
      "Dish- 9  Position:  29\n",
      "Dish- 10  Position:  11\n",
      "Dish- 11  Position:  23\n",
      "Dish- 12  Position:  7\n",
      "Dish- 13  Position:  21\n",
      "Dish- 14  Position:  4\n",
      "Dish- 15  Position:  22\n"
     ]
    }
   ],
   "source": [
    "# write your solution at below\n",
    "\n",
    "\n",
    "\n",
    "\n",
    "\n"
   ]
  },
  {
   "cell_type": "markdown",
   "metadata": {
    "collapsed": true
   },
   "source": [
    "## Extending the RPG Game\n",
    "\n",
    "The following program is a old style RPG game before computer graphics were invented. You type in command to nevigate in the game world. You can pick up useful items. You can use an item against an enemy. You can go in four directions. The game will finish when you type in \"exit\".\n",
    "\n",
    "Your tasks:\n",
    "* Run the following python RPG game.\n",
    "* Read the program and try to understand its data structure of the rooms\n",
    "* Extend the game by adding 3 rooms.\n",
    "* <b>(Optional)</b> adding more ways of playing the game. For example, let the user to use a key to open a room. \n",
    "\n",
    "<b>Note: The room data structure is very important to this game. Please take a close look of its structure and how the data item in room was referenced in the program.</b> "
   ]
  },
  {
   "cell_type": "code",
   "execution_count": null,
   "metadata": {
    "collapsed": false
   },
   "outputs": [
    {
     "name": "stdout",
     "output_type": "stream",
     "text": [
      "\n",
      "         RPG Game\n",
      "Haunted House: the lost diamond\n",
      "========\n",
      "Game commands:\n",
      "  go [direction]  # navigate in the house. for example: go south\n",
      "  get [item]      # pick up something. for example: get hammer\n",
      "  use [item]      # use something against an enemy. for example: use hammer\n",
      "  exit            # exit the game\n",
      "Game goal:\n",
      "    Find the lost diamond.\n",
      "\n",
      "---------------------------\n",
      "You are in the Hall\n",
      "Your Tressure Box : []\n",
      "You see a ['key']\n",
      "---------------------------\n",
      ">go south\n",
      "\n",
      "         RPG Game\n",
      "Haunted House: the lost diamond\n",
      "========\n",
      "Game commands:\n",
      "  go [direction]  # navigate in the house. for example: go south\n",
      "  get [item]      # pick up something. for example: get hammer\n",
      "  use [item]      # use something against an enemy. for example: use hammer\n",
      "  exit            # exit the game\n",
      "Game goal:\n",
      "    Find the lost diamond.\n",
      "\n",
      "---------------------------\n",
      "You are in the Kitchen\n",
      "Your Tressure Box : []\n",
      "You see a ['kinef', 'plate']\n",
      "You see a mouse in a box\n",
      "---------------------------\n"
     ]
    }
   ],
   "source": [
    "\n",
    "def showInstructions():\n",
    "  #print a main menu and the commands\n",
    "  print('''\n",
    "         RPG Game\n",
    "Haunted House: the lost diamond\n",
    "========\n",
    "Game commands:\n",
    "  go [direction]  # navigate in the house. for example: go south\n",
    "  get [item]      # pick up something. for example: get hammer\n",
    "  use [item]      # use something against an enemy. for example: use hammer\n",
    "  exit            # exit the game\n",
    "Game goal:\n",
    "    Find the lost diamond.\n",
    "''')\n",
    "\n",
    "def showStatus():\n",
    "  #print the player's current status\n",
    "  print('---------------------------')\n",
    "  print('You are in the ' + currentRoom)\n",
    "  #print the current inventory\n",
    "  print('Your Tressure Box : ' + str(inventory))\n",
    "  #print an item if there is one\n",
    "  if \"item\" in rooms[currentRoom]:\n",
    "    print('You see a ' + str(rooms[currentRoom]['item']))\n",
    "  #print any enemy in the room\n",
    "  if \"Enemy\" in rooms[currentRoom]:\n",
    "    print('You see a ' + str(rooms[currentRoom]['Enemy'][0]))\n",
    "  print(\"---------------------------\")\n",
    "\n",
    "#an inventory, which is initially empty\n",
    "inventory = []\n",
    "\n",
    "#a dictionary linking a room to other rooms\n",
    "rooms = {\n",
    "\n",
    "            'Hall' : { \n",
    "                  'south' : 'Kitchen',\n",
    "                  'west'  : 'Bedroom',\n",
    "                  'east'  : 'Office',\n",
    "                  'item' : ['key']\n",
    "                },\n",
    "\n",
    "            'Kitchen' : {\n",
    "                  'north' : 'Hall',\n",
    "                  'south' : 'Garden',\n",
    "                  'east' :  'Bedroom',\n",
    "                  'west' :  'Office',\n",
    "                  'item' : ['kinef', 'plate'],\n",
    "                  'Enemy' : ('A mouse in a box','hammer')               \n",
    "                },\n",
    "            'Bedroom' : { \n",
    "                  'west' : 'Kitchen',\n",
    "                  'east' : 'Hall',\n",
    "                  'item' : ['pillow']\n",
    "                },\n",
    "            'Office' : { \n",
    "                  'east' : 'Kitchen',\n",
    "                  'west' : 'Hall'\n",
    "                },\n",
    "            'Garden' : {\n",
    "                'north' : 'Kitchen',\n",
    "                'south' : 'DogHouse',\n",
    "                'item' : ['hammer']\n",
    "                },\n",
    "            'DogHouse' : {\n",
    "                'north' : 'Garden',\n",
    "                'Enemy' : ('Monster','')\n",
    "                }\n",
    "         }\n",
    "\n",
    "#start the player in the Hall\n",
    "currentRoom = 'Hall'\n",
    "\n",
    "#showInstructions()\n",
    "\n",
    "#loop forever\n",
    "while True:\n",
    "\n",
    "  showInstructions()\n",
    "  showStatus()\n",
    "  \n",
    "  if  \"Enemy\" in rooms[currentRoom]:\n",
    "      if rooms[currentRoom]['Enemy'][0] == 'Monster':\n",
    "          print('You are eaten by a Monster.\\nGame is over. Good luck next time!')\n",
    "          break\n",
    "\n",
    "  #get the player's next 'move'\n",
    "  \n",
    "  move = ''\n",
    "  # only leave the loop until the user has entered something\n",
    "  while move == '':  \n",
    "    move = input('>')\n",
    "    \n",
    "  #.split() breaks it up into an list array\n",
    "  #eg typing 'go east' would give the list:\n",
    "  #['go','east']\n",
    "  move = move.lower().split()\n",
    "\n",
    "  #if they type 'go' first\n",
    "  if move[0] == 'go' and len(move) > 1:\n",
    "    #check that they are allowed wherever they want to go\n",
    "    if move[1] in rooms[currentRoom]:\n",
    "      #set the current room to the new room\n",
    "      currentRoom = rooms[currentRoom][move[1]]\n",
    "    #there is no door (link) to the new room\n",
    "    else:\n",
    "        print('You can\\'t go that way!')\n",
    "\n",
    "  #if they type 'get' first\n",
    "  if move[0] == 'get' and len(move) > 1:\n",
    "    #if the room contains an item, and the item is the one they want to get\n",
    "    if \"item\" in rooms[currentRoom] and move[1] in rooms[currentRoom]['item']:\n",
    "      #add the item to their inventory\n",
    "      inventory.append(move[1])\n",
    "      #display a helpful message\n",
    "      print(move[1] + ' got!')\n",
    "      #delete the item from the room\n",
    "      rooms[currentRoom]['item'].remove(move[1])\n",
    "      if len(rooms[currentRoom]['item']) == 0:\n",
    "          del rooms[currentRoom]['item']\n",
    "    #otherwise, if the item isn't there to get\n",
    "    else:\n",
    "      #tell them they can't get it\n",
    "      print('Can\\'t get ' + move[1] + '!')\n",
    "\n",
    "  # if they type 'use' first\n",
    "  if move[0] == 'use' and len(move) > 1:\n",
    "    # check if the room contains  a enemy and\n",
    "    # check enemy tuple to see if the item used is effective or not\n",
    "    if 'Enemy' in rooms[currentRoom] and rooms[currentRoom]['Enemy'][1] == move[1]:\n",
    "        print('Good Job! You just kill a %s' % rooms[currentRoom]['Enemy'][0])\n",
    "        print('You just found a diamond in the box where the mouse hide!')\n",
    "        inventory.append('Diamond')\n",
    "    else:\n",
    "        print('Sorry, use %s has no effect.' % move[1])\n",
    "        \n",
    "  # if input is 'exit'\n",
    "  if move[0] == 'exit':\n",
    "    if 'Diamond' in inventory:\n",
    "        print('You found the diamond. You won!')\n",
    "    else:\n",
    "        print('You have not found the diamond. Mission aborted.')\n",
    "    print('Game is over')\n",
    "    break\n",
    "          \n",
    "print('------------------------')"
   ]
  },
  {
   "cell_type": "code",
   "execution_count": null,
   "metadata": {
    "collapsed": true
   },
   "outputs": [],
   "source": []
  }
 ],
 "metadata": {
  "anaconda-cloud": {},
  "kernelspec": {
   "display_name": "Python [default]",
   "language": "python",
   "name": "python3"
  },
  "language_info": {
   "codemirror_mode": {
    "name": "ipython",
    "version": 3
   },
   "file_extension": ".py",
   "mimetype": "text/x-python",
   "name": "python",
   "nbconvert_exporter": "python",
   "pygments_lexer": "ipython3",
   "version": "3.5.2"
  }
 },
 "nbformat": 4,
 "nbformat_minor": 1
}
