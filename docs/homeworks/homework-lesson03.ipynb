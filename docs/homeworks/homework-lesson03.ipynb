{
 "cells": [
  {
   "cell_type": "markdown",
   "metadata": {
    "collapsed": true
   },
   "source": [
    "### Homework1 from Text Book\n",
    "\n",
    "\n",
    "### The follow programming puzzles are listed at the end of Chapter 3 (page 41-42) of Python for Kids"
   ]
  },
  {
   "cell_type": "markdown",
   "metadata": {
    "collapsed": true
   },
   "source": [
    "### 1A: Favorites\n",
    "Make a list of your favorite hobbies and give the list the variable\n",
    "name games. Now make a list of your favorite foods and name the\n",
    "variable foods. Join the two lists and name the result favorites.\n",
    "Finally, print the variable favorites."
   ]
  },
  {
   "cell_type": "code",
   "execution_count": null,
   "metadata": {
    "collapsed": false
   },
   "outputs": [],
   "source": []
  },
  {
   "cell_type": "markdown",
   "metadata": {
    "collapsed": true
   },
   "source": [
    "### 1B: Counting Combatants\n",
    "If there are 3 buildings with 25 ninjas hiding on each roof and\n",
    "2 tunnels with 40 samurai hiding inside each tunnel, how many\n",
    "ninjas and samurai are about to do battle? (You can do this with\n",
    "one equation in the Python shell.)"
   ]
  },
  {
   "cell_type": "code",
   "execution_count": null,
   "metadata": {
    "collapsed": false
   },
   "outputs": [],
   "source": []
  },
  {
   "cell_type": "markdown",
   "metadata": {},
   "source": [
    "### 1C: Greetings!\n",
    "Create two variables: one that points to your first name and\n",
    "one that points to your last name. Now create a string and use\n",
    "placeholders to print your name with a message using those two\n",
    "variables, such as “Hi there, Brando Ickett!”"
   ]
  },
  {
   "cell_type": "code",
   "execution_count": null,
   "metadata": {
    "collapsed": false
   },
   "outputs": [],
   "source": []
  },
  {
   "cell_type": "markdown",
   "metadata": {},
   "source": [
    "## Homework2\n",
    "\n",
    "### Read:  [Python String Literals](https://docs.python.org/2.0/ref/strings.html)\n",
    "\n",
    "Try the following code and find the meaning of \"\\n\\t\". "
   ]
  },
  {
   "cell_type": "code",
   "execution_count": 2,
   "metadata": {
    "collapsed": false
   },
   "outputs": [
    {
     "name": "stdout",
     "output_type": "stream",
     "text": [
      "Twinkle, twinkle, little star, \n",
      "\tHow I wonder what you are! \n"
     ]
    }
   ],
   "source": [
    "print(\"Twinkle, twinkle, little star, \\n\\tHow I wonder what you are!\")"
   ]
  },
  {
   "cell_type": "markdown",
   "metadata": {},
   "source": [
    "### Homework3\n",
    "\n",
    "Write a Python program to display the first and last colors from the following list.\n",
    "\n",
    "color_list = [\"Red\",\"Green\",\"White\" ,\"Black\", \"Blue\", \"Grey\", \"Orange\"]"
   ]
  },
  {
   "cell_type": "code",
   "execution_count": null,
   "metadata": {
    "collapsed": false
   },
   "outputs": [],
   "source": []
  },
  {
   "cell_type": "markdown",
   "metadata": {},
   "source": [
    "color_list = [\"Red\",\"Green\",\"White\" ,\"Black\", \"Blue\", \"Grey\", \"Orange\"]\n",
    "\n",
    "How to print out the last element of an list without counting the number of elements in an array? \n",
    "[hint](https://www.programiz.com/python-programming/list)\n",
    "\n",
    "How about print the third from the last element of an list?\n",
    "\n",
    "write your program below using the color_list above."
   ]
  },
  {
   "cell_type": "code",
   "execution_count": 8,
   "metadata": {
    "collapsed": false
   },
   "outputs": [
    {
     "name": "stdout",
     "output_type": "stream",
     "text": [
      "Orange\n",
      "Blue\n",
      "Length of the list is 7\n"
     ]
    }
   ],
   "source": [
    "color_list = [\"Red\",\"Green\",\"White\" ,\"Black\", \"Blue\", \"Grey\", \"Orange\"]\n",
    "# print last item in list\n",
    "\n",
    "\n",
    "# print the 3rd from the last element of an list\n",
    "\n",
    "\n",
    "# print the total item count of a list\n"
   ]
  },
  {
   "cell_type": "markdown",
   "metadata": {},
   "source": [
    "### Homework4 Slice List\n",
    "\n",
    "my_list = ['p','r','o','g','r','a','m','i','z']\n",
    "\n",
    "* show the items from index position 3 up to (but not including) index position 6\n",
    "* append '1' to the list, then print the list\n",
    "* add ['1', '2', '3', '4'] to the list, , then print the list\n",
    "* remove '2' from the list, then print the list\n",
    "* delete every item after index 5 \n",
    "\n",
    "Hint: Google \"Python List (With Examples)\"\n"
   ]
  },
  {
   "cell_type": "code",
   "execution_count": 29,
   "metadata": {
    "collapsed": false
   },
   "outputs": [
    {
     "name": "stdout",
     "output_type": "stream",
     "text": [
      "['g', 'r', 'a']\n",
      "['p', 'r', 'o', 'g', 'r', 'a', 'm', 'i', 'z', '1']\n",
      "['p', 'r', 'o', 'g', 'r', 'a', 'm', 'i', 'z', '1', '1', '2', '3', '4']\n",
      "['p', 'r', 'g', 'r', 'a', 'm', 'i', 'z', '1', '1', '2', '3', '4']\n",
      "sorted list ['1', '1', '2', '3', '4', 'a', 'g', 'i', 'm', 'p', 'r', 'r', 'z']\n",
      "['1', '1', '2', '3', '4']\n"
     ]
    }
   ],
   "source": [
    "my_list = ['p','r','o','g','r','a','m','i','z']\n",
    "# Write your code below:\n",
    "# show the items from index position 3 up to (but not including) index position 6\n",
    "\n",
    "# append '1' to the list, then print the list\n",
    "\n",
    "print(my_list)\n",
    "# add ['1', '2', '3', '4'] to the list, , then print the list\n",
    "\n",
    "print(my_list)\n",
    "# remove 'o' from the list, then print the list\n",
    "\n",
    "print(my_list)\n",
    "# sort the list\n",
    "\n",
    "print(\"sorted list %s\" % my_list)\n",
    "\n",
    "# delete every item after index 5 (hint: find the length of list)\n",
    "\n",
    "print(my_list)"
   ]
  },
  {
   "cell_type": "markdown",
   "metadata": {},
   "source": []
  },
  {
   "cell_type": "markdown",
   "metadata": {
    "collapsed": true
   },
   "source": [
    "## Optional Homework \n",
    "\n",
    "You can go home now. Do the following homework at home if you have extra time."
   ]
  },
  {
   "cell_type": "markdown",
   "metadata": {},
   "source": [
    "### No Python programmers can remember all of the Pyton buildin functions. Using Google to search for the Python functions is very important for Python developers. The following problems are all related to Python string, list and dictionary we just learned in the class. However, we may not cover all of them in our class. Can you find out what functions can be used to solve these problems?"
   ]
  },
  {
   "cell_type": "code",
   "execution_count": null,
   "metadata": {
    "collapsed": true
   },
   "outputs": [],
   "source": [
    "### Extra homework1\n",
    "\n",
    "Output the following sentence:\n",
    "\n",
    "A method is like a function, but it runs \"on\" an object."
   ]
  },
  {
   "cell_type": "code",
   "execution_count": 30,
   "metadata": {
    "collapsed": false
   },
   "outputs": [
    {
     "name": "stdout",
     "output_type": "stream",
     "text": [
      "A method is like a function, but it runs \"on\" an object.\n"
     ]
    }
   ],
   "source": []
  },
  {
   "cell_type": "markdown",
   "metadata": {},
   "source": [
    "### Extra homework2\n",
    "\n",
    "Convert the following sentence into all lower case:\n",
    "\n",
    "A method is like a function, but it runs \"on\" an object.\n",
    "\n",
    "result: a method is like a function, but it runs \"on\" an object."
   ]
  },
  {
   "cell_type": "code",
   "execution_count": 31,
   "metadata": {
    "collapsed": false
   },
   "outputs": [
    {
     "name": "stdout",
     "output_type": "stream",
     "text": [
      "a method is like a function, but it runs \"on\" an object.\n"
     ]
    }
   ],
   "source": [
    "input = '''A method is like a function, but it runs \"on\" an object.'''\n",
    "                # <--  complete this line with string function convert to lower case\n",
    "print(output)"
   ]
  },
  {
   "cell_type": "markdown",
   "metadata": {},
   "source": [
    "### Extra homework3\n",
    "\n",
    "replace the '7' in the following sentence with the word of 'seven':\n",
    "\n",
    "A week has 7 days.\n",
    "\n",
    "Your output should be:\n",
    "\n",
    "A week has seven days.\n"
   ]
  },
  {
   "cell_type": "code",
   "execution_count": 32,
   "metadata": {
    "collapsed": false
   },
   "outputs": [
    {
     "name": "stdout",
     "output_type": "stream",
     "text": [
      "A week has seven days.\n"
     ]
    }
   ],
   "source": [
    "str = \"A week has 7 days.\"\n",
    "# insert your code here, replace 7 with seven.\n",
    "\n",
    "\n",
    "print(str)\n"
   ]
  },
  {
   "cell_type": "markdown",
   "metadata": {},
   "source": [
    "### Extra homework4\n",
    "\n",
    "Given the following string of a telephone number:\n",
    "(919)212-6789\n",
    "Please convert the above phone numbers to a string that only contains digits and then output the length of the number string.\n",
    "\n",
    "Note: the length of the string should be 10"
   ]
  },
  {
   "cell_type": "code",
   "execution_count": 39,
   "metadata": {
    "collapsed": false
   },
   "outputs": [
    {
     "name": "stdout",
     "output_type": "stream",
     "text": [
      "9192126789\n",
      "length= 10\n"
     ]
    }
   ],
   "source": [
    "tel = \" (919)212-6789 \"\n",
    "# insert your code here\n",
    "\n",
    "\n",
    "print(tel)\n",
    "print(\"length= %s\" % len(tel))"
   ]
  },
  {
   "cell_type": "markdown",
   "metadata": {},
   "source": [
    "### Extra homework5\n",
    "\n",
    "Convert the following string to a list of string, each item in the list contains only one word.\n",
    "\n",
    "\"Monday, Tuesday, Wednesday, Thursday, Friday, Saturday, Sunday\"\n",
    "\n",
    "You output should be:\n",
    "\n",
    "['Monday', ' Tuesday', ' Wednesday', ' Thursday', ' Friday', ' Saturday', ' Sunday']"
   ]
  },
  {
   "cell_type": "code",
   "execution_count": 35,
   "metadata": {
    "collapsed": false
   },
   "outputs": [
    {
     "name": "stdout",
     "output_type": "stream",
     "text": [
      "Monday, Tuesday, Wednesday, Thursday, Friday, Saturday, Sunday\n",
      "['Monday', ' Tuesday', ' Wednesday', ' Thursday', ' Friday', ' Saturday', ' Sunday']\n"
     ]
    }
   ],
   "source": [
    "str = '''Monday, Tuesday, Wednesday, Thursday, Friday, Saturday, Sunday'''\n",
    "print(str)\n",
    "#insert your code here\n",
    "\n",
    "\n",
    "print(str)"
   ]
  },
  {
   "cell_type": "markdown",
   "metadata": {},
   "source": [
    "### Extra homework6\n",
    "\n",
    "Python Dictionaries (Maps)\n",
    "For the following Python dictionary (a.k.a. map), print all of the keys in the dictionary:\n",
    "'Ralph Williams' : 'Football',\n",
    "'Michael Tippett' : 'Basketball',\n",
    "'Edward Elgar' : 'Baseball',\n",
    "'Rebecca Clarke' : 'Netball',\n",
    "'Ethel Smyth' : 'Badminton',\n",
    "'Frank Bridge' : 'Rugby'"
   ]
  },
  {
   "cell_type": "code",
   "execution_count": 40,
   "metadata": {
    "collapsed": false
   },
   "outputs": [
    {
     "name": "stdout",
     "output_type": "stream",
     "text": [
      "dict_keys(['Michael Tippett', 'Ralph Williams', 'Frank Bridge', 'Ethel Smyth', 'Rebecca Clarke', 'Edward Elgar'])\n"
     ]
    }
   ],
   "source": [
    "favorite_sports = {\n",
    "    'Ralph Williams' : 'Football',\n",
    "    'Michael Tippett' : 'Basketball',\n",
    "    'Edward Elgar' : 'Baseball',\n",
    "    'Rebecca Clarke' : 'Netball',\n",
    "    'Ethel Smyth' : 'Badminton',\n",
    "    'Frank Bridge' : 'Rugby'\n",
    "}\n",
    "# print out all the keys in the above map\n",
    "\n"
   ]
  },
  {
   "cell_type": "code",
   "execution_count": null,
   "metadata": {
    "collapsed": true
   },
   "outputs": [],
   "source": []
  }
 ],
 "metadata": {
  "anaconda-cloud": {},
  "kernelspec": {
   "display_name": "Python [default]",
   "language": "python",
   "name": "python3"
  },
  "language_info": {
   "codemirror_mode": {
    "name": "ipython",
    "version": 3
   },
   "file_extension": ".py",
   "mimetype": "text/x-python",
   "name": "python",
   "nbconvert_exporter": "python",
   "pygments_lexer": "ipython3",
   "version": "3.5.2"
  }
 },
 "nbformat": 4,
 "nbformat_minor": 1
}
