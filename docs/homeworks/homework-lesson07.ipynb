{
 "cells": [
  {
   "cell_type": "markdown",
   "metadata": {},
   "source": [
    "## 1 Python Version\n",
    "make a program to find out which version of Python you are using"
   ]
  },
  {
   "cell_type": "code",
   "execution_count": null,
   "metadata": {
    "collapsed": false
   },
   "outputs": [],
   "source": []
  },
  {
   "cell_type": "markdown",
   "metadata": {},
   "source": [
    "## 2-a Save Pickled favorites \n",
    "Create a list of top five of your favorite things, and then use pickle.dump(...) to save them to a file called \"favorites.dat\". \n"
   ]
  },
  {
   "cell_type": "code",
   "execution_count": 1,
   "metadata": {
    "collapsed": false
   },
   "outputs": [],
   "source": [
    "# the program that write your favorites as a pickle file\n",
    "\n",
    "# don't forget to close your file\n"
   ]
  },
  {
   "cell_type": "markdown",
   "metadata": {},
   "source": [
    "## 2-b Load Pickled favorites from file\n",
    "Continue with the problem 2-a above, now open the file and display your list of favorites from the file, using pickle.load(...)."
   ]
  },
  {
   "cell_type": "code",
   "execution_count": null,
   "metadata": {
    "collapsed": false
   },
   "outputs": [],
   "source": [
    "# the program that load your favorites from a pickle file\n",
    "\n",
    "# don't forget to close your file"
   ]
  },
  {
   "cell_type": "markdown",
   "metadata": {},
   "source": [
    "##  3 Write down the output of the following program:\n",
    "This problem is optional if you don't understand\n",
    "```\n",
    "import copy\n",
    "class Car: #Note: even if you don't understand this line, you still can solve the problem    \n",
    "    pass   #Note: even if you don't understand this line, you still can solve the problem   \n",
    "\n",
    "car1 = Car()\n",
    "car1.wheels = 4\n",
    "car2 = car1\n",
    "car2.wheels = 3\n",
    "print(car1.wheels)\n",
    "\n",
    "car3 = copy.copy(car1)\n",
    "car3.wheels = 6\n",
    "print(car1.wheels)\n",
    "```"
   ]
  },
  {
   "cell_type": "markdown",
   "metadata": {},
   "source": [
    "## 4 \n",
    "Write a Python program to find the median of three numbers from the user input. "
   ]
  },
  {
   "cell_type": "code",
   "execution_count": 1,
   "metadata": {
    "collapsed": false
   },
   "outputs": [
    {
     "name": "stdout",
     "output_type": "stream",
     "text": [
      "Input first number: 23\n",
      "Input second number: 57\n",
      "Input third number: 35\n",
      "The median is  35\n"
     ]
    }
   ],
   "source": [
    "\n",
    "\n",
    "\n"
   ]
  },
  {
   "cell_type": "markdown",
   "metadata": {},
   "source": [
    "## 5 Write a program to display current local date\n",
    "\n",
    "Display the time in the following format:\n",
    "\n",
    "Month/Day/Year\n",
    "\n",
    "For example: 10/15/2017"
   ]
  },
  {
   "cell_type": "code",
   "execution_count": 2,
   "metadata": {
    "collapsed": false
   },
   "outputs": [
    {
     "name": "stdout",
     "output_type": "stream",
     "text": [
      "10 / 21 / 2017\n",
      "10/21/2017\n"
     ]
    }
   ],
   "source": [
    "\n",
    "\n",
    "\n"
   ]
  },
  {
   "cell_type": "markdown",
   "metadata": {},
   "source": [
    "## 6 Number Guessing Game\n",
    "```\n",
    "Step 1: Randomly generate an integer number between 20 and 40, assign it to a variable named \"num\"\n",
    "\n",
    "Step 2: Let the user guess the number by print out \"Guess a number between 20 to 40\" and take the user input. You can use the input() function to get the user input.\n",
    "\n",
    "Step 3: If the user input is less than the value of variable \"num\", print \"Try higher\", then go to step 2\n",
    "        If the user input is bigger than the value of variable \"num\", print \"Try lower\", then go to step 2\n",
    "\n",
    "        If the user input is equal to the value of variable \"num\", print \"You are right!\" and exit the program\n",
    "```"
   ]
  },
  {
   "cell_type": "code",
   "execution_count": 1,
   "metadata": {
    "collapsed": false
   },
   "outputs": [
    {
     "name": "stdout",
     "output_type": "stream",
     "text": [
      "Guess a number between 20 to 4023\n",
      "Try higher\n",
      "Guess a number between 20 to 4028\n",
      "Try higher\n",
      "Guess a number between 20 to 4030\n",
      "Try higher\n",
      "Guess a number between 20 to 4035\n",
      "Try higher\n",
      "Guess a number between 20 to 4037\n",
      "Try higher\n",
      "Guess a number between 20 to 4039\n",
      "You guessed right\n"
     ]
    }
   ],
   "source": [
    "\n",
    "\n",
    "\n"
   ]
  },
  {
   "cell_type": "markdown",
   "metadata": {},
   "source": [
    "## 7 A Powerball number generator\n",
    "A lottery company need a computer program to generate lottery numbers automatically for their customers who do not want to pick the number by themselves.\n",
    "You were assigned a task to make this computer program. Valid lottery numbers are as the following:\n",
    "\n",
    "* pick 5 power numbers from 1 to 69 randomly. Note: Each number should be unique. No duplicates.\n",
    "* sort the 5 power numbers in ascending order when print them out\n",
    "* pick the PowerBall number from 1 to 26 randomly.\n",
    "\n",
    "\n",
    "Find more details about PowerBall: [PowerBall Rules link](http://www.nc-educationlottery.org/powerball_how-to-play.aspx)\n",
    "\n",
    "When running your program, the program will ask the customer \"how many lottery do you want to buy?\", the user will enter a number. Then you program will print out the lottery numbers, each set of lottery number in a line.\n",
    "\n",
    "For example, if the customer entered 3, You output should look like this:\n",
    "```\n",
    "2, 23, 45, 50, 67 powerball: 12\n",
    "3, 4, 25, 35, 37 powerball: 26\n",
    "34, 41, 46, 48, 50 powerball: 10\n",
    "\n",
    "```\n",
    "<b>Note: each of the 5 power numbers should be unique. No duplicates. Sort the 5 power numbers in ascending order when print them out</b>"
   ]
  },
  {
   "cell_type": "code",
   "execution_count": 4,
   "metadata": {
    "collapsed": false
   },
   "outputs": [
    {
     "name": "stdout",
     "output_type": "stream",
     "text": [
      "How many lottery do you want to buy? 3\n",
      "2 31 42 52 60 62 Powerball:  1\n",
      "7 32 45 46 55 69 Powerball:  13\n",
      "3 7 25 37 50 53 Powerball:  4\n"
     ]
    }
   ],
   "source": [
    "# the powerball machine auto pick numbers program:\n",
    "\n",
    "\n",
    "\n",
    "\n"
   ]
  },
  {
   "cell_type": "code",
   "execution_count": null,
   "metadata": {
    "collapsed": true
   },
   "outputs": [],
   "source": []
  }
 ],
 "metadata": {
  "anaconda-cloud": {},
  "kernelspec": {
   "display_name": "Python [default]",
   "language": "python",
   "name": "python3"
  },
  "language_info": {
   "codemirror_mode": {
    "name": "ipython",
    "version": 3
   },
   "file_extension": ".py",
   "mimetype": "text/x-python",
   "name": "python",
   "nbconvert_exporter": "python",
   "pygments_lexer": "ipython3",
   "version": "3.5.2"
  }
 },
 "nbformat": 4,
 "nbformat_minor": 1
}
