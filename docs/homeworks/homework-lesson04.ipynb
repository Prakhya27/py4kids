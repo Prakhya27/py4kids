{
 "cells": [
  {
   "cell_type": "markdown",
   "metadata": {},
   "source": [
    "## 1 Add/Change/Remove elements in a dictionary\n",
    "\n",
    " For the following Python dictionary:\n",
    " \n",
    " ```python\n",
    " 'Ralph Williams' : 'Football', \n",
    " 'Michael Tippett' : 'Basketball', \n",
    " 'Edward Elgar' : 'Baseball', \n",
    " 'Rebecca Clarke' : 'Netball', \n",
    " 'Ethel Smyth' : 'Badminton', \n",
    " 'Frank Bridge' : 'Rugby'\n",
    " ```\n",
    " \n",
    " * For the aboved dictionary, add 'Charles Duhigg': 'Volleyball'. Then output all of the map elements\n",
    " * Now remove 'Edward Elgar'. Output the map elements. Then output the map elements\n",
    " * Now change element with 'Charles Duhigg' to 'Swimming'. Output the map elements\n",
    " * Now output the length of current dictionary\n",
    " * Now use Python program to check if the dictionary has key 'Rebecca Clarke', if yes, print the following:\n",
    " \n",
    "  Is \"Rebecca Clarke\" in dictionary? True\n",
    "  \n",
    " * Now use Python program to check if the dictionary does NOT have 'donald trump', and your program should print the following\n",
    " \n",
    "  Is \"donald trump\" NOT in dictionary? True\n",
    " "
   ]
  },
  {
   "cell_type": "code",
   "execution_count": 44,
   "metadata": {
    "collapsed": false
   },
   "outputs": [
    {
     "name": "stdout",
     "output_type": "stream",
     "text": [
      "{'Ralph Williams': 'Football', 'Ethel Smyth': 'Badminton', 'Edward Elgar': 'Baseball', 'Frank Bridge': 'Rugby', 'Rebecca Clarke': 'Netball', 'Charles Duhigg': 'Volleyball', 'Michael Tippett': 'Basketball'}\n",
      "{'Ralph Williams': 'Football', 'Ethel Smyth': 'Badminton', 'Frank Bridge': 'Rugby', 'Rebecca Clarke': 'Netball', 'Charles Duhigg': 'Volleyball', 'Michael Tippett': 'Basketball'}\n",
      "{'Ralph Williams': 'Football', 'Ethel Smyth': 'Badminton', 'Frank Bridge': 'Rugby', 'Rebecca Clarke': 'Netball', 'Charles Duhigg': 'Swimming', 'Michael Tippett': 'Basketball'}\n",
      "dictionary size is 6\n",
      "Is \"Rebecca Clarke\" in dictionary? True\n",
      "Is \"donald trump\" NOT in dictionary? True\n"
     ]
    }
   ],
   "source": []
  },
  {
   "cell_type": "markdown",
   "metadata": {},
   "source": [
    "## 2 Clone/Merge two dictionaries:\n",
    "\n",
    "```python\n",
    " dict1 = {\"house\":\"Haus\",\"cat\":\"Katze\",\"red\":\"rot\"}\n",
    " dict2 = {\"red\":\"rouge\",\"blau\":\"bleu\"}\n",
    "```\n",
    " \n",
    " * Merge the aboved two dictionaries into a new dictionary, without changing dict1 and dict2. After the merging, output dict1, dict2 and the merged dictionary, so that you can verified that dict1 and dict2 are not changed."
   ]
  },
  {
   "cell_type": "code",
   "execution_count": 45,
   "metadata": {
    "collapsed": false
   },
   "outputs": [
    {
     "name": "stdout",
     "output_type": "stream",
     "text": [
      "dict1 = {'cat': 'Katze', 'house': 'Haus', 'red': 'rot'}\n",
      "dict2 = {'blau': 'bleu', 'red': 'rouge'}\n",
      "dictMerged = {'cat': 'Katze', 'house': 'Haus', 'blau': 'bleu', 'red': 'rouge'}\n"
     ]
    }
   ],
   "source": [
    "dict1={\"house\":\"Haus\",\"cat\":\"Katze\",\"red\":\"rot\"}\n",
    " \n",
    "dict2 = {\"red\":\"rouge\",\"blau\":\"bleu\"}\n",
    "\n"
   ]
  },
  {
   "cell_type": "markdown",
   "metadata": {},
   "source": [
    "## 3 Dictionary to Lists\n",
    "\n",
    "For the following dictionary: \n",
    "```python\n",
    " 'Ralph Williams' : 'Football', \n",
    " 'Michael Tippett' : 'Basketball', \n",
    " 'Edward Elgar' : 'Baseball', \n",
    " 'Rebecca Clarke' : 'Netball', \n",
    " 'Ethel Smyth' : 'Badminton', \n",
    " 'Frank Bridge' : 'Rugby'\n",
    " ```\n",
    " \n",
    " * print all of the keys\n",
    " * print all of the values\n"
   ]
  },
  {
   "cell_type": "code",
   "execution_count": 46,
   "metadata": {
    "collapsed": false
   },
   "outputs": [
    {
     "name": "stdout",
     "output_type": "stream",
     "text": [
      "['Ralph Williams', 'Ethel Smyth', 'Edward Elgar', 'Frank Bridge', 'Rebecca Clarke', 'Michael Tippett']\n",
      "['Football', 'Badminton', 'Baseball', 'Rugby', 'Netball', 'Basketball']\n"
     ]
    }
   ],
   "source": []
  },
  {
   "cell_type": "markdown",
   "metadata": {
    "collapsed": true
   },
   "source": [
    "## 4 Python String Review\n",
    "### 4.1\n",
    "\n",
    "Use just one line of code, print the following strings, one line for each word. Your output should be like this:\n",
    "\n",
    "one\n",
    "\n",
    "two\n",
    "\n",
    "three"
   ]
  },
  {
   "cell_type": "code",
   "execution_count": 1,
   "metadata": {
    "collapsed": false
   },
   "outputs": [
    {
     "name": "stdout",
     "output_type": "stream",
     "text": [
      "one\n",
      "two\n",
      "three\n"
     ]
    }
   ],
   "source": []
  },
  {
   "cell_type": "markdown",
   "metadata": {},
   "source": [
    "### 4.2 \n",
    "Remove the space at the beginning and end of the following sentence.\n",
    "```python\n",
    "\"       Taekwondo is great!        \"\n",
    "```"
   ]
  },
  {
   "cell_type": "code",
   "execution_count": 2,
   "metadata": {
    "collapsed": false
   },
   "outputs": [
    {
     "name": "stdout",
     "output_type": "stream",
     "text": [
      "Taekwondo is great!\n"
     ]
    }
   ],
   "source": [
    "word = \"       Taekwondo is great!        \"\n",
    "print(word) # modify this line"
   ]
  },
  {
   "cell_type": "markdown",
   "metadata": {},
   "source": [
    "### 4.3 \n",
    "A gas station wants to list its gas price with two digits of decimals. If the gas price is $3.4 per gallon. Modify the following code so that it outputs like this:\n",
    "\n",
    "The gas price is $3.40 per gallon"
   ]
  },
  {
   "cell_type": "code",
   "execution_count": 11,
   "metadata": {
    "collapsed": false
   },
   "outputs": [
    {
     "name": "stdout",
     "output_type": "stream",
     "text": [
      "The gas price is 3.400000 per gallon\n"
     ]
    }
   ],
   "source": [
    "price = 3.4\n",
    "print(\"The gas price is %f per gallon\" % price) # <-- Modify this line"
   ]
  },
  {
   "cell_type": "markdown",
   "metadata": {},
   "source": [
    "### 4.4\n",
    "Output the following integer in 5 digits. Add '0' to the front of the integer if it has less than 5 digits.\n",
    "\n",
    "Fro example: 123 should be printed as 00123\n"
   ]
  },
  {
   "cell_type": "code",
   "execution_count": 1,
   "metadata": {
    "collapsed": false
   },
   "outputs": [
    {
     "name": "stdout",
     "output_type": "stream",
     "text": [
      "00123\n"
     ]
    }
   ],
   "source": [
    "num = 123 \n",
    "print(num)   # <-- Modify this line"
   ]
  },
  {
   "cell_type": "code",
   "execution_count": null,
   "metadata": {
    "collapsed": true
   },
   "outputs": [],
   "source": []
  }
 ],
 "metadata": {
  "anaconda-cloud": {},
  "kernelspec": {
   "display_name": "Python [default]",
   "language": "python",
   "name": "python3"
  },
  "language_info": {
   "codemirror_mode": {
    "name": "ipython",
    "version": 3
   },
   "file_extension": ".py",
   "mimetype": "text/x-python",
   "name": "python",
   "nbconvert_exporter": "python",
   "pygments_lexer": "ipython3",
   "version": "3.5.2"
  }
 },
 "nbformat": 4,
 "nbformat_minor": 1
}
