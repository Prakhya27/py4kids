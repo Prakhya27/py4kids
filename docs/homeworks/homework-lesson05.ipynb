{
 "cells": [
  {
   "cell_type": "markdown",
   "metadata": {},
   "source": [
    "# Conditions\n",
    "\n",
    "## 1\n",
    "Write a program, check if the value of the variable \"num\" is positive or negative or zero and display an appropriate message:\n",
    "\n",
    "* When variable num is a positive number, \"Positive number\" is printed.\n",
    "* If num is equal to 0, \"Zero\" is printed.\n",
    "* If num is a negative number, \"Negative number\" is printed"
   ]
  },
  {
   "cell_type": "code",
   "execution_count": 2,
   "metadata": {
    "collapsed": false
   },
   "outputs": [
    {
     "name": "stdout",
     "output_type": "stream",
     "text": [
      "15: Positive number\n"
     ]
    }
   ],
   "source": [
    "num = 15  # <-- Test your program by changing this value to 0 and -15\n",
    "\n",
    "print(num, end=': ')\n",
    "\n",
    "# Write your program below to test the value of num\n",
    "\n",
    "\n"
   ]
  },
  {
   "cell_type": "markdown",
   "metadata": {},
   "source": [
    "## 2\n",
    "Write a Python program to check if a user input integer is odd or even. A integer is even if it is divided by 2, it yields no remainder. If remainder is 1, it is odd number.\n",
    "\n",
    "* for even number x, the output should be: x is Even\n",
    "* for odd number x, the output should be: x is Odd\n",
    "\n",
    "How to get the remainder of a division?\n",
    "\n",
    "Hint-1: \n",
    "[Python Arithmetic Operators](https://www.programiz.com/python-programming/operators#arithmetic_operators)\n",
    "\n",
    "Hint-2: search on [stackoverflow.com](https://www.stackoverflow.com)"
   ]
  },
  {
   "cell_type": "code",
   "execution_count": 3,
   "metadata": {
    "collapsed": false
   },
   "outputs": [
    {
     "name": "stdout",
     "output_type": "stream",
     "text": [
      "type a number and press enter key: 20\n",
      "20 is Even\n"
     ]
    }
   ],
   "source": [
    "num = int(input(\"input a number and press enter key: \"))\n",
    "# Write your program below, check if the value of variable 'num' is Odd or Even\n",
    "\n",
    "\n"
   ]
  },
  {
   "cell_type": "markdown",
   "metadata": {},
   "source": [
    "## 3\n",
    "Make a wage calculator for X-Mart:\n",
    "\n",
    "A company called X-Mart pay their workers weekly. \n",
    "\n",
    "* If a worker has worked no more than 40 hours a week, the normal payment rate is $8.0/hour.\n",
    "* If a worker has worked over 40 hours a week, that means the worker has worked overtime. The overtime salary is at 1.47 times the normal rate. (for example, if you have worked 41 hours in a week, you worked overtime for one hour. The salary for <b>every overtime hour</b> is at 1.47 times the normal rate)\n",
    "\n",
    "Your program should output like the following (for example, if you worked 41 hours in a week):\n",
    "\n",
    "You worked 41.0 hours in a week, you have earned $331.76.\n"
   ]
  },
  {
   "cell_type": "code",
   "execution_count": 9,
   "metadata": {
    "collapsed": false
   },
   "outputs": [
    {
     "name": "stdout",
     "output_type": "stream",
     "text": [
      "Enter total hours you worked in a week: 41\n",
      "You worked 41.0 hours in a week, you have earned $331.76.\n"
     ]
    }
   ],
   "source": [
    "totalHours = int(input(\"Enter total hours you worked in a week: \"))\n",
    "# Write you program at below\n",
    "\n",
    "\n",
    "\n"
   ]
  },
  {
   "cell_type": "markdown",
   "metadata": {},
   "source": [
    "## 4\n",
    "A leap year is exactly divisible by 4 except for century years (years ending with 00). The century year is a leap year only if it is perfectly divisible by 400. For example,\n",
    "\n",
    "* 2017 is not a leap year\n",
    "* 1900 is a not leap year\n",
    "* 2012 is a leap year\n",
    "* 2000 is a leap year\n",
    "\n",
    "Write a program to check if a given year is leap year or not. Your program should output in the following format:\n",
    "\n",
    "2017 is not a leap year\n",
    "\n",
    "2012 is a leap year"
   ]
  },
  {
   "cell_type": "code",
   "execution_count": 13,
   "metadata": {
    "collapsed": false
   },
   "outputs": [
    {
     "name": "stdout",
     "output_type": "stream",
     "text": [
      "Enter a year: 1880\n",
      "1880 is a leap year\n"
     ]
    }
   ],
   "source": [
    "year = int(input(\"Enter a year: \"))\n",
    "# Write your program below to check if the value of the variable 'year' is leap year or not\n",
    "\n",
    "\n",
    "\n"
   ]
  },
  {
   "cell_type": "markdown",
   "metadata": {
    "collapsed": true
   },
   "source": [
    "# Loops\n",
    "\n",
    "## 5\n",
    "Print all of the odd numbers between 80 to 100."
   ]
  },
  {
   "cell_type": "code",
   "execution_count": 11,
   "metadata": {
    "collapsed": false
   },
   "outputs": [
    {
     "name": "stdout",
     "output_type": "stream",
     "text": [
      "[81, 83, 85, 87, 89, 91, 93, 95, 97, 99]\n",
      "81, 83, 85, 87, 89, 91, 93, 95, 97, 99, "
     ]
    }
   ],
   "source": [
    "\n",
    "\n",
    "\n"
   ]
  },
  {
   "cell_type": "markdown",
   "metadata": {},
   "source": [
    "## 6\n",
    "Print all of the odd numbers between 80 to 101. Print as the following format:\n",
    "\n",
    "each odd number in seperate line, with a sequence number in front of it. For example:\n",
    "\n",
    "1) 81\n",
    "\n",
    "2) 83\n",
    "\n",
    "3) 85"
   ]
  },
  {
   "cell_type": "code",
   "execution_count": 6,
   "metadata": {
    "collapsed": false
   },
   "outputs": [
    {
     "name": "stdout",
     "output_type": "stream",
     "text": [
      "1) 81\n",
      "2) 83\n",
      "3) 85\n",
      "4) 87\n",
      "5) 89\n",
      "6) 91\n",
      "7) 93\n",
      "8) 95\n",
      "9) 97\n",
      "10) 99\n"
     ]
    }
   ],
   "source": [
    "\n",
    "\n",
    "\n"
   ]
  },
  {
   "cell_type": "markdown",
   "metadata": {},
   "source": [
    "## 7\n",
    "Print all of the items in the following list that have an odd index. Note: List index starts from 0"
   ]
  },
  {
   "cell_type": "code",
   "execution_count": 1,
   "metadata": {
    "collapsed": false
   },
   "outputs": [
    {
     "name": "stdout",
     "output_type": "stream",
     "text": [
      "b d f h j l n p "
     ]
    }
   ],
   "source": [
    "letters = ['a','b','c','d','e','f','g','h','i','j','k','l','m','n','o','p','q']\n",
    "# Write your program at below\n",
    "\n",
    "\n",
    "\n"
   ]
  },
  {
   "cell_type": "markdown",
   "metadata": {},
   "source": [
    "## 8\n",
    "A prime number is a integer number greater than 1, whose only two integer-number factors are 1 and itself.  The first few prime numbers are 2, 3, 5, 7, 11, 13, 17, 19, 23, and 29.  \n",
    "\n",
    "Let the user input a integer number, check if it is a prime number:\n",
    "\n",
    "* if yes, print: x is a prime number.\n",
    "* if not, print: x is not a prime number.\n",
    "\n",
    "You should test your program with these input numbers: -6, 1, 36, 79"
   ]
  },
  {
   "cell_type": "code",
   "execution_count": 7,
   "metadata": {
    "collapsed": false
   },
   "outputs": [
    {
     "name": "stdout",
     "output_type": "stream",
     "text": [
      "Enter a integer number: -2\n",
      "-2 is not a prime number\n"
     ]
    }
   ],
   "source": [
    "# You should test your program with these input numbers: -6, 1, 36, 79\n",
    "num = int(input(\"Enter a integer number: \"))\n",
    "\n",
    "# write your program at below:\n",
    "\n",
    "\n",
    "\n"
   ]
  },
  {
   "cell_type": "markdown",
   "metadata": {
    "collapsed": true
   },
   "source": [
    "## 9\n",
    "Solve the famous ancient Chinese math problem called “Chickens and Rabbits in a Cage.”\n",
    "\n",
    "A farmer put chickens and rabbits in a cage. There are totally 49 animals and 124 legs in the cage. How many rabbits are there in the cage?\n",
    "\n",
    "Your output should be:\n",
    "\n",
    "There are totally ?? rabbits in the cage!"
   ]
  },
  {
   "cell_type": "code",
   "execution_count": 11,
   "metadata": {
    "collapsed": false
   },
   "outputs": [
    {
     "name": "stdout",
     "output_type": "stream",
     "text": [
      "There are totally 13 rabbits in the cage!\n"
     ]
    }
   ],
   "source": [
    "total = 49\n",
    "legs = 124\n",
    "\n",
    "# Write your program at below\n",
    "\n",
    "\n",
    "\n"
   ]
  },
  {
   "cell_type": "markdown",
   "metadata": {},
   "source": [
    "## 10\n",
    "Remove all the fuplicates:\n",
    "\n",
    "Write a program that takes a list and create a new list that contains all the elements of the original list minus all the duplicates.\n",
    "\n",
    "for example:\n",
    "```\n",
    "original list:\n",
    "    ['a','b','a','d']\n",
    "create a new list by removing the duplicates:\n",
    "    ['a','b','d']\n",
    "```"
   ]
  },
  {
   "cell_type": "code",
   "execution_count": 16,
   "metadata": {
    "collapsed": false
   },
   "outputs": [
    {
     "name": "stdout",
     "output_type": "stream",
     "text": [
      "['a', 'b', 'c', 'd', 'a', 'e', 'f', 'g', 'h', 'i', 'j', 'k', 'l', 'm', 'h', 'o', 'p', 'q', 'd']\n",
      "['a', 'b', 'c', 'd', 'e', 'f', 'g', 'h', 'i', 'j', 'k', 'l', 'm', 'o', 'p', 'q']\n"
     ]
    }
   ],
   "source": [
    "listA = ['a','b','c','d','a','e','f','g','h','i','j','k','l','m','h','o','p','q', 'd']\n",
    "listB = []\n",
    "\n",
    "# Write your program at below. \n",
    "# Use listB to hold items in List A without any duplicate items\n",
    "\n",
    "\n",
    "\n",
    "\n",
    "\n",
    "\n",
    "\n",
    "# ------ Output result -----\n",
    "print(listA)\n",
    "print(listB)"
   ]
  },
  {
   "cell_type": "markdown",
   "metadata": {},
   "source": [
    "## 11\n",
    "Given a string, write a program to print out the same string, except with the words in backwards order\n",
    "\n",
    "For example:\n",
    "```\n",
    "    Original string:     one two three\n",
    "    Output string:       three two one\n",
    "```\n",
    "\n",
    "Hint: how to split a string in Python? How to reverse a list in Python? How to use a loop?"
   ]
  },
  {
   "cell_type": "code",
   "execution_count": 29,
   "metadata": {
    "collapsed": false
   },
   "outputs": [
    {
     "name": "stdout",
     "output_type": "stream",
     "text": [
      "Python has a lot of interesting things you can do with strings \n",
      "Python has a lot of interesting things you can do with strings "
     ]
    }
   ],
   "source": [
    "# revert the following sentence word by word\n",
    "origStr = \"strings with do can you things interesting of lot a has Python\"\n",
    "\n",
    "# Write your program at below\n",
    "\n",
    "\n",
    "\n",
    "\n"
   ]
  },
  {
   "cell_type": "markdown",
   "metadata": {},
   "source": [
    "## 12\n",
    "Given a number n, Write a Python program to print out the following pattern, using a nested loop. n is the maximum number of '*' in a row\n",
    "\n",
    "```\n",
    "Example: n = 5\n",
    "\n",
    "*\n",
    "**\n",
    "***\n",
    "****\n",
    "*****\n",
    "****\n",
    "***\n",
    "**\n",
    "*\n",
    "\n",
    "```"
   ]
  },
  {
   "cell_type": "code",
   "execution_count": 34,
   "metadata": {
    "collapsed": false
   },
   "outputs": [
    {
     "name": "stdout",
     "output_type": "stream",
     "text": [
      "\n",
      "*\n",
      "**\n",
      "***\n",
      "****\n",
      "*****\n",
      "******\n",
      "*******\n",
      "********\n",
      "*******\n",
      "******\n",
      "*****\n",
      "****\n",
      "***\n",
      "**\n",
      "*\n"
     ]
    }
   ],
   "source": [
    "n = 8\n",
    "# Write your program at below\n",
    "\n",
    "\n",
    "\n"
   ]
  },
  {
   "cell_type": "markdown",
   "metadata": {},
   "source": [
    "## 13\n",
    "\n",
    "A group of monkeies picked up some peaches on the first day. They ate half of them and gave another peach from the other half left to a baby monkey.\n",
    "On the second day, they ate half of what had left from previous day, and give another peach from the other half to a baby monkey.\n",
    "Every day they did the same, until on the 10th day, they found they only have 1 peach left.\n",
    "\n",
    "Make a program, print out how many peaches those monkey had on each day, from day 10 to day 1.\n",
    "\n",
    "For Example, your program should print out like the following:\n",
    "```\n",
    "day 10: 1\n",
    "day 9: 4\n",
    "day 8: 10\n",
    "...\n",
    "...\n",
    "```\n",
    "Note: make a program to do the calculation, do NOT do the calculation yourself."
   ]
  },
  {
   "cell_type": "code",
   "execution_count": 40,
   "metadata": {
    "collapsed": false
   },
   "outputs": [
    {
     "name": "stdout",
     "output_type": "stream",
     "text": [
      "day 10: 1\n",
      "day 9: 4\n",
      "day 8: 10\n",
      "day 7: 22\n",
      "day 6: 46\n",
      "day 5: 94\n",
      "day 4: 190\n",
      "day 3: 382\n",
      "day 2: 766\n",
      "day 1: 1534\n"
     ]
    }
   ],
   "source": [
    "\n",
    "\n",
    "\n",
    "\n"
   ]
  },
  {
   "cell_type": "markdown",
   "metadata": {},
   "source": [
    "## 14\n",
    "\n",
    "This problem is optional for students who do not know what is \"square root\". \n",
    "\n",
    "There is a positive integer X. After adding 100 to x, we got y, which is equal to the square of an integer. Now we add 168 to y, again the result is equal to the square of another integer.\n",
    "\n",
    "Make a program to find out the smallest possible value of X.\n",
    "\n",
    "Note: make a program to do the calculation, do NOT do the calculation yourself.\n",
    "\n",
    "Hint: to get the square root, use: math.sqrt(   )"
   ]
  },
  {
   "cell_type": "code",
   "execution_count": 42,
   "metadata": {
    "collapsed": false
   },
   "outputs": [
    {
     "name": "stdout",
     "output_type": "stream",
     "text": [
      "21\n"
     ]
    }
   ],
   "source": [
    "import math\n",
    "# write your program at below\n",
    "\n",
    "\n",
    "\n",
    "\n"
   ]
  },
  {
   "cell_type": "code",
   "execution_count": null,
   "metadata": {
    "collapsed": true
   },
   "outputs": [],
   "source": []
  }
 ],
 "metadata": {
  "anaconda-cloud": {},
  "kernelspec": {
   "display_name": "Python [default]",
   "language": "python",
   "name": "python3"
  },
  "language_info": {
   "codemirror_mode": {
    "name": "ipython",
    "version": 3
   },
   "file_extension": ".py",
   "mimetype": "text/x-python",
   "name": "python",
   "nbconvert_exporter": "python",
   "pygments_lexer": "ipython3",
   "version": "3.5.2"
  }
 },
 "nbformat": 4,
 "nbformat_minor": 1
}
