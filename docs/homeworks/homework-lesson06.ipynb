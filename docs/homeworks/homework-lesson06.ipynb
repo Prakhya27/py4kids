{
 "cells": [
  {
   "cell_type": "markdown",
   "metadata": {},
   "source": [
    "## 1  Mystery Code \n",
    "\n",
    "What will be the result of running the following code? Guess, and then run the code to see if you’re right.\n",
    "```\n",
    "    a = abs(10) + abs(-10) \n",
    "    print(a) \n",
    "    b = abs(-10) + -10 \n",
    "    print(b)\n",
    "\n",
    "```\n"
   ]
  },
  {
   "cell_type": "markdown",
   "metadata": {},
   "source": [
    "Solution: "
   ]
  },
  {
   "cell_type": "markdown",
   "metadata": {},
   "source": [
    "## 2  A Hidden Message \n",
    "\n",
    "Try using dir and help to find out how to break a string into words, and then create a small program to print every other word in the following string, starting with the first word (this):\n",
    "\n",
    "\"this if is you not are a reading very this good then way you to have hide done a it message wrong\"\n"
   ]
  },
  {
   "cell_type": "code",
   "execution_count": 1,
   "metadata": {
    "collapsed": false
   },
   "outputs": [],
   "source": [
    "message = \"this if is you not are a reading very this good then way you to have hide done a it message wrong\"\n",
    "# put your program at below\n",
    "\n",
    "\n"
   ]
  },
  {
   "cell_type": "markdown",
   "metadata": {},
   "source": [
    "## 3: Copying a file\n",
    "\n",
    "Create a Python program to copy a file. \n",
    "(Hint: You’ll need to open the file that you want to copy, read it in, and then create a new file—the copy.) \n",
    "Check that your program works by printing the contents of the new file on the screen.\n",
    "\n",
    "[Python File Reading and Writing](http://www.pythonforbeginners.com/files/reading-and-writing-files-in-python)\n"
   ]
  },
  {
   "cell_type": "code",
   "execution_count": null,
   "metadata": {
    "collapsed": true
   },
   "outputs": [],
   "source": []
  },
  {
   "cell_type": "markdown",
   "metadata": {},
   "source": [
    "## 4 Write a python program to find the longest words in a string."
   ]
  },
  {
   "cell_type": "code",
   "execution_count": 2,
   "metadata": {
    "collapsed": false
   },
   "outputs": [],
   "source": [
    "content = \"SpaceX set a brisk pace this week, with two successful launches of the Falcon 9 rocket. The second launch by the company – whose chief executive is its billionaire founder, Elon Musk – re-used a previously flown first stage booster, increasing confidence that SpaceX could deliver re-useable rockets and so drive down launch costs.\"\n",
    "\n",
    "# Write your program at below, find the longest english word in the above variable \"content\"\n",
    "\n",
    "\n"
   ]
  },
  {
   "cell_type": "markdown",
   "metadata": {},
   "source": [
    "## 5\n",
    "Write a Python program that takes two lists and print out all of their common members."
   ]
  },
  {
   "cell_type": "code",
   "execution_count": null,
   "metadata": {
    "collapsed": true
   },
   "outputs": [],
   "source": [
    "list1 = [1, 2, 4, 56, 67, 78, 97, 52, 23, 46, 91, 13, 7]\n",
    "list2 = [10, 2, 5, 57, 67, 79, 96, 52, 25, 47, 95, 14, 7, 101, 23, 44]\n",
    "\n",
    "# Write your program at below\n",
    "\n"
   ]
  },
  {
   "cell_type": "markdown",
   "metadata": {},
   "source": [
    "## 6\n",
    "Write a Python program to find the second smallest number in a list."
   ]
  },
  {
   "cell_type": "code",
   "execution_count": null,
   "metadata": {
    "collapsed": true
   },
   "outputs": [],
   "source": [
    "numbers = [20, 12, 15, 57, 67, 79, 96, 52, 25, 47, 95, 14, 37, 101, 23, 44, 17, 9]\n",
    "\n",
    "# write your program at below:\n",
    "\n"
   ]
  },
  {
   "cell_type": "markdown",
   "metadata": {},
   "source": [
    "## 7 Another Ancient Chinese Math problem with Chikens\n",
    "\n",
    "```\n",
    "A rooster cost 5 dollars\n",
    "A hen cost 3 dollars\n",
    "Three baby chikens cost 1 dollars\n",
    "```\n",
    "Now you need to spend exactly $100 to buy exactly 100 chickens. How many rooster, hen and baby chikens should you buy?\n",
    "Note: There might be more than one solutions\n"
   ]
  },
  {
   "cell_type": "code",
   "execution_count": null,
   "metadata": {
    "collapsed": false
   },
   "outputs": [],
   "source": [
    "\n",
    "\n",
    "    "
   ]
  },
  {
   "cell_type": "markdown",
   "metadata": {
    "collapsed": true
   },
   "source": [
    "## 8 write a program to add line number in front of each line in the string\n",
    "\n",
    "```\n",
    "The Zen of Python\n",
    "by Tim Peters\n",
    "\n",
    "Beautiful is better than ugly.\n",
    "Explicit is better than implicit.\n",
    "Simple is better than complex.\n",
    "Complex is better than complicated.\n",
    "Flat is better than nested.\n",
    "Sparse is better than dense.\n",
    "Readability counts.\n",
    "```\n"
   ]
  },
  {
   "cell_type": "code",
   "execution_count": null,
   "metadata": {
    "collapsed": true
   },
   "outputs": [],
   "source": [
    "essay = '''The Zen of Python\n",
    "by Tim Peters\n",
    "\n",
    "Beautiful is better than ugly.\n",
    "Explicit is better than implicit.\n",
    "Simple is better than complex.\n",
    "Complex is better than complicated.\n",
    "Flat is better than nested.\n",
    "Sparse is better than dense.\n",
    "Readability counts.'''\n",
    "\n",
    "# write your code at below\n",
    "\n",
    "\n"
   ]
  }
 ],
 "metadata": {
  "anaconda-cloud": {},
  "kernelspec": {
   "display_name": "Python [default]",
   "language": "python",
   "name": "python3"
  },
  "language_info": {
   "codemirror_mode": {
    "name": "ipython",
    "version": 3
   },
   "file_extension": ".py",
   "mimetype": "text/x-python",
   "name": "python",
   "nbconvert_exporter": "python",
   "pygments_lexer": "ipython3",
   "version": "3.5.2"
  }
 },
 "nbformat": 4,
 "nbformat_minor": 1
}
