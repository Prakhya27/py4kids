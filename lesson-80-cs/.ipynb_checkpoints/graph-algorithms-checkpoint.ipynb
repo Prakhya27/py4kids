{
 "cells": [
  {
   "cell_type": "markdown",
   "metadata": {},
   "source": [
    "https://cran.r-project.org/web/packages/ggdag/vignettes/intro-to-dags.html"
   ]
  },
  {
   "cell_type": "code",
   "execution_count": 8,
   "metadata": {},
   "outputs": [
    {
     "data": {
      "image/png": "[encoded data removed]",
      "text/plain": [
       "<Figure size 432x288 with 1 Axes>"
      ]
     },
     "metadata": {},
     "output_type": "display_data"
    }
   ],
   "source": [
    "import networkx as nx\n",
    "import matplotlib.pyplot as plt\n",
    "\n",
    "G = {'A': ['B', 'C'],\n",
    "     'B': ['A', 'D', 'E'],\n",
    "     'C': ['A', 'F'],\n",
    "     'D': ['B'],\n",
    "     'E': ['B', 'F'],\n",
    "     'F': ['C', 'E']}\n",
    "\n",
    "# g = nx.DiGraph(G)\n",
    "g = nx.Graph(G)\n",
    "\n",
    "nx.draw(g,with_labels=True)\n",
    "plt.draw()\n",
    "plt.show()"
   ]
  },
  {
   "cell_type": "markdown",
   "metadata": {},
   "source": [
    "[DFS](https://github.com/TheAlgorithms/Python/blob/master/Graphs/DFS.py)\n",
    "\n",
    "```\n",
    "DFS(graph G, start vertex s):\n",
    "// all nodes initially unexplored\n",
    "mark s as explored\n",
    "for every edge (s, v):\n",
    "    if v unexplored:\n",
    "        DFS(G, v)\n",
    "```"
   ]
  },
  {
   "cell_type": "code",
   "execution_count": 14,
   "metadata": {},
   "outputs": [
    {
     "name": "stdout",
     "output_type": "stream",
     "text": [
      "{'F', 'D', 'B', 'C', 'A', 'E'}\n"
     ]
    }
   ],
   "source": [
    "def dfs(graph, start):\n",
    "    \"\"\"The DFS function simply calls itself recursively for every unvisited child of its argument. We can emulate that\n",
    "     behaviour precisely using a stack of iterators. Instead of recursively calling with a node, we'll push an iterator\n",
    "      to the node's children onto the iterator stack. When the iterator at the top of the stack terminates, we'll pop\n",
    "       it off the stack.\"\"\"\n",
    "    explored, stack = set(), []\n",
    "    explored.add(start)\n",
    "    stack.append(start)\n",
    "    while stack:\n",
    "        v = stack.pop()  # the only difference from BFS is to pop last element here instead of first one\n",
    "        for w in graph[v]:\n",
    "            if w not in explored:\n",
    "                explored.add(w)\n",
    "                stack.append(w)\n",
    "    return explored\n",
    "\n",
    "\n",
    "G = {'A': ['B', 'C'],\n",
    "     'B': ['A', 'D', 'E'],\n",
    "     'C': ['A', 'F'],\n",
    "     'D': ['B'],\n",
    "     'E': ['B', 'F'],\n",
    "     'F': ['C', 'E']}\n",
    "\n",
    "print(dfs(G, 'A'))\n",
    "# {'F', 'D', 'B', 'C', 'A', 'E'}"
   ]
  },
  {
   "cell_type": "markdown",
   "metadata": {},
   "source": [
    "[BFS](https://github.com/TheAlgorithms/Python/blob/master/Graphs/BFS.py)\n",
    "\n",
    "```\n",
    "BFS(graph G, start vertex s):\n",
    "// all nodes initially unexplored\n",
    "mark s as explored\n",
    "let Q = queue data structure, initialized with s\n",
    "while Q is non-empty:\n",
    "    remove the first node of Q, call it v\n",
    "    for each edge(v, w):  // for w in graph[v]\n",
    "        if w unexplored:\n",
    "            mark w as explored\n",
    "            add w to Q (at the end)\n",
    "```"
   ]
  },
  {
   "cell_type": "code",
   "execution_count": 16,
   "metadata": {},
   "outputs": [
    {
     "name": "stdout",
     "output_type": "stream",
     "text": [
      "{'F', 'D', 'B', 'C', 'A', 'E'}\n"
     ]
    }
   ],
   "source": [
    "def bfs(graph, start):\n",
    "    explored, queue = set(), []\n",
    "    explored.add(start)\n",
    "    queue.append(start)\n",
    "    while queue:\n",
    "        v = queue.pop(0)     # FIFO\n",
    "        for w in graph[v]:\n",
    "            if w not in explored:\n",
    "                explored.add(w)\n",
    "                queue.append(w)\n",
    "    return explored\n",
    "\n",
    "\n",
    "G = {'A': ['B', 'C'],\n",
    "     'B': ['A', 'D', 'E'],\n",
    "     'C': ['A', 'F'],\n",
    "     'D': ['B'],\n",
    "     'E': ['B', 'F'],\n",
    "     'F': ['C', 'E']}\n",
    "\n",
    "print(bfs(G, 'A'))\n",
    "\n",
    "# {'F', 'D', 'B', 'C', 'A', 'E'}"
   ]
  },
  {
   "cell_type": "code",
   "execution_count": 17,
   "metadata": {},
   "outputs": [],
   "source": [
    "l = [1,2,3,4]"
   ]
  },
  {
   "cell_type": "code",
   "execution_count": 18,
   "metadata": {},
   "outputs": [
    {
     "data": {
      "text/plain": [
       "4"
      ]
     },
     "execution_count": 18,
     "metadata": {},
     "output_type": "execute_result"
    }
   ],
   "source": [
    "l.pop()  # take last from list"
   ]
  },
  {
   "cell_type": "code",
   "execution_count": 19,
   "metadata": {},
   "outputs": [
    {
     "data": {
      "text/plain": [
       "[1, 2, 3]"
      ]
     },
     "execution_count": 19,
     "metadata": {},
     "output_type": "execute_result"
    }
   ],
   "source": [
    "l"
   ]
  },
  {
   "cell_type": "code",
   "execution_count": 20,
   "metadata": {},
   "outputs": [
    {
     "data": {
      "text/plain": [
       "1"
      ]
     },
     "execution_count": 20,
     "metadata": {},
     "output_type": "execute_result"
    }
   ],
   "source": [
    "l.pop(0)  # take first from list"
   ]
  },
  {
   "cell_type": "code",
   "execution_count": 21,
   "metadata": {},
   "outputs": [
    {
     "data": {
      "text/plain": [
       "[2, 3]"
      ]
     },
     "execution_count": 21,
     "metadata": {},
     "output_type": "execute_result"
    }
   ],
   "source": [
    "l"
   ]
  },
  {
   "cell_type": "code",
   "execution_count": null,
   "metadata": {},
   "outputs": [],
   "source": []
  }
 ],
 "metadata": {
  "kernelspec": {
   "display_name": "Python 3",
   "language": "python",
   "name": "python3"
  },
  "language_info": {
   "codemirror_mode": {
    "name": "ipython",
    "version": 3
   },
   "file_extension": ".py",
   "mimetype": "text/x-python",
   "name": "python",
   "nbconvert_exporter": "python",
   "pygments_lexer": "ipython3",
   "version": "3.6.5"
  }
 },
 "nbformat": 4,
 "nbformat_minor": 2
}
