{
 "cells": [
  {
   "cell_type": "code",
   "execution_count": 19,
   "metadata": {},
   "outputs": [],
   "source": [
    "# determine if a string has all unique characters\n",
    "def is_unique(s):\n",
    "    if len(s) < 2:\n",
    "        return True\n",
    "    else:\n",
    "        return s[0] != s[-1] and s[0] != s[1] and is_unique(s[1:-2])"
   ]
  },
  {
   "cell_type": "code",
   "execution_count": 20,
   "metadata": {},
   "outputs": [
    {
     "data": {
      "text/plain": [
       "True"
      ]
     },
     "execution_count": 20,
     "metadata": {},
     "output_type": "execute_result"
    }
   ],
   "source": [
    "is_unique(\"abc\")"
   ]
  },
  {
   "cell_type": "code",
   "execution_count": 21,
   "metadata": {},
   "outputs": [],
   "source": [
    "# Given two strings, write a method to decide if one is a permutation of the other\n",
    "def is_permutation(s1,s2):\n",
    "    return len(s1) == len(s2) and set(s1) == set(s2)"
   ]
  },
  {
   "cell_type": "code",
   "execution_count": 22,
   "metadata": {},
   "outputs": [
    {
     "data": {
      "text/plain": [
       "True"
      ]
     },
     "execution_count": 22,
     "metadata": {},
     "output_type": "execute_result"
    }
   ],
   "source": [
    "is_permutation(\"s2\",\"2s\")"
   ]
  },
  {
   "cell_type": "code",
   "execution_count": 23,
   "metadata": {},
   "outputs": [],
   "source": [
    "# URLify: Write a method to replace all spaces in a string with '%20:\n",
    "def urlify(s):\n",
    "    return \"%20\".join(s.split())"
   ]
  },
  {
   "cell_type": "code",
   "execution_count": 24,
   "metadata": {},
   "outputs": [
    {
     "data": {
      "text/plain": [
       "'hello%20world%20of%20python'"
      ]
     },
     "execution_count": 24,
     "metadata": {},
     "output_type": "execute_result"
    }
   ],
   "source": [
    "urlify(\"hello world of python\")"
   ]
  },
  {
   "cell_type": "markdown",
   "metadata": {},
   "source": [
    "`Palindrome` Permutation: Given a string, write a function to check if it is a permutation of a palindrome. A palindrome is a word or phrase that is the same forwards and backwards. A permutation\n",
    "is a rearrangement of letters.The palindrome does not need to be limited to just dictionary words"
   ]
  },
  {
   "cell_type": "code",
   "execution_count": 25,
   "metadata": {},
   "outputs": [],
   "source": [
    "def palindrome(s):\n",
    "    if len(s) < 2:\n",
    "        return True\n",
    "    else:\n",
    "        return s[0] == s[-1] and palindrome(s[1:-2])    "
   ]
  },
  {
   "cell_type": "code",
   "execution_count": 26,
   "metadata": {},
   "outputs": [
    {
     "name": "stdout",
     "output_type": "stream",
     "text": [
      "aba True\n",
      "a True\n",
      " True\n",
      "anna True\n",
      "a a True\n",
      "a c False\n",
      "ABC False\n"
     ]
    }
   ],
   "source": [
    "for s in [\"aba\", \"a\", \"\", \"anna\", \"a a\", \"a c\", \"ABC\"]:\n",
    "    print(s,palindrome(s))"
   ]
  },
  {
   "cell_type": "code",
   "execution_count": 34,
   "metadata": {},
   "outputs": [],
   "source": [
    "def is_permutation_of_palindrome(s):\n",
    "    dic = {}\n",
    "    for c in s:\n",
    "        dic[c] = dic.get(c,0) + 1\n",
    "    # can have {0,1} of odd entry\n",
    "    n_odd = 0\n",
    "    for c in dic:\n",
    "        if dic[c]%2:\n",
    "            n_odd += 1\n",
    "        if n_odd > 1:\n",
    "            return False\n",
    "    return True"
   ]
  },
  {
   "cell_type": "code",
   "execution_count": 38,
   "metadata": {},
   "outputs": [
    {
     "name": "stdout",
     "output_type": "stream",
     "text": [
      "anna True\n",
      "aann True\n",
      "a ann True\n",
      "abann True\n",
      "a bann False\n"
     ]
    }
   ],
   "source": [
    "for s in [\"anna\", \"aann\", \"a ann\", \"abann\", \"a bann\"]:\n",
    "    print(s, is_permutation_of_palindrome(s))"
   ]
  },
  {
   "cell_type": "code",
   "execution_count": null,
   "metadata": {},
   "outputs": [],
   "source": []
  }
 ],
 "metadata": {
  "kernelspec": {
   "display_name": "Python 3",
   "language": "python",
   "name": "python3"
  },
  "language_info": {
   "codemirror_mode": {
    "name": "ipython",
    "version": 3
   },
   "file_extension": ".py",
   "mimetype": "text/x-python",
   "name": "python",
   "nbconvert_exporter": "python",
   "pygments_lexer": "ipython3",
   "version": "3.6.5"
  }
 },
 "nbformat": 4,
 "nbformat_minor": 2
}
