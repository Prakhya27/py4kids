{
 "cells": [
  {
   "cell_type": "markdown",
   "metadata": {},
   "source": [
    "[py4kids](https://github.com/wgong/py4kids)"
   ]
  },
  {
   "cell_type": "markdown",
   "metadata": {},
   "source": [
    "# Object and Class\n",
    "\n",
    "\n",
    "In this lesson, we learn object-oriented programming in python. (Read Chapter 8 of textbook - Python for Kids)\n",
    "\n",
    "Key concepts\n",
    "* Object - how computer models / simulates a Thing (or everything) in the real world\n",
    "* Class - how to generalize (abstract, or template) objects \n",
    "\n",
    "Object has Property and Method. In general, Property describes Form, Method describes Function.\n",
    "\n",
    "Object to Class is like Cookie to Cookie Cutter. Class is Object Creator."
   ]
  },
  {
   "cell_type": "code",
   "execution_count": 1,
   "metadata": {},
   "outputs": [
    {
     "data": {
      "text/html": [
       "<div id=\"my_id_menu_nb\">run previous cell, wait for 2 seconds</div>\n",
       "<script>\n",
       "function repeat_indent_string(n){\n",
       "    var a = \"\" ;\n",
       "    for ( ; n > 0 ; --n) {\n",
       "        a += \"    \";\n",
       "    }\n",
       "    return a;\n",
       "}\n",
       "var update_menu_string = function(begin, lfirst, llast, sformat, send, keep_item) {\n",
       "    var anchors = document.getElementsByClassName(\"section\");\n",
       "    if (anchors.length == 0) {\n",
       "        anchors = document.getElementsByClassName(\"text_cell_render rendered_html\");\n",
       "    }\n",
       "    var i,t;\n",
       "    var text_menu = begin;\n",
       "    var text_memo = \"<pre>\\nlength:\" + anchors.length + \"\\n\";\n",
       "    var ind = \"\";\n",
       "    var memo_level = 1;\n",
       "    var href;\n",
       "    var tags = [];\n",
       "    var main_item = 0;\n",
       "    for (i = 0; i <= llast; i++) {\n",
       "        tags.push(\"h\" + i);\n",
       "    }\n",
       "\n",
       "    for (i = 0; i < anchors.length; i++) {\n",
       "        text_memo += \"**\" + anchors[i].id + \"--\\n\";\n",
       "\n",
       "        var child = null;\n",
       "        for(t = 0; t < tags.length; t++) {\n",
       "            var r = anchors[i].getElementsByTagName(tags[t]);\n",
       "            if (r.length > 0) {\n",
       "child = r[0];\n",
       "break;\n",
       "            }\n",
       "        }\n",
       "        if (child == null){\n",
       "            text_memo += \"null\\n\";\n",
       "            continue;\n",
       "        }\n",
       "        if (anchors[i].hasAttribute(\"id\")) {\n",
       "            // when converted in RST\n",
       "            href = anchors[i].id;\n",
       "            text_memo += \"#1-\" + href;\n",
       "            // passer à child suivant (le chercher)\n",
       "        }\n",
       "        else if (child.hasAttribute(\"id\")) {\n",
       "            // in a notebook\n",
       "            href = child.id;\n",
       "            text_memo += \"#2-\" + href;\n",
       "        }\n",
       "        else {\n",
       "            text_memo += \"#3-\" + \"*\" + \"\\n\";\n",
       "            continue;\n",
       "        }\n",
       "        var title = child.textContent;\n",
       "        var level = parseInt(child.tagName.substring(1,2));\n",
       "\n",
       "        text_memo += \"--\" + level + \"?\" + lfirst + \"--\" + title + \"\\n\";\n",
       "\n",
       "        if ((level < lfirst) || (level > llast)) {\n",
       "            continue ;\n",
       "        }\n",
       "        if (title.endsWith('¶')) {\n",
       "            title = title.substring(0,title.length-1).replace(\"<\", \"&lt;\").replace(\">\", \"&gt;\").replace(\"&\", \"&amp;\")\n",
       "        }\n",
       "\n",
       "        if (title.length == 0) {\n",
       "            continue;\n",
       "        }\n",
       "\n",
       "        while (level < memo_level) {\n",
       "            text_menu += \"</ul>\\n\";\n",
       "            memo_level -= 1;\n",
       "        }\n",
       "        if (level == lfirst) {\n",
       "            main_item += 1;\n",
       "        }\n",
       "        if (keep_item != -1 && main_item != keep_item + 1) {\n",
       "            // alert(main_item + \" - \" + level + \" - \" + keep_item);\n",
       "            continue;\n",
       "        }\n",
       "        while (level > memo_level) {\n",
       "            text_menu += \"<ul>\\n\";\n",
       "            memo_level += 1;\n",
       "        }\n",
       "        text_menu += repeat_indent_string(level-2) + sformat.replace(\"__HREF__\", href).replace(\"__TITLE__\", title);\n",
       "    }\n",
       "    while (1 < memo_level) {\n",
       "        text_menu += \"</ul>\\n\";\n",
       "        memo_level -= 1;\n",
       "    }\n",
       "    text_menu += send;\n",
       "    //text_menu += \"\\n\" + text_memo;\n",
       "    return text_menu;\n",
       "};\n",
       "var update_menu = function() {\n",
       "    var sbegin = \"\";\n",
       "    var sformat = '<li><a href=\"#__HREF__\">__TITLE__</a></li>';\n",
       "    var send = \"\";\n",
       "    var keep_item = -1;\n",
       "    var text_menu = update_menu_string(sbegin, 2, 4, sformat, send, keep_item);\n",
       "    var menu = document.getElementById(\"my_id_menu_nb\");\n",
       "    menu.innerHTML=text_menu;\n",
       "};\n",
       "window.setTimeout(update_menu,2000);\n",
       "            </script>"
      ],
      "text/plain": [
       "<IPython.core.display.HTML object>"
      ]
     },
     "execution_count": 1,
     "metadata": {},
     "output_type": "execute_result"
    }
   ],
   "source": [
    "from jyquickhelper import add_notebook_menu\n",
    "add_notebook_menu()"
   ]
  },
  {
   "cell_type": "markdown",
   "metadata": {},
   "source": [
    "## Why OOP?\n",
    "\n",
    "<img src=../images/009-0-oop-logo.png width=50%>\n",
    "\n",
    "* Mankind is creating new digital virtual world, which imitates how real world works.\n",
    "* Modular and Component-based design is one of the best engineering principles and practices to solve complex problems.\n",
    "* OOP codes have better efficency, robustness, ease of use, maintainability and reusability.\n",
    "* [Introduction to Computer Science\n",
    "Object Oriented Programming: Advantages of OOP](https://www.cs.drexel.edu/~introcs/Fa15/notes/06.1_OOP/Advantages.html?CurrentSlide=3)\n",
    "* [4 Advantages of Object-Oriented Programming](https://www.roberthalf.com/blog/salaries-and-skills/4-advantages-of-object-oriented-programming)\n"
   ]
  },
  {
   "cell_type": "markdown",
   "metadata": {
    "collapsed": true
   },
   "source": [
    "## Object-oriented programming (OOP)"
   ]
  },
  {
   "cell_type": "markdown",
   "metadata": {},
   "source": [
    "Procedural Programming vs Object-Oriented Programming\n",
    "\n",
    "<img src=../images/009-1-oop-proc2.png width=70%>"
   ]
  },
  {
   "cell_type": "markdown",
   "metadata": {},
   "source": [
    "Object has two key components: properties and methods\n",
    "\n",
    "<img src=../images/009-4-object-person.JPG width=50%>"
   ]
  },
  {
   "cell_type": "markdown",
   "metadata": {},
   "source": [
    "Object has hierarchy - parent and child relationship : child object inherits from parent object.\n",
    "\n",
    "Base Class is parent, SubClass is child.\n",
    "\n",
    "<img src=../images/009-2-oop-vehicle.jpg width=70%>"
   ]
  },
  {
   "cell_type": "code",
   "execution_count": 2,
   "metadata": {
    "collapsed": true
   },
   "outputs": [],
   "source": [
    "# base class: vehicle\n",
    "class Vehicle:\n",
    "    pass    # fill in details later\n",
    "    # vehicle is a machine that moves"
   ]
  },
  {
   "cell_type": "code",
   "execution_count": 3,
   "metadata": {
    "collapsed": true
   },
   "outputs": [],
   "source": [
    "# WheeledVehicle and Boat class inherit parent class=Vehicle\n",
    "class WheeledVehicle(Vehicle):\n",
    "    pass    # fill in details later\n",
    "    # vehicle that runs on land\n",
    "    \n",
    "class Boat(Vehicle):\n",
    "    pass    # fill in details later\n",
    "    # vehicle that runs in water"
   ]
  },
  {
   "cell_type": "code",
   "execution_count": 4,
   "metadata": {},
   "outputs": [],
   "source": [
    "class Car(WheeledVehicle):\n",
    "    pass\n",
    "    # passenger vehicle wiht 4 wheels\n",
    "\n",
    "class Bike(WheeledVehicle):\n",
    "    pass\n",
    "    # 2 wheels"
   ]
  },
  {
   "cell_type": "code",
   "execution_count": 5,
   "metadata": {
    "collapsed": true
   },
   "outputs": [],
   "source": [
    "class Ford(Car):\n",
    "    pass\n",
    "    # car made by Ford, burns gas\n",
    "\n",
    "class Tesla(Car):\n",
    "    pass\n",
    "    # electrical car by Musk, uses electricity"
   ]
  },
  {
   "cell_type": "markdown",
   "metadata": {},
   "source": [
    "### Car Class"
   ]
  },
  {
   "cell_type": "markdown",
   "metadata": {},
   "source": [
    "<img src=../images/009-3-class-car2.png width=80%>"
   ]
  },
  {
   "cell_type": "code",
   "execution_count": 6,
   "metadata": {
    "collapsed": true
   },
   "outputs": [],
   "source": [
    "class Car:\n",
    "    # constructor: define properties and how object is created initially\n",
    "    def __init__(self, number_of_wheels, number_of_doors, color, seating_capacity, maximum_speed):\n",
    "        self.number_of_wheels = number_of_wheels\n",
    "        self.number_of_doors = number_of_doors\n",
    "        self.color = color\n",
    "        self.seating_capacity = seating_capacity\n",
    "        self.maximum_speed = maximum_speed\n",
    "        self.speed = 0\n",
    "        self.alarm = False\n",
    "        \n",
    "    # getters and setters\n",
    "    def getColor(self):\n",
    "        return self.color\n",
    "\n",
    "    def setColor(self, color):\n",
    "        self.color = color\n",
    "\n",
    "    def getSpeed(self):\n",
    "        return self.speed\n",
    "\n",
    "    def setSpeed(self, speed):\n",
    "        self.speed = speed\n",
    "        \n",
    "    # private method\n",
    "    def _accelerate(self, target_speed, minutes_to_accelerate):\n",
    "        delta_per_min = (target_speed - self.speed) / minutes_to_accelerate\n",
    "        for tm in range(int(minutes_to_accelerate)):\n",
    "            self.speed = self.speed + delta_per_min\n",
    "            \n",
    "    def _steer(self):\n",
    "        pass\n",
    "\n",
    "    def _brake(self):\n",
    "        pass\n",
    "    \n",
    "    # utility\n",
    "    def show_properties(self):\n",
    "        props = (self.number_of_wheels, self.number_of_doors, self.color, self.seating_capacity, self.maximum_speed, self.speed, self.alarm)\n",
    "        print(\"\"\"This Car object's properties: \\n\\tnumber_of_wheels=%s, \\n\\tnumber_of_doors=%s, \\n\\tcolor=%s, \\n\\tseating_capacity=%s, \\n\\tmaximum_speed=%s, \\n\\tspeed=%s, \\n\\tAlarm?=%s\"\"\" % props)\n",
    "        \n",
    "    # public methods\n",
    "    def start(self, target_speed, minutes_to_accelerate=2):\n",
    "        self._accelerate(target_speed, minutes_to_accelerate)\n",
    "        pass\n",
    "        \n",
    "    def drive(self):\n",
    "        self._steer()\n",
    "        if self.alarm:\n",
    "            self._brake()\n",
    "    \n",
    "    def stop(self):\n",
    "        self._accelerate(0, 2)\n",
    "        # turn off engine        "
   ]
  },
  {
   "cell_type": "markdown",
   "metadata": {},
   "source": [
    "### [what is the purpose of self?](https://stackoverflow.com/questions/2709821/what-is-the-purpose-of-self)\n",
    "\n",
    "\n",
    "[The official explanation by Python Tsar - Guido van Rossum](http://neopythonic.blogspot.com/2008/10/why-explicit-self-has-to-stay.html)\n",
    "\n",
    "\n",
    "Let's say you have a class ClassA which contains a method methodA defined as:\n",
    "```\n",
    "def methodA(self, arg1, arg2):\n",
    "    # do something\n",
    "```\n",
    "and ObjectA is an instance of this class.\n",
    "\n",
    "Now when ObjectA.methodA(arg1, arg2) is called, python internally converts it for you as:\n",
    "\n",
    "ClassA.methodA(ObjectA, arg1, arg2)\n",
    "The self variable refers to the object itself.\n",
    "\n",
    "\n",
    "Counter example:\n",
    "\n",
    "```\n",
    "class A: \n",
    "    foo = []\n",
    "a, b = A(), A()\n",
    "a.foo.append(5)\n",
    "b.foo\n",
    "ans: [5]\n",
    "\n",
    "class A: \n",
    "    def __init__(self): \n",
    "        self.foo = []\n",
    "a, b = A(), A()\n",
    "a.foo.append(5)\n",
    "b.foo\n",
    "ans: []\n",
    "```\n"
   ]
  },
  {
   "cell_type": "markdown",
   "metadata": {},
   "source": [
    "### Car Objects\n",
    "\n",
    "From one Car Class, you create as many Car objects as you wish."
   ]
  },
  {
   "cell_type": "code",
   "execution_count": 7,
   "metadata": {},
   "outputs": [],
   "source": [
    "# let us create a car in computer\n",
    "# __init__(self, number_of_wheels, number_of_doors, color, seating_capacity, maximum_speed)\n",
    "\n",
    "my_first_car = Car(4, 2, 'red', 4, 120)"
   ]
  },
  {
   "cell_type": "code",
   "execution_count": 8,
   "metadata": {},
   "outputs": [
    {
     "data": {
      "text/plain": [
       "__main__.Car"
      ]
     },
     "execution_count": 8,
     "metadata": {},
     "output_type": "execute_result"
    }
   ],
   "source": [
    "# Class/Object is custom built type\n",
    "\n",
    "type(my_first_car)"
   ]
  },
  {
   "cell_type": "code",
   "execution_count": 9,
   "metadata": {},
   "outputs": [
    {
     "data": {
      "text/plain": [
       "__main__.Car"
      ]
     },
     "execution_count": 9,
     "metadata": {},
     "output_type": "execute_result"
    }
   ],
   "source": [
    "my_first_car.__class__"
   ]
  },
  {
   "cell_type": "code",
   "execution_count": 10,
   "metadata": {},
   "outputs": [
    {
     "data": {
      "text/plain": [
       "['__class__',\n",
       " '__delattr__',\n",
       " '__dict__',\n",
       " '__dir__',\n",
       " '__doc__',\n",
       " '__eq__',\n",
       " '__format__',\n",
       " '__ge__',\n",
       " '__getattribute__',\n",
       " '__gt__',\n",
       " '__hash__',\n",
       " '__init__',\n",
       " '__le__',\n",
       " '__lt__',\n",
       " '__module__',\n",
       " '__ne__',\n",
       " '__new__',\n",
       " '__reduce__',\n",
       " '__reduce_ex__',\n",
       " '__repr__',\n",
       " '__setattr__',\n",
       " '__sizeof__',\n",
       " '__str__',\n",
       " '__subclasshook__',\n",
       " '__weakref__',\n",
       " '_accelerate',\n",
       " '_brake',\n",
       " '_steer',\n",
       " 'alarm',\n",
       " 'color',\n",
       " 'drive',\n",
       " 'getColor',\n",
       " 'getSpeed',\n",
       " 'maximum_speed',\n",
       " 'number_of_doors',\n",
       " 'number_of_wheels',\n",
       " 'seating_capacity',\n",
       " 'setColor',\n",
       " 'setSpeed',\n",
       " 'show_properties',\n",
       " 'speed',\n",
       " 'start',\n",
       " 'stop']"
      ]
     },
     "execution_count": 10,
     "metadata": {},
     "output_type": "execute_result"
    }
   ],
   "source": [
    "# query class/object information\n",
    "dir(my_first_car)"
   ]
  },
  {
   "cell_type": "code",
   "execution_count": 11,
   "metadata": {},
   "outputs": [
    {
     "name": "stdout",
     "output_type": "stream",
     "text": [
      "This Car object's properties: \n",
      "\tnumber_of_wheels=4, \n",
      "\tnumber_of_doors=2, \n",
      "\tcolor=red, \n",
      "\tseating_capacity=4, \n",
      "\tmaximum_speed=120, \n",
      "\tspeed=0, \n",
      "\tAlarm?=False\n"
     ]
    }
   ],
   "source": [
    "my_first_car.show_properties()"
   ]
  },
  {
   "cell_type": "code",
   "execution_count": 12,
   "metadata": {},
   "outputs": [
    {
     "data": {
      "text/plain": [
       "'red'"
      ]
     },
     "execution_count": 12,
     "metadata": {},
     "output_type": "execute_result"
    }
   ],
   "source": [
    "my_first_car.getColor()"
   ]
  },
  {
   "cell_type": "code",
   "execution_count": 13,
   "metadata": {},
   "outputs": [
    {
     "data": {
      "text/plain": [
       "'red'"
      ]
     },
     "execution_count": 13,
     "metadata": {},
     "output_type": "execute_result"
    }
   ],
   "source": [
    "my_first_car.color"
   ]
  },
  {
   "cell_type": "code",
   "execution_count": 14,
   "metadata": {
    "collapsed": true
   },
   "outputs": [],
   "source": [
    "my_first_car.setColor('White')"
   ]
  },
  {
   "cell_type": "code",
   "execution_count": 15,
   "metadata": {},
   "outputs": [
    {
     "data": {
      "text/plain": [
       "'White'"
      ]
     },
     "execution_count": 15,
     "metadata": {},
     "output_type": "execute_result"
    }
   ],
   "source": [
    "my_first_car.color"
   ]
  },
  {
   "cell_type": "code",
   "execution_count": 16,
   "metadata": {},
   "outputs": [
    {
     "data": {
      "text/plain": [
       "0"
      ]
     },
     "execution_count": 16,
     "metadata": {},
     "output_type": "execute_result"
    }
   ],
   "source": [
    "my_first_car.getSpeed()"
   ]
  },
  {
   "cell_type": "code",
   "execution_count": 17,
   "metadata": {},
   "outputs": [],
   "source": [
    "my_first_car.start(15,2)"
   ]
  },
  {
   "cell_type": "code",
   "execution_count": 18,
   "metadata": {},
   "outputs": [
    {
     "data": {
      "text/plain": [
       "15.0"
      ]
     },
     "execution_count": 18,
     "metadata": {},
     "output_type": "execute_result"
    }
   ],
   "source": [
    "my_first_car.getSpeed()"
   ]
  },
  {
   "cell_type": "code",
   "execution_count": 19,
   "metadata": {
    "collapsed": true
   },
   "outputs": [],
   "source": [
    "my_first_car.drive()"
   ]
  },
  {
   "cell_type": "code",
   "execution_count": 20,
   "metadata": {},
   "outputs": [
    {
     "data": {
      "text/plain": [
       "15.0"
      ]
     },
     "execution_count": 20,
     "metadata": {},
     "output_type": "execute_result"
    }
   ],
   "source": [
    "my_first_car.getSpeed()"
   ]
  },
  {
   "cell_type": "code",
   "execution_count": 21,
   "metadata": {
    "collapsed": true
   },
   "outputs": [],
   "source": [
    "my_first_car.stop()"
   ]
  },
  {
   "cell_type": "code",
   "execution_count": 22,
   "metadata": {},
   "outputs": [
    {
     "data": {
      "text/plain": [
       "0.0"
      ]
     },
     "execution_count": 22,
     "metadata": {},
     "output_type": "execute_result"
    }
   ],
   "source": [
    "my_first_car.getSpeed()"
   ]
  },
  {
   "cell_type": "markdown",
   "metadata": {},
   "source": [
    "#### Inheritance"
   ]
  },
  {
   "cell_type": "code",
   "execution_count": 23,
   "metadata": {
    "collapsed": true
   },
   "outputs": [],
   "source": [
    "class FordEscape(Car):\n",
    "    def __init__(self, number_of_wheels, number_of_doors, color, seating_capacity, maximum_speed, style):\n",
    "        Car.__init__(self, number_of_wheels, number_of_doors, color, seating_capacity, maximum_speed)\n",
    "        self.manufacturer = 'Ford'\n",
    "        self.style = style\n",
    "    \n",
    "    # add subclass properties\n",
    "    def show_properties(self):\n",
    "        Car.show_properties(self)\n",
    "        print(\"\"\"\\tmanufacturer=%s, \\n\\tstyle=%s\"\"\" % (self.manufacturer, self.style))\n",
    "        "
   ]
  },
  {
   "cell_type": "markdown",
   "metadata": {},
   "source": [
    "Since FordEscape Car class is built from base Car class, it inherits Car class's properties and methods (for free)"
   ]
  },
  {
   "cell_type": "code",
   "execution_count": 24,
   "metadata": {
    "collapsed": true
   },
   "outputs": [],
   "source": [
    "my_2nd_car = FordEscape(4, 4, 'Blue', 6, 140, 'SUV')"
   ]
  },
  {
   "cell_type": "code",
   "execution_count": 25,
   "metadata": {},
   "outputs": [
    {
     "data": {
      "text/plain": [
       "__main__.FordEscape"
      ]
     },
     "execution_count": 25,
     "metadata": {},
     "output_type": "execute_result"
    }
   ],
   "source": [
    "type(my_2nd_car)"
   ]
  },
  {
   "cell_type": "code",
   "execution_count": 26,
   "metadata": {},
   "outputs": [
    {
     "data": {
      "text/plain": [
       "['__class__',\n",
       " '__delattr__',\n",
       " '__dict__',\n",
       " '__dir__',\n",
       " '__doc__',\n",
       " '__eq__',\n",
       " '__format__',\n",
       " '__ge__',\n",
       " '__getattribute__',\n",
       " '__gt__',\n",
       " '__hash__',\n",
       " '__init__',\n",
       " '__le__',\n",
       " '__lt__',\n",
       " '__module__',\n",
       " '__ne__',\n",
       " '__new__',\n",
       " '__reduce__',\n",
       " '__reduce_ex__',\n",
       " '__repr__',\n",
       " '__setattr__',\n",
       " '__sizeof__',\n",
       " '__str__',\n",
       " '__subclasshook__',\n",
       " '__weakref__',\n",
       " '_accelerate',\n",
       " '_brake',\n",
       " '_steer',\n",
       " 'alarm',\n",
       " 'color',\n",
       " 'drive',\n",
       " 'getColor',\n",
       " 'getSpeed',\n",
       " 'manufacturer',\n",
       " 'maximum_speed',\n",
       " 'number_of_doors',\n",
       " 'number_of_wheels',\n",
       " 'seating_capacity',\n",
       " 'setColor',\n",
       " 'setSpeed',\n",
       " 'show_properties',\n",
       " 'speed',\n",
       " 'start',\n",
       " 'stop',\n",
       " 'style']"
      ]
     },
     "execution_count": 26,
     "metadata": {},
     "output_type": "execute_result"
    }
   ],
   "source": [
    "dir(my_2nd_car)"
   ]
  },
  {
   "cell_type": "code",
   "execution_count": 27,
   "metadata": {},
   "outputs": [
    {
     "name": "stdout",
     "output_type": "stream",
     "text": [
      "This Car object's properties: \n",
      "\tnumber_of_wheels=4, \n",
      "\tnumber_of_doors=4, \n",
      "\tcolor=Blue, \n",
      "\tseating_capacity=6, \n",
      "\tmaximum_speed=140, \n",
      "\tspeed=0, \n",
      "\tAlarm?=False\n",
      "\tmanufacturer=Ford, \n",
      "\tstyle=SUV\n"
     ]
    }
   ],
   "source": [
    "my_2nd_car.show_properties()"
   ]
  },
  {
   "cell_type": "code",
   "execution_count": 28,
   "metadata": {},
   "outputs": [
    {
     "data": {
      "text/plain": [
       "'Blue'"
      ]
     },
     "execution_count": 28,
     "metadata": {},
     "output_type": "execute_result"
    }
   ],
   "source": [
    "my_2nd_car.getColor()"
   ]
  },
  {
   "cell_type": "code",
   "execution_count": 29,
   "metadata": {},
   "outputs": [
    {
     "data": {
      "text/plain": [
       "('SUV', 'Ford')"
      ]
     },
     "execution_count": 29,
     "metadata": {},
     "output_type": "execute_result"
    }
   ],
   "source": [
    "my_2nd_car.style, my_2nd_car.manufacturer"
   ]
  },
  {
   "cell_type": "code",
   "execution_count": 30,
   "metadata": {},
   "outputs": [
    {
     "data": {
      "text/plain": [
       "30.0"
      ]
     },
     "execution_count": 30,
     "metadata": {},
     "output_type": "execute_result"
    }
   ],
   "source": [
    "my_2nd_car.start(30,2)\n",
    "my_2nd_car.getSpeed()"
   ]
  },
  {
   "cell_type": "code",
   "execution_count": 31,
   "metadata": {},
   "outputs": [
    {
     "data": {
      "text/plain": [
       "30.0"
      ]
     },
     "execution_count": 31,
     "metadata": {},
     "output_type": "execute_result"
    }
   ],
   "source": [
    "my_2nd_car.drive()\n",
    "my_2nd_car.getSpeed()"
   ]
  },
  {
   "cell_type": "code",
   "execution_count": 32,
   "metadata": {},
   "outputs": [
    {
     "data": {
      "text/plain": [
       "0.0"
      ]
     },
     "execution_count": 32,
     "metadata": {},
     "output_type": "execute_result"
    }
   ],
   "source": [
    "my_2nd_car.stop()\n",
    "my_2nd_car.getSpeed()"
   ]
  },
  {
   "cell_type": "markdown",
   "metadata": {},
   "source": [
    "## Learn by example - the Open Source way\n",
    "\n",
    "In the open source world, it is not only legal to copy open-sourced codes and programs as long as one credits the original source, it is also encouraged to develop and innovate. \n",
    "\n",
    "Check out [The Free Software Foundation (FSF)](http://www.fsf.org/), and its founding father [Richard Stallman](https://www.wikiwand.com/en/Richard_Stallman), and [GNU Project](https://www.gnu.org/)\n",
    "\n",
    "<img src=../images/009-Richard-Stallman-Famous-IT-Personalities3.jpg width=60%>\n"
   ]
  },
  {
   "cell_type": "markdown",
   "metadata": {},
   "source": [
    "### [Pygame](https://www.pygame.org/) sample program - Fist punches Chimp\n",
    "\n",
    "It has the basic ingredients for a simple game with sound, image, object collision detection.\n",
    "\n",
    "More examples can be found at C:\\Anaconda3\\Lib\\site-packages\\pygame\\examples (for window installation)\n",
    "\n",
    "<img src=../images/009-cute-chimp.jpg width=60%>\n",
    "\n"
   ]
  },
  {
   "cell_type": "markdown",
   "metadata": {},
   "source": [
    "To play chimp game, type\n",
    "```\n",
    "python chimp.py\n",
    "```"
   ]
  },
  {
   "cell_type": "markdown",
   "metadata": {},
   "source": [
    "Here are the Fist and Chimp classes/objects"
   ]
  },
  {
   "cell_type": "markdown",
   "metadata": {},
   "source": [
    "```\n",
    "#classes for our game objects\n",
    "class Fist(pygame.sprite.Sprite):\n",
    "    \"\"\"moves a clenched fist on the screen, following the mouse\"\"\"\n",
    "    def __init__(self):\n",
    "        pygame.sprite.Sprite.__init__(self) #call Sprite initializer\n",
    "        self.image, self.rect = load_image('fist.bmp', -1)\n",
    "        self.punching = 0\n",
    "\n",
    "    def update(self):\n",
    "        \"move the fist based on the mouse position\"\n",
    "        pos = pygame.mouse.get_pos()\n",
    "        self.rect.midtop = pos\n",
    "        if self.punching:\n",
    "            self.rect.move_ip(5, 10)\n",
    "\n",
    "    def punch(self, target):\n",
    "        \"returns true if the fist collides with the target\"\n",
    "        if not self.punching:\n",
    "            self.punching = 1\n",
    "            hitbox = self.rect.inflate(-5, -5)\n",
    "            return hitbox.colliderect(target.rect)\n",
    "\n",
    "    def unpunch(self):\n",
    "        \"called to pull the fist back\"\n",
    "        self.punching = 0\n",
    "\n",
    "\n",
    "class Chimp(pygame.sprite.Sprite):\n",
    "    \"\"\"moves a monkey critter across the screen. it can spin the\n",
    "       monkey when it is punched.\"\"\"\n",
    "    def __init__(self):\n",
    "        pygame.sprite.Sprite.__init__(self) #call Sprite intializer\n",
    "        self.image, self.rect = load_image('chimp.bmp', -1)\n",
    "        screen = pygame.display.get_surface()\n",
    "        self.area = screen.get_rect()\n",
    "        self.rect.topleft = 10, 10\n",
    "        self.move = 9\n",
    "        self.dizzy = 0\n",
    "\n",
    "    def update(self):\n",
    "        \"walk or spin, depending on the monkeys state\"\n",
    "        if self.dizzy:\n",
    "            self._spin()\n",
    "        else:\n",
    "            self._walk()\n",
    "\n",
    "    def _walk(self):\n",
    "        \"move the monkey across the screen, and turn at the ends\"\n",
    "        newpos = self.rect.move((self.move, 0))\n",
    "        if self.rect.left < self.area.left or \\\n",
    "            self.rect.right > self.area.right:\n",
    "            self.move = -self.move\n",
    "            newpos = self.rect.move((self.move, 0))\n",
    "            self.image = pygame.transform.flip(self.image, 1, 0)\n",
    "        self.rect = newpos\n",
    "\n",
    "    def _spin(self):\n",
    "        \"spin the monkey image\"\n",
    "        center = self.rect.center\n",
    "        self.dizzy = self.dizzy + 12\n",
    "        if self.dizzy >= 360:\n",
    "            self.dizzy = 0\n",
    "            self.image = self.original\n",
    "        else:\n",
    "            rotate = pygame.transform.rotate\n",
    "            self.image = rotate(self.original, self.dizzy)\n",
    "        self.rect = self.image.get_rect(center=center)\n",
    "\n",
    "    def punched(self):\n",
    "        \"this will cause the monkey to start spinning\"\n",
    "        if not self.dizzy:\n",
    "            self.dizzy = 1\n",
    "            self.original = self.image\n",
    "\n",
    "```"
   ]
  },
  {
   "cell_type": "code",
   "execution_count": null,
   "metadata": {
    "collapsed": true
   },
   "outputs": [],
   "source": []
  },
  {
   "cell_type": "code",
   "execution_count": null,
   "metadata": {
    "collapsed": true
   },
   "outputs": [],
   "source": []
  }
 ],
 "metadata": {
  "anaconda-cloud": {},
  "kernelspec": {
   "display_name": "Python 3",
   "language": "python",
   "name": "python3"
  },
  "language_info": {
   "codemirror_mode": {
    "name": "ipython",
    "version": 3
   },
   "file_extension": ".py",
   "mimetype": "text/x-python",
   "name": "python",
   "nbconvert_exporter": "python",
   "pygments_lexer": "ipython3",
   "version": "3.7.1"
  }
 },
 "nbformat": 4,
 "nbformat_minor": 1
}
