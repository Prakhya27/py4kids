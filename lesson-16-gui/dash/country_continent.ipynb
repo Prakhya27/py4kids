{
 "cells": [
  {
   "cell_type": "code",
   "execution_count": 1,
   "metadata": {},
   "outputs": [],
   "source": [
    "import pandas as pd"
   ]
  },
  {
   "cell_type": "code",
   "execution_count": 2,
   "metadata": {},
   "outputs": [],
   "source": [
    "file_csv = 'gapminderDataFiveYear.csv'\n",
    "df = pd.read_csv(file_csv)"
   ]
  },
  {
   "cell_type": "code",
   "execution_count": 3,
   "metadata": {},
   "outputs": [
    {
     "data": {
      "text/html": [
       "<div>\n",
       "<style scoped>\n",
       "    .dataframe tbody tr th:only-of-type {\n",
       "        vertical-align: middle;\n",
       "    }\n",
       "\n",
       "    .dataframe tbody tr th {\n",
       "        vertical-align: top;\n",
       "    }\n",
       "\n",
       "    .dataframe thead th {\n",
       "        text-align: right;\n",
       "    }\n",
       "</style>\n",
       "<table border=\"1\" class=\"dataframe\">\n",
       "  <thead>\n",
       "    <tr style=\"text-align: right;\">\n",
       "      <th></th>\n",
       "      <th>country</th>\n",
       "      <th>year</th>\n",
       "      <th>pop</th>\n",
       "      <th>continent</th>\n",
       "      <th>lifeExp</th>\n",
       "      <th>gdpPercap</th>\n",
       "    </tr>\n",
       "  </thead>\n",
       "  <tbody>\n",
       "    <tr>\n",
       "      <th>0</th>\n",
       "      <td>Afghanistan</td>\n",
       "      <td>1952</td>\n",
       "      <td>8425333.0</td>\n",
       "      <td>Asia</td>\n",
       "      <td>28.801</td>\n",
       "      <td>779.445314</td>\n",
       "    </tr>\n",
       "    <tr>\n",
       "      <th>1</th>\n",
       "      <td>Afghanistan</td>\n",
       "      <td>1957</td>\n",
       "      <td>9240934.0</td>\n",
       "      <td>Asia</td>\n",
       "      <td>30.332</td>\n",
       "      <td>820.853030</td>\n",
       "    </tr>\n",
       "    <tr>\n",
       "      <th>2</th>\n",
       "      <td>Afghanistan</td>\n",
       "      <td>1962</td>\n",
       "      <td>10267083.0</td>\n",
       "      <td>Asia</td>\n",
       "      <td>31.997</td>\n",
       "      <td>853.100710</td>\n",
       "    </tr>\n",
       "    <tr>\n",
       "      <th>3</th>\n",
       "      <td>Afghanistan</td>\n",
       "      <td>1967</td>\n",
       "      <td>11537966.0</td>\n",
       "      <td>Asia</td>\n",
       "      <td>34.020</td>\n",
       "      <td>836.197138</td>\n",
       "    </tr>\n",
       "    <tr>\n",
       "      <th>4</th>\n",
       "      <td>Afghanistan</td>\n",
       "      <td>1972</td>\n",
       "      <td>13079460.0</td>\n",
       "      <td>Asia</td>\n",
       "      <td>36.088</td>\n",
       "      <td>739.981106</td>\n",
       "    </tr>\n",
       "  </tbody>\n",
       "</table>\n",
       "</div>"
      ],
      "text/plain": [
       "       country  year         pop continent  lifeExp   gdpPercap\n",
       "0  Afghanistan  1952   8425333.0      Asia   28.801  779.445314\n",
       "1  Afghanistan  1957   9240934.0      Asia   30.332  820.853030\n",
       "2  Afghanistan  1962  10267083.0      Asia   31.997  853.100710\n",
       "3  Afghanistan  1967  11537966.0      Asia   34.020  836.197138\n",
       "4  Afghanistan  1972  13079460.0      Asia   36.088  739.981106"
      ]
     },
     "execution_count": 3,
     "metadata": {},
     "output_type": "execute_result"
    }
   ],
   "source": [
    "df.head()"
   ]
  },
  {
   "cell_type": "code",
   "execution_count": 4,
   "metadata": {},
   "outputs": [
    {
     "data": {
      "text/plain": [
       "(1704, 6)"
      ]
     },
     "execution_count": 4,
     "metadata": {},
     "output_type": "execute_result"
    }
   ],
   "source": [
    "df.shape"
   ]
  },
  {
   "cell_type": "code",
   "execution_count": 17,
   "metadata": {},
   "outputs": [
    {
     "data": {
      "text/html": [
       "<div>\n",
       "<style scoped>\n",
       "    .dataframe tbody tr th:only-of-type {\n",
       "        vertical-align: middle;\n",
       "    }\n",
       "\n",
       "    .dataframe tbody tr th {\n",
       "        vertical-align: top;\n",
       "    }\n",
       "\n",
       "    .dataframe thead th {\n",
       "        text-align: right;\n",
       "    }\n",
       "</style>\n",
       "<table border=\"1\" class=\"dataframe\">\n",
       "  <thead>\n",
       "    <tr style=\"text-align: right;\">\n",
       "      <th></th>\n",
       "      <th>country</th>\n",
       "      <th>year</th>\n",
       "      <th>pop</th>\n",
       "      <th>continent</th>\n",
       "      <th>lifeExp</th>\n",
       "      <th>gdpPercap</th>\n",
       "    </tr>\n",
       "  </thead>\n",
       "  <tbody>\n",
       "    <tr>\n",
       "      <th>0</th>\n",
       "      <td>Afghanistan</td>\n",
       "      <td>1952</td>\n",
       "      <td>8425333.0</td>\n",
       "      <td>Asia</td>\n",
       "      <td>28.801</td>\n",
       "      <td>779.445314</td>\n",
       "    </tr>\n",
       "    <tr>\n",
       "      <th>1</th>\n",
       "      <td>Afghanistan</td>\n",
       "      <td>1957</td>\n",
       "      <td>9240934.0</td>\n",
       "      <td>Asia</td>\n",
       "      <td>30.332</td>\n",
       "      <td>820.853030</td>\n",
       "    </tr>\n",
       "    <tr>\n",
       "      <th>2</th>\n",
       "      <td>Afghanistan</td>\n",
       "      <td>1962</td>\n",
       "      <td>10267083.0</td>\n",
       "      <td>Asia</td>\n",
       "      <td>31.997</td>\n",
       "      <td>853.100710</td>\n",
       "    </tr>\n",
       "    <tr>\n",
       "      <th>3</th>\n",
       "      <td>Afghanistan</td>\n",
       "      <td>1967</td>\n",
       "      <td>11537966.0</td>\n",
       "      <td>Asia</td>\n",
       "      <td>34.020</td>\n",
       "      <td>836.197138</td>\n",
       "    </tr>\n",
       "    <tr>\n",
       "      <th>4</th>\n",
       "      <td>Afghanistan</td>\n",
       "      <td>1972</td>\n",
       "      <td>13079460.0</td>\n",
       "      <td>Asia</td>\n",
       "      <td>36.088</td>\n",
       "      <td>739.981106</td>\n",
       "    </tr>\n",
       "  </tbody>\n",
       "</table>\n",
       "</div>"
      ],
      "text/plain": [
       "       country  year         pop continent  lifeExp   gdpPercap\n",
       "0  Afghanistan  1952   8425333.0      Asia   28.801  779.445314\n",
       "1  Afghanistan  1957   9240934.0      Asia   30.332  820.853030\n",
       "2  Afghanistan  1962  10267083.0      Asia   31.997  853.100710\n",
       "3  Afghanistan  1967  11537966.0      Asia   34.020  836.197138\n",
       "4  Afghanistan  1972  13079460.0      Asia   36.088  739.981106"
      ]
     },
     "execution_count": 17,
     "metadata": {},
     "output_type": "execute_result"
    }
   ],
   "source": [
    "df.head()"
   ]
  },
  {
   "cell_type": "code",
   "execution_count": 18,
   "metadata": {},
   "outputs": [],
   "source": [
    "df2 = df[['country','continent']]"
   ]
  },
  {
   "cell_type": "code",
   "execution_count": 21,
   "metadata": {},
   "outputs": [
    {
     "name": "stderr",
     "output_type": "stream",
     "text": [
      "/home/gong/anaconda3/lib/python3.7/site-packages/ipykernel_launcher.py:1: SettingWithCopyWarning: \n",
      "A value is trying to be set on a copy of a slice from a DataFrame\n",
      "\n",
      "See the caveats in the documentation: http://pandas.pydata.org/pandas-docs/stable/indexing.html#indexing-view-versus-copy\n",
      "  \"\"\"Entry point for launching an IPython kernel.\n"
     ]
    }
   ],
   "source": [
    "df2.drop_duplicates(inplace=True)"
   ]
  },
  {
   "cell_type": "code",
   "execution_count": 24,
   "metadata": {},
   "outputs": [],
   "source": [
    "df2.to_csv(\"country_continent.csv\", index=False)"
   ]
  },
  {
   "cell_type": "code",
   "execution_count": 5,
   "metadata": {},
   "outputs": [
    {
     "data": {
      "text/plain": [
       "(142,\n",
       " ['Afghanistan',\n",
       "  'Albania',\n",
       "  'Algeria',\n",
       "  'Angola',\n",
       "  'Argentina',\n",
       "  'Australia',\n",
       "  'Austria',\n",
       "  'Bahrain',\n",
       "  'Bangladesh',\n",
       "  'Belgium',\n",
       "  'Benin',\n",
       "  'Bolivia',\n",
       "  'Bosnia and Herzegovina',\n",
       "  'Botswana',\n",
       "  'Brazil',\n",
       "  'Bulgaria',\n",
       "  'Burkina Faso',\n",
       "  'Burundi',\n",
       "  'Cambodia',\n",
       "  'Cameroon',\n",
       "  'Canada',\n",
       "  'Central African Republic',\n",
       "  'Chad',\n",
       "  'Chile',\n",
       "  'China',\n",
       "  'Colombia',\n",
       "  'Comoros',\n",
       "  'Congo, Dem. Rep.',\n",
       "  'Congo, Rep.',\n",
       "  'Costa Rica',\n",
       "  \"Cote d'Ivoire\",\n",
       "  'Croatia',\n",
       "  'Cuba',\n",
       "  'Czech Republic',\n",
       "  'Denmark',\n",
       "  'Djibouti',\n",
       "  'Dominican Republic',\n",
       "  'Ecuador',\n",
       "  'Egypt',\n",
       "  'El Salvador',\n",
       "  'Equatorial Guinea',\n",
       "  'Eritrea',\n",
       "  'Ethiopia',\n",
       "  'Finland',\n",
       "  'France',\n",
       "  'Gabon',\n",
       "  'Gambia',\n",
       "  'Germany',\n",
       "  'Ghana',\n",
       "  'Greece',\n",
       "  'Guatemala',\n",
       "  'Guinea',\n",
       "  'Guinea-Bissau',\n",
       "  'Haiti',\n",
       "  'Honduras',\n",
       "  'Hong Kong, China',\n",
       "  'Hungary',\n",
       "  'Iceland',\n",
       "  'India',\n",
       "  'Indonesia',\n",
       "  'Iran',\n",
       "  'Iraq',\n",
       "  'Ireland',\n",
       "  'Israel',\n",
       "  'Italy',\n",
       "  'Jamaica',\n",
       "  'Japan',\n",
       "  'Jordan',\n",
       "  'Kenya',\n",
       "  'Korea, Dem. Rep.',\n",
       "  'Korea, Rep.',\n",
       "  'Kuwait',\n",
       "  'Lebanon',\n",
       "  'Lesotho',\n",
       "  'Liberia',\n",
       "  'Libya',\n",
       "  'Madagascar',\n",
       "  'Malawi',\n",
       "  'Malaysia',\n",
       "  'Mali',\n",
       "  'Mauritania',\n",
       "  'Mauritius',\n",
       "  'Mexico',\n",
       "  'Mongolia',\n",
       "  'Montenegro',\n",
       "  'Morocco',\n",
       "  'Mozambique',\n",
       "  'Myanmar',\n",
       "  'Namibia',\n",
       "  'Nepal',\n",
       "  'Netherlands',\n",
       "  'New Zealand',\n",
       "  'Nicaragua',\n",
       "  'Niger',\n",
       "  'Nigeria',\n",
       "  'Norway',\n",
       "  'Oman',\n",
       "  'Pakistan',\n",
       "  'Panama',\n",
       "  'Paraguay',\n",
       "  'Peru',\n",
       "  'Philippines',\n",
       "  'Poland',\n",
       "  'Portugal',\n",
       "  'Puerto Rico',\n",
       "  'Reunion',\n",
       "  'Romania',\n",
       "  'Rwanda',\n",
       "  'Sao Tome and Principe',\n",
       "  'Saudi Arabia',\n",
       "  'Senegal',\n",
       "  'Serbia',\n",
       "  'Sierra Leone',\n",
       "  'Singapore',\n",
       "  'Slovak Republic',\n",
       "  'Slovenia',\n",
       "  'Somalia',\n",
       "  'South Africa',\n",
       "  'Spain',\n",
       "  'Sri Lanka',\n",
       "  'Sudan',\n",
       "  'Swaziland',\n",
       "  'Sweden',\n",
       "  'Switzerland',\n",
       "  'Syria',\n",
       "  'Taiwan',\n",
       "  'Tanzania',\n",
       "  'Thailand',\n",
       "  'Togo',\n",
       "  'Trinidad and Tobago',\n",
       "  'Tunisia',\n",
       "  'Turkey',\n",
       "  'Uganda',\n",
       "  'United Kingdom',\n",
       "  'United States',\n",
       "  'Uruguay',\n",
       "  'Venezuela',\n",
       "  'Vietnam',\n",
       "  'West Bank and Gaza',\n",
       "  'Yemen, Rep.',\n",
       "  'Zambia',\n",
       "  'Zimbabwe'])"
      ]
     },
     "execution_count": 5,
     "metadata": {},
     "output_type": "execute_result"
    }
   ],
   "source": [
    "countries = sorted(df[\"country\"].unique())\n",
    "\n",
    "len(countries), countries"
   ]
  },
  {
   "cell_type": "code",
   "execution_count": 6,
   "metadata": {},
   "outputs": [
    {
     "data": {
      "text/plain": [
       "(5, ['Africa', 'Americas', 'Asia', 'Europe', 'Oceania'])"
      ]
     },
     "execution_count": 6,
     "metadata": {},
     "output_type": "execute_result"
    }
   ],
   "source": [
    "continent = sorted(df[\"continent\"].unique())\n",
    "\n",
    "len(continent), continent"
   ]
  },
  {
   "cell_type": "code",
   "execution_count": 22,
   "metadata": {},
   "outputs": [
    {
     "data": {
      "text/plain": [
       "(12, [1952, 1957, 1962, 1967, 1972, 1977, 1982, 1987, 1992, 1997, 2002, 2007])"
      ]
     },
     "execution_count": 22,
     "metadata": {},
     "output_type": "execute_result"
    }
   ],
   "source": [
    "years = sorted(df[\"Year\"].unique())\n",
    "\n",
    "len(years), years"
   ]
  },
  {
   "cell_type": "code",
   "execution_count": 25,
   "metadata": {},
   "outputs": [
    {
     "data": {
      "text/plain": [
       "(1952, 2007)"
      ]
     },
     "execution_count": 25,
     "metadata": {},
     "output_type": "execute_result"
    }
   ],
   "source": [
    "years[0], years[-1]"
   ]
  },
  {
   "cell_type": "code",
   "execution_count": null,
   "metadata": {},
   "outputs": [],
   "source": []
  }
 ],
 "metadata": {
  "kernelspec": {
   "display_name": "Python 3",
   "language": "python",
   "name": "python3"
  },
  "language_info": {
   "codemirror_mode": {
    "name": "ipython",
    "version": 3
   },
   "file_extension": ".py",
   "mimetype": "text/x-python",
   "name": "python",
   "nbconvert_exporter": "python",
   "pygments_lexer": "ipython3",
   "version": "3.7.3"
  }
 },
 "nbformat": 4,
 "nbformat_minor": 2
}
