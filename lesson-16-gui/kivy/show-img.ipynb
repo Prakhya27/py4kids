{
 "cells": [
  {
   "cell_type": "code",
   "execution_count": 1,
   "metadata": {},
   "outputs": [
    {
     "name": "stderr",
     "output_type": "stream",
     "text": [
      "[INFO   ] [Logger      ] Record log in C:\\Users\\19196\\.kivy\\logs\\kivy_19-12-27_4.txt\n",
      "[INFO   ] [deps        ] Successfully imported \"kivy_deps.gstreamer\" 0.1.18\n",
      "[INFO   ] [deps        ] Successfully imported \"kivy_deps.angle\" 0.1.10\n",
      "[INFO   ] [deps        ] Successfully imported \"kivy_deps.glew\" 0.1.12\n",
      "[INFO   ] [deps        ] Successfully imported \"kivy_deps.sdl2\" 0.1.23\n",
      "[INFO   ] [Kivy        ] v1.11.1\n",
      "[INFO   ] [Kivy        ] Installed at \"C:\\Users\\19196\\Anaconda3\\envs\\kivy\\lib\\site-packages\\kivy\\__init__.py\"\n",
      "[INFO   ] [Python      ] v3.7.5 (default, Oct 31 2019, 15:18:51) [MSC v.1916 64 bit (AMD64)]\n",
      "[INFO   ] [Python      ] Interpreter at \"C:\\Users\\19196\\Anaconda3\\envs\\kivy\\python.exe\"\n",
      "[INFO   ] [Factory     ] 184 symbols loaded\n",
      "[INFO   ] [Image       ] Providers: img_tex, img_dds, img_sdl2, img_pil, img_gif (img_ffpyplayer ignored)\n",
      "[INFO   ] [Window      ] Provider: sdl2\n",
      "[INFO   ] [GL          ] Using the \"OpenGL\" graphics system\n",
      "[INFO   ] [GL          ] GLEW initialization succeeded\n",
      "[INFO   ] [GL          ] Backend used <glew>\n",
      "[INFO   ] [GL          ] OpenGL version <b'4.6.0 NVIDIA 441.66'>\n",
      "[INFO   ] [GL          ] OpenGL vendor <b'NVIDIA Corporation'>\n",
      "[INFO   ] [GL          ] OpenGL renderer <b'GeForce GTX 1080 Ti/PCIe/SSE2'>\n",
      "[INFO   ] [GL          ] OpenGL parsed version: 4, 6\n",
      "[INFO   ] [GL          ] Shading version <b'4.60 NVIDIA'>\n",
      "[INFO   ] [GL          ] Texture max size <32768>\n",
      "[INFO   ] [GL          ] Texture max units <32>\n",
      "[INFO   ] [Window      ] auto add sdl2 input provider\n",
      "[INFO   ] [Window      ] virtual keyboard not allowed, single mode, not docked\n",
      "[INFO   ] [GL          ] NPOT texture support is available\n",
      "[INFO   ] [Base        ] Start application main loop\n",
      "[INFO   ] [Base        ] Leaving application in progress...\n",
      "[INFO   ] [WindowSDL   ] exiting mainloop and closing.\n"
     ]
    }
   ],
   "source": [
    "from kivy.app import App\n",
    "from kivy.uix.image import Image\n",
    "\n",
    "class MainApp(App):\n",
    "    def build(self):\n",
    "        img = Image(source='kivy.png',\n",
    "                    size_hint=(1, .5),\n",
    "                    pos_hint={'center_x':.5, 'center_y':.5})\n",
    "\n",
    "        return img\n",
    "\n",
    "if __name__ == '__main__':\n",
    "    app = MainApp()\n",
    "    app.run()"
   ]
  },
  {
   "cell_type": "code",
   "execution_count": null,
   "metadata": {},
   "outputs": [],
   "source": []
  }
 ],
 "metadata": {
  "kernelspec": {
   "display_name": "Python 3",
   "language": "python",
   "name": "python3"
  },
  "language_info": {
   "codemirror_mode": {
    "name": "ipython",
    "version": 3
   },
   "file_extension": ".py",
   "mimetype": "text/x-python",
   "name": "python",
   "nbconvert_exporter": "python",
   "pygments_lexer": "ipython3",
   "version": "3.7.5"
  },
  "latex_envs": {
   "LaTeX_envs_menu_present": true,
   "autoclose": false,
   "autocomplete": true,
   "bibliofile": "biblio.bib",
   "cite_by": "apalike",
   "current_citInitial": 1,
   "eqLabelWithNumbers": true,
   "eqNumInitial": 1,
   "hotkeys": {
    "equation": "Ctrl-E",
    "itemize": "Ctrl-I"
   },
   "labels_anchors": false,
   "latex_user_defs": false,
   "report_style_numbering": false,
   "user_envs_cfg": false
  },
  "toc": {
   "base_numbering": 1,
   "nav_menu": {},
   "number_sections": true,
   "sideBar": true,
   "skip_h1_title": false,
   "title_cell": "Table of Contents",
   "title_sidebar": "Contents",
   "toc_cell": false,
   "toc_position": {},
   "toc_section_display": true,
   "toc_window_display": false
  }
 },
 "nbformat": 4,
 "nbformat_minor": 2
}
