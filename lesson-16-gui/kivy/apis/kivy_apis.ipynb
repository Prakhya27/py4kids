{
 "cells": [
  {
   "cell_type": "markdown",
   "metadata": {},
   "source": [
    "### UrlRequest\n",
    "\n",
    "https://kivy.org/doc/stable/api-kivy.network.urlrequest.html"
   ]
  },
  {
   "cell_type": "code",
   "execution_count": 1,
   "metadata": {},
   "outputs": [
    {
     "name": "stderr",
     "output_type": "stream",
     "text": [
      "[INFO   ] [Logger      ] Record log in /home/gong/.kivy/logs/kivy_20-01-08_7.txt\n",
      "[INFO   ] [Kivy        ] v1.11.1\n",
      "[INFO   ] [Kivy        ] Installed at \"/home/gong/anaconda3/envs/kivy/lib/python3.7/site-packages/kivy/__init__.py\"\n",
      "[INFO   ] [Python      ] v3.7.6 | packaged by conda-forge | (default, Dec 27 2019, 00:09:34) \n",
      "[GCC 7.3.0]\n",
      "[INFO   ] [Python      ] Interpreter at \"/home/gong/anaconda3/envs/kivy/bin/python\"\n"
     ]
    }
   ],
   "source": [
    "from kivy.network.urlrequest import UrlRequest"
   ]
  },
  {
   "cell_type": "code",
   "execution_count": 2,
   "metadata": {},
   "outputs": [],
   "source": [
    "def got_json(req, result):\n",
    "    for key, value in result['headers'].items():\n",
    "        print('{}: {}'.format(key, value))\n",
    "\n",
    "req = UrlRequest('https://httpbin.org/headers', got_json)"
   ]
  },
  {
   "cell_type": "code",
   "execution_count": 3,
   "metadata": {},
   "outputs": [
    {
     "data": {
      "text/plain": [
       "<UrlRequest(Thread-4, started daemon 140680258942720)>"
      ]
     },
     "execution_count": 3,
     "metadata": {},
     "output_type": "execute_result"
    }
   ],
   "source": [
    "req"
   ]
  },
  {
   "cell_type": "code",
   "execution_count": 8,
   "metadata": {},
   "outputs": [],
   "source": [
    "import urllib.parse\n",
    "\n",
    "def bug_posted(req, result):\n",
    "    print('Our bug is posted!')\n",
    "    print(result)\n",
    "\n",
    "params = urllib.parse.urlencode({'@number': 12524, '@type': 'issue',\n",
    "    '@action': 'show'})\n",
    "headers = {'Content-type': 'application/x-www-form-urlencoded',\n",
    "          'Accept': 'text/plain'}\n",
    "req = UrlRequest('bugs.python.org', on_success=bug_posted, req_body=params,\n",
    "        req_headers=headers)"
   ]
  }
 ],
 "metadata": {
  "kernelspec": {
   "display_name": "Python 3",
   "language": "python",
   "name": "python3"
  },
  "language_info": {
   "codemirror_mode": {
    "name": "ipython",
    "version": 3
   },
   "file_extension": ".py",
   "mimetype": "text/x-python",
   "name": "python",
   "nbconvert_exporter": "python",
   "pygments_lexer": "ipython3",
   "version": "3.7.6"
  }
 },
 "nbformat": 4,
 "nbformat_minor": 2
}
