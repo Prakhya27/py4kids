{
 "cells": [
  {
   "cell_type": "markdown",
   "metadata": {},
   "source": [
    "https://cito.github.io/blog/f-strings/"
   ]
  },
  {
   "cell_type": "code",
   "execution_count": 2,
   "metadata": {},
   "outputs": [
    {
     "data": {
      "text/plain": [
       "'He said his name is Fred and he is 42 years old.'"
      ]
     },
     "execution_count": 2,
     "metadata": {},
     "output_type": "execute_result"
    }
   ],
   "source": [
    "name = 'Fred'\n",
    "age = 42\n",
    "f'''He said his name is {name} and he is {age} years old.'''"
   ]
  },
  {
   "cell_type": "code",
   "execution_count": 5,
   "metadata": {},
   "outputs": [
    {
     "name": "stdout",
     "output_type": "stream",
     "text": [
      "\n",
      "He said his name is Fred and he is 42 years old.\n",
      "I wish Fred to live 84 yr\n",
      "\n"
     ]
    }
   ],
   "source": [
    "print(f'''\n",
    "He said his name is {name} and he is {age} years old.\n",
    "I wish {name} to live {2*age} yr\n",
    "''')"
   ]
  },
  {
   "cell_type": "markdown",
   "metadata": {},
   "source": [
    "benchmark various formatting"
   ]
  },
  {
   "cell_type": "code",
   "execution_count": 8,
   "metadata": {},
   "outputs": [
    {
     "name": "stdout",
     "output_type": "stream",
     "text": [
      "fmt:\n",
      " \n",
      "def format(name, age):\n",
      "    return f'He said his name is {name} and he is {age} years old.'\n",
      "\n",
      "2.3439404060000015\n",
      "fmt:\n",
      " \n",
      "def format(name, age):\n",
      "    return 'He said his name is %s and he is %s years old.' % (name, age)\n",
      "\n",
      "3.232218098999965\n",
      "fmt:\n",
      " \n",
      "def format(name, age):\n",
      "    return 'He said his name is ' + name + ' and he is ' + str(\n",
      "        age) + ' years old.'\n",
      "\n",
      "4.532824925999876\n",
      "fmt:\n",
      " \n",
      "def format(name, age):\n",
      "    return 'He said his name is {} and he is {} years old.'.format(name, age)\n",
      "\n",
      "4.75628732600012\n",
      "fmt:\n",
      " \n",
      "from string import Template\n",
      "\n",
      "template = Template('He said his name is $name and he is $age years old.')\n",
      "\n",
      "def format(name, age):\n",
      "    return template.substitute(name=name, age=age)\n",
      "\n",
      "34.32221970399996\n"
     ]
    }
   ],
   "source": [
    "import timeit\n",
    "\n",
    "format = \"\"\"\n",
    "def format(name, age):\n",
    "    return f'He said his name is {name} and he is {age} years old.'\n",
    "\"\"\", \"\"\"\n",
    "def format(name, age):\n",
    "    return 'He said his name is %s and he is %s years old.' % (name, age)\n",
    "\"\"\", \"\"\"\n",
    "def format(name, age):\n",
    "    return 'He said his name is ' + name + ' and he is ' + str(\n",
    "        age) + ' years old.'\n",
    "\"\"\",  \"\"\"\n",
    "def format(name, age):\n",
    "    return 'He said his name is {} and he is {} years old.'.format(name, age)\n",
    "\"\"\", \"\"\"\n",
    "from string import Template\n",
    "\n",
    "template = Template('He said his name is $name and he is $age years old.')\n",
    "\n",
    "def format(name, age):\n",
    "    return template.substitute(name=name, age=age)\n",
    "\"\"\"\n",
    "\n",
    "test = \"\"\"\n",
    "def test():\n",
    "    for name in ('Fred', 'Barney', 'Gary', 'Rock', 'Perry', 'Jackie'):\n",
    "        for age in range (20, 200):\n",
    "            format(name, age)\n",
    "\"\"\"\n",
    "\n",
    "for fmt in format:\n",
    "    print(\"fmt:\\n\", fmt)\n",
    "    print(timeit.timeit('test()', fmt + test, number=10000))"
   ]
  },
  {
   "cell_type": "markdown",
   "metadata": {},
   "source": [
    "<img src=\"f-strings-1.png\">"
   ]
  },
  {
   "cell_type": "code",
   "execution_count": null,
   "metadata": {},
   "outputs": [],
   "source": []
  }
 ],
 "metadata": {
  "kernelspec": {
   "display_name": "Python 3",
   "language": "python",
   "name": "python3"
  },
  "language_info": {
   "codemirror_mode": {
    "name": "ipython",
    "version": 3
   },
   "file_extension": ".py",
   "mimetype": "text/x-python",
   "name": "python",
   "nbconvert_exporter": "python",
   "pygments_lexer": "ipython3",
   "version": "3.6.5"
  }
 },
 "nbformat": 4,
 "nbformat_minor": 2
}
