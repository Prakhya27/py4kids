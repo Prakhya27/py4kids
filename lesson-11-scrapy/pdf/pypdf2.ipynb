{
 "cells": [
  {
   "cell_type": "markdown",
   "metadata": {},
   "source": [
    "* [How to Work With a PDF in Python](https://realpython.com/pdf-python/)\n",
    "* [Python for Pdf](https://towardsdatascience.com/python-for-pdf-ef0fac2808b0)\n",
    "* [PyPdf2](http://www.blog.pythonlibrary.org/2018/06/07/an-intro-to-pypdf2/)\n",
    "\n",
    "* [pdfrw](https://github.com/pmaupin/pdfrw)\n",
    "\n",
    "* [pdfminder](https://github.com/euske/pdfminer)\n",
    "    * CLI utility\n",
    "    \n",
    "* [tabula-py](https://github.com/chezou/tabula-py)\n",
    "    * [tabula-py: Extract table from PDF into Python DataFrame](https://blog.chezo.uno/tabula-py-extract-table-from-pdf-into-python-dataframe-6c7acfa5f302)\n",
    "\n",
    "    * [Parse Data from PDFs with Tabula and Pandas](https://hackersandslackers.com/data-from-pdfs-tabula-pandas/)\n",
    "    \n",
    "* [Python Web Scraping PDF Tables](https://medium.com/@DRicky.Ch29/web-scraping-pdf-tables-data-cleaning-part-1-cb6d8d47a6de)"
   ]
  },
  {
   "cell_type": "code",
   "execution_count": 88,
   "metadata": {},
   "outputs": [],
   "source": [
    "import os\n",
    "import tabula\n",
    "\n",
    "from PyPDF2 import PdfFileReader, PdfFileWriter\n",
    " \n",
    "def get_info(path):\n",
    "    with open(path, 'rb') as f:\n",
    "        pdf = PdfFileReader(f)\n",
    "        info = pdf.getDocumentInfo()\n",
    "        number_of_pages = pdf.getNumPages()\n",
    " \n",
    "        author = info.author\n",
    "        creator = info.creator\n",
    "        producer = info.producer\n",
    "        subject = info.subject\n",
    "        title = info.title\n",
    "    \n",
    "        return dict(author=author, creator=creator, subject=subject, title=title, num_pages=number_of_pages)\n",
    "    \n",
    "    return None\n",
    "    \n",
    "def extract_text(path):\n",
    "    page_text_list = []\n",
    "    with open(path, 'rb') as f:\n",
    "        pdf = PdfFileReader(f)\n",
    "        for i in range(pdf.getNumPages()):\n",
    "            text = pdf.getPage(i).extractText()\n",
    "            page_text_list.append(text)\n",
    "    return page_text_list\n",
    "\n",
    "def extract_table(path):\n",
    "    return tabula.read_pdf(pdf_path, pages=\"all\", multiple_tables=True)\n",
    "    \n",
    "def split_pdf(path):\n",
    "    fname = os.path.splitext(os.path.basename(path))[0]\n",
    " \n",
    "    pdf = PdfFileReader(path)\n",
    "    for page in range(pdf.getNumPages()):\n",
    "        pdf_writer = PdfFileWriter()\n",
    "        pdf_writer.addPage(pdf.getPage(page))\n",
    " \n",
    "        output_filename = '{}_page_{}.pdf'.format(\n",
    "            fname, page+1)\n",
    " \n",
    "        with open(output_filename, 'wb') as out:\n",
    "            pdf_writer.write(out)\n",
    " \n",
    "        print('Created: {}'.format(output_filename))\n",
    "    \n",
    "def merge_pdf(out_pdf, in_pdf_list):\n",
    "    merged_pages = 0\n",
    "\n",
    "    pdf_writer = PdfFileWriter()\n",
    "    for path in in_pdf_list:\n",
    "        pdf_reader = PdfFileReader(path)\n",
    "        for page in range(pdf_reader.getNumPages()):\n",
    "            merged_pages += 1\n",
    "            pdf_writer.addPage(pdf_reader.getPage(page))\n",
    "            \n",
    "    if len(in_pdf_list) > 1 and merged_pages > 0:\n",
    "        print(f\"{merged_pages} pages from {','.join(in_pdf_list)} are merged into {out_pdf}\")\n",
    "        with open(out_pdf, 'wb') as fh:\n",
    "            pdf_writer.write(fh)\n",
    "              \n",
    "def merger(output_path, input_paths):\n",
    "    pdf_merger = PdfFileMerger()\n",
    "    file_handles = []\n",
    " \n",
    "    for path in input_paths:\n",
    "        pdf_merger.append(path)\n",
    " \n",
    "    with open(output_path, 'wb') as fileobj:\n",
    "        pdf_merger.write(fileobj)\n",
    "              \n",
    "def watermark(input_pdf, output_pdf, watermark_pdf):\n",
    "    watermark = PdfFileReader(watermark_pdf)\n",
    "    watermark_page = watermark.getPage(0)\n",
    " \n",
    "    pdf = PdfFileReader(input_pdf)\n",
    "    pdf_writer = PdfFileWriter()\n",
    " \n",
    "    for page in range(pdf.getNumPages()):\n",
    "        pdf_page = pdf.getPage(page)\n",
    "        pdf_page.mergePage(watermark_page)\n",
    "        pdf_writer.addPage(pdf_page)\n",
    " \n",
    "    with open(output_pdf, 'wb') as fh:\n",
    "        pdf_writer.write(fh)\n",
    "              \n",
    "def rotator(path):\n",
    "    pdf_writer = PdfFileWriter()\n",
    "    pdf_reader = PdfFileReader(path)\n",
    " \n",
    "    page1 = pdf_reader.getPage(0).rotateClockwise(90)\n",
    "    pdf_writer.addPage(page1)\n",
    "    page2 = pdf_reader.getPage(1).rotateCounterClockwise(90)\n",
    "    pdf_writer.addPage(page2)\n",
    "    pdf_writer.addPage(pdf_reader.getPage(2))\n",
    " \n",
    "    with open('pdf_rotator.pdf', 'wb') as fh:\n",
    "        pdf_writer.write(fh)\n",
    "              \n",
    "def encrypt_pdf(input_pdf, output_pdf, password):\n",
    "    pdf_writer = PdfFileWriter()\n",
    "    pdf_reader = PdfFileReader(input_pdf)\n",
    "\n",
    "    for page in range(pdf_reader.getNumPages()):\n",
    "        pdf_writer.addPage(pdf_reader.getPage(page))\n",
    "\n",
    "    pdf_writer.encrypt(user_pwd=password, owner_pwd=None, \n",
    "                       use_128bit=True)\n",
    "\n",
    "    with open(output_pdf, 'wb') as fh:\n",
    "        pdf_writer.write(fh)"
   ]
  },
  {
   "cell_type": "code",
   "execution_count": 89,
   "metadata": {},
   "outputs": [
    {
     "name": "stdout",
     "output_type": "stream",
     "text": [
      "data_tables_page_1.pdf\tdata_tables.pdf  fw9_protected.pdf\n",
      "data_tables_page_2.pdf\tfw9.pdf\t\t test_merge.pdf\n"
     ]
    }
   ],
   "source": [
    "# list pdf files in current folder\n",
    "!ls *.pdf"
   ]
  },
  {
   "cell_type": "markdown",
   "metadata": {},
   "source": [
    "## get started"
   ]
  },
  {
   "cell_type": "code",
   "execution_count": 90,
   "metadata": {},
   "outputs": [],
   "source": [
    "pdf_path = 'data_tables.pdf'"
   ]
  },
  {
   "cell_type": "code",
   "execution_count": 91,
   "metadata": {},
   "outputs": [
    {
     "name": "stdout",
     "output_type": "stream",
     "text": [
      "{'author': None, 'creator': 'Adobe InDesign 2.0.2', 'subject': None, 'title': 'Sample Data for Data Tables', 'num_pages': 2}\n"
     ]
    },
    {
     "name": "stderr",
     "output_type": "stream",
     "text": [
      "PdfReadWarning: Xref table not zero-indexed. ID numbers for objects will be corrected. [pdf.py:1736]\n"
     ]
    }
   ],
   "source": [
    "print(get_info(pdf_path))"
   ]
  },
  {
   "cell_type": "code",
   "execution_count": 92,
   "metadata": {},
   "outputs": [],
   "source": [
    "# extract text\n",
    "f = open(pdf_path, 'rb')"
   ]
  },
  {
   "cell_type": "code",
   "execution_count": 93,
   "metadata": {},
   "outputs": [],
   "source": [
    "pdf = PdfFileReader(f)"
   ]
  },
  {
   "cell_type": "code",
   "execution_count": 94,
   "metadata": {},
   "outputs": [
    {
     "data": {
      "text/plain": [
       "(2, 2)"
      ]
     },
     "execution_count": 94,
     "metadata": {},
     "output_type": "execute_result"
    }
   ],
   "source": [
    "pdf.numPages, pdf.getNumPages()"
   ]
  },
  {
   "cell_type": "code",
   "execution_count": 95,
   "metadata": {},
   "outputs": [],
   "source": [
    "page = pdf.getPage(0)"
   ]
  },
  {
   "cell_type": "code",
   "execution_count": 96,
   "metadata": {},
   "outputs": [
    {
     "data": {
      "text/plain": [
       "dict_items([('/Type', '/Page'), ('/MediaBox', [0, 0, 612, 792]), ('/Parent', IndirectObject(18, 0)), ('/BleedBox', [0, 0, 612, 792]), ('/TrimBox', [0, 0, 612, 792]), ('/CropBox', [0, 0, 612, 792]), ('/ArtBox', [0, 0, 612, 792]), ('/Contents', [IndirectObject(37, 0), IndirectObject(42, 0), IndirectObject(44, 0), IndirectObject(46, 0), IndirectObject(48, 0), IndirectObject(56, 0), IndirectObject(58, 0), IndirectObject(114, 0)]), ('/Resources', {'/Font': {'/C2_0': IndirectObject(27, 0), '/C2_1': IndirectObject(25, 0), '/C2_2': IndirectObject(30, 0), '/C0_0': IndirectObject(35, 0), '/C2_3': IndirectObject(41, 0), '/C2_4': IndirectObject(53, 0), '/C2_5': IndirectObject(55, 0)}, '/ExtGState': {'/GS0': IndirectObject(115, 0), '/GS1': IndirectObject(116, 0), '/GS2': IndirectObject(117, 0)}, '/ProcSet': ['/PDF', '/Text']}), ('/Rotate', 0)])"
      ]
     },
     "execution_count": 96,
     "metadata": {},
     "output_type": "execute_result"
    }
   ],
   "source": [
    "page.items()"
   ]
  },
  {
   "cell_type": "code",
   "execution_count": 97,
   "metadata": {},
   "outputs": [],
   "source": [
    "text = page.extractText()"
   ]
  },
  {
   "cell_type": "code",
   "execution_count": 98,
   "metadata": {},
   "outputs": [
    {
     "data": {
      "text/plain": [
       "(str,\n",
       " '\\n\\n\\n\\n\\n\\n\\n\\n\\n\\n\\n\\n\\n\\n\\n\\n\\n\\n\\n\\n\\n\\n\\n\\n\\n\\n\\n\\n\\n\\n\\n\\n\\n\\n\\n\\n\\n\\n\\n\\n\\n\\n\\n\\n\\n\\n\\n\\n\\n')"
      ]
     },
     "execution_count": 98,
     "metadata": {},
     "output_type": "execute_result"
    }
   ],
   "source": [
    "type(text), text"
   ]
  },
  {
   "cell_type": "code",
   "execution_count": 99,
   "metadata": {},
   "outputs": [
    {
     "data": {
      "text/plain": [
       "PyPDF2.generic.IndirectObject"
      ]
     },
     "execution_count": 99,
     "metadata": {},
     "output_type": "execute_result"
    }
   ],
   "source": [
    "type(page.getContents()[0])"
   ]
  },
  {
   "cell_type": "code",
   "execution_count": 100,
   "metadata": {},
   "outputs": [
    {
     "data": {
      "text/plain": [
       "IndirectObject(37, 0)"
      ]
     },
     "execution_count": 100,
     "metadata": {},
     "output_type": "execute_result"
    }
   ],
   "source": [
    "page.getContents()[0]"
   ]
  },
  {
   "cell_type": "code",
   "execution_count": 101,
   "metadata": {},
   "outputs": [
    {
     "data": {
      "text/plain": [
       "[IndirectObject(37, 0),\n",
       " IndirectObject(42, 0),\n",
       " IndirectObject(44, 0),\n",
       " IndirectObject(46, 0),\n",
       " IndirectObject(48, 0),\n",
       " IndirectObject(56, 0),\n",
       " IndirectObject(58, 0),\n",
       " IndirectObject(114, 0)]"
      ]
     },
     "execution_count": 101,
     "metadata": {},
     "output_type": "execute_result"
    }
   ],
   "source": [
    "page.raw_get('/Contents')"
   ]
  },
  {
   "cell_type": "code",
   "execution_count": 102,
   "metadata": {},
   "outputs": [
    {
     "name": "stdout",
     "output_type": "stream",
     "text": [
      "['\\n\\n\\n\\n\\n\\n\\n\\n\\n\\n\\n\\n\\n\\n\\n\\n\\n\\n\\n\\n\\n\\n\\n\\n\\n\\n\\n\\n\\n\\n\\n\\n\\n\\n\\n\\n\\n\\n\\n\\n\\n\\n\\n\\n\\n\\n\\n\\n\\n', '\\n\\n\\n\\n\\n\\n\\n\\n\\n\\n\\n\\n\\n\\n\\n\\n\\n\\n\\n\\n\\n\\n\\n\\n\\n\\n\\n\\n\\n\\n\\n\\n\\n\\n\\n\\n\\n\\n\\n\\n\\n\\n\\n\\n\\n\\n\\n\\n\\n\\n\\n\\n\\n\\n\\n']\n"
     ]
    }
   ],
   "source": [
    "pdf_path = 'data_tables.pdf'\n",
    "print(extract_text(pdf_path))"
   ]
  },
  {
   "cell_type": "markdown",
   "metadata": {},
   "source": [
    "## extract text\n",
    "\n",
    "Although `extract_text()` fails to extract meaningful text from `data_tables.pdf` file, it could be due to particular PDF version when that file was created and limitation of `pypdf2`.\n",
    "\n",
    "It works with another file `fw9.pdf`"
   ]
  },
  {
   "cell_type": "code",
   "execution_count": 103,
   "metadata": {},
   "outputs": [
    {
     "name": "stdout",
     "output_type": "stream",
     "text": [
      "{'author': 'SE:W:CAR:MP', 'creator': 'Adobe LiveCycle Designer ES 9.0', 'subject': 'Request for Taxpayer Identification Number and Certification', 'title': 'Form W-9 (Rev. October 2018)', 'num_pages': 6}\n"
     ]
    }
   ],
   "source": [
    "pdf_path = 'fw9.pdf'\n",
    "print(get_info(pdf_path))"
   ]
  },
  {
   "cell_type": "code",
   "execution_count": 104,
   "metadata": {},
   "outputs": [
    {
     "data": {
      "text/plain": [
       "'Form W-9 (Rev. 10-2018)Page 6 The IRS does not initiate contacts with taxpayers via emails. Also, the IRS does not request personal detailed information through email or ask taxpayers for the PIN numbers, passwords, or similar secret access \\ninformation for their credit card, bank, or other financial accounts.If you receive an unsolicited email claiming to be from the IRS, forward this message to phishing@irs.gov. You may also report misuse \\nof the IRS name, logo, or other IRS property to the Treasury Inspector \\nGeneral for Tax Administration (TIGTA) at 1-800-366-4484. You can \\nforward suspicious emails to the Federal Trade Commission at \\nspam@uce.gov or report them at www.ftc.gov/complaint. You can \\ncontact the FTC at www.ftc.gov/idtheft or 877-IDTHEFT (877-438-4338). \\nIf you have been the victim of identity theft, see www.IdentityTheft.gov \\nand Pub. 5027.Visit www.irs.gov/IdentityTheft to learn more about identity theft and how to reduce your risk.Privacy Act NoticeSection 6109 of the Internal Revenue Code requires you to provide your \\ncorrect TIN to persons (including federal agencies) who are required to \\nfile information returns with the IRS to report interest, dividends, or \\ncertain other income paid to you; mortgage interest you paid; the \\nacquisition or abandonment of secured property; the cancellation of \\ndebt; or contributions you made to an IRA, Archer MSA, or HSA. The \\nperson collecting this form uses the information on the form to file \\ninformation returns with the IRS, reporting the above information. \\nRoutine uses of this information include giving it to the Department of \\nJustice for civil and criminal litigation and to cities, states, the District of \\nColumbia, and U.S. commonwealths and possessions for use in \\nadministering their laws. The information also may be disclosed to other \\ncountries under a treaty, to federal and state agencies to enforce civil \\nand criminal laws, or to federal law enforcement and intelligence \\nagencies to combat terrorism. You must provide your TIN whether or \\nnot you are required to file a tax return. Under section 3406, payers \\nmust generally withhold a percentage of taxable interest, dividend, and \\ncertain other payments to a payee who does not give a TIN to the payer. \\nCertain penalties may also apply for providing false or fraudulent \\ninformation.'"
      ]
     },
     "execution_count": 104,
     "metadata": {},
     "output_type": "execute_result"
    }
   ],
   "source": [
    "# get last page of W9 form\n",
    "page_texts = extract_text(pdf_path)\n",
    "\n",
    "page_texts[-1]"
   ]
  },
  {
   "cell_type": "markdown",
   "metadata": {},
   "source": [
    "### pdfminer (https://github.com/euske/pdfminer)\n",
    "\n",
    "Consider using pdfminer for working with text extraction because it has good `CLI` utility\n",
    "```\n",
    "$ pip install pdfminer\n",
    "$ pdf2txt.py data_tables.pdf\n",
    "```"
   ]
  },
  {
   "cell_type": "markdown",
   "metadata": {},
   "source": [
    "## encrypt"
   ]
  },
  {
   "cell_type": "code",
   "execution_count": 105,
   "metadata": {},
   "outputs": [],
   "source": [
    "encrypt_pdf(input_pdf='fw9.pdf', output_pdf='fw9_protected.pdf', password='secret')"
   ]
  },
  {
   "cell_type": "markdown",
   "metadata": {},
   "source": [
    "## split into pages"
   ]
  },
  {
   "cell_type": "code",
   "execution_count": 106,
   "metadata": {},
   "outputs": [
    {
     "name": "stdout",
     "output_type": "stream",
     "text": [
      "Created: fw9_page_1.pdf\n",
      "Created: fw9_page_2.pdf\n",
      "Created: fw9_page_3.pdf\n",
      "Created: fw9_page_4.pdf\n",
      "Created: fw9_page_5.pdf\n",
      "Created: fw9_page_6.pdf\n"
     ]
    }
   ],
   "source": [
    "split_pdf(pdf_path)"
   ]
  },
  {
   "cell_type": "markdown",
   "metadata": {},
   "source": [
    "## merge"
   ]
  },
  {
   "cell_type": "code",
   "execution_count": 107,
   "metadata": {},
   "outputs": [
    {
     "name": "stdout",
     "output_type": "stream",
     "text": [
      "7 pages from fw9.pdf,data_tables_page_1.pdf are merged into test_merge.pdf\n"
     ]
    }
   ],
   "source": [
    "merge_pdf(\"test_merge.pdf\", ['fw9.pdf', 'data_tables_page_1.pdf'])"
   ]
  },
  {
   "cell_type": "markdown",
   "metadata": {},
   "source": [
    "## extract table to Pandas dataframe"
   ]
  },
  {
   "cell_type": "code",
   "execution_count": 108,
   "metadata": {},
   "outputs": [],
   "source": [
    "pdf_path = 'data_tables.pdf'\n",
    "df_tables = extract_table(pdf_path)"
   ]
  },
  {
   "cell_type": "code",
   "execution_count": 109,
   "metadata": {},
   "outputs": [
    {
     "data": {
      "text/plain": [
       "3"
      ]
     },
     "execution_count": 109,
     "metadata": {},
     "output_type": "execute_result"
    }
   ],
   "source": [
    "len(df_tables)"
   ]
  },
  {
   "cell_type": "code",
   "execution_count": 110,
   "metadata": {},
   "outputs": [
    {
     "data": {
      "text/html": [
       "<div>\n",
       "<style scoped>\n",
       "    .dataframe tbody tr th:only-of-type {\n",
       "        vertical-align: middle;\n",
       "    }\n",
       "\n",
       "    .dataframe tbody tr th {\n",
       "        vertical-align: top;\n",
       "    }\n",
       "\n",
       "    .dataframe thead th {\n",
       "        text-align: right;\n",
       "    }\n",
       "</style>\n",
       "<table border=\"1\" class=\"dataframe\">\n",
       "  <thead>\n",
       "    <tr style=\"text-align: right;\">\n",
       "      <th></th>\n",
       "      <th>0</th>\n",
       "      <th>1</th>\n",
       "    </tr>\n",
       "  </thead>\n",
       "  <tbody>\n",
       "    <tr>\n",
       "      <th>0</th>\n",
       "      <td>Number of Coils</td>\n",
       "      <td>Number of Paperclips</td>\n",
       "    </tr>\n",
       "    <tr>\n",
       "      <th>1</th>\n",
       "      <td>5</td>\n",
       "      <td>3, 5, 4</td>\n",
       "    </tr>\n",
       "    <tr>\n",
       "      <th>2</th>\n",
       "      <td>10</td>\n",
       "      <td>7, 8, 6</td>\n",
       "    </tr>\n",
       "    <tr>\n",
       "      <th>3</th>\n",
       "      <td>15</td>\n",
       "      <td>11, 10, 12</td>\n",
       "    </tr>\n",
       "    <tr>\n",
       "      <th>4</th>\n",
       "      <td>20</td>\n",
       "      <td>15, 13, 14</td>\n",
       "    </tr>\n",
       "  </tbody>\n",
       "</table>\n",
       "</div>"
      ],
      "text/plain": [
       "                 0                     1\n",
       "0  Number of Coils  Number of Paperclips\n",
       "1                5               3, 5, 4\n",
       "2               10               7, 8, 6\n",
       "3               15            11, 10, 12\n",
       "4               20            15, 13, 14"
      ]
     },
     "execution_count": 110,
     "metadata": {},
     "output_type": "execute_result"
    }
   ],
   "source": [
    "df_tables[0]"
   ]
  },
  {
   "cell_type": "code",
   "execution_count": 111,
   "metadata": {},
   "outputs": [
    {
     "data": {
      "text/html": [
       "<div>\n",
       "<style scoped>\n",
       "    .dataframe tbody tr th:only-of-type {\n",
       "        vertical-align: middle;\n",
       "    }\n",
       "\n",
       "    .dataframe tbody tr th {\n",
       "        vertical-align: top;\n",
       "    }\n",
       "\n",
       "    .dataframe thead th {\n",
       "        text-align: right;\n",
       "    }\n",
       "</style>\n",
       "<table border=\"1\" class=\"dataframe\">\n",
       "  <thead>\n",
       "    <tr style=\"text-align: right;\">\n",
       "      <th></th>\n",
       "      <th>0</th>\n",
       "      <th>1</th>\n",
       "      <th>2</th>\n",
       "      <th>3</th>\n",
       "      <th>4</th>\n",
       "    </tr>\n",
       "  </thead>\n",
       "  <tbody>\n",
       "    <tr>\n",
       "      <th>0</th>\n",
       "      <td>Speed (mph)</td>\n",
       "      <td>Driver</td>\n",
       "      <td>Car</td>\n",
       "      <td>Engine</td>\n",
       "      <td>Date</td>\n",
       "    </tr>\n",
       "    <tr>\n",
       "      <th>1</th>\n",
       "      <td>407.447</td>\n",
       "      <td>Craig Breedlove</td>\n",
       "      <td>Spirit of America</td>\n",
       "      <td>GE J47</td>\n",
       "      <td>8/5/63</td>\n",
       "    </tr>\n",
       "    <tr>\n",
       "      <th>2</th>\n",
       "      <td>413.199</td>\n",
       "      <td>Tom Green</td>\n",
       "      <td>Wingfoot Express</td>\n",
       "      <td>WE J46</td>\n",
       "      <td>10/2/64</td>\n",
       "    </tr>\n",
       "    <tr>\n",
       "      <th>3</th>\n",
       "      <td>434.22</td>\n",
       "      <td>Art Arfons</td>\n",
       "      <td>Green Monster</td>\n",
       "      <td>GE J79</td>\n",
       "      <td>10/5/64</td>\n",
       "    </tr>\n",
       "    <tr>\n",
       "      <th>4</th>\n",
       "      <td>468.719</td>\n",
       "      <td>Craig Breedlove</td>\n",
       "      <td>Spirit of America</td>\n",
       "      <td>GE J79</td>\n",
       "      <td>10/13/64</td>\n",
       "    </tr>\n",
       "    <tr>\n",
       "      <th>5</th>\n",
       "      <td>526.277</td>\n",
       "      <td>Craig Breedlove</td>\n",
       "      <td>Spirit of America</td>\n",
       "      <td>GE J79</td>\n",
       "      <td>10/15/65</td>\n",
       "    </tr>\n",
       "    <tr>\n",
       "      <th>6</th>\n",
       "      <td>536.712</td>\n",
       "      <td>Art Arfons</td>\n",
       "      <td>Green Monster</td>\n",
       "      <td>GE J79</td>\n",
       "      <td>10/27/65</td>\n",
       "    </tr>\n",
       "    <tr>\n",
       "      <th>7</th>\n",
       "      <td>555.127</td>\n",
       "      <td>Craig Breedlove</td>\n",
       "      <td>Spirit of America, Sonic 1</td>\n",
       "      <td>GE J79</td>\n",
       "      <td>11/2/65</td>\n",
       "    </tr>\n",
       "    <tr>\n",
       "      <th>8</th>\n",
       "      <td>576.553</td>\n",
       "      <td>Art Arfons</td>\n",
       "      <td>Green Monster</td>\n",
       "      <td>GE J79</td>\n",
       "      <td>11/7/65</td>\n",
       "    </tr>\n",
       "    <tr>\n",
       "      <th>9</th>\n",
       "      <td>600.601</td>\n",
       "      <td>Craig Breedlove</td>\n",
       "      <td>Spirit of America, Sonic 1</td>\n",
       "      <td>GE J79</td>\n",
       "      <td>11/15/65</td>\n",
       "    </tr>\n",
       "    <tr>\n",
       "      <th>10</th>\n",
       "      <td>622.407</td>\n",
       "      <td>Gary Gabelich</td>\n",
       "      <td>Blue Flame</td>\n",
       "      <td>Rocket</td>\n",
       "      <td>10/23/70</td>\n",
       "    </tr>\n",
       "    <tr>\n",
       "      <th>11</th>\n",
       "      <td>633.468</td>\n",
       "      <td>Richard Noble</td>\n",
       "      <td>Thrust 2</td>\n",
       "      <td>RR RG 146</td>\n",
       "      <td>10/4/83</td>\n",
       "    </tr>\n",
       "    <tr>\n",
       "      <th>12</th>\n",
       "      <td>763.035</td>\n",
       "      <td>Andy Green</td>\n",
       "      <td>Thrust SSC</td>\n",
       "      <td>RR Spey</td>\n",
       "      <td>10/15/97</td>\n",
       "    </tr>\n",
       "  </tbody>\n",
       "</table>\n",
       "</div>"
      ],
      "text/plain": [
       "              0                1                           2          3  \\\n",
       "0   Speed (mph)           Driver                         Car     Engine   \n",
       "1       407.447  Craig Breedlove           Spirit of America     GE J47   \n",
       "2       413.199        Tom Green            Wingfoot Express     WE J46   \n",
       "3        434.22       Art Arfons               Green Monster     GE J79   \n",
       "4       468.719  Craig Breedlove           Spirit of America     GE J79   \n",
       "5       526.277  Craig Breedlove           Spirit of America     GE J79   \n",
       "6       536.712       Art Arfons               Green Monster     GE J79   \n",
       "7       555.127  Craig Breedlove  Spirit of America, Sonic 1     GE J79   \n",
       "8       576.553       Art Arfons               Green Monster     GE J79   \n",
       "9       600.601  Craig Breedlove  Spirit of America, Sonic 1     GE J79   \n",
       "10      622.407    Gary Gabelich                  Blue Flame     Rocket   \n",
       "11      633.468    Richard Noble                    Thrust 2  RR RG 146   \n",
       "12      763.035       Andy Green                  Thrust SSC    RR Spey   \n",
       "\n",
       "           4  \n",
       "0       Date  \n",
       "1     8/5/63  \n",
       "2    10/2/64  \n",
       "3    10/5/64  \n",
       "4   10/13/64  \n",
       "5   10/15/65  \n",
       "6   10/27/65  \n",
       "7    11/2/65  \n",
       "8    11/7/65  \n",
       "9   11/15/65  \n",
       "10  10/23/70  \n",
       "11   10/4/83  \n",
       "12  10/15/97  "
      ]
     },
     "execution_count": 111,
     "metadata": {},
     "output_type": "execute_result"
    }
   ],
   "source": [
    "df_tables[1]"
   ]
  },
  {
   "cell_type": "code",
   "execution_count": 112,
   "metadata": {},
   "outputs": [
    {
     "data": {
      "text/html": [
       "<div>\n",
       "<style scoped>\n",
       "    .dataframe tbody tr th:only-of-type {\n",
       "        vertical-align: middle;\n",
       "    }\n",
       "\n",
       "    .dataframe tbody tr th {\n",
       "        vertical-align: top;\n",
       "    }\n",
       "\n",
       "    .dataframe thead th {\n",
       "        text-align: right;\n",
       "    }\n",
       "</style>\n",
       "<table border=\"1\" class=\"dataframe\">\n",
       "  <thead>\n",
       "    <tr style=\"text-align: right;\">\n",
       "      <th></th>\n",
       "      <th>0</th>\n",
       "      <th>1</th>\n",
       "    </tr>\n",
       "  </thead>\n",
       "  <tbody>\n",
       "    <tr>\n",
       "      <th>0</th>\n",
       "      <td>Time (drops of water)</td>\n",
       "      <td>Distance (cm)</td>\n",
       "    </tr>\n",
       "    <tr>\n",
       "      <th>1</th>\n",
       "      <td>1</td>\n",
       "      <td>10,11,9</td>\n",
       "    </tr>\n",
       "    <tr>\n",
       "      <th>2</th>\n",
       "      <td>2</td>\n",
       "      <td>29, 31, 30</td>\n",
       "    </tr>\n",
       "    <tr>\n",
       "      <th>3</th>\n",
       "      <td>3</td>\n",
       "      <td>59, 58, 61</td>\n",
       "    </tr>\n",
       "    <tr>\n",
       "      <th>4</th>\n",
       "      <td>4</td>\n",
       "      <td>102, 100, 98</td>\n",
       "    </tr>\n",
       "    <tr>\n",
       "      <th>5</th>\n",
       "      <td>5</td>\n",
       "      <td>122, 125, 127</td>\n",
       "    </tr>\n",
       "  </tbody>\n",
       "</table>\n",
       "</div>"
      ],
      "text/plain": [
       "                       0              1\n",
       "0  Time (drops of water)  Distance (cm)\n",
       "1                      1        10,11,9\n",
       "2                      2     29, 31, 30\n",
       "3                      3     59, 58, 61\n",
       "4                      4   102, 100, 98\n",
       "5                      5  122, 125, 127"
      ]
     },
     "execution_count": 112,
     "metadata": {},
     "output_type": "execute_result"
    }
   ],
   "source": [
    "df_tables[2]"
   ]
  },
  {
   "cell_type": "code",
   "execution_count": null,
   "metadata": {},
   "outputs": [],
   "source": []
  },
  {
   "cell_type": "code",
   "execution_count": null,
   "metadata": {},
   "outputs": [],
   "source": []
  }
 ],
 "metadata": {
  "kernelspec": {
   "display_name": "Python 3",
   "language": "python",
   "name": "python3"
  },
  "language_info": {
   "codemirror_mode": {
    "name": "ipython",
    "version": 3
   },
   "file_extension": ".py",
   "mimetype": "text/x-python",
   "name": "python",
   "nbconvert_exporter": "python",
   "pygments_lexer": "ipython3",
   "version": "3.7.3"
  }
 },
 "nbformat": 4,
 "nbformat_minor": 2
}
