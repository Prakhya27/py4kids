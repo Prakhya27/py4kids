{
 "cells": [
  {
   "cell_type": "markdown",
   "metadata": {},
   "source": [
    "http://www.blog.pythonlibrary.org/2018/06/07/an-intro-to-pypdf2/"
   ]
  },
  {
   "cell_type": "code",
   "execution_count": 68,
   "metadata": {},
   "outputs": [],
   "source": [
    "from PyPDF2 import PdfFileReader, PdfFileWriter\n",
    "import os\n",
    " \n",
    "def get_info(path):\n",
    "    with open(path, 'rb') as f:\n",
    "        pdf = PdfFileReader(f)\n",
    "        info = pdf.getDocumentInfo()\n",
    "        number_of_pages = pdf.getNumPages()\n",
    " \n",
    "        author = info.author\n",
    "        creator = info.creator\n",
    "        producer = info.producer\n",
    "        subject = info.subject\n",
    "        title = info.title\n",
    "    \n",
    "        return dict(author=author, creator=creator, subject=subject, title=title, num_pages=number_of_pages)\n",
    "    \n",
    "    return None\n",
    "    \n",
    "def text_extractor(path):\n",
    "    page_text_list = []\n",
    "    with open(path, 'rb') as f:\n",
    "        pdf = PdfFileReader(f)\n",
    "        for i in range(pdf.getNumPages()):\n",
    "            text = pdf.getPage(i).extractText()\n",
    "            page_text_list.append(text)\n",
    "    return page_text_list\n",
    "\n",
    "def pdf_splitter(path):\n",
    "    fname = os.path.splitext(os.path.basename(path))[0]\n",
    " \n",
    "    pdf = PdfFileReader(path)\n",
    "    for page in range(pdf.getNumPages()):\n",
    "        pdf_writer = PdfFileWriter()\n",
    "        pdf_writer.addPage(pdf.getPage(page))\n",
    " \n",
    "        output_filename = '{}_page_{}.pdf'.format(\n",
    "            fname, page+1)\n",
    " \n",
    "        with open(output_filename, 'wb') as out:\n",
    "            pdf_writer.write(out)\n",
    " \n",
    "        print('Created: {}'.format(output_filename))\n",
    "    \n",
    "def merge_pdf(out_pdf, in_pdf_list):\n",
    "    merged_pages = 0\n",
    "\n",
    "    pdf_writer = PdfFileWriter()\n",
    "    for path in in_pdf_list:\n",
    "        pdf_reader = PdfFileReader(path)\n",
    "        for page in range(pdf_reader.getNumPages()):\n",
    "            merged_pages += 1\n",
    "            pdf_writer.addPage(pdf_reader.getPage(page))\n",
    "            \n",
    "    if len(in_pdf_list) > 1 and merged_pages > 0:\n",
    "        print(f\"{merged_pages} pages from {','.join(in_pdf_list)} are merged into {out_pdf}\")\n",
    "        with open(out_pdf, 'wb') as fh:\n",
    "            pdf_writer.write(fh)\n",
    "              \n",
    "def merger(output_path, input_paths):\n",
    "    pdf_merger = PdfFileMerger()\n",
    "    file_handles = []\n",
    " \n",
    "    for path in input_paths:\n",
    "        pdf_merger.append(path)\n",
    " \n",
    "    with open(output_path, 'wb') as fileobj:\n",
    "        pdf_merger.write(fileobj)\n",
    "              \n",
    "def watermark(input_pdf, output_pdf, watermark_pdf):\n",
    "    watermark = PdfFileReader(watermark_pdf)\n",
    "    watermark_page = watermark.getPage(0)\n",
    " \n",
    "    pdf = PdfFileReader(input_pdf)\n",
    "    pdf_writer = PdfFileWriter()\n",
    " \n",
    "    for page in range(pdf.getNumPages()):\n",
    "        pdf_page = pdf.getPage(page)\n",
    "        pdf_page.mergePage(watermark_page)\n",
    "        pdf_writer.addPage(pdf_page)\n",
    " \n",
    "    with open(output_pdf, 'wb') as fh:\n",
    "        pdf_writer.write(fh)\n",
    "              \n",
    "def rotator(path):\n",
    "    pdf_writer = PdfFileWriter()\n",
    "    pdf_reader = PdfFileReader(path)\n",
    " \n",
    "    page1 = pdf_reader.getPage(0).rotateClockwise(90)\n",
    "    pdf_writer.addPage(page1)\n",
    "    page2 = pdf_reader.getPage(1).rotateCounterClockwise(90)\n",
    "    pdf_writer.addPage(page2)\n",
    "    pdf_writer.addPage(pdf_reader.getPage(2))\n",
    " \n",
    "    with open('pdf_rotator.pdf', 'wb') as fh:\n",
    "        pdf_writer.write(fh)"
   ]
  },
  {
   "cell_type": "code",
   "execution_count": 58,
   "metadata": {},
   "outputs": [
    {
     "name": "stdout",
     "output_type": "stream",
     "text": [
      "data_tables_page_1.pdf\tdata_tables.pdf  pypdf2.ipynb\r\n",
      "data_tables_page_2.pdf\tfw9.pdf\t\t read_pdf.ipynb\r\n"
     ]
    }
   ],
   "source": [
    "!ls"
   ]
  },
  {
   "cell_type": "markdown",
   "metadata": {},
   "source": [
    "#### test 1"
   ]
  },
  {
   "cell_type": "code",
   "execution_count": 46,
   "metadata": {},
   "outputs": [],
   "source": [
    "pdf_path = 'data_tables.pdf'"
   ]
  },
  {
   "cell_type": "code",
   "execution_count": 47,
   "metadata": {},
   "outputs": [
    {
     "name": "stdout",
     "output_type": "stream",
     "text": [
      "{'author': None, 'creator': 'Adobe InDesign 2.0.2', 'subject': None, 'title': 'Sample Data for Data Tables', 'num_pages': 2}\n"
     ]
    }
   ],
   "source": [
    "print(get_info(pdf_path))"
   ]
  },
  {
   "cell_type": "code",
   "execution_count": 6,
   "metadata": {},
   "outputs": [],
   "source": [
    "# extract text\n",
    "f = open(pdf_path, 'rb')"
   ]
  },
  {
   "cell_type": "code",
   "execution_count": 7,
   "metadata": {},
   "outputs": [],
   "source": [
    "pdf = PdfFileReader(f)"
   ]
  },
  {
   "cell_type": "code",
   "execution_count": 9,
   "metadata": {},
   "outputs": [
    {
     "data": {
      "text/plain": [
       "(2, 2)"
      ]
     },
     "execution_count": 9,
     "metadata": {},
     "output_type": "execute_result"
    }
   ],
   "source": [
    "pdf.numPages, pdf.getNumPages()"
   ]
  },
  {
   "cell_type": "code",
   "execution_count": 15,
   "metadata": {},
   "outputs": [],
   "source": [
    "page = pdf.getPage(0)"
   ]
  },
  {
   "cell_type": "code",
   "execution_count": 28,
   "metadata": {},
   "outputs": [
    {
     "data": {
      "text/plain": [
       "dict_items([('/Type', '/Page'), ('/MediaBox', [0, 0, 612, 792]), ('/Parent', IndirectObject(18, 0)), ('/BleedBox', [0, 0, 612, 792]), ('/TrimBox', [0, 0, 612, 792]), ('/CropBox', [0, 0, 612, 792]), ('/ArtBox', [0, 0, 612, 792]), ('/Contents', [IndirectObject(37, 0), IndirectObject(42, 0), IndirectObject(44, 0), IndirectObject(46, 0), IndirectObject(48, 0), IndirectObject(56, 0), IndirectObject(58, 0), IndirectObject(114, 0)]), ('/Resources', {'/Font': {'/C2_0': IndirectObject(27, 0), '/C2_1': IndirectObject(25, 0), '/C2_2': IndirectObject(30, 0), '/C0_0': IndirectObject(35, 0), '/C2_3': IndirectObject(41, 0), '/C2_4': IndirectObject(53, 0), '/C2_5': IndirectObject(55, 0)}, '/ExtGState': {'/GS0': IndirectObject(115, 0), '/GS1': IndirectObject(116, 0), '/GS2': IndirectObject(117, 0)}, '/ProcSet': ['/PDF', '/Text']}), ('/Rotate', 0)])"
      ]
     },
     "execution_count": 28,
     "metadata": {},
     "output_type": "execute_result"
    }
   ],
   "source": [
    "page.items()"
   ]
  },
  {
   "cell_type": "markdown",
   "metadata": {},
   "source": [
    "#### Some Pdf doc do not work with extractText()"
   ]
  },
  {
   "cell_type": "code",
   "execution_count": 17,
   "metadata": {},
   "outputs": [],
   "source": [
    "text = page.extractText()"
   ]
  },
  {
   "cell_type": "code",
   "execution_count": 20,
   "metadata": {},
   "outputs": [
    {
     "data": {
      "text/plain": [
       "(str,\n",
       " '\\n\\n\\n\\n\\n\\n\\n\\n\\n\\n\\n\\n\\n\\n\\n\\n\\n\\n\\n\\n\\n\\n\\n\\n\\n\\n\\n\\n\\n\\n\\n\\n\\n\\n\\n\\n\\n\\n\\n\\n\\n\\n\\n\\n\\n\\n\\n\\n\\n')"
      ]
     },
     "execution_count": 20,
     "metadata": {},
     "output_type": "execute_result"
    }
   ],
   "source": [
    "type(text), text"
   ]
  },
  {
   "cell_type": "code",
   "execution_count": 24,
   "metadata": {},
   "outputs": [
    {
     "data": {
      "text/plain": [
       "PyPDF2.generic.IndirectObject"
      ]
     },
     "execution_count": 24,
     "metadata": {},
     "output_type": "execute_result"
    }
   ],
   "source": [
    "type(page.getContents()[0])"
   ]
  },
  {
   "cell_type": "code",
   "execution_count": 25,
   "metadata": {},
   "outputs": [
    {
     "data": {
      "text/plain": [
       "IndirectObject(37, 0)"
      ]
     },
     "execution_count": 25,
     "metadata": {},
     "output_type": "execute_result"
    }
   ],
   "source": [
    "page.getContents()[0]"
   ]
  },
  {
   "cell_type": "code",
   "execution_count": 29,
   "metadata": {},
   "outputs": [
    {
     "data": {
      "text/plain": [
       "[IndirectObject(37, 0),\n",
       " IndirectObject(42, 0),\n",
       " IndirectObject(44, 0),\n",
       " IndirectObject(46, 0),\n",
       " IndirectObject(48, 0),\n",
       " IndirectObject(56, 0),\n",
       " IndirectObject(58, 0),\n",
       " IndirectObject(114, 0)]"
      ]
     },
     "execution_count": 29,
     "metadata": {},
     "output_type": "execute_result"
    }
   ],
   "source": [
    "page.raw_get('/Contents')"
   ]
  },
  {
   "cell_type": "code",
   "execution_count": 55,
   "metadata": {},
   "outputs": [
    {
     "name": "stdout",
     "output_type": "stream",
     "text": [
      "['\\n\\n\\n\\n\\n\\n\\n\\n\\n\\n\\n\\n\\n\\n\\n\\n\\n\\n\\n\\n\\n\\n\\n\\n\\n\\n\\n\\n\\n\\n\\n\\n\\n\\n\\n\\n\\n\\n\\n\\n\\n\\n\\n\\n\\n\\n\\n\\n\\n', '\\n\\n\\n\\n\\n\\n\\n\\n\\n\\n\\n\\n\\n\\n\\n\\n\\n\\n\\n\\n\\n\\n\\n\\n\\n\\n\\n\\n\\n\\n\\n\\n\\n\\n\\n\\n\\n\\n\\n\\n\\n\\n\\n\\n\\n\\n\\n\\n\\n\\n\\n\\n\\n\\n\\n']\n"
     ]
    }
   ],
   "source": [
    "pdf_path = 'data_tables.pdf'\n",
    "print(text_extractor(pdf_path))"
   ]
  },
  {
   "cell_type": "code",
   "execution_count": 56,
   "metadata": {},
   "outputs": [
    {
     "name": "stdout",
     "output_type": "stream",
     "text": [
      "Created: data_tables_page_1.pdf\n",
      "Created: data_tables_page_2.pdf\n"
     ]
    }
   ],
   "source": [
    "pdf_splitter(pdf_path)"
   ]
  },
  {
   "cell_type": "markdown",
   "metadata": {},
   "source": [
    "### test 2"
   ]
  },
  {
   "cell_type": "code",
   "execution_count": 48,
   "metadata": {},
   "outputs": [],
   "source": [
    "pdf_path = 'fw9.pdf'"
   ]
  },
  {
   "cell_type": "code",
   "execution_count": 49,
   "metadata": {},
   "outputs": [
    {
     "name": "stdout",
     "output_type": "stream",
     "text": [
      "{'author': 'SE:W:CAR:MP', 'creator': 'Adobe LiveCycle Designer ES 9.0', 'subject': 'Request for Taxpayer Identification Number and Certification', 'title': 'Form W-9 (Rev. October 2018)', 'num_pages': 6}\n"
     ]
    }
   ],
   "source": [
    "print(get_info(pdf_path))"
   ]
  },
  {
   "cell_type": "code",
   "execution_count": 50,
   "metadata": {},
   "outputs": [],
   "source": [
    "page_texts = text_extractor(pdf_path)"
   ]
  },
  {
   "cell_type": "code",
   "execution_count": 51,
   "metadata": {},
   "outputs": [
    {
     "data": {
      "text/plain": [
       "'Form W-9 (Rev. 10-2018)Page 6 The IRS does not initiate contacts with taxpayers via emails. Also, the IRS does not request personal detailed information through email or ask taxpayers for the PIN numbers, passwords, or similar secret access \\ninformation for their credit card, bank, or other financial accounts.If you receive an unsolicited email claiming to be from the IRS, forward this message to phishing@irs.gov. You may also report misuse \\nof the IRS name, logo, or other IRS property to the Treasury Inspector \\nGeneral for Tax Administration (TIGTA) at 1-800-366-4484. You can \\nforward suspicious emails to the Federal Trade Commission at \\nspam@uce.gov or report them at www.ftc.gov/complaint. You can \\ncontact the FTC at www.ftc.gov/idtheft or 877-IDTHEFT (877-438-4338). \\nIf you have been the victim of identity theft, see www.IdentityTheft.gov \\nand Pub. 5027.Visit www.irs.gov/IdentityTheft to learn more about identity theft and how to reduce your risk.Privacy Act NoticeSection 6109 of the Internal Revenue Code requires you to provide your \\ncorrect TIN to persons (including federal agencies) who are required to \\nfile information returns with the IRS to report interest, dividends, or \\ncertain other income paid to you; mortgage interest you paid; the \\nacquisition or abandonment of secured property; the cancellation of \\ndebt; or contributions you made to an IRA, Archer MSA, or HSA. The \\nperson collecting this form uses the information on the form to file \\ninformation returns with the IRS, reporting the above information. \\nRoutine uses of this information include giving it to the Department of \\nJustice for civil and criminal litigation and to cities, states, the District of \\nColumbia, and U.S. commonwealths and possessions for use in \\nadministering their laws. The information also may be disclosed to other \\ncountries under a treaty, to federal and state agencies to enforce civil \\nand criminal laws, or to federal law enforcement and intelligence \\nagencies to combat terrorism. You must provide your TIN whether or \\nnot you are required to file a tax return. Under section 3406, payers \\nmust generally withhold a percentage of taxable interest, dividend, and \\ncertain other payments to a payee who does not give a TIN to the payer. \\nCertain penalties may also apply for providing false or fraudulent \\ninformation.'"
      ]
     },
     "execution_count": 51,
     "metadata": {},
     "output_type": "execute_result"
    }
   ],
   "source": [
    "# text on last page\n",
    "page_texts[-1]"
   ]
  },
  {
   "cell_type": "code",
   "execution_count": null,
   "metadata": {},
   "outputs": [],
   "source": []
  },
  {
   "cell_type": "markdown",
   "metadata": {},
   "source": [
    "### test 3 - merge pdfs"
   ]
  },
  {
   "cell_type": "code",
   "execution_count": 65,
   "metadata": {},
   "outputs": [
    {
     "name": "stdout",
     "output_type": "stream",
     "text": [
      "7 pages from fw9.pdf,data_tables_page_1.pdf are merged into test_merge.pdf\n"
     ]
    }
   ],
   "source": [
    "merge_pdf(\"test_merge.pdf\", ['fw9.pdf', 'data_tables_page_1.pdf'])"
   ]
  },
  {
   "cell_type": "code",
   "execution_count": null,
   "metadata": {},
   "outputs": [],
   "source": []
  }
 ],
 "metadata": {
  "kernelspec": {
   "display_name": "Python 3",
   "language": "python",
   "name": "python3"
  },
  "language_info": {
   "codemirror_mode": {
    "name": "ipython",
    "version": 3
   },
   "file_extension": ".py",
   "mimetype": "text/x-python",
   "name": "python",
   "nbconvert_exporter": "python",
   "pygments_lexer": "ipython3",
   "version": "3.7.3"
  }
 },
 "nbformat": 4,
 "nbformat_minor": 2
}
