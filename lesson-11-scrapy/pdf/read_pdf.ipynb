{
 "cells": [
  {
   "cell_type": "markdown",
   "metadata": {},
   "source": [
    "### References\n",
    "[tabula-py: Extract table from PDF into Python DataFrame](https://blog.chezo.uno/tabula-py-extract-table-from-pdf-into-python-dataframe-6c7acfa5f302)\n",
    "\n",
    "[Parse Data from PDFs with Tabula and Pandas](https://hackersandslackers.com/data-from-pdfs-tabula-pandas/)\n",
    "\n",
    "Install tabula pkg"
   ]
  },
  {
   "cell_type": "raw",
   "metadata": {},
   "source": [
    "$ pip install tabula-py"
   ]
  },
  {
   "cell_type": "code",
   "execution_count": 1,
   "metadata": {},
   "outputs": [],
   "source": [
    "import tabula as t"
   ]
  },
  {
   "cell_type": "code",
   "execution_count": 2,
   "metadata": {},
   "outputs": [
    {
     "data": {
      "text/plain": [
       "['DistributionNotFound',\n",
       " '__builtins__',\n",
       " '__cached__',\n",
       " '__doc__',\n",
       " '__file__',\n",
       " '__loader__',\n",
       " '__name__',\n",
       " '__package__',\n",
       " '__path__',\n",
       " '__spec__',\n",
       " '__version__',\n",
       " 'convert_into',\n",
       " 'convert_into_by_batch',\n",
       " 'environment_info',\n",
       " 'errors',\n",
       " 'file_util',\n",
       " 'get_distribution',\n",
       " 'read_pdf',\n",
       " 'read_pdf_with_template',\n",
       " 'template',\n",
       " 'util',\n",
       " 'wrapper']"
      ]
     },
     "execution_count": 2,
     "metadata": {},
     "output_type": "execute_result"
    }
   ],
   "source": [
    "# list available functions provided by this package\n",
    "dir(t)"
   ]
  },
  {
   "cell_type": "markdown",
   "metadata": {},
   "source": [
    "list PDF files in the current folder"
   ]
  },
  {
   "cell_type": "code",
   "execution_count": 17,
   "metadata": {},
   "outputs": [
    {
     "name": "stdout",
     "output_type": "stream",
     "text": [
      "data_tables.pdf\r\n"
     ]
    }
   ],
   "source": [
    "!ls *.pdf"
   ]
  },
  {
   "cell_type": "code",
   "execution_count": 8,
   "metadata": {},
   "outputs": [],
   "source": [
    "pdf_path=\"data_tables.pdf\""
   ]
  },
  {
   "cell_type": "markdown",
   "metadata": {},
   "source": [
    "read the 1st table into a dataframe by default"
   ]
  },
  {
   "cell_type": "code",
   "execution_count": 18,
   "metadata": {},
   "outputs": [],
   "source": [
    "df = t.read_pdf(pdf_path)"
   ]
  },
  {
   "cell_type": "code",
   "execution_count": 19,
   "metadata": {},
   "outputs": [
    {
     "data": {
      "text/plain": [
       "(pandas.core.frame.DataFrame,\n",
       " (4, 2),\n",
       " Index(['Number of Coils', 'Number of Paperclips'], dtype='object'))"
      ]
     },
     "execution_count": 19,
     "metadata": {},
     "output_type": "execute_result"
    }
   ],
   "source": [
    "type(df), df.shape, df.columns"
   ]
  },
  {
   "cell_type": "code",
   "execution_count": 11,
   "metadata": {},
   "outputs": [
    {
     "data": {
      "text/html": [
       "<div>\n",
       "<style scoped>\n",
       "    .dataframe tbody tr th:only-of-type {\n",
       "        vertical-align: middle;\n",
       "    }\n",
       "\n",
       "    .dataframe tbody tr th {\n",
       "        vertical-align: top;\n",
       "    }\n",
       "\n",
       "    .dataframe thead th {\n",
       "        text-align: right;\n",
       "    }\n",
       "</style>\n",
       "<table border=\"1\" class=\"dataframe\">\n",
       "  <thead>\n",
       "    <tr style=\"text-align: right;\">\n",
       "      <th></th>\n",
       "      <th>Number of Coils</th>\n",
       "      <th>Number of Paperclips</th>\n",
       "    </tr>\n",
       "  </thead>\n",
       "  <tbody>\n",
       "    <tr>\n",
       "      <th>0</th>\n",
       "      <td>5</td>\n",
       "      <td>3, 5, 4</td>\n",
       "    </tr>\n",
       "    <tr>\n",
       "      <th>1</th>\n",
       "      <td>10</td>\n",
       "      <td>7, 8, 6</td>\n",
       "    </tr>\n",
       "    <tr>\n",
       "      <th>2</th>\n",
       "      <td>15</td>\n",
       "      <td>11, 10, 12</td>\n",
       "    </tr>\n",
       "    <tr>\n",
       "      <th>3</th>\n",
       "      <td>20</td>\n",
       "      <td>15, 13, 14</td>\n",
       "    </tr>\n",
       "  </tbody>\n",
       "</table>\n",
       "</div>"
      ],
      "text/plain": [
       "   Number of Coils Number of Paperclips\n",
       "0                5              3, 5, 4\n",
       "1               10              7, 8, 6\n",
       "2               15           11, 10, 12\n",
       "3               20           15, 13, 14"
      ]
     },
     "execution_count": 11,
     "metadata": {},
     "output_type": "execute_result"
    }
   ],
   "source": [
    "df"
   ]
  },
  {
   "cell_type": "markdown",
   "metadata": {},
   "source": [
    "check documentation on `read_pdf` function for detailed usage"
   ]
  },
  {
   "cell_type": "code",
   "execution_count": 12,
   "metadata": {},
   "outputs": [],
   "source": [
    "t.read_pdf?"
   ]
  },
  {
   "cell_type": "raw",
   "metadata": {},
   "source": [
    "t.read_pdf(\n",
    "    input_path,\n",
    "    output_format='dataframe',\n",
    "    encoding='utf-8',\n",
    "    java_options=None,\n",
    "    pandas_options=None,\n",
    "    multiple_tables=False,\n",
    "    user_agent=None,\n",
    "    **kwargs,\n",
    ")"
   ]
  },
  {
   "cell_type": "markdown",
   "metadata": {},
   "source": [
    "We collect all the tables into a list of pandas dataframe"
   ]
  },
  {
   "cell_type": "code",
   "execution_count": 20,
   "metadata": {},
   "outputs": [],
   "source": [
    "dfs = t.read_pdf(pdf_path, pages=\"all\", multiple_tables=True)"
   ]
  },
  {
   "cell_type": "code",
   "execution_count": 21,
   "metadata": {},
   "outputs": [
    {
     "data": {
      "text/plain": [
       "(list, 3)"
      ]
     },
     "execution_count": 21,
     "metadata": {},
     "output_type": "execute_result"
    }
   ],
   "source": [
    "type(dfs), len(dfs)"
   ]
  },
  {
   "cell_type": "code",
   "execution_count": 15,
   "metadata": {},
   "outputs": [
    {
     "data": {
      "text/plain": [
       "[                 0                     1\n",
       " 0  Number of Coils  Number of Paperclips\n",
       " 1                5               3, 5, 4\n",
       " 2               10               7, 8, 6\n",
       " 3               15            11, 10, 12\n",
       " 4               20            15, 13, 14,\n",
       "               0                1                           2          3  \\\n",
       " 0   Speed (mph)           Driver                         Car     Engine   \n",
       " 1       407.447  Craig Breedlove           Spirit of America     GE J47   \n",
       " 2       413.199        Tom Green            Wingfoot Express     WE J46   \n",
       " 3        434.22       Art Arfons               Green Monster     GE J79   \n",
       " 4       468.719  Craig Breedlove           Spirit of America     GE J79   \n",
       " 5       526.277  Craig Breedlove           Spirit of America     GE J79   \n",
       " 6       536.712       Art Arfons               Green Monster     GE J79   \n",
       " 7       555.127  Craig Breedlove  Spirit of America, Sonic 1     GE J79   \n",
       " 8       576.553       Art Arfons               Green Monster     GE J79   \n",
       " 9       600.601  Craig Breedlove  Spirit of America, Sonic 1     GE J79   \n",
       " 10      622.407    Gary Gabelich                  Blue Flame     Rocket   \n",
       " 11      633.468    Richard Noble                    Thrust 2  RR RG 146   \n",
       " 12      763.035       Andy Green                  Thrust SSC    RR Spey   \n",
       " \n",
       "            4  \n",
       " 0       Date  \n",
       " 1     8/5/63  \n",
       " 2    10/2/64  \n",
       " 3    10/5/64  \n",
       " 4   10/13/64  \n",
       " 5   10/15/65  \n",
       " 6   10/27/65  \n",
       " 7    11/2/65  \n",
       " 8    11/7/65  \n",
       " 9   11/15/65  \n",
       " 10  10/23/70  \n",
       " 11   10/4/83  \n",
       " 12  10/15/97  ,\n",
       "                        0              1\n",
       " 0  Time (drops of water)  Distance (cm)\n",
       " 1                      1        10,11,9\n",
       " 2                      2     29, 31, 30\n",
       " 3                      3     59, 58, 61\n",
       " 4                      4   102, 100, 98\n",
       " 5                      5  122, 125, 127]"
      ]
     },
     "execution_count": 15,
     "metadata": {},
     "output_type": "execute_result"
    }
   ],
   "source": [
    "dfs"
   ]
  },
  {
   "cell_type": "code",
   "execution_count": 22,
   "metadata": {},
   "outputs": [
    {
     "data": {
      "text/html": [
       "<div>\n",
       "<style scoped>\n",
       "    .dataframe tbody tr th:only-of-type {\n",
       "        vertical-align: middle;\n",
       "    }\n",
       "\n",
       "    .dataframe tbody tr th {\n",
       "        vertical-align: top;\n",
       "    }\n",
       "\n",
       "    .dataframe thead th {\n",
       "        text-align: right;\n",
       "    }\n",
       "</style>\n",
       "<table border=\"1\" class=\"dataframe\">\n",
       "  <thead>\n",
       "    <tr style=\"text-align: right;\">\n",
       "      <th></th>\n",
       "      <th>0</th>\n",
       "      <th>1</th>\n",
       "    </tr>\n",
       "  </thead>\n",
       "  <tbody>\n",
       "    <tr>\n",
       "      <th>0</th>\n",
       "      <td>Number of Coils</td>\n",
       "      <td>Number of Paperclips</td>\n",
       "    </tr>\n",
       "    <tr>\n",
       "      <th>1</th>\n",
       "      <td>5</td>\n",
       "      <td>3, 5, 4</td>\n",
       "    </tr>\n",
       "    <tr>\n",
       "      <th>2</th>\n",
       "      <td>10</td>\n",
       "      <td>7, 8, 6</td>\n",
       "    </tr>\n",
       "    <tr>\n",
       "      <th>3</th>\n",
       "      <td>15</td>\n",
       "      <td>11, 10, 12</td>\n",
       "    </tr>\n",
       "    <tr>\n",
       "      <th>4</th>\n",
       "      <td>20</td>\n",
       "      <td>15, 13, 14</td>\n",
       "    </tr>\n",
       "  </tbody>\n",
       "</table>\n",
       "</div>"
      ],
      "text/plain": [
       "                 0                     1\n",
       "0  Number of Coils  Number of Paperclips\n",
       "1                5               3, 5, 4\n",
       "2               10               7, 8, 6\n",
       "3               15            11, 10, 12\n",
       "4               20            15, 13, 14"
      ]
     },
     "execution_count": 22,
     "metadata": {},
     "output_type": "execute_result"
    }
   ],
   "source": [
    "df_table1 = dfs[0]\n",
    "df_table1"
   ]
  },
  {
   "cell_type": "code",
   "execution_count": 23,
   "metadata": {},
   "outputs": [
    {
     "data": {
      "text/html": [
       "<div>\n",
       "<style scoped>\n",
       "    .dataframe tbody tr th:only-of-type {\n",
       "        vertical-align: middle;\n",
       "    }\n",
       "\n",
       "    .dataframe tbody tr th {\n",
       "        vertical-align: top;\n",
       "    }\n",
       "\n",
       "    .dataframe thead th {\n",
       "        text-align: right;\n",
       "    }\n",
       "</style>\n",
       "<table border=\"1\" class=\"dataframe\">\n",
       "  <thead>\n",
       "    <tr style=\"text-align: right;\">\n",
       "      <th></th>\n",
       "      <th>0</th>\n",
       "      <th>1</th>\n",
       "      <th>2</th>\n",
       "      <th>3</th>\n",
       "      <th>4</th>\n",
       "    </tr>\n",
       "  </thead>\n",
       "  <tbody>\n",
       "    <tr>\n",
       "      <th>0</th>\n",
       "      <td>Speed (mph)</td>\n",
       "      <td>Driver</td>\n",
       "      <td>Car</td>\n",
       "      <td>Engine</td>\n",
       "      <td>Date</td>\n",
       "    </tr>\n",
       "    <tr>\n",
       "      <th>1</th>\n",
       "      <td>407.447</td>\n",
       "      <td>Craig Breedlove</td>\n",
       "      <td>Spirit of America</td>\n",
       "      <td>GE J47</td>\n",
       "      <td>8/5/63</td>\n",
       "    </tr>\n",
       "    <tr>\n",
       "      <th>2</th>\n",
       "      <td>413.199</td>\n",
       "      <td>Tom Green</td>\n",
       "      <td>Wingfoot Express</td>\n",
       "      <td>WE J46</td>\n",
       "      <td>10/2/64</td>\n",
       "    </tr>\n",
       "    <tr>\n",
       "      <th>3</th>\n",
       "      <td>434.22</td>\n",
       "      <td>Art Arfons</td>\n",
       "      <td>Green Monster</td>\n",
       "      <td>GE J79</td>\n",
       "      <td>10/5/64</td>\n",
       "    </tr>\n",
       "    <tr>\n",
       "      <th>4</th>\n",
       "      <td>468.719</td>\n",
       "      <td>Craig Breedlove</td>\n",
       "      <td>Spirit of America</td>\n",
       "      <td>GE J79</td>\n",
       "      <td>10/13/64</td>\n",
       "    </tr>\n",
       "    <tr>\n",
       "      <th>5</th>\n",
       "      <td>526.277</td>\n",
       "      <td>Craig Breedlove</td>\n",
       "      <td>Spirit of America</td>\n",
       "      <td>GE J79</td>\n",
       "      <td>10/15/65</td>\n",
       "    </tr>\n",
       "    <tr>\n",
       "      <th>6</th>\n",
       "      <td>536.712</td>\n",
       "      <td>Art Arfons</td>\n",
       "      <td>Green Monster</td>\n",
       "      <td>GE J79</td>\n",
       "      <td>10/27/65</td>\n",
       "    </tr>\n",
       "    <tr>\n",
       "      <th>7</th>\n",
       "      <td>555.127</td>\n",
       "      <td>Craig Breedlove</td>\n",
       "      <td>Spirit of America, Sonic 1</td>\n",
       "      <td>GE J79</td>\n",
       "      <td>11/2/65</td>\n",
       "    </tr>\n",
       "    <tr>\n",
       "      <th>8</th>\n",
       "      <td>576.553</td>\n",
       "      <td>Art Arfons</td>\n",
       "      <td>Green Monster</td>\n",
       "      <td>GE J79</td>\n",
       "      <td>11/7/65</td>\n",
       "    </tr>\n",
       "    <tr>\n",
       "      <th>9</th>\n",
       "      <td>600.601</td>\n",
       "      <td>Craig Breedlove</td>\n",
       "      <td>Spirit of America, Sonic 1</td>\n",
       "      <td>GE J79</td>\n",
       "      <td>11/15/65</td>\n",
       "    </tr>\n",
       "    <tr>\n",
       "      <th>10</th>\n",
       "      <td>622.407</td>\n",
       "      <td>Gary Gabelich</td>\n",
       "      <td>Blue Flame</td>\n",
       "      <td>Rocket</td>\n",
       "      <td>10/23/70</td>\n",
       "    </tr>\n",
       "    <tr>\n",
       "      <th>11</th>\n",
       "      <td>633.468</td>\n",
       "      <td>Richard Noble</td>\n",
       "      <td>Thrust 2</td>\n",
       "      <td>RR RG 146</td>\n",
       "      <td>10/4/83</td>\n",
       "    </tr>\n",
       "    <tr>\n",
       "      <th>12</th>\n",
       "      <td>763.035</td>\n",
       "      <td>Andy Green</td>\n",
       "      <td>Thrust SSC</td>\n",
       "      <td>RR Spey</td>\n",
       "      <td>10/15/97</td>\n",
       "    </tr>\n",
       "  </tbody>\n",
       "</table>\n",
       "</div>"
      ],
      "text/plain": [
       "              0                1                           2          3  \\\n",
       "0   Speed (mph)           Driver                         Car     Engine   \n",
       "1       407.447  Craig Breedlove           Spirit of America     GE J47   \n",
       "2       413.199        Tom Green            Wingfoot Express     WE J46   \n",
       "3        434.22       Art Arfons               Green Monster     GE J79   \n",
       "4       468.719  Craig Breedlove           Spirit of America     GE J79   \n",
       "5       526.277  Craig Breedlove           Spirit of America     GE J79   \n",
       "6       536.712       Art Arfons               Green Monster     GE J79   \n",
       "7       555.127  Craig Breedlove  Spirit of America, Sonic 1     GE J79   \n",
       "8       576.553       Art Arfons               Green Monster     GE J79   \n",
       "9       600.601  Craig Breedlove  Spirit of America, Sonic 1     GE J79   \n",
       "10      622.407    Gary Gabelich                  Blue Flame     Rocket   \n",
       "11      633.468    Richard Noble                    Thrust 2  RR RG 146   \n",
       "12      763.035       Andy Green                  Thrust SSC    RR Spey   \n",
       "\n",
       "           4  \n",
       "0       Date  \n",
       "1     8/5/63  \n",
       "2    10/2/64  \n",
       "3    10/5/64  \n",
       "4   10/13/64  \n",
       "5   10/15/65  \n",
       "6   10/27/65  \n",
       "7    11/2/65  \n",
       "8    11/7/65  \n",
       "9   11/15/65  \n",
       "10  10/23/70  \n",
       "11   10/4/83  \n",
       "12  10/15/97  "
      ]
     },
     "execution_count": 23,
     "metadata": {},
     "output_type": "execute_result"
    }
   ],
   "source": [
    "df_table2 = dfs[1]\n",
    "df_table2"
   ]
  },
  {
   "cell_type": "code",
   "execution_count": 24,
   "metadata": {},
   "outputs": [
    {
     "data": {
      "text/html": [
       "<div>\n",
       "<style scoped>\n",
       "    .dataframe tbody tr th:only-of-type {\n",
       "        vertical-align: middle;\n",
       "    }\n",
       "\n",
       "    .dataframe tbody tr th {\n",
       "        vertical-align: top;\n",
       "    }\n",
       "\n",
       "    .dataframe thead th {\n",
       "        text-align: right;\n",
       "    }\n",
       "</style>\n",
       "<table border=\"1\" class=\"dataframe\">\n",
       "  <thead>\n",
       "    <tr style=\"text-align: right;\">\n",
       "      <th></th>\n",
       "      <th>0</th>\n",
       "      <th>1</th>\n",
       "    </tr>\n",
       "  </thead>\n",
       "  <tbody>\n",
       "    <tr>\n",
       "      <th>0</th>\n",
       "      <td>Time (drops of water)</td>\n",
       "      <td>Distance (cm)</td>\n",
       "    </tr>\n",
       "    <tr>\n",
       "      <th>1</th>\n",
       "      <td>1</td>\n",
       "      <td>10,11,9</td>\n",
       "    </tr>\n",
       "    <tr>\n",
       "      <th>2</th>\n",
       "      <td>2</td>\n",
       "      <td>29, 31, 30</td>\n",
       "    </tr>\n",
       "    <tr>\n",
       "      <th>3</th>\n",
       "      <td>3</td>\n",
       "      <td>59, 58, 61</td>\n",
       "    </tr>\n",
       "    <tr>\n",
       "      <th>4</th>\n",
       "      <td>4</td>\n",
       "      <td>102, 100, 98</td>\n",
       "    </tr>\n",
       "    <tr>\n",
       "      <th>5</th>\n",
       "      <td>5</td>\n",
       "      <td>122, 125, 127</td>\n",
       "    </tr>\n",
       "  </tbody>\n",
       "</table>\n",
       "</div>"
      ],
      "text/plain": [
       "                       0              1\n",
       "0  Time (drops of water)  Distance (cm)\n",
       "1                      1        10,11,9\n",
       "2                      2     29, 31, 30\n",
       "3                      3     59, 58, 61\n",
       "4                      4   102, 100, 98\n",
       "5                      5  122, 125, 127"
      ]
     },
     "execution_count": 24,
     "metadata": {},
     "output_type": "execute_result"
    }
   ],
   "source": [
    "df_table3 = dfs[2]\n",
    "df_table3"
   ]
  },
  {
   "cell_type": "code",
   "execution_count": null,
   "metadata": {},
   "outputs": [],
   "source": []
  }
 ],
 "metadata": {
  "kernelspec": {
   "display_name": "Python 3",
   "language": "python",
   "name": "python3"
  },
  "language_info": {
   "codemirror_mode": {
    "name": "ipython",
    "version": 3
   },
   "file_extension": ".py",
   "mimetype": "text/x-python",
   "name": "python",
   "nbconvert_exporter": "python",
   "pygments_lexer": "ipython3",
   "version": "3.7.3"
  }
 },
 "nbformat": 4,
 "nbformat_minor": 2
}
