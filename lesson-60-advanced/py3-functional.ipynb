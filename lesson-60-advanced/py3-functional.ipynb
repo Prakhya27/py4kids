{
 "cells": [
  {
   "cell_type": "markdown",
   "metadata": {},
   "source": [
    "## Functional Programming HOWTO in python 3.7\n",
    "\n",
    "https://docs.python.org/3.7/howto/functional.html"
   ]
  },
  {
   "cell_type": "code",
   "execution_count": null,
   "metadata": {},
   "outputs": [],
   "source": []
  },
  {
   "cell_type": "code",
   "execution_count": null,
   "metadata": {},
   "outputs": [],
   "source": []
  },
  {
   "cell_type": "markdown",
   "metadata": {},
   "source": [
    "https://www.hackerearth.com/practice/python/functional-programming/functional-programming-1/tutorial/\n",
    "\n",
    "\n",
    "### Characteristics of functional programming\n",
    "A functionally pure language should support the following constructs:\n",
    "\n",
    "- Functions as first class objects, which means that you should be able to apply all the constructs of using data, to functions as well.\n",
    "- Pure functions; there should not be any side-effects in them\n",
    "- Ways and constructs to limit the use of for loops\n",
    "- Good support for recursion"
   ]
  },
  {
   "cell_type": "code",
   "execution_count": 2,
   "metadata": {},
   "outputs": [
    {
     "data": {
      "text/plain": [
       "[1, 2, 3]"
      ]
     },
     "execution_count": 2,
     "metadata": {},
     "output_type": "execute_result"
    }
   ],
   "source": [
    "list(map(int, [\"1\", \"2\", \"3\"]))  # use int() to convert list of string to int list"
   ]
  },
  {
   "cell_type": "markdown",
   "metadata": {},
   "source": [
    "above is similar to \n",
    "\n",
    "```\n",
    "ret = []\n",
    "for x in l:\n",
    "    ret.append(int(x))\n",
    "```"
   ]
  },
  {
   "cell_type": "code",
   "execution_count": 3,
   "metadata": {},
   "outputs": [],
   "source": [
    "def hello_world(h):\n",
    "...     def world(w):\n",
    "...         print(h, w)\n",
    "...     return world # returning functions"
   ]
  },
  {
   "cell_type": "code",
   "execution_count": 4,
   "metadata": {},
   "outputs": [],
   "source": [
    "greet = hello_world  # assigning"
   ]
  },
  {
   "cell_type": "code",
   "execution_count": 5,
   "metadata": {},
   "outputs": [],
   "source": [
    "f = greet(\"Hi\")  # assigning"
   ]
  },
  {
   "cell_type": "code",
   "execution_count": 10,
   "metadata": {},
   "outputs": [
    {
     "data": {
      "text/plain": [
       "(function, function)"
      ]
     },
     "execution_count": 10,
     "metadata": {},
     "output_type": "execute_result"
    }
   ],
   "source": [
    "type(f), type(greet)"
   ]
  },
  {
   "cell_type": "code",
   "execution_count": 11,
   "metadata": {},
   "outputs": [
    {
     "name": "stdout",
     "output_type": "stream",
     "text": [
      "Hi spark\n"
     ]
    }
   ],
   "source": [
    "f(\"spark\")"
   ]
  },
  {
   "cell_type": "code",
   "execution_count": 12,
   "metadata": {},
   "outputs": [
    {
     "data": {
      "text/plain": [
       "10"
      ]
     },
     "execution_count": 12,
     "metadata": {},
     "output_type": "execute_result"
    }
   ],
   "source": [
    "sum(range(5))"
   ]
  },
  {
   "cell_type": "markdown",
   "metadata": {},
   "source": [
    "built-in functions such as map, reduce, and the itertools module in Python can be utilized to avoid side-effects in your code."
   ]
  },
  {
   "cell_type": "code",
   "execution_count": 14,
   "metadata": {},
   "outputs": [
    {
     "data": {
      "text/plain": [
       "['f1', 'f2', 'f3']"
      ]
     },
     "execution_count": 14,
     "metadata": {},
     "output_type": "execute_result"
    }
   ],
   "source": [
    "def func1():\n",
    "    return \"f1\"\n",
    "\n",
    "def func2():\n",
    "    return \"f2\"\n",
    "\n",
    "def func3():\n",
    "    return \"f3\"\n",
    "\n",
    "executing = lambda f: f()\n",
    "y = list(map(executing, [func1, func2, func3]))\n",
    "y"
   ]
  },
  {
   "cell_type": "markdown",
   "metadata": {},
   "source": [
    "Please note that this does not actually run the functions but returns a lazy map object. You need to pass this object to a list or any other eager function to have the code executed."
   ]
  },
  {
   "cell_type": "markdown",
   "metadata": {},
   "source": [
    "### recursion"
   ]
  },
  {
   "cell_type": "code",
   "execution_count": 16,
   "metadata": {},
   "outputs": [],
   "source": [
    "def fib(n):\n",
    "    if n == 0: return 0\n",
    "    elif n == 1: return 1\n",
    "    else: return fib(n-1)+fib(n-2)"
   ]
  },
  {
   "cell_type": "code",
   "execution_count": 17,
   "metadata": {},
   "outputs": [
    {
     "data": {
      "text/plain": [
       "55"
      ]
     },
     "execution_count": 17,
     "metadata": {},
     "output_type": "execute_result"
    }
   ],
   "source": [
    "# not efficient, but illustrate the concept well\n",
    "\n",
    "fib(10)"
   ]
  },
  {
   "cell_type": "markdown",
   "metadata": {},
   "source": [
    "### from procedural to functional"
   ]
  },
  {
   "cell_type": "code",
   "execution_count": 18,
   "metadata": {},
   "outputs": [
    {
     "name": "stdout",
     "output_type": "stream",
     "text": [
      "783012621312\n"
     ]
    }
   ],
   "source": [
    "# procedural code\n",
    "starting_number = 96\n",
    "\n",
    "# get the square of the number\n",
    "square = starting_number ** 2\n",
    "\n",
    "# increment the number by 1\n",
    "increment = square + 1\n",
    "\n",
    "# cube of the number\n",
    "cube = increment ** 3\n",
    "\n",
    "# decrease the cube by 1\n",
    "decrement = cube - 1\n",
    "\n",
    "# get the final result\n",
    "result = print(decrement) # output 783012621312"
   ]
  },
  {
   "cell_type": "code",
   "execution_count": 19,
   "metadata": {},
   "outputs": [
    {
     "name": "stdout",
     "output_type": "stream",
     "text": [
      "783012621312\n"
     ]
    }
   ],
   "source": [
    "# define a function `call` where you provide the function and the arguments\n",
    "def call(x, f):\n",
    "    return f(x)\n",
    "\n",
    "# define a function that returns the square\n",
    "square = lambda x : x*x\n",
    "\n",
    "# define a function that returns the increment\n",
    "increment = lambda x : x+1\n",
    "\n",
    "# define a function that returns the cube\n",
    "cube = lambda x : x*x*x\n",
    "\n",
    "# define a function that returns the decrement\n",
    "decrement = lambda x : x-1\n",
    "\n",
    "# put all the functions in a list in the order that you want to execute them\n",
    "funcs = [square, increment, cube, decrement]\n",
    "\n",
    "# bring it all together. Below is the non functional part. \n",
    "# in functional programming you separate the functional and the non functional parts.\n",
    "from functools import reduce # reduce is in the functools library\n",
    "print(reduce(call, funcs, 96)) # output 783012621312"
   ]
  },
  {
   "cell_type": "markdown",
   "metadata": {},
   "source": [
    "### Functions as arguments"
   ]
  },
  {
   "cell_type": "code",
   "execution_count": 20,
   "metadata": {},
   "outputs": [
    {
     "name": "stdout",
     "output_type": "stream",
     "text": [
      "6\n"
     ]
    }
   ],
   "source": [
    "def summation(nums): # normal function\n",
    "    return sum(nums)\n",
    "\n",
    "def main(f, *args): # function as an argument\n",
    "    result = f(*args)\n",
    "    print(result)\n",
    "\n",
    "if __name__ == \"__main__\":\n",
    "    main(summation, [1,2,3]) # output 6"
   ]
  },
  {
   "cell_type": "code",
   "execution_count": 21,
   "metadata": {},
   "outputs": [
    {
     "data": {
      "text/plain": [
       "[0, 1, 2, 3, 4]"
      ]
     },
     "execution_count": 21,
     "metadata": {},
     "output_type": "execute_result"
    }
   ],
   "source": [
    "list(range(5))"
   ]
  },
  {
   "cell_type": "code",
   "execution_count": 22,
   "metadata": {},
   "outputs": [
    {
     "name": "stdout",
     "output_type": "stream",
     "text": [
      "10\n"
     ]
    }
   ],
   "source": [
    "main(summation, range(5))"
   ]
  },
  {
   "cell_type": "markdown",
   "metadata": {},
   "source": [
    "### Having a function as a return value"
   ]
  },
  {
   "cell_type": "code",
   "execution_count": 23,
   "metadata": {},
   "outputs": [
    {
     "name": "stdout",
     "output_type": "stream",
     "text": [
      "<function add_3_nums at 0x7f44286f02f0>\n",
      "6\n",
      "<function add_2_nums at 0x7f44286f0378>\n",
      "3\n"
     ]
    }
   ],
   "source": [
    "def add_2_nums(x, y): # normal function which returns data\n",
    "    return x + y\n",
    "\n",
    "def add_3_nums(x, y, z): # normal function which returns data\n",
    "    return x + y + z\n",
    "\n",
    "def get_appropriate_function(num_len): # function which returns functions depending on the logic\n",
    "    if num_len == 3:\n",
    "        return add_3_nums\n",
    "    else:\n",
    "        return add_2_nums\n",
    "\n",
    "\n",
    "if __name__ == \"__main__\":\n",
    "    args = [1, 2, 3]\n",
    "    res_function = get_appropriate_function(len(args))\n",
    "    print(res_function)       # <function add_three_nums at 0x7f8f34173668>\n",
    "    print(res_function(*args)) # unpack the args, output 6\n",
    "\n",
    "    args = [1, 2]\n",
    "    res_function = get_appropriate_function(len(args))\n",
    "    print(res_function)       # <function add_tw0_nums at 0x7f1630955e18>\n",
    "    print(res_function(*args)) # unpack the args, output 3"
   ]
  },
  {
   "cell_type": "markdown",
   "metadata": {},
   "source": [
    "### closures\n",
    "\n",
    "A closure is a way of keeping alive a variable even when the function has returned. So, in a closure, a function is defined along with the environment. In Python, this is done by nesting a function inside the encapsulating function and then returning the underlying function."
   ]
  },
  {
   "cell_type": "code",
   "execution_count": 24,
   "metadata": {},
   "outputs": [
    {
     "name": "stdout",
     "output_type": "stream",
     "text": [
      "6\n",
      "7\n"
     ]
    }
   ],
   "source": [
    "def add_5():\n",
    "    five = 5\n",
    "\n",
    "    def add(arg): # nesting functions\n",
    "        return arg + five\n",
    "    return add\n",
    "\n",
    "if __name__ == '__main__':\n",
    "    closure1 = add_5()\n",
    "    print(closure1(1)) # output 6\n",
    "    print(closure1(2)) # output 7"
   ]
  },
  {
   "cell_type": "markdown",
   "metadata": {},
   "source": [
    "### decorators\n",
    "\n",
    "Python decorators are convenient ways to make changes to the functionality of code without making changes to the code. A decorator is written as a function closure and implemented by giving the “@” operator on top of the function.\n",
    "\n",
    "The skeleton of a Python decorator is shown below\n",
    "\n",
    "```\n",
    "def my_decorator(f):\n",
    "    # write your code here or your wrapping function\n",
    "    # return the wrapping function\n",
    "    pass\n",
    "\n",
    "@my_decorator\n",
    "def my_code(args):\n",
    "    # original functionality\n",
    "    pass\n",
    "\n",
    "my_code(args)\n",
    "```"
   ]
  },
  {
   "cell_type": "code",
   "execution_count": 26,
   "metadata": {},
   "outputs": [
    {
     "name": "stdout",
     "output_type": "stream",
     "text": [
      "checked that the return value is dict\n",
      "{'lang': 'python'}\n"
     ]
    }
   ],
   "source": [
    "def check(f):\n",
    "...     def wrapper(*args, **kwargs):\n",
    "...         res = f(*args, **kwargs)\n",
    "...         if isinstance(res, dict):\n",
    "...             print(\"checked that the return value is dict\")\n",
    "...             return res\n",
    "...     return wrapper\n",
    "...\n",
    "\n",
    "@check\n",
    "... def my_code(args):\n",
    "...     return {\"lang\": args}\n",
    "...\n",
    "print(my_code(\"python\"))  # checked that the return value is dict\n",
    "# {'lang': 'python'}"
   ]
  },
  {
   "cell_type": "code",
   "execution_count": null,
   "metadata": {},
   "outputs": [],
   "source": []
  }
 ],
 "metadata": {
  "kernelspec": {
   "display_name": "Python 3",
   "language": "python",
   "name": "python3"
  },
  "language_info": {
   "codemirror_mode": {
    "name": "ipython",
    "version": 3
   },
   "file_extension": ".py",
   "mimetype": "text/x-python",
   "name": "python",
   "nbconvert_exporter": "python",
   "pygments_lexer": "ipython3",
   "version": "3.7.3"
  }
 },
 "nbformat": 4,
 "nbformat_minor": 2
}
