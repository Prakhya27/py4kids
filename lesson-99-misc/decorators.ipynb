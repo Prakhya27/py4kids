{
 "cells": [
  {
   "cell_type": "markdown",
   "metadata": {},
   "source": [
    "## Simple Decorator\n",
    "\n",
    "https://gist.github.com/timofurrer/2119854"
   ]
  },
  {
   "cell_type": "code",
   "execution_count": 5,
   "metadata": {},
   "outputs": [],
   "source": [
    "def decorator( fn ):\n",
    "  def wrapper( ):\n",
    "    print( \"Befor the function is called\" )\n",
    "    fn( )\n",
    "    print( \"After the function is called\" )\n",
    "\n",
    "  return wrapper"
   ]
  },
  {
   "cell_type": "code",
   "execution_count": 6,
   "metadata": {},
   "outputs": [],
   "source": [
    "@decorator\n",
    "def bar():\n",
    "  print(\"Hello World!\")"
   ]
  },
  {
   "cell_type": "code",
   "execution_count": 7,
   "metadata": {},
   "outputs": [],
   "source": [
    "def bar2():\n",
    "  print(\"Hello Python Decorator!\")"
   ]
  },
  {
   "cell_type": "code",
   "execution_count": 8,
   "metadata": {},
   "outputs": [
    {
     "name": "stdout",
     "output_type": "stream",
     "text": [
      "Befor the function is called\n",
      "Hello World!\n",
      "After the function is called\n"
     ]
    }
   ],
   "source": [
    "bar()"
   ]
  },
  {
   "cell_type": "code",
   "execution_count": 9,
   "metadata": {},
   "outputs": [
    {
     "name": "stdout",
     "output_type": "stream",
     "text": [
      "Befor the function is called\n",
      "Hello Python Decorator!\n",
      "After the function is called\n"
     ]
    }
   ],
   "source": [
    "foo = decorator( bar2 )\n",
    "foo()"
   ]
  },
  {
   "cell_type": "markdown",
   "metadata": {},
   "source": [
    "## Long example\n",
    "\n",
    "https://gist.github.com/lnhote/7875074"
   ]
  },
  {
   "cell_type": "code",
   "execution_count": 10,
   "metadata": {},
   "outputs": [
    {
     "data": {
      "text/plain": [
       "'Yes!'"
      ]
     },
     "execution_count": 10,
     "metadata": {},
     "output_type": "execute_result"
    }
   ],
   "source": [
    "def shout(word=\"yes\"):\n",
    "    return word.capitalize()+\"!\"\n",
    "\n",
    "shout()\n",
    "# outputs : 'Yes!'"
   ]
  },
  {
   "cell_type": "code",
   "execution_count": 11,
   "metadata": {},
   "outputs": [
    {
     "data": {
      "text/plain": [
       "'Yes!'"
      ]
     },
     "execution_count": 11,
     "metadata": {},
     "output_type": "execute_result"
    }
   ],
   "source": [
    "# As an object, you can assign the function to a variable like any\n",
    "# other object \n",
    "\n",
    "scream = shout   # copied by value\n",
    "\n",
    "# Notice we don't use parentheses: we are not calling the function, we are\n",
    "# putting the function \"shout\" into the variable \"scream\". \n",
    "# It means you can then call \"shout\" from \"scream\":\n",
    "\n",
    "scream()\n",
    "# outputs : 'Yes!'"
   ]
  },
  {
   "cell_type": "code",
   "execution_count": 13,
   "metadata": {},
   "outputs": [
    {
     "name": "stdout",
     "output_type": "stream",
     "text": [
      "name 'shout' is not defined\n"
     ]
    },
    {
     "data": {
      "text/plain": [
       "'Yes!'"
      ]
     },
     "execution_count": 13,
     "metadata": {},
     "output_type": "execute_result"
    }
   ],
   "source": [
    "# More than that, it means you can remove the old name 'shout', and\n",
    "# the function will still be accessible from 'scream'\n",
    "\n",
    "del shout\n",
    "try:\n",
    "    shout()\n",
    "except NameError as e:\n",
    "    print(e )\n",
    "    #outputs: \"name 'shout' is not defined\"\n",
    "\n",
    "scream()\n",
    "# outputs: 'Yes!'"
   ]
  },
  {
   "cell_type": "code",
   "execution_count": 14,
   "metadata": {},
   "outputs": [
    {
     "data": {
      "text/plain": [
       "<function __main__.shout(word='yes')>"
      ]
     },
     "execution_count": 14,
     "metadata": {},
     "output_type": "execute_result"
    }
   ],
   "source": [
    "scream"
   ]
  },
  {
   "cell_type": "code",
   "execution_count": 15,
   "metadata": {},
   "outputs": [
    {
     "ename": "NameError",
     "evalue": "name 'shout' is not defined",
     "output_type": "error",
     "traceback": [
      "\u001b[1;31m---------------------------------------------------------------------------\u001b[0m",
      "\u001b[1;31mNameError\u001b[0m                                 Traceback (most recent call last)",
      "\u001b[1;32m<ipython-input-15-c02545cb0195>\u001b[0m in \u001b[0;36m<module>\u001b[1;34m()\u001b[0m\n\u001b[1;32m----> 1\u001b[1;33m \u001b[0mshout\u001b[0m\u001b[1;33m\u001b[0m\u001b[0m\n\u001b[0m",
      "\u001b[1;31mNameError\u001b[0m: name 'shout' is not defined"
     ]
    }
   ],
   "source": [
    "shout"
   ]
  },
  {
   "cell_type": "code",
   "execution_count": 20,
   "metadata": {},
   "outputs": [
    {
     "data": {
      "text/plain": [
       "'yes...'"
      ]
     },
     "execution_count": 20,
     "metadata": {},
     "output_type": "execute_result"
    }
   ],
   "source": [
    "# functions can be defined inside another function!\n",
    "def talk():\n",
    "\n",
    "    # You can define a function on the fly in \"talk\" ...\n",
    "    def whisper(word=\"yes\"):\n",
    "        return word.lower()+\"...\"\n",
    "\n",
    "    # ... and use it right away!\n",
    "\n",
    "    #print(whisper())\n",
    "    return whisper()\n",
    "\n",
    "# You call \"talk\", that defines \"whisper\" EVERY TIME you call it, then\n",
    "# \"whisper\" is called in \"talk\". \n",
    "talk()\n",
    "# outputs: \n",
    "# \"yes...\""
   ]
  },
  {
   "cell_type": "code",
   "execution_count": 21,
   "metadata": {},
   "outputs": [
    {
     "ename": "SyntaxError",
     "evalue": "invalid syntax (<ipython-input-21-77911ff23016>, line 4)",
     "output_type": "error",
     "traceback": [
      "\u001b[1;36m  File \u001b[1;32m\"<ipython-input-21-77911ff23016>\"\u001b[1;36m, line \u001b[1;32m4\u001b[0m\n\u001b[1;33m    print whisper()\u001b[0m\n\u001b[1;37m                ^\u001b[0m\n\u001b[1;31mSyntaxError\u001b[0m\u001b[1;31m:\u001b[0m invalid syntax\n"
     ]
    }
   ],
   "source": [
    "# But \"whisper\" DOES NOT EXIST outside \"talk\":\n",
    "\n",
    "try:\n",
    "    print whisper()\n",
    "except NameError as e:\n",
    "    print(e)\n",
    "    #outputs : \"name 'whisper' is not defined\"*"
   ]
  },
  {
   "cell_type": "code",
   "execution_count": 24,
   "metadata": {},
   "outputs": [],
   "source": [
    "def getTalk(kind=\"shout\"):\n",
    "\n",
    "    # We define functions on the fly\n",
    "    def shout(word=\"yes\"):\n",
    "        return word.capitalize()+\"!\"\n",
    "\n",
    "    def whisper(word=\"yes\") :\n",
    "        return word.lower()+\"...\";\n",
    "\n",
    "    # Then we return one of them\n",
    "    if kind == \"shout\":\n",
    "        # We don't use \"()\", we are not calling the function,\n",
    "        # we are returning the function object\n",
    "        return shout  \n",
    "    else:\n",
    "        return whisper"
   ]
  },
  {
   "cell_type": "code",
   "execution_count": 25,
   "metadata": {},
   "outputs": [
    {
     "name": "stdout",
     "output_type": "stream",
     "text": [
      "<function getTalk.<locals>.shout at 0x000001E1B1CD3268>\n"
     ]
    }
   ],
   "source": [
    "# How do you use this strange beast?\n",
    "\n",
    "# Get the function and assign it to a variable\n",
    "talk = getTalk()      \n",
    "\n",
    "# You can see that \"talk\" is here a function object:\n",
    "print(talk)\n",
    "#outputs : <function shout at 0xb7ea817c>"
   ]
  },
  {
   "cell_type": "code",
   "execution_count": 26,
   "metadata": {},
   "outputs": [
    {
     "name": "stdout",
     "output_type": "stream",
     "text": [
      "Yes!\n"
     ]
    }
   ],
   "source": [
    "# The object is the one returned by the function:\n",
    "print (talk())\n",
    "#outputs : Yes!"
   ]
  },
  {
   "cell_type": "code",
   "execution_count": 27,
   "metadata": {},
   "outputs": [
    {
     "name": "stdout",
     "output_type": "stream",
     "text": [
      "yes...\n"
     ]
    }
   ],
   "source": [
    "# And you can even use it directly if you feel wild:\n",
    "print (getTalk(\"whisper\")())\n",
    "#outputs : yes..."
   ]
  },
  {
   "cell_type": "code",
   "execution_count": 30,
   "metadata": {},
   "outputs": [
    {
     "name": "stdout",
     "output_type": "stream",
     "text": [
      "I do something before then I call the function you gave me\n",
      "Yes!\n"
     ]
    }
   ],
   "source": [
    "# But wait, there is more. If you can return a function, then you can pass one as a parameter:\n",
    "\n",
    "def doSomethingBefore(func): \n",
    "    print (\"I do something before then I call the function you gave me\")\n",
    "    print(func())\n",
    "\n",
    "doSomethingBefore(scream)\n",
    "#outputs: \n",
    "#I do something before then I call the function you gave me\n",
    "#Yes!"
   ]
  },
  {
   "cell_type": "code",
   "execution_count": 31,
   "metadata": {},
   "outputs": [
    {
     "name": "stdout",
     "output_type": "stream",
     "text": [
      "I am a stand alone function, don't you dare modify me\n"
     ]
    }
   ],
   "source": [
    "# Handcrafted decorators\n",
    "# How you would do it manually:\n",
    "# A decorator is a function that expects ANOTHER function as parameter\n",
    "def my_shiny_new_decorator(a_function_to_decorate):\n",
    "\n",
    "    # Inside, the decorator defines a function on the fly: the wrapper.\n",
    "    # This function is going to be wrapped around the original function\n",
    "    # so it can execute code before and after it.\n",
    "    def the_wrapper_around_the_original_function():\n",
    "\n",
    "        # Put here the code you want to be executed BEFORE the original \n",
    "        # function is called\n",
    "        print (\"Before the function runs\")\n",
    "\n",
    "        # Call the function here (using parentheses)\n",
    "        a_function_to_decorate()\n",
    "\n",
    "        # Put here the code you want to be executed AFTER the original \n",
    "        # function is called\n",
    "        print (\"After the function runs\")\n",
    "\n",
    "    # At this point, \"a_function_to_decorate\" HAS NEVER BEEN EXECUTED.\n",
    "    # We return the wrapper function we have just created.\n",
    "    # The wrapper contains the function and the code to execute before\n",
    "    # and after. It's ready to use!\n",
    "    return the_wrapper_around_the_original_function\n",
    "\n",
    "# Now imagine you create a function you don't want to ever touch again.\n",
    "def a_stand_alone_function():\n",
    "    print (\"I am a stand alone function, don't you dare modify me\")\n",
    "\n",
    "a_stand_alone_function() \n",
    "#outputs: I am a stand alone function, don't you dare modify me"
   ]
  },
  {
   "cell_type": "code",
   "execution_count": 33,
   "metadata": {},
   "outputs": [
    {
     "name": "stdout",
     "output_type": "stream",
     "text": [
      "Before the function runs\n",
      "I am a stand alone function, don't you dare modify me\n",
      "After the function runs\n"
     ]
    }
   ],
   "source": [
    "# Well, you can decorate it to extend its behavior.\n",
    "# Just pass it to the decorator, it will wrap it dynamically in \n",
    "# any code you want and return you a new function ready to be used:\n",
    "\n",
    "a_stand_alone_function_decorated = my_shiny_new_decorator(a_stand_alone_function)\n",
    "a_stand_alone_function_decorated()\n",
    "#outputs:\n",
    "#Before the function runs\n",
    "#I am a stand alone function, don't you dare modify me\n",
    "#After the function runs"
   ]
  },
  {
   "cell_type": "code",
   "execution_count": 34,
   "metadata": {},
   "outputs": [
    {
     "name": "stdout",
     "output_type": "stream",
     "text": [
      "Before the function runs\n",
      "I am a stand alone function, don't you dare modify me\n",
      "After the function runs\n"
     ]
    }
   ],
   "source": [
    "'''\n",
    "Now, you probably want that every time you call a_stand_alone_function, \n",
    "a_stand_alone_function_decorated is called instead. \n",
    "That's easy, just overwrite a_stand_alone_function with the function \n",
    "returned by my_shiny_new_decorator:\n",
    "'''\n",
    "a_stand_alone_function = my_shiny_new_decorator(a_stand_alone_function)\n",
    "a_stand_alone_function()\n",
    "#outputs:\n",
    "#Before the function runs\n",
    "#I am a stand alone function, don't you dare modify me\n",
    "#After the function runs"
   ]
  },
  {
   "cell_type": "code",
   "execution_count": 35,
   "metadata": {},
   "outputs": [
    {
     "name": "stdout",
     "output_type": "stream",
     "text": [
      "Before the function runs\n",
      "Leave me alone\n",
      "After the function runs\n"
     ]
    }
   ],
   "source": [
    "# And guess what? That's EXACTLY what decorators do!\n",
    "\n",
    "#The previous example, using the decorator syntax:\n",
    "@my_shiny_new_decorator\n",
    "def another_stand_alone_function():\n",
    "    print (\"Leave me alone\")\n",
    "\n",
    "another_stand_alone_function()  \n",
    "#outputs:  \n",
    "#Before the function runs\n",
    "#Leave me alone\n",
    "#After the function runs"
   ]
  },
  {
   "cell_type": "code",
   "execution_count": 37,
   "metadata": {},
   "outputs": [
    {
     "name": "stdout",
     "output_type": "stream",
     "text": [
      "--ham--\n",
      "</''''''\\>\n",
      "#tomatoes#\n",
      "--ham--\n",
      "~salad~\n",
      "<\\______/>\n"
     ]
    }
   ],
   "source": [
    "#Of course, you can cumulate decorators:\n",
    "\n",
    "def bread(func):\n",
    "    def wrapper():\n",
    "        print (\"</''''''\\>\")\n",
    "        func()\n",
    "        print (\"<\\______/>\")\n",
    "    return wrapper\n",
    "\n",
    "def ingredients(func):\n",
    "    def wrapper():\n",
    "        print (\"#tomatoes#\")\n",
    "        func()\n",
    "        print (\"~salad~\")\n",
    "    return wrapper\n",
    "\n",
    "def sandwich(food=\"--ham--\"):\n",
    "    print (food)\n",
    "\n",
    "sandwich()\n",
    "#outputs: --ham--\n",
    "sandwich = bread(ingredients(sandwich))\n",
    "sandwich()\n",
    "#outputs:\n",
    "#</''''''\\>\n",
    "# #tomatoes#\n",
    "# --ham--\n",
    "# ~salad~\n",
    "#<\\______/>"
   ]
  },
  {
   "cell_type": "code",
   "execution_count": 38,
   "metadata": {},
   "outputs": [
    {
     "name": "stdout",
     "output_type": "stream",
     "text": [
      "</''''''\\>\n",
      "#tomatoes#\n",
      "--ham--\n",
      "~salad~\n",
      "<\\______/>\n"
     ]
    }
   ],
   "source": [
    "## Using the Python decorator syntax:\n",
    "\n",
    "@bread\n",
    "@ingredients\n",
    "def sandwich(food=\"--ham--\"):\n",
    "    print (food)\n",
    "\n",
    "sandwich()\n",
    "#outputs:\n",
    "#</''''''\\>\n",
    "# #tomatoes#\n",
    "# --ham--\n",
    "# ~salad~\n",
    "#<\\______/>"
   ]
  },
  {
   "cell_type": "code",
   "execution_count": 39,
   "metadata": {},
   "outputs": [
    {
     "name": "stdout",
     "output_type": "stream",
     "text": [
      "#tomatoes#\n",
      "</''''''\\>\n",
      "--ham--\n",
      "<\\______/>\n",
      "~salad~\n"
     ]
    }
   ],
   "source": [
    "#The order you set the decorators MATTERS:\n",
    "\n",
    "@ingredients\n",
    "@bread\n",
    "def strange_sandwich(food=\"--ham--\"):\n",
    "    print (food)\n",
    "\n",
    "strange_sandwich()\n",
    "#outputs:\n",
    "##tomatoes#\n",
    "#</''''''\\>\n",
    "# --ham--\n",
    "#<\\______/>\n",
    "# ~salad~"
   ]
  },
  {
   "cell_type": "code",
   "execution_count": 40,
   "metadata": {},
   "outputs": [
    {
     "name": "stdout",
     "output_type": "stream",
     "text": [
      "<b><i>hello</i></b>\n"
     ]
    }
   ],
   "source": [
    "# The decorator to make it bold\n",
    "def makebold(fn):\n",
    "    # The new function the decorator returns\n",
    "    def wrapper():\n",
    "        # Insertion of some code before and after\n",
    "        return \"<b>\" + fn() + \"</b>\"\n",
    "    return wrapper\n",
    "\n",
    "# The decorator to make it italic\n",
    "def makeitalic(fn):\n",
    "    # The new function the decorator returns\n",
    "    def wrapper():\n",
    "        # Insertion of some code before and after\n",
    "        return \"<i>\" + fn() + \"</i>\"\n",
    "    return wrapper\n",
    "\n",
    "@makebold\n",
    "@makeitalic\n",
    "def say():\n",
    "    return (\"hello\")\n",
    "\n",
    "print( say() )\n",
    "#outputs: <b><i>hello</i></b>"
   ]
  },
  {
   "cell_type": "code",
   "execution_count": 41,
   "metadata": {},
   "outputs": [
    {
     "name": "stdout",
     "output_type": "stream",
     "text": [
      "<b><i>hello</i></b>\n"
     ]
    }
   ],
   "source": [
    "# This is the exact equivalent to \n",
    "def say():\n",
    "    return \"hello\"\n",
    "say = makebold(makeitalic(say))\n",
    "\n",
    "print (say() )\n",
    "#outputs: <b><i>hello</i></b>"
   ]
  },
  {
   "cell_type": "code",
   "execution_count": 42,
   "metadata": {},
   "outputs": [
    {
     "name": "stdout",
     "output_type": "stream",
     "text": [
      "I got args! Look: Peter Venkman\n",
      "My name is Peter Venkman\n"
     ]
    }
   ],
   "source": [
    "# It's not black magic, you just have to let the wrapper \n",
    "# pass the argument:\n",
    "\n",
    "def a_decorator_passing_arguments(function_to_decorate):\n",
    "    def a_wrapper_accepting_arguments(arg1, arg2):\n",
    "        print (\"I got args! Look:\", arg1, arg2)\n",
    "        function_to_decorate(arg1, arg2)\n",
    "    return a_wrapper_accepting_arguments\n",
    "\n",
    "# Since when you are calling the function returned by the decorator, you are\n",
    "# calling the wrapper, passing arguments to the wrapper will let it pass them to \n",
    "# the decorated function\n",
    "\n",
    "@a_decorator_passing_arguments\n",
    "def print_full_name(first_name, last_name):\n",
    "    print (\"My name is\", first_name, last_name)\n",
    "\n",
    "print_full_name(\"Peter\", \"Venkman\")\n",
    "# outputs:\n",
    "#I got args! Look: Peter Venkman\n",
    "#My name is Peter Venkman"
   ]
  },
  {
   "cell_type": "code",
   "execution_count": 43,
   "metadata": {},
   "outputs": [
    {
     "name": "stdout",
     "output_type": "stream",
     "text": [
      "I am 37, what did you think?\n"
     ]
    }
   ],
   "source": [
    "#Decorating methods\n",
    "#What's great with Python is that methods and functions are really the same, \n",
    "#except methods expect their first parameter to be a reference to the current object (self). \n",
    "def method_friendly_decorator(method_to_decorate):\n",
    "    def wrapper(self, lie):\n",
    "        # lie = lie - 3 # very friendly, decrease age even more :-)\n",
    "        return method_to_decorate(self, lie)\n",
    "    return wrapper\n",
    "\n",
    "\n",
    "class Lucy(object):\n",
    "\n",
    "    def __init__(self, age):\n",
    "        self.age = age\n",
    "\n",
    "    @method_friendly_decorator\n",
    "    def sayYourAge(self, lie):\n",
    "        print (\"I am %s, what did you think?\" % (self.age + lie))\n",
    "\n",
    "l = Lucy(40)\n",
    "l.sayYourAge(-3)\n",
    "#outputs: I am 26, what did you think?"
   ]
  },
  {
   "cell_type": "code",
   "execution_count": 44,
   "metadata": {},
   "outputs": [
    {
     "name": "stdout",
     "output_type": "stream",
     "text": [
      "I am 45, what did you think?\n"
     ]
    }
   ],
   "source": [
    "l.sayYourAge(5)"
   ]
  },
  {
   "cell_type": "code",
   "execution_count": 45,
   "metadata": {},
   "outputs": [
    {
     "name": "stdout",
     "output_type": "stream",
     "text": [
      "Do I have args?:\n",
      "args ()\n",
      "kwargs {}\n",
      "Python is cool, no argument here.\n"
     ]
    }
   ],
   "source": [
    "#Of course, if you make a very general decorator and want to apply it to any function or method, \n",
    "#no matter its arguments, then just use *args, **kwargs:\n",
    "\n",
    "def a_decorator_passing_arbitrary_arguments(function_to_decorate):\n",
    "    # The wrapper accepts any arguments\n",
    "    def a_wrapper_accepting_arbitrary_arguments(*args, **kwargs):\n",
    "        print (\"Do I have args?:\")\n",
    "        print (\"args\", args)\n",
    "        print (\"kwargs\", kwargs)\n",
    "        # Then you unpack the arguments, here *args, **kwargs\n",
    "        # If you are not familiar with unpacking, check:\n",
    "        # http://www.saltycrane.com/blog/2008/01/how-to-use-args-and-kwargs-in-python/\n",
    "        function_to_decorate(*args, **kwargs)\n",
    "    return a_wrapper_accepting_arbitrary_arguments\n",
    "\n",
    "@a_decorator_passing_arbitrary_arguments\n",
    "def function_with_no_argument():\n",
    "    print (\"Python is cool, no argument here.\")\n",
    "\n",
    "function_with_no_argument()\n",
    "#outputs\n",
    "#Do I have args?:\n",
    "#()\n",
    "#{}\n",
    "#Python is cool, no argument here."
   ]
  },
  {
   "cell_type": "code",
   "execution_count": 46,
   "metadata": {},
   "outputs": [
    {
     "name": "stdout",
     "output_type": "stream",
     "text": [
      "Do I have args?:\n",
      "args (1, 2, 3)\n",
      "kwargs {}\n",
      "1 2 3\n"
     ]
    }
   ],
   "source": [
    "@a_decorator_passing_arbitrary_arguments\n",
    "def function_with_arguments(a, b, c):\n",
    "    print (a, b, c)\n",
    "\n",
    "function_with_arguments(1,2,3)\n",
    "#outputs\n",
    "#Do I have args?:\n",
    "#(1, 2, 3)\n",
    "#{}\n",
    "#1 2 3 "
   ]
  },
  {
   "cell_type": "code",
   "execution_count": 47,
   "metadata": {},
   "outputs": [
    {
     "name": "stdout",
     "output_type": "stream",
     "text": [
      "Do I have args?:\n",
      "args ('Bill', 'Linus', 'Steve')\n",
      "kwargs {'platypus': 'Indeed!'}\n",
      "Do Bill, Linus and Steve like platypus? Indeed!\n"
     ]
    }
   ],
   "source": [
    "@a_decorator_passing_arbitrary_arguments\n",
    "def function_with_named_arguments(a, b, c, platypus=\"Why not ?\"):\n",
    "    print (\"Do %s, %s and %s like platypus? %s\" % (a, b, c, platypus))\n",
    "\n",
    "function_with_named_arguments(\"Bill\", \"Linus\", \"Steve\", platypus=\"Indeed!\")\n",
    "#outputs\n",
    "#Do I have args ? :\n",
    "#('Bill', 'Linus', 'Steve')\n",
    "#{'platypus': 'Indeed!'}\n",
    "#Do Bill, Linus and Steve like platypus? Indeed!"
   ]
  },
  {
   "cell_type": "code",
   "execution_count": 48,
   "metadata": {},
   "outputs": [
    {
     "name": "stdout",
     "output_type": "stream",
     "text": [
      "Do I have args?:\n",
      "args (<__main__.Mary object at 0x000001E1B1CFA320>,)\n",
      "kwargs {}\n",
      "I am 32, what did you think ?\n"
     ]
    }
   ],
   "source": [
    "class Mary(object):\n",
    "\n",
    "    def __init__(self, age):\n",
    "        self.age = age\n",
    "\n",
    "    @a_decorator_passing_arbitrary_arguments\n",
    "    def sayYourAge(self, lie=-3): # You can now add a default value\n",
    "        print (\"I am %s, what did you think ?\" % (self.age + lie))\n",
    "\n",
    "m = Mary(35)\n",
    "m.sayYourAge()\n",
    "#outputs\n",
    "# Do I have args?:\n",
    "#(<__main__.Mary object at 0xb7d303ac>,)\n",
    "#{}\n",
    "#I am 28, what did you think?"
   ]
  },
  {
   "cell_type": "code",
   "execution_count": 1,
   "metadata": {},
   "outputs": [
    {
     "name": "stdout",
     "output_type": "stream",
     "text": [
      "I make decorators! I am executed only once: when you make me create a decorator.\n",
      "As a decorator maker, I return a decorator\n"
     ]
    }
   ],
   "source": [
    "def decorator_maker():\n",
    "\n",
    "    print (\"I make decorators! I am executed only once: \"+ \"when you make me create a decorator.\")\n",
    "\n",
    "    def my_decorator(func):\n",
    "\n",
    "        print (\"I am a decorator! I am executed only when you decorate a function.\")\n",
    "\n",
    "        def wrapped():\n",
    "            print (\"I am the wrapper around the decorated function. \",\n",
    "                  \"I am called when you call the decorated function. \",\n",
    "                  \"As the wrapper, I return the RESULT of the decorated function.\")\n",
    "            return func()\n",
    "\n",
    "        print (\"As the decorator, I return the wrapped function.\")\n",
    "\n",
    "        return wrapped\n",
    "\n",
    "    print (\"As a decorator maker, I return a decorator\")\n",
    "    return my_decorator\n",
    "\n",
    "# Let's create a decorator. It's just a new function after all.\n",
    "new_decorator = decorator_maker()       \n",
    "#outputs:\n",
    "#I make decorators! I am executed only once: when you make me create a decorator.\n",
    "#As a decorator maker, I return a decorator"
   ]
  },
  {
   "cell_type": "code",
   "execution_count": null,
   "metadata": {},
   "outputs": [],
   "source": [
    "# Then we decorate the function\n",
    "\n",
    "def decorated_function():\n",
    "    print (\"I am the decorated function.\")\n",
    "\n",
    "decorated_function = new_decorator(decorated_function)\n",
    "#outputs:\n",
    "#I am a decorator! I am executed only when you decorate a function.\n",
    "#As the decorator, I return the wrapped function\n",
    "\n",
    "# Let's call the function:\n",
    "decorated_function()\n",
    "#outputs:\n",
    "#I am the wrapper around the decorated function. I am called when you call the decorated function.\n",
    "#As the wrapper, I return the RESULT of the decorated function.\n",
    "#I am the decorated function.\n",
    "\n",
    "@decorator_maker()\n",
    "def decorated_function():\n",
    "    print (\"I am the decorated function.\")\n",
    "#outputs:\n",
    "#I make decorators! I am executed only once: when you make me create a decorator.\n",
    "#As a decorator maker, I return a decorator\n",
    "#I am a decorator! I am executed only when you decorate a function.\n",
    "#As the decorator, I return the wrapped function.\n",
    "\n",
    "#Eventually: \n",
    "decorated_function()    \n",
    "#outputs:\n",
    "#I am the wrapper around the decorated function. I am called when you call the decorated function.\n",
    "#As the wrapper, I return the RESULT of the decorated function.\n",
    "#I am the decorated function."
   ]
  },
  {
   "cell_type": "code",
   "execution_count": null,
   "metadata": {},
   "outputs": [],
   "source": [
    "def decorator_maker_with_arguments(decorator_arg1, decorator_arg2):\n",
    "\n",
    "    print \"I make decorators! And I accept arguments:\", decorator_arg1, decorator_arg2\n",
    "\n",
    "    def my_decorator(func):\n",
    "        # The ability to pass arguments here is a gift from closures.\n",
    "        # If you are not comfortable with closures, you can assume it's ok,\n",
    "        # or read: http://stackoverflow.com/questions/13857/can-you-explain-closures-as-they-relate-to-python\n",
    "        print \"I am the decorator. Somehow you passed me arguments:\", decorator_arg1, decorator_arg2\n",
    "\n",
    "        # Don't confuse decorator arguments and function arguments!\n",
    "        def wrapped(function_arg1, function_arg2) :\n",
    "            print (\"I am the wrapper around the decorated function.\\n\"\n",
    "                  \"I can access all the variables\\n\"\n",
    "                  \"\\t- from the decorator: {0} {1}\\n\"\n",
    "                  \"\\t- from the function call: {2} {3}\\n\"\n",
    "                  \"Then I can pass them to the decorated function\"\n",
    "                  .format(decorator_arg1, decorator_arg2,\n",
    "                          function_arg1, function_arg2))\n",
    "            return func(function_arg1, function_arg2)\n",
    "\n",
    "        return wrapped\n",
    "\n",
    "    return my_decorator\n",
    "\n",
    "@decorator_maker_with_arguments(\"Leonard\", \"Sheldon\")\n",
    "def decorated_function_with_arguments(function_arg1, function_arg2):\n",
    "    print (\"I am the decorated function and only knows about my arguments: {0}\"\n",
    "           \" {1}\".format(function_arg1, function_arg2))\n",
    "\n",
    "decorated_function_with_arguments(\"Rajesh\", \"Howard\")\n",
    "#outputs:\n",
    "#I make decorators! And I accept arguments: Leonard Sheldon\n",
    "#I am the decorator. Somehow you passed me arguments: Leonard Sheldon\n",
    "#I am the wrapper around the decorated function. \n",
    "#I can access all the variables \n",
    "#   - from the decorator: Leonard Sheldon \n",
    "#   - from the function call: Rajesh Howard \n",
    "#Then I can pass them to the decorated function\n",
    "#I am the decorated function and only knows about my arguments: Rajesh Howard\n",
    "\n",
    "#Here it is, a decorator with arguments. Arguments can be set as variable:\n",
    "c1 = \"Penny\"\n",
    "c2 = \"Leslie\"\n",
    "\n",
    "@decorator_maker_with_arguments(\"Leonard\", c1)\n",
    "def decorated_function_with_arguments(function_arg1, function_arg2):\n",
    "    print (\"I am the decorated function and only knows about my arguments:\"\n",
    "           \" {0} {1}\".format(function_arg1, function_arg2))\n",
    "\n",
    "decorated_function_with_arguments(c2, \"Howard\")\n",
    "#outputs:\n",
    "#I make decorators! And I accept arguments: Leonard Penny\n",
    "#I am the decorator. Somehow you passed me arguments: Leonard Penny\n",
    "#I am the wrapper around the decorated function. \n",
    "#I can access all the variables \n",
    "#   - from the decorator: Leonard Penny \n",
    "#   - from the function call: Leslie Howard \n",
    "#Then I can pass them to the decorated function\n",
    "#I am the decorated function and only knows about my arguments: Leslie Howard\n",
    "\n",
    "#Let's practice: a decorator to decorate a decorator\n",
    "def decorator_with_args(decorator_to_enhance):\n",
    "    \"\"\" \n",
    "    This function is supposed to be used as a decorator.\n",
    "    It must decorate an other function, that is intended to be used as a decorator.\n",
    "    Take a cup of coffee.\n",
    "    It will allow any decorator to accept an arbitrary number of arguments,\n",
    "    saving you the headache to remember how to do that every time.\n",
    "    \"\"\"\n",
    "\n",
    "    # We use the same trick we did to pass arguments\n",
    "    def decorator_maker(*args, **kwargs):\n",
    "\n",
    "        # We create on the fly a decorator that accepts only a function\n",
    "        # but keeps the passed arguments from the maker.\n",
    "        def decorator_wrapper(func):\n",
    "\n",
    "            # We return the result of the original decorator, which, after all, \n",
    "            # IS JUST AN ORDINARY FUNCTION (which returns a function).\n",
    "            # Only pitfall: the decorator must have this specific signature or it won't work:\n",
    "            return decorator_to_enhance(func, *args, **kwargs)\n",
    "\n",
    "        return decorator_wrapper\n",
    "\n",
    "    return decorator_maker\n",
    "\n",
    "# You create the function you will use as a decorator. And stick a decorator on it :-)\n",
    "# Don't forget, the signature is \"decorator(func, *args, **kwargs)\"\n",
    "@decorator_with_args \n",
    "def decorated_decorator(func, *args, **kwargs): \n",
    "    def wrapper(function_arg1, function_arg2):\n",
    "        print \"Decorated with\", args, kwargs\n",
    "        return func(function_arg1, function_arg2)\n",
    "    return wrapper\n",
    "\n",
    "# Then you decorate the functions you wish with your brand new decorated decorator.\n",
    "\n",
    "@decorated_decorator(42, 404, 1024)\n",
    "def decorated_function(function_arg1, function_arg2):\n",
    "    print \"Hello\", function_arg1, function_arg2\n",
    "\n",
    "decorated_function(\"Universe and\", \"everything\")\n",
    "#outputs:\n",
    "#Decorated with (42, 404, 1024) {}\n",
    "#Hello Universe and everything\n",
    "\n",
    "# Whoooot!"
   ]
  },
  {
   "cell_type": "code",
   "execution_count": 2,
   "metadata": {},
   "outputs": [
    {
     "name": "stdout",
     "output_type": "stream",
     "text": [
      "wrapper\n"
     ]
    }
   ],
   "source": [
    "# With a decorator, it gets messy    \n",
    "def bar(func):\n",
    "    def wrapper():\n",
    "        print (\"bar\")\n",
    "        return func()\n",
    "    return wrapper\n",
    "\n",
    "@bar\n",
    "def foo():\n",
    "    print (\"foo\")\n",
    "\n",
    "print (foo.__name__)\n",
    "#outputs: wrapper"
   ]
  },
  {
   "cell_type": "code",
   "execution_count": 3,
   "metadata": {},
   "outputs": [
    {
     "name": "stdout",
     "output_type": "stream",
     "text": [
      "foo\n"
     ]
    }
   ],
   "source": [
    "# \"functools\" can help for that\n",
    "\n",
    "import functools\n",
    "\n",
    "def bar(func):\n",
    "    # We say that \"wrapper\", is wrapping \"func\"\n",
    "    # and the magic begins\n",
    "    @functools.wraps(func)\n",
    "    def wrapper():\n",
    "        print (\"bar\")\n",
    "        return func()\n",
    "    return wrapper\n",
    "\n",
    "@bar\n",
    "def foo():\n",
    "    print (\"foo\")\n",
    "\n",
    "print (foo.__name__)\n",
    "#outputs: foo"
   ]
  },
  {
   "cell_type": "code",
   "execution_count": 5,
   "metadata": {},
   "outputs": [],
   "source": [
    "def benchmark(func):\n",
    "    \"\"\"\n",
    "    A decorator that prints the time a function takes\n",
    "    to execute.\n",
    "    \"\"\"\n",
    "    import time\n",
    "    def wrapper(*args, **kwargs):\n",
    "        t = time.clock()\n",
    "        res = func(*args, **kwargs)\n",
    "        print (func.__name__, time.clock()-t)\n",
    "        return res\n",
    "    return wrapper"
   ]
  },
  {
   "cell_type": "code",
   "execution_count": 6,
   "metadata": {},
   "outputs": [],
   "source": [
    "def logging(func):\n",
    "    \"\"\"\n",
    "    A decorator that logs the activity of the script.\n",
    "    (it actually just prints it, but it could be logging!)\n",
    "    \"\"\"\n",
    "    def wrapper(*args, **kwargs):\n",
    "        res = func(*args, **kwargs)\n",
    "        print (func.__name__, args, kwargs)\n",
    "        return res\n",
    "    return wrapper"
   ]
  },
  {
   "cell_type": "code",
   "execution_count": 7,
   "metadata": {},
   "outputs": [],
   "source": [
    "def counter(func):\n",
    "    \"\"\"\n",
    "    A decorator that counts and prints the number of times a function has been executed\n",
    "    \"\"\"\n",
    "    def wrapper(*args, **kwargs):\n",
    "        wrapper.count = wrapper.count + 1\n",
    "        res = func(*args, **kwargs)\n",
    "        print (\"{0} has been used: {1}x\".format(func.__name__, wrapper.count))\n",
    "        return res\n",
    "    wrapper.count = 0\n",
    "    return wrapper"
   ]
  },
  {
   "cell_type": "code",
   "execution_count": 8,
   "metadata": {},
   "outputs": [
    {
     "name": "stdout",
     "output_type": "stream",
     "text": [
      "reverse_string ('Able was I ere I saw Elba',) {}\n",
      "wrapper 0.00022109654477846512\n",
      "wrapper has been used: 1x\n",
      "<reversed object at 0x0000018A53DA1978>\n",
      "reverse_string ('A man, a plan, a canoe, pasta, heros, rajahs, a coloratura, maps, snipe, percale, macaroni, a gag, a banana bag, a tan, a tag, a banana bag again (or a camel), a crepe, pins, Spam, a rut, a Rolo, cash, a jar, sore hats, a peon, a canal: Panama!',) {}\n",
      "wrapper 0.00010178138811851975\n",
      "wrapper has been used: 2x\n",
      "<reversed object at 0x0000018A53DA1240>\n"
     ]
    }
   ],
   "source": [
    "@counter\n",
    "@benchmark\n",
    "@logging\n",
    "def reverse_string(string):\n",
    "    return str(reversed(string))\n",
    "\n",
    "print (reverse_string(\"Able was I ere I saw Elba\"))\n",
    "print (reverse_string(\"A man, a plan, a canoe, pasta, heros, rajahs, a coloratura, maps, snipe, percale, macaroni, a gag, a banana bag, a tan, a tag, a banana bag again (or a camel), a crepe, pins, Spam, a rut, a Rolo, cash, a jar, sore hats, a peon, a canal: Panama!\"))\n",
    "\n",
    "#outputs:\n",
    "#reverse_string ('Able was I ere I saw Elba',) {}\n",
    "#wrapper 0.0\n",
    "#wrapper has been used: 1x \n",
    "#ablE was I ere I saw elbA\n",
    "#reverse_string ('A man, a plan, a canoe, pasta, heros, rajahs, a coloratura, maps, snipe, percale, macaroni, a gag, a banana bag, a tan, a tag, a banana bag again (or a camel), a crepe, pins, Spam, a rut, a Rolo, cash, a jar, sore hats, a peon, a canal: Panama!',) {}\n",
    "#wrapper 0.0\n",
    "#wrapper has been used: 2x\n",
    "#!amanaP :lanac a ,noep a ,stah eros ,raj a ,hsac ,oloR a ,tur a ,mapS ,snip ,eperc a ,)lemac a ro( niaga gab ananab a ,gat a ,nat a ,gab ananab a ,gag a ,inoracam ,elacrep ,epins ,spam ,arutaroloc a ,shajar ,soreh ,atsap ,eonac a ,nalp a ,nam A"
   ]
  },
  {
   "cell_type": "code",
   "execution_count": 13,
   "metadata": {},
   "outputs": [
    {
     "name": "stdout",
     "output_type": "stream",
     "text": [
      "get_random_futurama_quote () {}\n",
      "wrapper 0.34120072102277277\n",
      "wrapper has been used: 1x\n",
      "No, I'm ... doesn't!\n",
      "get_random_futurama_quote () {}\n",
      "wrapper 0.07309058329715867\n",
      "wrapper has been used: 2x\n",
      "No, I'm ... doesn't!\n"
     ]
    }
   ],
   "source": [
    "#Of course the good thing with decorators is that you can use them right away on almost anything without rewriting. DRY, I said:\n",
    "\n",
    "@counter\n",
    "@benchmark\n",
    "@logging\n",
    "def get_random_futurama_quote():\n",
    "    result = requests.get(\"http://subfusion.net/cgi-bin/quote.pl?quote=futurama\")\n",
    "    try:\n",
    "        value = result.split(\"<br><b><hr><br>\")[1].split(\"<br><br><hr>\")[0]\n",
    "        return value.strip()\n",
    "    except:\n",
    "        return \"No, I'm ... doesn't!\"\n",
    "\n",
    "\n",
    "print (get_random_futurama_quote())\n",
    "print (get_random_futurama_quote())\n",
    "\n",
    "#outputs:\n",
    "#get_random_futurama_quote () {}\n",
    "#wrapper 0.02\n",
    "#wrapper has been used: 1x\n",
    "#The laws of science be a harsh mistress.\n",
    "#get_random_futurama_quote () {}\n",
    "#wrapper 0.01\n",
    "#wrapper has been used: 2x\n",
    "#Curse you, merciful Poseidon!\n",
    "\n",
    "#Python itself provides several decorators: property, staticmethod, etc. Django use decorators to manage caching and view permissions. Twisted to fake inlining asynchronous functions calls. This really is a large playground."
   ]
  }
 ],
 "metadata": {
  "kernelspec": {
   "display_name": "Python 3",
   "language": "python",
   "name": "python3"
  },
  "language_info": {
   "codemirror_mode": {
    "name": "ipython",
    "version": 3
   },
   "file_extension": ".py",
   "mimetype": "text/x-python",
   "name": "python",
   "nbconvert_exporter": "python",
   "pygments_lexer": "ipython3",
   "version": "3.6.5"
  }
 },
 "nbformat": 4,
 "nbformat_minor": 2
}
