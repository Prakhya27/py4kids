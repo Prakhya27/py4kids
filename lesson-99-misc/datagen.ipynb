{
 "cells": [
  {
   "cell_type": "code",
   "execution_count": 1,
   "metadata": {},
   "outputs": [],
   "source": [
    "import time\n",
    "import datetime\n",
    "import random\n",
    "import uuid\n",
    "import json"
   ]
  },
  {
   "cell_type": "code",
   "execution_count": 2,
   "metadata": {},
   "outputs": [],
   "source": [
    "NUM_MSG = 30\n",
    "MAX_SLEEP = 5.0 # sec\n",
    "msg_types = ['OK','ERROR',\"TIMEOUT\"]\n",
    "msgs = []"
   ]
  },
  {
   "cell_type": "code",
   "execution_count": 3,
   "metadata": {},
   "outputs": [],
   "source": [
    "# str(uuid.uuid1()), str(uuid.uuid4())"
   ]
  },
  {
   "cell_type": "code",
   "execution_count": 4,
   "metadata": {},
   "outputs": [],
   "source": [
    "# random.randint(0,20)"
   ]
  },
  {
   "cell_type": "code",
   "execution_count": 5,
   "metadata": {},
   "outputs": [],
   "source": [
    "# random.choice(msg_types)"
   ]
  },
  {
   "cell_type": "code",
   "execution_count": 6,
   "metadata": {},
   "outputs": [],
   "source": [
    "for i in range(NUM_MSG):\n",
    "    sec2sleep = random.randint(0,MAX_SLEEP*10) / 10.0\n",
    "    time.sleep(sec2sleep)\n",
    "    if sec2sleep < 0.25*MAX_SLEEP:\n",
    "        msg_type = random.choice(msg_types[1:])\n",
    "    else:\n",
    "        msg_type = msg_types[0]\n",
    "    m = dict(\n",
    "         msgId=str(uuid.uuid1()), \n",
    "         ts=datetime.datetime.now().isoformat(), \n",
    "         msgSeq=i, \n",
    "         msgBody=f\"Test message {i} / {NUM_MSG}\",\n",
    "         msgType=msg_type\n",
    "        )\n",
    "    msgs.append(m)\n"
   ]
  },
  {
   "cell_type": "code",
   "execution_count": 7,
   "metadata": {
    "scrolled": true
   },
   "outputs": [],
   "source": [
    "# msgs"
   ]
  },
  {
   "cell_type": "code",
   "execution_count": 8,
   "metadata": {},
   "outputs": [],
   "source": [
    "with open(\"datagen-sample.json\", \"w\") as f:\n",
    "    f.write(json.dumps({\"messages\" : msgs}))"
   ]
  },
  {
   "cell_type": "code",
   "execution_count": null,
   "metadata": {},
   "outputs": [],
   "source": []
  },
  {
   "cell_type": "code",
   "execution_count": null,
   "metadata": {},
   "outputs": [],
   "source": []
  },
  {
   "cell_type": "code",
   "execution_count": null,
   "metadata": {},
   "outputs": [],
   "source": []
  },
  {
   "cell_type": "raw",
   "metadata": {},
   "source": [
    "# msg\n",
    "d = {\n",
    "    \"Records\": [\n",
    "        {\n",
    "            \"messageId\": \"9816afda-75cf-4f08-89ef-b563a707b020\",\n",
    "            \"receiptHandle\": \"AQEBGZkoJ6lsjkrDzP13Ws4gBzIe7UyY/B3vKgRZEM/uHlglKGPbsxHVmfwxUtToEqsxoBF9QUzSECtCZ9ABTaldIwknn0L/wI6NYzHd3kbb4T3pBaoC7QuTMQek/tYP0YI6SadEdlf8JZXWRwlVRK/RJRFq95/zV+CiHtvTAGwcSKZcKzgrRIBkOU8ZmhGr1+stwHPUvfsW/rApqZuv7bsC3nX064LtyL/gKXL/S+99YsGNUrGZVueoPHJdIbTwk1rUVrR47A5Pma9Wy6oH/VCpy/XbGCLghqtJgJF2QobCPT0xV8c7GdM4OiKyBcgOyDUvnXCAd3VCmMxByQhnq4UyH3e+8mBCI+9N9zbtBXKYV6CApGN7/AwM+iy8YaH9LfYYJgGa/I1MX0X3Oq2/cEPRxg==\",\n",
    "            \"body\": \"{'msgId': '1cfdc3ca-67ea-11ea-9963-2b34b4c8a845',\\n  'ts': '2020-03-16T20:56:19.462256',\\n  'msgSeq': 3,\\n  'msgBody': 'Test message 3 / 20',\\n  'msgType': 'TIMEOUT'}\",\n",
    "            \"attributes\": {\n",
    "                \"ApproximateReceiveCount\": \"2\",\n",
    "                \"SentTimestamp\": \"1584407463597\",\n",
    "                \"SenderId\": \"AIDAYNIR4DO6G4R5LUA5S\",\n",
    "                \"ApproximateFirstReceiveTimestamp\": \"1584407463603\"\n",
    "            },\n",
    "            \"messageAttributes\": {},\n",
    "            \"md5OfBody\": \"6a5eeaf9b3e3be61d1274c92322a70f6\",\n",
    "            \"eventSource\": \"aws:sqs\",\n",
    "            \"eventSourceARN\": \"arn:aws:sqs:us-east-1:578247465916:MaasSQSLambda\",\n",
    "            \"awsRegion\": \"us-east-1\"\n",
    "        }\n",
    "    ]\n",
    "}"
   ]
  },
  {
   "cell_type": "raw",
   "metadata": {},
   "source": [
    "import ast\n",
    "\n",
    "# str = byte_str.decode(\"UTF-8\")\n",
    "d2 = ast.literal_eval(d[\"Records\"][0][\"body\"])\n",
    "print(repr(d2))\n",
    "\n",
    "d2['msgType']"
   ]
  },
  {
   "cell_type": "code",
   "execution_count": null,
   "metadata": {},
   "outputs": [],
   "source": []
  }
 ],
 "metadata": {
  "kernelspec": {
   "display_name": "Python 3",
   "language": "python",
   "name": "python3"
  },
  "language_info": {
   "codemirror_mode": {
    "name": "ipython",
    "version": 3
   },
   "file_extension": ".py",
   "mimetype": "text/x-python",
   "name": "python",
   "nbconvert_exporter": "python",
   "pygments_lexer": "ipython3",
   "version": "3.7.1"
  }
 },
 "nbformat": 4,
 "nbformat_minor": 2
}
