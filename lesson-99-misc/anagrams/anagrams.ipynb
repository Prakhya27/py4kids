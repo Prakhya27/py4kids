{
 "cells": [
  {
   "cell_type": "markdown",
   "metadata": {},
   "source": [
    "### create some test files"
   ]
  },
  {
   "cell_type": "code",
   "execution_count": 25,
   "metadata": {},
   "outputs": [],
   "source": [
    "Nfiles = 20"
   ]
  },
  {
   "cell_type": "code",
   "execution_count": 26,
   "metadata": {},
   "outputs": [],
   "source": [
    "for n in range(Nfiles):\n",
    "    fn = f\"file-{n}.txt\"\n",
    "    with open(fn, \"w\") as f:\n",
    "        for i in range(n+1):\n",
    "            f.write(f\"{i}\"*i + \"\\n\")"
   ]
  },
  {
   "cell_type": "code",
   "execution_count": 27,
   "metadata": {},
   "outputs": [
    {
     "name": "stdout",
     "output_type": "stream",
     "text": [
      "file-0.txt   file-13.txt  file-17.txt  file-2.txt  file-6.txt  requirements.txt\r\n",
      "file-10.txt  file-14.txt  file-18.txt  file-3.txt  file-7.txt\r\n",
      "file-11.txt  file-15.txt  file-19.txt  file-4.txt  file-8.txt\r\n",
      "file-12.txt  file-16.txt  file-1.txt   file-5.txt  file-9.txt\r\n"
     ]
    }
   ],
   "source": [
    "!ls *.txt"
   ]
  },
  {
   "cell_type": "code",
   "execution_count": 28,
   "metadata": {},
   "outputs": [
    {
     "name": "stdout",
     "output_type": "stream",
     "text": [
      "\r\n",
      "1\r\n",
      "22\r\n",
      "333\r\n",
      "4444\r\n",
      "55555\r\n",
      "666666\r\n",
      "7777777\r\n",
      "88888888\r\n",
      "999999999\r\n"
     ]
    }
   ],
   "source": [
    "!cat file-9.txt"
   ]
  },
  {
   "cell_type": "markdown",
   "metadata": {},
   "source": [
    "### unix pipe"
   ]
  },
  {
   "cell_type": "code",
   "execution_count": 92,
   "metadata": {},
   "outputs": [
    {
     "name": "stdout",
     "output_type": "stream",
     "text": [
      "  16 ./file-15.txt\r\n",
      "  17 ./file-16.txt\r\n",
      "  18 ./file-17.txt\r\n",
      "  19 ./file-18.txt\r\n",
      "  20 ./file-19.txt\r\n"
     ]
    }
   ],
   "source": [
    "! find . -type f -name \"*.txt\" | xargs wc -l | sort -n | tail -6 | head -5"
   ]
  },
  {
   "cell_type": "markdown",
   "metadata": {},
   "source": [
    "### python"
   ]
  },
  {
   "cell_type": "code",
   "execution_count": 99,
   "metadata": {},
   "outputs": [],
   "source": [
    "import os\n",
    "\n",
    "def count_lines(fn):\n",
    "    with open(fn) as f:\n",
    "        return len(f.readlines())\n",
    "\n",
    "def rank_txt_files_by_lines(folder, file_ext='.txt', top_n=5):\n",
    "    # find . -type f -name \"*.txt\"\n",
    "    file_data = os.listdir(folder)\n",
    "    file_data = [f for f in file_data if f.endswith(file_ext)]\n",
    "    \n",
    "    # wc -l\n",
    "    file_data = [[count_lines(f), os.path.join(folder, f)] for f in file_data]\n",
    "\n",
    "    # sort -n\n",
    "    file_data.sort(key=lambda x: x[0])\n",
    "\n",
    "    # head -5\n",
    "    file_data = [f\"{i[0]} {i[1]}\" for i in file_data]\n",
    "    output = '\\n'.join(file_data[-top_n:])\n",
    "    \n",
    "    return output"
   ]
  },
  {
   "cell_type": "code",
   "execution_count": 100,
   "metadata": {},
   "outputs": [
    {
     "name": "stdout",
     "output_type": "stream",
     "text": [
      "16 ./file-15.txt\n",
      "17 ./file-16.txt\n",
      "18 ./file-17.txt\n",
      "19 ./file-18.txt\n",
      "20 ./file-19.txt\n"
     ]
    }
   ],
   "source": [
    "print(rank_txt_files_by_lines('.'))"
   ]
  },
  {
   "cell_type": "code",
   "execution_count": 101,
   "metadata": {},
   "outputs": [
    {
     "data": {
      "text/plain": [
       "['file-1.txt',\n",
       " 'file-11.txt',\n",
       " 'pipetools.ipynb',\n",
       " 'file-18.txt',\n",
       " 'requirements.txt',\n",
       " 'file-3.txt',\n",
       " '.ipynb_checkpoints',\n",
       " 'file-8.txt',\n",
       " 'file-14.txt',\n",
       " 'anagrams.ipynb',\n",
       " 'file-5.txt',\n",
       " 'file-15.txt',\n",
       " 'file-13.txt',\n",
       " 'file-7.txt',\n",
       " 'enchant.ipynb',\n",
       " 'file-0.txt',\n",
       " 'file-6.txt',\n",
       " 'file-19.txt',\n",
       " 'file-2.txt',\n",
       " 'file-17.txt',\n",
       " 'file-4.txt',\n",
       " 'file-12.txt',\n",
       " 'file-16.txt',\n",
       " 'file-9.txt',\n",
       " 'file-10.txt']"
      ]
     },
     "execution_count": 101,
     "metadata": {},
     "output_type": "execute_result"
    }
   ],
   "source": [
    "os.listdir('.')"
   ]
  },
  {
   "cell_type": "markdown",
   "metadata": {},
   "source": [
    "### [pipetools](https://pypi.org/project/pipetools/)"
   ]
  },
  {
   "cell_type": "code",
   "execution_count": null,
   "metadata": {},
   "outputs": [],
   "source": []
  }
 ],
 "metadata": {
  "kernelspec": {
   "display_name": "Python 3",
   "language": "python",
   "name": "python3"
  },
  "language_info": {
   "codemirror_mode": {
    "name": "ipython",
    "version": 3
   },
   "file_extension": ".py",
   "mimetype": "text/x-python",
   "name": "python",
   "nbconvert_exporter": "python",
   "pygments_lexer": "ipython3",
   "version": "3.7.1"
  }
 },
 "nbformat": 4,
 "nbformat_minor": 2
}
