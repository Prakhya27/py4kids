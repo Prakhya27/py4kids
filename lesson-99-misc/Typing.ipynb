{
 "cells": [
  {
   "cell_type": "markdown",
   "metadata": {},
   "source": [
    "[The Ultimate Guide to Python Type Checking](https://realpython.com/python-type-checking/)"
   ]
  },
  {
   "cell_type": "markdown",
   "metadata": {},
   "source": [
    "### dynamic typing"
   ]
  },
  {
   "cell_type": "code",
   "execution_count": 1,
   "metadata": {},
   "outputs": [
    {
     "data": {
      "text/plain": [
       "str"
      ]
     },
     "execution_count": 1,
     "metadata": {},
     "output_type": "execute_result"
    }
   ],
   "source": [
    "number = \"1\"\n",
    "type(number)"
   ]
  },
  {
   "cell_type": "code",
   "execution_count": 2,
   "metadata": {},
   "outputs": [
    {
     "data": {
      "text/plain": [
       "int"
      ]
     },
     "execution_count": 2,
     "metadata": {},
     "output_type": "execute_result"
    }
   ],
   "source": [
    "number = 1\n",
    "type(number)"
   ]
  },
  {
   "cell_type": "code",
   "execution_count": 3,
   "metadata": {},
   "outputs": [
    {
     "data": {
      "text/plain": [
       "str"
      ]
     },
     "execution_count": 3,
     "metadata": {},
     "output_type": "execute_result"
    }
   ],
   "source": [
    "number = \"one\"\n",
    "type(number)"
   ]
  },
  {
   "cell_type": "code",
   "execution_count": 4,
   "metadata": {},
   "outputs": [
    {
     "name": "stdout",
     "output_type": "stream",
     "text": [
      "12\n"
     ]
    }
   ],
   "source": [
    "class Ruler:\n",
    "    def __len__(self):\n",
    "        return 12\n",
    "ruler = Ruler()\n",
    "print(len(ruler))"
   ]
  },
  {
   "cell_type": "markdown",
   "metadata": {},
   "source": [
    "implementation of len() is essentially equivalent to the following:\n",
    "\n",
    "`\n",
    "def len(obj):\n",
    "    return obj.__len__()\n",
    "`"
   ]
  },
  {
   "cell_type": "markdown",
   "metadata": {},
   "source": [
    "### Hello Type"
   ]
  },
  {
   "cell_type": "code",
   "execution_count": 5,
   "metadata": {},
   "outputs": [],
   "source": [
    "def headline(text, align=True):\n",
    "    if align:\n",
    "        return f\"{text.title()}\\n{'-' * len(text)}\"\n",
    "    else:\n",
    "        return f\" {text.title()} \".center(50, \"o\")"
   ]
  },
  {
   "cell_type": "code",
   "execution_count": 6,
   "metadata": {},
   "outputs": [
    {
     "name": "stdout",
     "output_type": "stream",
     "text": [
      "Python Type Checking\n",
      "--------------------\n"
     ]
    }
   ],
   "source": [
    "print(headline(\"python type checking\"))"
   ]
  },
  {
   "cell_type": "code",
   "execution_count": 7,
   "metadata": {},
   "outputs": [
    {
     "name": "stdout",
     "output_type": "stream",
     "text": [
      "oooooooooooooo Python Type Checking oooooooooooooo\n"
     ]
    }
   ],
   "source": [
    "print(headline(\"python type checking\", align=False))"
   ]
  },
  {
   "cell_type": "code",
   "execution_count": 12,
   "metadata": {},
   "outputs": [],
   "source": [
    "def print_msg(text, align=True):\n",
    "    if not isinstance(text,str):\n",
    "        text = str(text)\n",
    "    width = len(text)\n",
    "    if align:\n",
    "        return f\"{text}\\n{'-' * len(text)}\"\n",
    "    else:\n",
    "        return f\" {text} \".center(10, \"=\")"
   ]
  },
  {
   "cell_type": "code",
   "execution_count": 13,
   "metadata": {},
   "outputs": [
    {
     "name": "stdout",
     "output_type": "stream",
     "text": [
      "100\n",
      "---\n"
     ]
    }
   ],
   "source": [
    "print(print_msg(\"100\"))"
   ]
  },
  {
   "cell_type": "code",
   "execution_count": 16,
   "metadata": {},
   "outputs": [
    {
     "name": "stdout",
     "output_type": "stream",
     "text": [
      "== 1000 ==\n"
     ]
    }
   ],
   "source": [
    "print(print_msg(1000, align=False))"
   ]
  },
  {
   "cell_type": "markdown",
   "metadata": {},
   "source": [
    "### [typing](https://docs.python.org/3/library/typing.html)"
   ]
  },
  {
   "cell_type": "code",
   "execution_count": 29,
   "metadata": {},
   "outputs": [],
   "source": [
    "def greeting(name: str) -> str:\n",
    "    if not isinstance(name,str):\n",
    "        name = str(name)\n",
    "    return 'Hello ' + name"
   ]
  },
  {
   "cell_type": "code",
   "execution_count": 30,
   "metadata": {},
   "outputs": [
    {
     "data": {
      "text/plain": [
       "'Hello wen'"
      ]
     },
     "execution_count": 30,
     "metadata": {},
     "output_type": "execute_result"
    }
   ],
   "source": [
    "greeting(\"wen\")"
   ]
  },
  {
   "cell_type": "code",
   "execution_count": 31,
   "metadata": {},
   "outputs": [
    {
     "data": {
      "text/plain": [
       "'Hello 100'"
      ]
     },
     "execution_count": 31,
     "metadata": {},
     "output_type": "execute_result"
    }
   ],
   "source": [
    "greeting(100)"
   ]
  },
  {
   "cell_type": "code",
   "execution_count": 23,
   "metadata": {},
   "outputs": [],
   "source": [
    "def typed_headline(text: str, align: bool = True) -> str:\n",
    "    if align:\n",
    "        return f\"{text}\\n{'-' * 5}\"\n",
    "    else:\n",
    "        return f\" {text} \".center(5, \"o\")"
   ]
  },
  {
   "cell_type": "code",
   "execution_count": 21,
   "metadata": {},
   "outputs": [
    {
     "name": "stdout",
     "output_type": "stream",
     "text": [
      "100\n",
      "-----\n"
     ]
    }
   ],
   "source": [
    "print(typed_headline(\"100\"))"
   ]
  },
  {
   "cell_type": "code",
   "execution_count": 25,
   "metadata": {},
   "outputs": [
    {
     "name": "stdout",
     "output_type": "stream",
     "text": [
      "100\n",
      "-----\n"
     ]
    }
   ],
   "source": [
    "print(typed_headline(100, align=\"center\"))"
   ]
  },
  {
   "cell_type": "code",
   "execution_count": 32,
   "metadata": {},
   "outputs": [],
   "source": [
    "from typing import List\n",
    "Vector = List[float]\n",
    "\n",
    "def scale(scalar: float, vector: Vector) -> Vector:\n",
    "    return [scalar * num for num in vector]\n",
    "\n",
    "# typechecks; a list of floats qualifies as a Vector.\n",
    "new_vector = scale(2.0, [1.0, -4.2, 5.4])"
   ]
  },
  {
   "cell_type": "code",
   "execution_count": 33,
   "metadata": {},
   "outputs": [
    {
     "data": {
      "text/plain": [
       "[2.0, -8.4, 10.8]"
      ]
     },
     "execution_count": 33,
     "metadata": {},
     "output_type": "execute_result"
    }
   ],
   "source": [
    "new_vector"
   ]
  },
  {
   "cell_type": "code",
   "execution_count": 34,
   "metadata": {},
   "outputs": [],
   "source": [
    "vector2 = scale(2, [\"1.0\", -4.2, 5.4])"
   ]
  },
  {
   "cell_type": "code",
   "execution_count": 35,
   "metadata": {},
   "outputs": [
    {
     "data": {
      "text/plain": [
       "['1.01.0', -8.4, 10.8]"
      ]
     },
     "execution_count": 35,
     "metadata": {},
     "output_type": "execute_result"
    }
   ],
   "source": [
    "vector2"
   ]
  },
  {
   "cell_type": "markdown",
   "metadata": {},
   "source": [
    "[How to Use Static Type Checking in Python 3.6](https://medium.com/@ageitgey/learn-how-to-use-static-type-checking-in-python-3-6-in-10-minutes-12c86d72677b)"
   ]
  },
  {
   "cell_type": "code",
   "execution_count": 51,
   "metadata": {},
   "outputs": [
    {
     "name": "stdout",
     "output_type": "stream",
     "text": [
      "Please enter your name:     \n",
      "Hi, UserFirstName!\n"
     ]
    }
   ],
   "source": [
    "def get_first_name(full_name):\n",
    "    return full_name.split(\" \")[0]\n",
    "\n",
    "fallback_name = {\n",
    "    \"first_name\": \"UserFirstName\",\n",
    "    \"last_name\": \"UserLastName\"\n",
    "}\n",
    "\n",
    "raw_name = input(\"Please enter your name: \").strip()\n",
    "if not raw_name:\n",
    "    first_name = fallback_name[\"first_name\"]\n",
    "else:\n",
    "    first_name = get_first_name(raw_name)\n",
    "\n",
    "# If the user didn't type anything in, use the fallback name\n",
    "# if not first_name.strip():\n",
    "#     first_name = get_first_name(fallback_name[\"first_name\"] + \" \" + fallback_name[\"last_name\"] )\n",
    "\n",
    "print(f\"Hi, {first_name}!\")"
   ]
  },
  {
   "cell_type": "markdown",
   "metadata": {},
   "source": [
    "### Type Hint"
   ]
  },
  {
   "cell_type": "code",
   "execution_count": 56,
   "metadata": {},
   "outputs": [
    {
     "name": "stdout",
     "output_type": "stream",
     "text": [
      "Please enter your name: \" \"\n",
      "Hi, \"!\n"
     ]
    }
   ],
   "source": [
    "from typing import Dict\n",
    "\n",
    "def get_first_name(full_name: str) -> str:\n",
    "    return full_name.split(\" \")[0]\n",
    "\n",
    "fallback_name: Dict[str, str] = {\n",
    "    \"first_name\": \"UserFirstName\",\n",
    "    \"last_name\": \"UserLastName\"\n",
    "}\n",
    "\n",
    "raw_name: str = input(\"Please enter your name: \")\n",
    "first_name: str = get_first_name(raw_name)\n",
    "\n",
    "# If the user didn't type anything in, use the fallback name\n",
    "if not first_name:\n",
    "    first_name = get_first_name(fallback_name)\n",
    "\n",
    "print(f\"Hi, {first_name}!\")"
   ]
  },
  {
   "cell_type": "markdown",
   "metadata": {},
   "source": [
    "### Complex Type"
   ]
  },
  {
   "cell_type": "code",
   "execution_count": 60,
   "metadata": {},
   "outputs": [
    {
     "data": {
      "text/plain": [
       "('Adam', 10, 5.7)"
      ]
     },
     "execution_count": 60,
     "metadata": {},
     "output_type": "execute_result"
    }
   ],
   "source": [
    "from typing import Tuple\n",
    "\n",
    "my_data: Tuple[str, int, float] = (\"Adam\", 10, 5.7)\n",
    "\n",
    "my_data"
   ]
  },
  {
   "cell_type": "code",
   "execution_count": 61,
   "metadata": {},
   "outputs": [],
   "source": [
    "from typing import Dict, List\n",
    "\n",
    "# A dictionary where the keys are strings and the values are ints\n",
    "\n",
    "name_counts: Dict[str, int] = {\n",
    "    \"Adam\": 10,\n",
    "    \"Guido\": 12\n",
    "}\n",
    "\n",
    "# A list of integers\n",
    "\n",
    "numbers: List[int] = [1, 2, 3, 4, 5, 6]\n",
    "\n",
    "# A list that holds dicts that each hold a string key / int value\n",
    "\n",
    "list_of_dicts: List[Dict[str, int]] = [\n",
    "    {\"key1\": 1},\n",
    "    {\"key2\": 2}\n",
    "]"
   ]
  },
  {
   "cell_type": "code",
   "execution_count": 62,
   "metadata": {},
   "outputs": [
    {
     "data": {
      "text/plain": [
       "({'Adam': 10, 'Guido': 12}, [1, 2, 3, 4, 5, 6], [{'key1': 1}, {'key2': 2}])"
      ]
     },
     "execution_count": 62,
     "metadata": {},
     "output_type": "execute_result"
    }
   ],
   "source": [
    "name_counts, numbers, list_of_dicts"
   ]
  },
  {
   "cell_type": "code",
   "execution_count": 57,
   "metadata": {},
   "outputs": [],
   "source": [
    "from typing import List, Tuple\n",
    "\n",
    "LatLngVector = List[Tuple[float, float]]\n",
    "\n",
    "points: LatLngVector = [\n",
    "    (25.91375, -60.15503),\n",
    "    (-11.01983, -166.48477),\n",
    "    (-11.01983, -166.48477)\n",
    "]"
   ]
  },
  {
   "cell_type": "code",
   "execution_count": 58,
   "metadata": {},
   "outputs": [
    {
     "data": {
      "text/plain": [
       "[(25.91375, -60.15503), (-11.01983, -166.48477), (-11.01983, -166.48477)]"
      ]
     },
     "execution_count": 58,
     "metadata": {},
     "output_type": "execute_result"
    }
   ],
   "source": [
    "points"
   ]
  },
  {
   "cell_type": "code",
   "execution_count": 59,
   "metadata": {},
   "outputs": [
    {
     "name": "stdout",
     "output_type": "stream",
     "text": [
      "[(25.91375, -60.15503), (-11.01983, -166.48477), (-11.01983, -166.48477)]\n"
     ]
    }
   ],
   "source": [
    "print(points)"
   ]
  },
  {
   "cell_type": "code",
   "execution_count": null,
   "metadata": {},
   "outputs": [],
   "source": []
  }
 ],
 "metadata": {
  "kernelspec": {
   "display_name": "Python 3",
   "language": "python",
   "name": "python3"
  },
  "language_info": {
   "codemirror_mode": {
    "name": "ipython",
    "version": 3
   },
   "file_extension": ".py",
   "mimetype": "text/x-python",
   "name": "python",
   "nbconvert_exporter": "python",
   "pygments_lexer": "ipython3",
   "version": "3.7.1"
  }
 },
 "nbformat": 4,
 "nbformat_minor": 2
}
