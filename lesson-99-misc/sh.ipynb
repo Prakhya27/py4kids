{
 "cells": [
  {
   "cell_type": "markdown",
   "metadata": {},
   "source": [
    "[sh github](https://github.com/amoffat/sh/blob/master/sh.py)\n",
    "\n",
    "\n",
    "[How to use sh in Python](https://www.pythonforbeginners.com/modules-in-python/how-to-use-sh-in-python)\n"
   ]
  },
  {
   "cell_type": "markdown",
   "metadata": {},
   "source": [
    "from sh import ifconfig\n",
    "print (ifconfig(\"docker0\"))"
   ]
  },
  {
   "cell_type": "code",
   "execution_count": 4,
   "metadata": {},
   "outputs": [
    {
     "data": {
      "text/plain": [
       "lo: flags=73<UP,LOOPBACK,RUNNING>  mtu 65536\n",
       "        inet 127.0.0.1  netmask 255.0.0.0\n",
       "        inet6 ::1  prefixlen 128  scopeid 0x10<host>\n",
       "        loop  txqueuelen 1000  (Local Loopback)\n",
       "        RX packets 16308  bytes 18314893 (18.3 MB)\n",
       "        RX errors 0  dropped 0  overruns 0  frame 0\n",
       "        TX packets 16308  bytes 18314893 (18.3 MB)\n",
       "        TX errors 0  dropped 0 overruns 0  carrier 0  collisions 0\n"
      ]
     },
     "execution_count": 4,
     "metadata": {},
     "output_type": "execute_result"
    }
   ],
   "source": [
    "ifconfig(\"lo\")"
   ]
  },
  {
   "cell_type": "code",
   "execution_count": 5,
   "metadata": {},
   "outputs": [],
   "source": [
    "from sh import hostname"
   ]
  },
  {
   "cell_type": "code",
   "execution_count": 6,
   "metadata": {},
   "outputs": [
    {
     "data": {
      "text/plain": [
       "<Command '/bin/hostname'>"
      ]
     },
     "execution_count": 6,
     "metadata": {},
     "output_type": "execute_result"
    }
   ],
   "source": [
    "hostname"
   ]
  },
  {
   "cell_type": "code",
   "execution_count": 7,
   "metadata": {},
   "outputs": [
    {
     "data": {
      "text/plain": [
       "osboxes"
      ]
     },
     "execution_count": 7,
     "metadata": {},
     "output_type": "execute_result"
    }
   ],
   "source": [
    "hostname()"
   ]
  },
  {
   "cell_type": "code",
   "execution_count": 8,
   "metadata": {},
   "outputs": [],
   "source": [
    "from sh import uname"
   ]
  },
  {
   "cell_type": "code",
   "execution_count": 10,
   "metadata": {},
   "outputs": [
    {
     "data": {
      "text/plain": [
       "Linux osboxes 4.15.0-46-generic #49-Ubuntu SMP Wed Feb 6 09:33:07 UTC 2019 x86_64 x86_64 x86_64 GNU/Linux"
      ]
     },
     "execution_count": 10,
     "metadata": {},
     "output_type": "execute_result"
    }
   ],
   "source": [
    "uname(\"-a\")"
   ]
  },
  {
   "cell_type": "code",
   "execution_count": 11,
   "metadata": {},
   "outputs": [],
   "source": [
    "import sh"
   ]
  },
  {
   "cell_type": "code",
   "execution_count": 13,
   "metadata": {},
   "outputs": [],
   "source": [
    "out=sh.ls(\"-l\")"
   ]
  },
  {
   "cell_type": "code",
   "execution_count": 14,
   "metadata": {},
   "outputs": [
    {
     "data": {
      "text/plain": [
       "sh.RunningCommand"
      ]
     },
     "execution_count": 14,
     "metadata": {},
     "output_type": "execute_result"
    }
   ],
   "source": [
    "type(out)"
   ]
  },
  {
   "cell_type": "code",
   "execution_count": 15,
   "metadata": {},
   "outputs": [
    {
     "data": {
      "text/plain": [
       "total 76\n",
       "-rw-r--r-- 1 devopsgong devopsgong 19935 Mar 30 22:02 decorator-example-long.py\n",
       "-rw-r--r-- 1 devopsgong devopsgong 39541 Mar 30 22:02 decorators.ipynb\n",
       "-rw-r--r-- 1 devopsgong devopsgong  3046 Jan 25 22:01 fibonacci.ipynb\n",
       "-rw-r--r-- 1 devopsgong devopsgong  1196 Feb  5 11:21 re_example.ipynb\n",
       "-rw-r--r-- 1 devopsgong devopsgong  3626 Apr 11 23:18 sh.ipynb\n",
       "-rw-r--r-- 1 devopsgong devopsgong   555 Jan 26 19:26 time.ipynb"
      ]
     },
     "execution_count": 15,
     "metadata": {},
     "output_type": "execute_result"
    }
   ],
   "source": [
    "out"
   ]
  },
  {
   "cell_type": "code",
   "execution_count": 16,
   "metadata": {},
   "outputs": [
    {
     "data": {
      "text/plain": [
       "429"
      ]
     },
     "execution_count": 16,
     "metadata": {},
     "output_type": "execute_result"
    }
   ],
   "source": [
    "len(out)"
   ]
  },
  {
   "cell_type": "code",
   "execution_count": 18,
   "metadata": {},
   "outputs": [
    {
     "data": {
      "text/plain": [
       "['total 76',\n",
       " '-rw-r--r-- 1 devopsgong devopsgong 19935 Mar 30 22:02 decorator-example-long.py',\n",
       " '-rw-r--r-- 1 devopsgong devopsgong 39541 Mar 30 22:02 decorators.ipynb',\n",
       " '-rw-r--r-- 1 devopsgong devopsgong  3046 Jan 25 22:01 fibonacci.ipynb',\n",
       " '-rw-r--r-- 1 devopsgong devopsgong  1196 Feb  5 11:21 re_example.ipynb',\n",
       " '-rw-r--r-- 1 devopsgong devopsgong  3626 Apr 11 23:18 sh.ipynb',\n",
       " '-rw-r--r-- 1 devopsgong devopsgong   555 Jan 26 19:26 time.ipynb',\n",
       " '']"
      ]
     },
     "execution_count": 18,
     "metadata": {},
     "output_type": "execute_result"
    }
   ],
   "source": [
    "out.split(\"\\n\")"
   ]
  },
  {
   "cell_type": "code",
   "execution_count": 19,
   "metadata": {},
   "outputs": [
    {
     "data": {
      "text/plain": [
       "Opening in existing browser session."
      ]
     },
     "execution_count": 19,
     "metadata": {},
     "output_type": "execute_result"
    }
   ],
   "source": [
    "sh.google_chrome(\"http://google.com\")"
   ]
  },
  {
   "cell_type": "code",
   "execution_count": 20,
   "metadata": {},
   "outputs": [
    {
     "data": {
      "text/plain": [
       "'/home/devopsgong/anaconda3/bin/python'"
      ]
     },
     "execution_count": 20,
     "metadata": {},
     "output_type": "execute_result"
    }
   ],
   "source": [
    "sh.which(\"python\")"
   ]
  },
  {
   "cell_type": "code",
   "execution_count": null,
   "metadata": {},
   "outputs": [],
   "source": []
  }
 ],
 "metadata": {
  "kernelspec": {
   "display_name": "Python 3",
   "language": "python",
   "name": "python3"
  },
  "language_info": {
   "codemirror_mode": {
    "name": "ipython",
    "version": 3
   },
   "file_extension": ".py",
   "mimetype": "text/x-python",
   "name": "python",
   "nbconvert_exporter": "python",
   "pygments_lexer": "ipython3",
   "version": "3.6.5"
  },
  "toc": {
   "base_numbering": 1,
   "nav_menu": {},
   "number_sections": false,
   "sideBar": false,
   "skip_h1_title": false,
   "title_cell": "Table of Contents",
   "title_sidebar": "Contents",
   "toc_cell": false,
   "toc_position": {},
   "toc_section_display": false,
   "toc_window_display": false
  }
 },
 "nbformat": 4,
 "nbformat_minor": 2
}
