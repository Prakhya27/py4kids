{
 "cells": [
  {
   "cell_type": "markdown",
   "metadata": {},
   "source": [
    "### Books\n",
    "\n",
    "[Intro to Statistical Learning](http://faculty.marshall.usc.edu/gareth-james/isl/)\n",
    "\n",
    "[Elements of\n",
    "Statistical Learning](https://web.stanford.edu/~hastie/ElemStatLearn/)\n",
    "\n",
    "[Deep Learning by Ian Goodfellow](http://www.deeplearningbook.org/)\n",
    "\n",
    "### Blogs\n",
    "\n",
    "[Netflix uses Spark](http://bit.ly/2Fkx4Mm)\n",
    "\n",
    "[Capital One uses Spark to detect Fraud](https://youtu.be/q5HFMVoN_rc)\n",
    "\n",
    "\n",
    "### Tutorials\n",
    "\n",
    "* https://www.digitalocean.com/community/tutorials/how-to-install-anaconda-on-ubuntu-18-04-quickstart\n",
    "* http://spark.apache.org/docs/latest/quick-start.html\n",
    "* https://www.datacamp.com/community/tutorials/apache-spark-python#gs.fMIIqxM"
   ]
  },
  {
   "cell_type": "code",
   "execution_count": null,
   "metadata": {},
   "outputs": [],
   "source": []
  }
 ],
 "metadata": {
  "kernelspec": {
   "display_name": "Python 3",
   "language": "python",
   "name": "python3"
  },
  "language_info": {
   "codemirror_mode": {
    "name": "ipython",
    "version": 3
   },
   "file_extension": ".py",
   "mimetype": "text/x-python",
   "name": "python",
   "nbconvert_exporter": "python",
   "pygments_lexer": "ipython3",
   "version": "3.7.3"
  }
 },
 "nbformat": 4,
 "nbformat_minor": 2
}
