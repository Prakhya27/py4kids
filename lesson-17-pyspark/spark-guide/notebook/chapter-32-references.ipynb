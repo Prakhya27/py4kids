{
 "cells": [
  {
   "cell_type": "markdown",
   "metadata": {},
   "source": [
    "## Reading materials\n",
    "\n",
    "### Books\n",
    "\n",
    "* [Spark: The Definitive Guide](http://shop.oreilly.com/product/0636920034957.do)\n",
    "\n",
    "* [Intro to Statistical Learning](http://faculty.marshall.usc.edu/gareth-james/isl/)\n",
    "\n",
    "* [Elements of\n",
    "Statistical Learning](https://web.stanford.edu/~hastie/ElemStatLearn/)\n",
    "\n",
    "* [Deep Learning by Ian Goodfellow](http://www.deeplearningbook.org/)\n",
    "\n",
    "### Blogs\n",
    "\n",
    "* [Netflix uses Spark](http://bit.ly/2Fkx4Mm)\n",
    "\n",
    "* [Capital One uses Spark to detect Fraud](https://youtu.be/q5HFMVoN_rc)\n",
    "\n",
    "### References\n",
    "\n",
    "* [Programming Guide-Spark SQL, DataFrames, Datasets](http://spark.apache.org/docs/latest/sql-programming-guide.html)\n",
    "* [PySpark 2.4.4 documentations](http://spark.apache.org/docs/latest/api/python/index.html)\n",
    "\n",
    "\n",
    "\n",
    "## Instruction materials\n",
    "\n",
    "### Videos\n",
    "\n",
    "* [Spark Summit YouTube Channel](https://www.youtube.com/channel/UCRzsq7k4-kT-h3TDUBQ82-w)\n",
    "* [Using Apache Spark 2.0 to Analyze the City of San Francisco's Open Data](https://youtu.be/K14plpZgy_c)\n",
    "\n",
    "\n",
    "## Hand-on labs\n",
    "\n",
    "### Tutorials\n",
    "\n",
    "* [Spark-Summit-June-2016](https://github.com/erdcpatel/Spark-Summit-June-2016)\n",
    "* https://www.digitalocean.com/community/tutorials/how-to-install-anaconda-on-ubuntu-18-04-quickstart\n",
    "* http://spark.apache.org/docs/latest/quick-start.html\n",
    "* https://www.datacamp.com/community/tutorials/apache-spark-python#gs.fMIIqxM"
   ]
  },
  {
   "cell_type": "code",
   "execution_count": null,
   "metadata": {},
   "outputs": [],
   "source": []
  }
 ],
 "metadata": {
  "kernelspec": {
   "display_name": "Python 3",
   "language": "python",
   "name": "python3"
  },
  "language_info": {
   "codemirror_mode": {
    "name": "ipython",
    "version": 3
   },
   "file_extension": ".py",
   "mimetype": "text/x-python",
   "name": "python",
   "nbconvert_exporter": "python",
   "pygments_lexer": "ipython3",
   "version": "3.7.3"
  }
 },
 "nbformat": 4,
 "nbformat_minor": 2
}
