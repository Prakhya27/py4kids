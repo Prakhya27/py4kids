{
 "cells": [
  {
   "cell_type": "code",
   "execution_count": 1,
   "metadata": {},
   "outputs": [],
   "source": [
    "import time"
   ]
  },
  {
   "cell_type": "code",
   "execution_count": 6,
   "metadata": {},
   "outputs": [
    {
     "name": "stderr",
     "output_type": "stream",
     "text": [
      "/home/gong/anaconda3/lib/python3.7/site-packages/ipykernel_launcher.py:1: DeprecationWarning: time.clock has been deprecated in Python 3.3 and will be removed from Python 3.8: use time.perf_counter or time.process_time instead\n",
      "  \"\"\"Entry point for launching an IPython kernel.\n"
     ]
    }
   ],
   "source": [
    "t1 = time.clock()"
   ]
  },
  {
   "cell_type": "code",
   "execution_count": 7,
   "metadata": {},
   "outputs": [
    {
     "name": "stderr",
     "output_type": "stream",
     "text": [
      "/home/gong/anaconda3/lib/python3.7/site-packages/ipykernel_launcher.py:1: DeprecationWarning: time.clock has been deprecated in Python 3.3 and will be removed from Python 3.8: use time.perf_counter or time.process_time instead\n",
      "  \"\"\"Entry point for launching an IPython kernel.\n"
     ]
    }
   ],
   "source": [
    "t2 = time.clock()"
   ]
  },
  {
   "cell_type": "code",
   "execution_count": 8,
   "metadata": {},
   "outputs": [
    {
     "data": {
      "text/plain": [
       "2.527441"
      ]
     },
     "execution_count": 8,
     "metadata": {},
     "output_type": "execute_result"
    }
   ],
   "source": [
    "t1"
   ]
  },
  {
   "cell_type": "code",
   "execution_count": 10,
   "metadata": {},
   "outputs": [
    {
     "data": {
      "text/plain": [
       "1571305918467403996"
      ]
     },
     "execution_count": 10,
     "metadata": {},
     "output_type": "execute_result"
    }
   ],
   "source": [
    "time.time_ns()"
   ]
  },
  {
   "cell_type": "code",
   "execution_count": 11,
   "metadata": {},
   "outputs": [],
   "source": [
    "import math"
   ]
  },
  {
   "cell_type": "code",
   "execution_count": 12,
   "metadata": {},
   "outputs": [
    {
     "data": {
      "text/plain": [
       "3.141592653589793"
      ]
     },
     "execution_count": 12,
     "metadata": {},
     "output_type": "execute_result"
    }
   ],
   "source": [
    "math.pi"
   ]
  },
  {
   "cell_type": "code",
   "execution_count": 13,
   "metadata": {},
   "outputs": [
    {
     "name": "stdout",
     "output_type": "stream",
     "text": [
      "/home/gong/projects/py4kids/lesson-17-pyspark/spark-guide/notebook\r\n"
     ]
    }
   ],
   "source": [
    "!pwd"
   ]
  },
  {
   "cell_type": "code",
   "execution_count": 1,
   "metadata": {},
   "outputs": [
    {
     "name": "stdout",
     "output_type": "stream",
     "text": [
      "chapter-02-intro.ipynb\t\t  chapter-24-ML.ipynb\r\n",
      "chapter-03-tour.ipynb\t\t  chapter-25-ML-preprocessing.ipynb\r\n",
      "chapter-04-overview.ipynb\t  chapter-26-ML-classification.ipynb\r\n",
      "chapter-05-basic-operation.ipynb  chapter-27-ML-regression.ipynb\r\n",
      "chapter-06-types.ipynb\t\t  chapter-28-ML-recommender.ipynb\r\n",
      "chapter-07-aggregation.ipynb\t  chapter-29-ML-clustering.ipynb\r\n",
      "chapter-08-join.ipynb\t\t  chapter-30-graph.ipynb\r\n",
      "chapter-09-data-src.ipynb\t  chapter-31-Deep-Learning.ipynb\r\n",
      "chapter-10-SQL.ipynb\t\t  chapter-32-pandas.ipynb\r\n",
      "chapter-12-RDD-basic.ipynb\t  chapter-33-delta.ipynb\r\n",
      "chapter-13-RDD-advanced.ipynb\t  chapter-98-references.ipynb\r\n",
      "chapter-14-broadcast-vars.ipynb   chapter-99-tips_tricks.ipynb\r\n",
      "chapter-15-cluster.ipynb\t  derby.log\r\n",
      "chapter-16-spark-app.ipynb\t  metastore_db\r\n",
      "chapter-19-perf.ipynb\t\t  pdf\r\n",
      "chapter-21-stream.ipynb\t\t  spark-warehouse\r\n",
      "chapter-22-stream-stateful.ipynb  Untitled.ipynb\r\n",
      "chapter-23-stream-in-prod.ipynb\r\n"
     ]
    }
   ],
   "source": [
    "!ls"
   ]
  },
  {
   "cell_type": "code",
   "execution_count": 2,
   "metadata": {},
   "outputs": [
    {
     "name": "stdout",
     "output_type": "stream",
     "text": [
      "----------------------------------------------------------------\r\n",
      "Sun Sep 29 09:59:21 EDT 2019:\r\n",
      "Booting Derby version The Apache Software Foundation - Apache Derby - 10.12.1.1 - (1704137): instance a816c00e-016d-7d51-9269-00001ea88670 \r\n",
      "on database directory /home/gong/projects/py4kids/lesson-17-pyspark/spark-guide/notebook/metastore_db with class loader org.apache.spark.sql.hive.client.IsolatedClientLoader$$anon$1@676b8ed0 \r\n",
      "Loaded from file:/home/gong/spark-2.4.3-bin-hadoop2.7/jars/derby-10.12.1.1.jar\r\n",
      "java.vendor=Private Build\r\n",
      "java.runtime.version=1.8.0_222-8u222-b10-1ubuntu1~18.04.1-b10\r\n",
      "user.dir=/home/gong/projects/py4kids/lesson-17-pyspark/spark-guide/notebook\r\n",
      "os.name=Linux\r\n",
      "os.arch=amd64\r\n",
      "os.version=4.15.0-62-generic\r\n",
      "derby.system.home=null\r\n",
      "Database Class Loader started - derby.database.classpath=''\r\n"
     ]
    }
   ],
   "source": [
    "!cat derby.log"
   ]
  },
  {
   "cell_type": "code",
   "execution_count": 3,
   "metadata": {},
   "outputs": [],
   "source": [
    "lines = spark.read.text(\"derby.log\").rdd.map(lambda r: r[0])"
   ]
  },
  {
   "cell_type": "code",
   "execution_count": 16,
   "metadata": {},
   "outputs": [],
   "source": [
    "words = lines.flatMap(lambda x: x.split(' ')) \\\n",
    "        .map(lambda x: (x, len(x))) "
   ]
  },
  {
   "cell_type": "code",
   "execution_count": 23,
   "metadata": {},
   "outputs": [
    {
     "data": {
      "text/plain": [
       "50"
      ]
     },
     "execution_count": 23,
     "metadata": {},
     "output_type": "execute_result"
    }
   ],
   "source": [
    "words.count()"
   ]
  },
  {
   "cell_type": "code",
   "execution_count": 24,
   "metadata": {},
   "outputs": [
    {
     "data": {
      "text/plain": [
       "[('----------------------------------------------------------------', 64),\n",
       " ('Sun', 3),\n",
       " ('Sep', 3),\n",
       " ('29', 2),\n",
       " ('09:59:21', 8),\n",
       " ('EDT', 3),\n",
       " ('2019:', 5),\n",
       " ('Booting', 7),\n",
       " ('Derby', 5),\n",
       " ('version', 7),\n",
       " ('The', 3),\n",
       " ('Apache', 6),\n",
       " ('Software', 8),\n",
       " ('Foundation', 10),\n",
       " ('-', 1),\n",
       " ('Apache', 6),\n",
       " ('Derby', 5),\n",
       " ('-', 1),\n",
       " ('10.12.1.1', 9),\n",
       " ('-', 1),\n",
       " ('(1704137):', 10),\n",
       " ('instance', 8),\n",
       " ('a816c00e-016d-7d51-9269-00001ea88670', 36),\n",
       " ('', 0),\n",
       " ('on', 2),\n",
       " ('database', 8),\n",
       " ('directory', 9),\n",
       " ('/home/gong/projects/py4kids/lesson-17-pyspark/spark-guide/notebook/metastore_db',\n",
       "  79),\n",
       " ('with', 4),\n",
       " ('class', 5),\n",
       " ('loader', 6),\n",
       " ('org.apache.spark.sql.hive.client.IsolatedClientLoader$$anon$1@676b8ed0',\n",
       "  70),\n",
       " ('', 0),\n",
       " ('Loaded', 6),\n",
       " ('from', 4),\n",
       " ('file:/home/gong/spark-2.4.3-bin-hadoop2.7/jars/derby-10.12.1.1.jar', 66),\n",
       " ('java.vendor=Private', 19),\n",
       " ('Build', 5),\n",
       " ('java.runtime.version=1.8.0_222-8u222-b10-1ubuntu1~18.04.1-b10', 61),\n",
       " ('user.dir=/home/gong/projects/py4kids/lesson-17-pyspark/spark-guide/notebook',\n",
       "  75),\n",
       " ('os.name=Linux', 13),\n",
       " ('os.arch=amd64', 13),\n",
       " ('os.version=4.15.0-62-generic', 28),\n",
       " ('derby.system.home=null', 22),\n",
       " ('Database', 8),\n",
       " ('Class', 5),\n",
       " ('Loader', 6),\n",
       " ('started', 7),\n",
       " ('-', 1),\n",
       " (\"derby.database.classpath=''\", 27)]"
      ]
     },
     "execution_count": 24,
     "metadata": {},
     "output_type": "execute_result"
    }
   ],
   "source": [
    "words.take(50)"
   ]
  },
  {
   "cell_type": "code",
   "execution_count": 27,
   "metadata": {},
   "outputs": [
    {
     "data": {
      "text/plain": [
       "[('', 0),\n",
       " ('', 0),\n",
       " ('(1704137):', 10),\n",
       " ('-', 1),\n",
       " ('-', 1),\n",
       " ('-', 1),\n",
       " ('-', 1),\n",
       " ('----------------------------------------------------------------', 64),\n",
       " ('/home/gong/projects/py4kids/lesson-17-pyspark/spark-guide/notebook/metastore_db',\n",
       "  79),\n",
       " ('09:59:21', 8),\n",
       " ('10.12.1.1', 9),\n",
       " ('2019:', 5),\n",
       " ('29', 2),\n",
       " ('Apache', 6),\n",
       " ('Apache', 6),\n",
       " ('Booting', 7),\n",
       " ('Build', 5),\n",
       " ('Class', 5),\n",
       " ('Database', 8),\n",
       " ('Derby', 5),\n",
       " ('Derby', 5),\n",
       " ('EDT', 3),\n",
       " ('Foundation', 10),\n",
       " ('Loaded', 6),\n",
       " ('Loader', 6),\n",
       " ('Sep', 3),\n",
       " ('Software', 8),\n",
       " ('Sun', 3),\n",
       " ('The', 3),\n",
       " ('a816c00e-016d-7d51-9269-00001ea88670', 36),\n",
       " ('class', 5),\n",
       " ('database', 8),\n",
       " (\"derby.database.classpath=''\", 27),\n",
       " ('derby.system.home=null', 22),\n",
       " ('directory', 9),\n",
       " ('file:/home/gong/spark-2.4.3-bin-hadoop2.7/jars/derby-10.12.1.1.jar', 66),\n",
       " ('from', 4),\n",
       " ('instance', 8),\n",
       " ('java.runtime.version=1.8.0_222-8u222-b10-1ubuntu1~18.04.1-b10', 61),\n",
       " ('java.vendor=Private', 19),\n",
       " ('loader', 6),\n",
       " ('on', 2),\n",
       " ('org.apache.spark.sql.hive.client.IsolatedClientLoader$$anon$1@676b8ed0',\n",
       "  70),\n",
       " ('os.arch=amd64', 13),\n",
       " ('os.name=Linux', 13),\n",
       " ('os.version=4.15.0-62-generic', 28),\n",
       " ('started', 7),\n",
       " ('user.dir=/home/gong/projects/py4kids/lesson-17-pyspark/spark-guide/notebook',\n",
       "  75),\n",
       " ('version', 7),\n",
       " ('with', 4)]"
      ]
     },
     "execution_count": 27,
     "metadata": {},
     "output_type": "execute_result"
    }
   ],
   "source": [
    "sortedByKey = words.sortBy(lambda a: a[0])\n",
    "\n",
    "sortedByKey.collect()"
   ]
  },
  {
   "cell_type": "code",
   "execution_count": 25,
   "metadata": {},
   "outputs": [],
   "source": [
    "sortedByVal = words.sortBy(lambda a: a[1])\n",
    "\n",
    "sortedByVal.collect()"
   ]
  },
  {
   "cell_type": "code",
   "execution_count": 22,
   "metadata": {},
   "outputs": [
    {
     "data": {
      "text/plain": [
       "pyspark.rdd.PipelinedRDD"
      ]
     },
     "execution_count": 22,
     "metadata": {},
     "output_type": "execute_result"
    }
   ],
   "source": [
    "type(words)"
   ]
  },
  {
   "cell_type": "code",
   "execution_count": 12,
   "metadata": {},
   "outputs": [],
   "source": [
    "sc = spark.sparkContext"
   ]
  },
  {
   "cell_type": "code",
   "execution_count": 13,
   "metadata": {},
   "outputs": [
    {
     "data": {
      "text/plain": [
       "[('c', 1), ('t', 3), ('b', 4)]"
      ]
     },
     "execution_count": 13,
     "metadata": {},
     "output_type": "execute_result"
    }
   ],
   "source": [
    "b = sc.parallelize([('t', 3),('b', 4),('c', 1)])\n",
    "bSorted = b.sortBy(lambda a: a[1])\n",
    "bSorted.collect()"
   ]
  },
  {
   "cell_type": "code",
   "execution_count": null,
   "metadata": {},
   "outputs": [],
   "source": []
  }
 ],
 "metadata": {
  "kernelspec": {
   "display_name": "Python 3",
   "language": "python",
   "name": "python3"
  },
  "language_info": {
   "codemirror_mode": {
    "name": "ipython",
    "version": 3
   },
   "file_extension": ".py",
   "mimetype": "text/x-python",
   "name": "python",
   "nbconvert_exporter": "python",
   "pygments_lexer": "ipython3",
   "version": "3.7.3"
  }
 },
 "nbformat": 4,
 "nbformat_minor": 2
}
