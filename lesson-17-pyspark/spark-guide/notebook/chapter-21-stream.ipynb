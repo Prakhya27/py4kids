{
 "cells": [
  {
   "cell_type": "code",
   "execution_count": 1,
   "metadata": {},
   "outputs": [],
   "source": [
    "from pyspark.sql import SparkSession\n",
    "import pyspark.sql.functions as F\n",
    "from pyspark.sql.types import *\n",
    "\n",
    "spark = SparkSession\\\n",
    "    .builder\\\n",
    "    .appName(\"chapter-21-streaming\")\\\n",
    "    .getOrCreate()\n",
    "\n",
    "import os\n",
    "SPARK_BOOK_DATA_PATH = os.environ['SPARK_BOOK_DATA_PATH']"
   ]
  },
  {
   "cell_type": "markdown",
   "metadata": {},
   "source": [
    "dataset - Heterogeneity Human Activity Recognition\n",
    "\n",
    "The data consists of smartphone and smartwatch sensor readings from a variety of devices (such as accelerometer, gyroscope), sampled at the highest possible frequency supported by the devices. Readings from these sensors weree recorded while users perfomed activities like biking, sitting, standing, walking, and so on"
   ]
  },
  {
   "cell_type": "code",
   "execution_count": 2,
   "metadata": {},
   "outputs": [],
   "source": [
    "file_path = SPARK_BOOK_DATA_PATH + \"/data/activity-data/\"\n",
    "static = spark.read.json(file_path)\n",
    "dataSchema = static.schema"
   ]
  },
  {
   "cell_type": "code",
   "execution_count": 3,
   "metadata": {},
   "outputs": [
    {
     "name": "stdout",
     "output_type": "stream",
     "text": [
      "+-------------+-------------------+--------+-----+------+----+-----+------------+------------+------------+\n",
      "| Arrival_Time|      Creation_Time|  Device|Index| Model|User|   gt|           x|           y|           z|\n",
      "+-------------+-------------------+--------+-----+------+----+-----+------------+------------+------------+\n",
      "|1424686735090|1424686733090638193|nexus4_1|   18|nexus4|   g|stand| 3.356934E-4|-5.645752E-4|-0.018814087|\n",
      "|1424686735292|1424688581345918092|nexus4_2|   66|nexus4|   g|stand|-0.005722046| 0.029083252| 0.005569458|\n",
      "|1424686735500|1424686733498505625|nexus4_1|   99|nexus4|   g|stand|   0.0078125|-0.017654419| 0.010025024|\n",
      "|1424686735691|1424688581745026978|nexus4_2|  145|nexus4|   g|stand|-3.814697E-4|   0.0184021|-0.013656616|\n",
      "|1424686735890|1424688581945252808|nexus4_2|  185|nexus4|   g|stand|-3.814697E-4|-0.031799316| -0.00831604|\n",
      "+-------------+-------------------+--------+-----+------+----+-----+------------+------------+------------+\n",
      "only showing top 5 rows\n",
      "\n"
     ]
    }
   ],
   "source": [
    "static.show(5)"
   ]
  },
  {
   "cell_type": "code",
   "execution_count": 4,
   "metadata": {},
   "outputs": [],
   "source": [
    "# COMMAND ----------\n",
    "\n",
    "## Extract\n",
    "\n",
    "streaming = spark.readStream.schema(dataSchema)\\\n",
    "  .option(\"maxFilesPerTrigger\", 1)\\\n",
    "  .json(file_path)"
   ]
  },
  {
   "cell_type": "code",
   "execution_count": 5,
   "metadata": {},
   "outputs": [],
   "source": [
    "# COMMAND ----------\n",
    "\n",
    "## Transform\n",
    "\n",
    "activityCounts = streaming.groupBy(\"gt\").count()"
   ]
  },
  {
   "cell_type": "code",
   "execution_count": 6,
   "metadata": {},
   "outputs": [],
   "source": [
    "# COMMAND ----------\n",
    "\n",
    "## Load (action)\n",
    "\n",
    "activityQuery = activityCounts.writeStream\\\n",
    "    .queryName(\"activity_counts\")\\\n",
    "    .format(\"memory\")\\\n",
    "    .outputMode(\"complete\")\\\n",
    "    .start()\n",
    "\n",
    "# activityQuery.awaitTermination()"
   ]
  },
  {
   "cell_type": "code",
   "execution_count": 7,
   "metadata": {},
   "outputs": [
    {
     "name": "stdout",
     "output_type": "stream",
     "text": [
      "+----------+-----+\n",
      "|        gt|count|\n",
      "+----------+-----+\n",
      "|  stairsup|10452|\n",
      "|       sit|12309|\n",
      "|     stand|11385|\n",
      "|      walk|13256|\n",
      "|      bike|10797|\n",
      "|stairsdown| 9365|\n",
      "|      null|10448|\n",
      "+----------+-----+\n",
      "\n",
      "+----------+-----+\n",
      "|        gt|count|\n",
      "+----------+-----+\n",
      "|  stairsup|20905|\n",
      "|       sit|24619|\n",
      "|     stand|22770|\n",
      "|      walk|26512|\n",
      "|      bike|21594|\n",
      "|stairsdown|18729|\n",
      "|      null|20895|\n",
      "+----------+-----+\n",
      "\n",
      "+----------+-----+\n",
      "|        gt|count|\n",
      "+----------+-----+\n",
      "|  stairsup|31357|\n",
      "|       sit|36929|\n",
      "|     stand|34155|\n",
      "|      walk|39768|\n",
      "|      bike|32391|\n",
      "|stairsdown|28094|\n",
      "|      null|31342|\n",
      "+----------+-----+\n",
      "\n",
      "+----------+-----+\n",
      "|        gt|count|\n",
      "+----------+-----+\n",
      "|  stairsup|41809|\n",
      "|       sit|49238|\n",
      "|     stand|45539|\n",
      "|      walk|53024|\n",
      "|      bike|43187|\n",
      "|stairsdown|37459|\n",
      "|      null|41791|\n",
      "+----------+-----+\n",
      "\n",
      "+----------+-----+\n",
      "|        gt|count|\n",
      "+----------+-----+\n",
      "|  stairsup|52262|\n",
      "|       sit|61545|\n",
      "|     stand|56924|\n",
      "|      walk|66280|\n",
      "|      bike|53985|\n",
      "|stairsdown|46823|\n",
      "|      null|52240|\n",
      "+----------+-----+\n",
      "\n"
     ]
    }
   ],
   "source": [
    "# COMMAND ----------\n",
    "\n",
    "from time import sleep\n",
    "for x in range(5):\n",
    "    spark.sql(\"SELECT * FROM activity_counts\").show()\n",
    "    sleep(1)"
   ]
  },
  {
   "cell_type": "code",
   "execution_count": 8,
   "metadata": {},
   "outputs": [
    {
     "data": {
      "text/plain": [
       "[<pyspark.sql.streaming.StreamingQuery at 0x7fade9c18898>]"
      ]
     },
     "execution_count": 8,
     "metadata": {},
     "output_type": "execute_result"
    }
   ],
   "source": [
    "spark.streams.active"
   ]
  },
  {
   "cell_type": "code",
   "execution_count": 13,
   "metadata": {},
   "outputs": [],
   "source": [
    "# COMMAND ----------\n",
    "\n",
    "from pyspark.sql.functions import expr\n",
    "simpleTransform = streaming.withColumn(\"stairs\", expr(\"gt like '%stairs%'\"))\\\n",
    "  .where(\"stairs\")\\\n",
    "  .where(\"gt is not null\")\\\n",
    "  .select(\"gt\", \"model\", \"arrival_time\", \"creation_time\")\\\n",
    "  .writeStream\\\n",
    "  .queryName(\"simple_transform2\")\\\n",
    "  .format(\"memory\")\\\n",
    "  .outputMode(\"append\")\\\n",
    "  .start()"
   ]
  },
  {
   "cell_type": "code",
   "execution_count": 14,
   "metadata": {},
   "outputs": [
    {
     "name": "stdout",
     "output_type": "stream",
     "text": [
      "+--------+------+-------------+-------------------+\n",
      "|      gt| model| arrival_time|      creation_time|\n",
      "+--------+------+-------------+-------------------+\n",
      "|stairsup|nexus4|1424687983725|1424687981731838118|\n",
      "|stairsup|nexus4|1424687984021|1424687982029994857|\n",
      "|stairsup|nexus4|1424687984421|1424687982426655964|\n",
      "|stairsup|nexus4|1424687984825|1424687982830373005|\n",
      "|stairsup|nexus4|1424687985223|1424687983232454474|\n",
      "|stairsup|nexus4|1424687985633|1424687983635439093|\n",
      "|stairsup|nexus4|1424687986031|1424687984038271124|\n",
      "|stairsup|nexus4|1424687986438|1424687984447786505|\n",
      "|stairsup|nexus4|1424687986837|1424687984843868081|\n",
      "|stairsup|nexus4|1424687987240|1424687985241725747|\n",
      "|stairsup|nexus4|1424687987640|1424687985649636253|\n",
      "|stairsup|nexus4|1424687987997|1424687986007149681|\n",
      "|stairsup|nexus4|1424687988202|1424689834242463027|\n",
      "|stairsup|nexus4|1424687988400|1424687986409981712|\n",
      "|stairsup|nexus4|1424687988602|1424687986611397727|\n",
      "|stairsup|nexus4|1424687988805|1424689834851685440|\n",
      "|stairsup|nexus4|1424687989004|1424689835052979385|\n",
      "|stairsup|nexus4|1424687989207|1424689835254425918|\n",
      "|stairsup|nexus4|1424687989409|1424689835463075104|\n",
      "|stairsup|nexus4|1424687989611|1424689835664430084|\n",
      "+--------+------+-------------+-------------------+\n",
      "only showing top 20 rows\n",
      "\n"
     ]
    }
   ],
   "source": [
    "spark.sql(\"select * from simple_transform2\").show()"
   ]
  },
  {
   "cell_type": "code",
   "execution_count": 11,
   "metadata": {},
   "outputs": [],
   "source": [
    "# COMMAND ----------\n",
    "\n",
    "deviceModelStats = streaming.cube(\"gt\", \"model\").avg()\\\n",
    "  .drop(\"avg(Arrival_time)\")\\\n",
    "  .drop(\"avg(Creation_Time)\")\\\n",
    "  .drop(\"avg(Index)\")\\\n",
    "  .writeStream.queryName(\"device_counts\")\\\n",
    "  .format(\"memory\")\\\n",
    "  .outputMode(\"complete\")\\\n",
    "  .start()"
   ]
  },
  {
   "cell_type": "code",
   "execution_count": 12,
   "metadata": {},
   "outputs": [
    {
     "name": "stdout",
     "output_type": "stream",
     "text": [
      "+----------+------+--------------------+--------------------+--------------------+\n",
      "|        gt| model|              avg(x)|              avg(y)|              avg(z)|\n",
      "+----------+------+--------------------+--------------------+--------------------+\n",
      "|      null|nexus4|-0.00709412616238...|-8.58791204326168...|0.006706891709609522|\n",
      "|      null|nexus4|8.401978016402726E-4|-0.00641096529662...|-0.00813326767938...|\n",
      "|      null|  null|8.401978016402726E-4|-0.00641096529662...|-0.00813326767938...|\n",
      "|      bike|nexus4|0.024354459763982594|-0.00985390261844...| -0.0821334040104677|\n",
      "|     stand|  null|-4.14058840975687...|3.671475178272786E-4|3.247939523294214...|\n",
      "|       sit|nexus4|-5.35942622812577...|3.534359010935097...|-2.12916954426842...|\n",
      "|     stand|nexus4|-4.14058840975687...|3.671475178272786E-4|3.247939523294214...|\n",
      "|stairsdown|  null|0.024112003211586183|-0.03817385825913334| 0.12698510835722174|\n",
      "|  stairsup|  null| -0.0276360480197965|-0.01028970048418...|-0.09847309651438897|\n",
      "|       sit|  null|-5.35942622812577...|3.534359010935097...|-2.12916954426842...|\n",
      "|  stairsup|nexus4| -0.0276360480197965|-0.01028970048418...|-0.09847309651438897|\n",
      "|      walk|  null|-0.00369007778977...|0.004802620995873565|0.001604438432181...|\n",
      "|stairsdown|nexus4|0.024112003211586183|-0.03817385825913334| 0.12698510835722174|\n",
      "|      bike|  null|0.024354459763982594|-0.00985390261844...| -0.0821334040104677|\n",
      "|      walk|nexus4|-0.00369007778977...|0.004802620995873565|0.001604438432181...|\n",
      "|      null|  null|-0.00709412616238...|-8.58791204326168...|0.006706891709609522|\n",
      "+----------+------+--------------------+--------------------+--------------------+\n",
      "\n"
     ]
    }
   ],
   "source": [
    "spark.sql(\"select * from device_counts\").show()"
   ]
  },
  {
   "cell_type": "code",
   "execution_count": 15,
   "metadata": {},
   "outputs": [],
   "source": [
    "# COMMAND ----------\n",
    "\n",
    "historicalAgg = static.groupBy(\"gt\", \"model\").avg()\n",
    "deviceModelStats = streaming.drop(\"Arrival_Time\", \"Creation_Time\", \"Index\")\\\n",
    "  .cube(\"gt\", \"model\").avg()\\\n",
    "  .join(historicalAgg, [\"gt\", \"model\"])\\\n",
    "  .writeStream.queryName(\"join_hist\")\\\n",
    "  .format(\"memory\")\\\n",
    "  .outputMode(\"complete\")\\\n",
    "  .start()\n",
    "\n",
    "\n",
    "# COMMAND ----------"
   ]
  },
  {
   "cell_type": "code",
   "execution_count": 17,
   "metadata": {},
   "outputs": [
    {
     "name": "stdout",
     "output_type": "stream",
     "text": [
      "+----------+------+--------------------+--------------------+--------------------+--------------------+--------------------+------------------+--------------------+--------------------+--------------------+\n",
      "|        gt| model|              avg(x)|              avg(y)|              avg(z)|   avg(Arrival_Time)|  avg(Creation_Time)|        avg(Index)|              avg(x)|              avg(y)|              avg(z)|\n",
      "+----------+------+--------------------+--------------------+--------------------+--------------------+--------------------+------------------+--------------------+--------------------+--------------------+\n",
      "|      bike|nexus4|0.023557159293850147|-0.01037107974742...|-0.08150749488259697|1.424751134339985...|1.424752127369589...| 326459.6867328154|0.022688759550866855|-0.00877912156368...|-0.08251001663412343|\n",
      "|      walk|nexus4|-0.00477321663226...|0.007647625398144233|1.359592299788791...|1.424746420641789...|1.424747351060674...|149760.09974990616|-0.00390116006094...|0.001052508689953...|-6.95435553042997...|\n",
      "|stairsdown|nexus4|0.024258479937576093|-0.03760274457414842| 0.12621213764276526|1.424744591412857E12|1.424745503635636...|230452.44623187225|0.021613908669165436|-0.03249018824752...| 0.12035922691504075|\n",
      "|       sit|nexus4|-6.03518642992934...|3.315789799252582...|1.607174773661542...|1.424741207868231...|1.424742112220356...| 74577.84690275553|-5.49433244039557...|2.791446281700041E-4|-2.33994461689905...|\n",
      "|     stand|nexus4|-4.85009687984190...| 7.84316431444892E-5|6.537999222924908E-4|1.424743637921209...|1.424744579547459...|31317.877585550017|-3.11082189691711...|3.218461665975361...|2.141300040636496...|\n",
      "|      null|nexus4|-0.01085041855216...| 0.00326938840170367|0.007623247528790229|1.424749002876339...|1.424749919482127...| 219276.9663669269|-0.00847688860109...|-7.30455258739187...|0.003090601491419931|\n",
      "|  stairsup|nexus4|-0.03467685959179117|-0.00477540382240...|-0.09751820410581684|1.424745996101163E12|1.424746915892737...|227912.96550673083|-0.02479965287771642|-0.00800392344379...|-0.10034088415060395|\n",
      "+----------+------+--------------------+--------------------+--------------------+--------------------+--------------------+------------------+--------------------+--------------------+--------------------+\n",
      "\n"
     ]
    }
   ],
   "source": [
    "spark.sql(\"select * from join_hist\").show()"
   ]
  },
  {
   "cell_type": "code",
   "execution_count": 18,
   "metadata": {},
   "outputs": [
    {
     "name": "stdout",
     "output_type": "stream",
     "text": [
      "+----------+------+--------------------+--------------------+------------------+--------------------+--------------------+--------------------+\n",
      "|        gt| model|   avg(Arrival_Time)|  avg(Creation_Time)|        avg(Index)|              avg(x)|              avg(y)|              avg(z)|\n",
      "+----------+------+--------------------+--------------------+------------------+--------------------+--------------------+--------------------+\n",
      "|      bike|nexus4|1.424751134339985...|1.424752127369589...| 326459.6867328154|0.022688759550866855|-0.00877912156368...|-0.08251001663412343|\n",
      "|      walk|nexus4|1.424746420641789...|1.424747351060674...|149760.09974990616|-0.00390116006094...|0.001052508689953...|-6.95435553042997...|\n",
      "|stairsdown|nexus4|1.424744591412857E12|1.424745503635636...|230452.44623187225|0.021613908669165436|-0.03249018824752...| 0.12035922691504075|\n",
      "|       sit|nexus4|1.424741207868231...|1.424742112220356...| 74577.84690275553|-5.49433244039557...|2.791446281700041E-4|-2.33994461689905...|\n",
      "|     stand|nexus4|1.424743637921209...|1.424744579547459...|31317.877585550017|-3.11082189691711...|3.218461665975361...|2.141300040636496...|\n",
      "|      null|nexus4|1.424749002876339...|1.424749919482127...| 219276.9663669269|-0.00847688860109...|-7.30455258739187...|0.003090601491419931|\n",
      "|  stairsup|nexus4|1.424745996101163E12|1.424746915892737...|227912.96550673083|-0.02479965287771642|-0.00800392344379...|-0.10034088415060395|\n",
      "+----------+------+--------------------+--------------------+------------------+--------------------+--------------------+--------------------+\n",
      "\n"
     ]
    }
   ],
   "source": [
    "historicalAgg.show()"
   ]
  },
  {
   "cell_type": "code",
   "execution_count": null,
   "metadata": {},
   "outputs": [],
   "source": []
  },
  {
   "cell_type": "code",
   "execution_count": null,
   "metadata": {},
   "outputs": [],
   "source": []
  },
  {
   "cell_type": "markdown",
   "metadata": {},
   "source": [
    "see `chapter-21-stream-kafka.ipynb` for example using streaming with Kafka"
   ]
  },
  {
   "cell_type": "code",
   "execution_count": null,
   "metadata": {},
   "outputs": [],
   "source": []
  },
  {
   "cell_type": "code",
   "execution_count": null,
   "metadata": {},
   "outputs": [],
   "source": []
  },
  {
   "cell_type": "code",
   "execution_count": null,
   "metadata": {},
   "outputs": [],
   "source": [
    "# Subscribe to 1 topic\n",
    "df1 = spark.readStream.format(\"kafka\")\\\n",
    "  .option(\"kafka.bootstrap.servers\", \"host1:port1,host2:port2\")\\\n",
    "  .option(\"subscribe\", \"topic1\")\\\n",
    "  .load()"
   ]
  },
  {
   "cell_type": "code",
   "execution_count": null,
   "metadata": {},
   "outputs": [],
   "source": [
    "# Subscribe to multiple topics\n",
    "df2 = spark.readStream.format(\"kafka\")\\\n",
    "  .option(\"kafka.bootstrap.servers\", \"host1:port1,host2:port2\")\\\n",
    "  .option(\"subscribe\", \"topic1,topic2\")\\\n",
    "  .load()\n",
    "# Subscribe to a pattern\n",
    "df3 = spark.readStream.format(\"kafka\")\\\n",
    "  .option(\"kafka.bootstrap.servers\", \"host1:port1,host2:port2\")\\\n",
    "  .option(\"subscribePattern\", \"topic.*\")\\\n",
    "  .load()\n",
    "\n",
    "\n",
    "# COMMAND ----------\n",
    "\n",
    "df1.selectExpr(\"topic\", \"CAST(key AS STRING)\", \"CAST(value AS STRING)\")\\\n",
    "  .writeStream\\\n",
    "  .format(\"kafka\")\\\n",
    "  .option(\"kafka.bootstrap.servers\", \"host1:port1,host2:port2\")\\\n",
    "  .option(\"checkpointLocation\", \"/to/HDFS-compatible/dir\")\\\n",
    "  .start()\n",
    "df1.selectExpr(\"CAST(key AS STRING)\", \"CAST(value AS STRING)\")\\\n",
    "  .writeStream\\\n",
    "  .format(\"kafka\")\\\n",
    "  .option(\"kafka.bootstrap.servers\", \"host1:port1,host2:port2\")\\\n",
    "  .option(\"checkpointLocation\", \"/to/HDFS-compatible/dir\")\\\n",
    "  .option(\"topic\", \"topic1\")\\\n",
    "  .start()\n",
    "\n",
    "\n",
    "# COMMAND ----------\n",
    "\n",
    "socketDF = spark.readStream.format(\"socket\")\\\n",
    "  .option(\"host\", \"localhost\").option(\"port\", 9999).load()\n",
    "\n",
    "\n",
    "# COMMAND ----------\n",
    "\n",
    "activityCounts.writeStream.trigger(processingTime='5 seconds')\\\n",
    "  .format(\"console\").outputMode(\"complete\").start()\n",
    "\n",
    "\n",
    "# COMMAND ----------\n",
    "\n",
    "activityCounts.writeStream.trigger(once=True)\\\n",
    "  .format(\"console\").outputMode(\"complete\").start()\n",
    "\n",
    "\n",
    "# COMMAND ----------"
   ]
  }
 ],
 "metadata": {
  "kernelspec": {
   "display_name": "Python 3",
   "language": "python",
   "name": "python3"
  },
  "language_info": {
   "codemirror_mode": {
    "name": "ipython",
    "version": 3
   },
   "file_extension": ".py",
   "mimetype": "text/x-python",
   "name": "python",
   "nbconvert_exporter": "python",
   "pygments_lexer": "ipython3",
   "version": "3.7.3"
  }
 },
 "nbformat": 4,
 "nbformat_minor": 2
}
