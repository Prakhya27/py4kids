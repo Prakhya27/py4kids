{
 "cells": [
  {
   "cell_type": "code",
   "execution_count": 1,
   "metadata": {},
   "outputs": [],
   "source": [
    "# import findspark\n",
    "# findspark.init()\n",
    "from pyspark.sql import SparkSession\n",
    "import pyspark.sql.functions as F\n",
    "from pyspark.sql.types import *\n",
    "\n",
    "spark = SparkSession\\\n",
    "    .builder\\\n",
    "    .appName(\"chapter-19-perf\")\\\n",
    "    .getOrCreate()\n",
    "\n",
    "SPARK_BOOK_DATA_PATH = \"/home/gong/spark/books/Spark-The-Definitive-Guide\""
   ]
  },
  {
   "cell_type": "code",
   "execution_count": 5,
   "metadata": {},
   "outputs": [],
   "source": [
    "file_path = SPARK_BOOK_DATA_PATH + \"/data/flight-data/csv/2015-summary.csv\"\n",
    "# Original loading code that does *not* cache DataFrame\n",
    "DF1 = spark.read.format(\"csv\")\\\n",
    "  .option(\"inferSchema\", \"true\")\\\n",
    "  .option(\"header\", \"true\")\\\n",
    "  .load(file_path)"
   ]
  },
  {
   "cell_type": "code",
   "execution_count": 6,
   "metadata": {},
   "outputs": [
    {
     "name": "stdout",
     "output_type": "stream",
     "text": [
      "+-----------------+-------------------+-----+\n",
      "|DEST_COUNTRY_NAME|ORIGIN_COUNTRY_NAME|count|\n",
      "+-----------------+-------------------+-----+\n",
      "|    United States|            Romania|   15|\n",
      "|    United States|            Croatia|    1|\n",
      "|    United States|            Ireland|  344|\n",
      "|            Egypt|      United States|   15|\n",
      "|    United States|              India|   62|\n",
      "+-----------------+-------------------+-----+\n",
      "only showing top 5 rows\n",
      "\n"
     ]
    }
   ],
   "source": [
    "DF1.show(5)"
   ]
  },
  {
   "cell_type": "code",
   "execution_count": 7,
   "metadata": {},
   "outputs": [
    {
     "name": "stdout",
     "output_type": "stream",
     "text": [
      "CPU times: user 11.2 ms, sys: 2.36 ms, total: 13.5 ms\n",
      "Wall time: 2.04 s\n"
     ]
    }
   ],
   "source": [
    "%%time\n",
    "DF2 = DF1.groupBy(\"DEST_COUNTRY_NAME\").count().collect()"
   ]
  },
  {
   "cell_type": "code",
   "execution_count": 8,
   "metadata": {},
   "outputs": [
    {
     "name": "stdout",
     "output_type": "stream",
     "text": [
      "CPU times: user 6.67 ms, sys: 0 ns, total: 6.67 ms\n",
      "Wall time: 885 ms\n"
     ]
    }
   ],
   "source": [
    "%%time\n",
    "DF3 = DF1.groupBy(\"ORIGIN_COUNTRY_NAME\").count().collect()"
   ]
  },
  {
   "cell_type": "code",
   "execution_count": 11,
   "metadata": {},
   "outputs": [
    {
     "data": {
      "text/plain": [
       "[Row(ORIGIN_COUNTRY_NAME='Paraguay', count=1),\n",
       " Row(ORIGIN_COUNTRY_NAME='Russia', count=1),\n",
       " Row(ORIGIN_COUNTRY_NAME='Anguilla', count=1),\n",
       " Row(ORIGIN_COUNTRY_NAME='Senegal', count=1),\n",
       " Row(ORIGIN_COUNTRY_NAME='Sweden', count=1),\n",
       " Row(ORIGIN_COUNTRY_NAME='Kiribati', count=1),\n",
       " Row(ORIGIN_COUNTRY_NAME='Guyana', count=1),\n",
       " Row(ORIGIN_COUNTRY_NAME='Philippines', count=1),\n",
       " Row(ORIGIN_COUNTRY_NAME='Singapore', count=1),\n",
       " Row(ORIGIN_COUNTRY_NAME='Malaysia', count=1),\n",
       " Row(ORIGIN_COUNTRY_NAME='Fiji', count=1),\n",
       " Row(ORIGIN_COUNTRY_NAME='Turkey', count=1),\n",
       " Row(ORIGIN_COUNTRY_NAME='Germany', count=1),\n",
       " Row(ORIGIN_COUNTRY_NAME='Jordan', count=1),\n",
       " Row(ORIGIN_COUNTRY_NAME='Palau', count=1),\n",
       " Row(ORIGIN_COUNTRY_NAME='Turks and Caicos Islands', count=1),\n",
       " Row(ORIGIN_COUNTRY_NAME='France', count=1),\n",
       " Row(ORIGIN_COUNTRY_NAME='Greece', count=1),\n",
       " Row(ORIGIN_COUNTRY_NAME='British Virgin Islands', count=1),\n",
       " Row(ORIGIN_COUNTRY_NAME='Taiwan', count=1),\n",
       " Row(ORIGIN_COUNTRY_NAME='Dominica', count=1),\n",
       " Row(ORIGIN_COUNTRY_NAME='Argentina', count=1),\n",
       " Row(ORIGIN_COUNTRY_NAME='Angola', count=1),\n",
       " Row(ORIGIN_COUNTRY_NAME='Belgium', count=1),\n",
       " Row(ORIGIN_COUNTRY_NAME='Ecuador', count=1),\n",
       " Row(ORIGIN_COUNTRY_NAME='Qatar', count=1),\n",
       " Row(ORIGIN_COUNTRY_NAME='Finland', count=1),\n",
       " Row(ORIGIN_COUNTRY_NAME='Nicaragua', count=1),\n",
       " Row(ORIGIN_COUNTRY_NAME='Ghana', count=1),\n",
       " Row(ORIGIN_COUNTRY_NAME='Peru', count=1),\n",
       " Row(ORIGIN_COUNTRY_NAME='United States', count=132),\n",
       " Row(ORIGIN_COUNTRY_NAME='India', count=1),\n",
       " Row(ORIGIN_COUNTRY_NAME='China', count=1),\n",
       " Row(ORIGIN_COUNTRY_NAME='Curacao', count=1),\n",
       " Row(ORIGIN_COUNTRY_NAME='Kuwait', count=1),\n",
       " Row(ORIGIN_COUNTRY_NAME='Malta', count=1),\n",
       " Row(ORIGIN_COUNTRY_NAME='Marshall Islands', count=1),\n",
       " Row(ORIGIN_COUNTRY_NAME='Chile', count=1),\n",
       " Row(ORIGIN_COUNTRY_NAME='Martinique', count=1),\n",
       " Row(ORIGIN_COUNTRY_NAME='Cayman Islands', count=1),\n",
       " Row(ORIGIN_COUNTRY_NAME='Croatia', count=1),\n",
       " Row(ORIGIN_COUNTRY_NAME='Nigeria', count=1),\n",
       " Row(ORIGIN_COUNTRY_NAME='Bolivia', count=1),\n",
       " Row(ORIGIN_COUNTRY_NAME='Italy', count=1),\n",
       " Row(ORIGIN_COUNTRY_NAME='Suriname', count=1),\n",
       " Row(ORIGIN_COUNTRY_NAME='Lithuania', count=1),\n",
       " Row(ORIGIN_COUNTRY_NAME='Norway', count=1),\n",
       " Row(ORIGIN_COUNTRY_NAME='Spain', count=1),\n",
       " Row(ORIGIN_COUNTRY_NAME='Cuba', count=1),\n",
       " Row(ORIGIN_COUNTRY_NAME='Guadeloupe', count=1),\n",
       " Row(ORIGIN_COUNTRY_NAME='Denmark', count=1),\n",
       " Row(ORIGIN_COUNTRY_NAME='Barbados', count=1),\n",
       " Row(ORIGIN_COUNTRY_NAME='Ireland', count=1),\n",
       " Row(ORIGIN_COUNTRY_NAME='Thailand', count=1),\n",
       " Row(ORIGIN_COUNTRY_NAME='Morocco', count=1),\n",
       " Row(ORIGIN_COUNTRY_NAME='Cape Verde', count=1),\n",
       " Row(ORIGIN_COUNTRY_NAME='Panama', count=1),\n",
       " Row(ORIGIN_COUNTRY_NAME='Hong Kong', count=1),\n",
       " Row(ORIGIN_COUNTRY_NAME='Venezuela', count=1),\n",
       " Row(ORIGIN_COUNTRY_NAME='Ukraine', count=1),\n",
       " Row(ORIGIN_COUNTRY_NAME='Saint Barthelemy', count=1),\n",
       " Row(ORIGIN_COUNTRY_NAME='Iceland', count=1),\n",
       " Row(ORIGIN_COUNTRY_NAME='Israel', count=1),\n",
       " Row(ORIGIN_COUNTRY_NAME='Saint Kitts and Nevis', count=1),\n",
       " Row(ORIGIN_COUNTRY_NAME='French Polynesia', count=1),\n",
       " Row(ORIGIN_COUNTRY_NAME='South Korea', count=1),\n",
       " Row(ORIGIN_COUNTRY_NAME='Gibraltar', count=1),\n",
       " Row(ORIGIN_COUNTRY_NAME='Cyprus', count=1),\n",
       " Row(ORIGIN_COUNTRY_NAME='Bonaire, Sint Eustatius, and Saba', count=1),\n",
       " Row(ORIGIN_COUNTRY_NAME='Uruguay', count=1),\n",
       " Row(ORIGIN_COUNTRY_NAME='Mexico', count=1),\n",
       " Row(ORIGIN_COUNTRY_NAME='Aruba', count=1),\n",
       " Row(ORIGIN_COUNTRY_NAME='Estonia', count=1),\n",
       " Row(ORIGIN_COUNTRY_NAME='Georgia', count=1),\n",
       " Row(ORIGIN_COUNTRY_NAME='Montenegro', count=1),\n",
       " Row(ORIGIN_COUNTRY_NAME='Indonesia', count=1),\n",
       " Row(ORIGIN_COUNTRY_NAME='The Bahamas', count=1),\n",
       " Row(ORIGIN_COUNTRY_NAME='Guatemala', count=1),\n",
       " Row(ORIGIN_COUNTRY_NAME='Azerbaijan', count=1),\n",
       " Row(ORIGIN_COUNTRY_NAME='Grenada', count=1),\n",
       " Row(ORIGIN_COUNTRY_NAME='Sint Maarten', count=1),\n",
       " Row(ORIGIN_COUNTRY_NAME='Federated States of Micronesia', count=1),\n",
       " Row(ORIGIN_COUNTRY_NAME='Liberia', count=1),\n",
       " Row(ORIGIN_COUNTRY_NAME='Honduras', count=1),\n",
       " Row(ORIGIN_COUNTRY_NAME='Trinidad and Tobago', count=1),\n",
       " Row(ORIGIN_COUNTRY_NAME='Saudi Arabia', count=1),\n",
       " Row(ORIGIN_COUNTRY_NAME='Namibia', count=1),\n",
       " Row(ORIGIN_COUNTRY_NAME='Switzerland', count=1),\n",
       " Row(ORIGIN_COUNTRY_NAME='Ethiopia', count=1),\n",
       " Row(ORIGIN_COUNTRY_NAME='Jamaica', count=1),\n",
       " Row(ORIGIN_COUNTRY_NAME='Latvia', count=1),\n",
       " Row(ORIGIN_COUNTRY_NAME='United Arab Emirates', count=1),\n",
       " Row(ORIGIN_COUNTRY_NAME='Saint Lucia', count=1),\n",
       " Row(ORIGIN_COUNTRY_NAME='Canada', count=1),\n",
       " Row(ORIGIN_COUNTRY_NAME='Samoa', count=1),\n",
       " Row(ORIGIN_COUNTRY_NAME='Czech Republic', count=1),\n",
       " Row(ORIGIN_COUNTRY_NAME='Cook Islands', count=1),\n",
       " Row(ORIGIN_COUNTRY_NAME='Brazil', count=1),\n",
       " Row(ORIGIN_COUNTRY_NAME='Belize', count=1),\n",
       " Row(ORIGIN_COUNTRY_NAME='Antigua and Barbuda', count=1),\n",
       " Row(ORIGIN_COUNTRY_NAME='Dominican Republic', count=1),\n",
       " Row(ORIGIN_COUNTRY_NAME='Japan', count=1),\n",
       " Row(ORIGIN_COUNTRY_NAME='Luxembourg', count=1),\n",
       " Row(ORIGIN_COUNTRY_NAME='New Zealand', count=1),\n",
       " Row(ORIGIN_COUNTRY_NAME='Greenland', count=1),\n",
       " Row(ORIGIN_COUNTRY_NAME='Haiti', count=1),\n",
       " Row(ORIGIN_COUNTRY_NAME='Poland', count=1),\n",
       " Row(ORIGIN_COUNTRY_NAME='Portugal', count=1),\n",
       " Row(ORIGIN_COUNTRY_NAME='Papua New Guinea', count=1),\n",
       " Row(ORIGIN_COUNTRY_NAME='Australia', count=1),\n",
       " Row(ORIGIN_COUNTRY_NAME='Romania', count=1),\n",
       " Row(ORIGIN_COUNTRY_NAME='Bulgaria', count=1),\n",
       " Row(ORIGIN_COUNTRY_NAME='Austria', count=1),\n",
       " Row(ORIGIN_COUNTRY_NAME='Costa Rica', count=1),\n",
       " Row(ORIGIN_COUNTRY_NAME='Egypt', count=1),\n",
       " Row(ORIGIN_COUNTRY_NAME='El Salvador', count=1),\n",
       " Row(ORIGIN_COUNTRY_NAME='South Africa', count=1),\n",
       " Row(ORIGIN_COUNTRY_NAME='Bermuda', count=1),\n",
       " Row(ORIGIN_COUNTRY_NAME='Bahrain', count=1),\n",
       " Row(ORIGIN_COUNTRY_NAME='Colombia', count=1),\n",
       " Row(ORIGIN_COUNTRY_NAME='Hungary', count=1),\n",
       " Row(ORIGIN_COUNTRY_NAME='Pakistan', count=1),\n",
       " Row(ORIGIN_COUNTRY_NAME='United Kingdom', count=1),\n",
       " Row(ORIGIN_COUNTRY_NAME='Vietnam', count=1),\n",
       " Row(ORIGIN_COUNTRY_NAME='Netherlands', count=1)]"
      ]
     },
     "execution_count": 11,
     "metadata": {},
     "output_type": "execute_result"
    }
   ],
   "source": [
    "DF3"
   ]
  },
  {
   "cell_type": "code",
   "execution_count": 9,
   "metadata": {},
   "outputs": [
    {
     "name": "stdout",
     "output_type": "stream",
     "text": [
      "CPU times: user 4.13 ms, sys: 1.41 ms, total: 5.54 ms\n",
      "Wall time: 805 ms\n"
     ]
    }
   ],
   "source": [
    "%%time\n",
    "DF4 = DF1.groupBy(\"count\").count().collect()"
   ]
  },
  {
   "cell_type": "code",
   "execution_count": 17,
   "metadata": {},
   "outputs": [
    {
     "data": {
      "text/plain": [
       "DataFrame[DEST_COUNTRY_NAME: string, ORIGIN_COUNTRY_NAME: string, count: int]"
      ]
     },
     "execution_count": 17,
     "metadata": {},
     "output_type": "execute_result"
    }
   ],
   "source": [
    "# COMMAND ----------\n",
    "\n",
    "DF1.cache()"
   ]
  },
  {
   "cell_type": "code",
   "execution_count": 18,
   "metadata": {},
   "outputs": [
    {
     "name": "stdout",
     "output_type": "stream",
     "text": [
      "CPU times: user 1.44 ms, sys: 233 µs, total: 1.67 ms\n",
      "Wall time: 290 ms\n"
     ]
    },
    {
     "data": {
      "text/plain": [
       "256"
      ]
     },
     "execution_count": 18,
     "metadata": {},
     "output_type": "execute_result"
    }
   ],
   "source": [
    "%%time\n",
    "DF1.count()"
   ]
  },
  {
   "cell_type": "code",
   "execution_count": 19,
   "metadata": {},
   "outputs": [
    {
     "name": "stdout",
     "output_type": "stream",
     "text": [
      "CPU times: user 4.64 ms, sys: 3.58 ms, total: 8.22 ms\n",
      "Wall time: 657 ms\n"
     ]
    }
   ],
   "source": [
    "%%time\n",
    "DF2 = DF1.groupBy(\"DEST_COUNTRY_NAME\").count().collect()"
   ]
  },
  {
   "cell_type": "code",
   "execution_count": 20,
   "metadata": {},
   "outputs": [
    {
     "name": "stdout",
     "output_type": "stream",
     "text": [
      "CPU times: user 7 ms, sys: 0 ns, total: 7 ms\n",
      "Wall time: 512 ms\n"
     ]
    }
   ],
   "source": [
    "%%time\n",
    "DF3 = DF1.groupBy(\"ORIGIN_COUNTRY_NAME\").count().collect()"
   ]
  },
  {
   "cell_type": "code",
   "execution_count": 22,
   "metadata": {},
   "outputs": [],
   "source": [
    "DF4 = DF1.groupBy(\"count\").count().collect()"
   ]
  },
  {
   "cell_type": "code",
   "execution_count": 23,
   "metadata": {},
   "outputs": [
    {
     "data": {
      "text/plain": [
       "[Row(count=31, count=1),\n",
       " Row(count=2025, count=1),\n",
       " Row(count=588, count=1),\n",
       " Row(count=53, count=1),\n",
       " Row(count=853, count=1),\n",
       " Row(count=362, count=1),\n",
       " Row(count=1468, count=1),\n",
       " Row(count=155, count=1),\n",
       " Row(count=108, count=1),\n",
       " Row(count=211, count=1),\n",
       " Row(count=34, count=1),\n",
       " Row(count=193, count=2),\n",
       " Row(count=126, count=2),\n",
       " Row(count=115, count=1),\n",
       " Row(count=772, count=1),\n",
       " Row(count=28, count=2),\n",
       " Row(count=183, count=1),\n",
       " Row(count=1496, count=1),\n",
       " Row(count=300, count=1),\n",
       " Row(count=332, count=1),\n",
       " Row(count=26, count=2),\n",
       " Row(count=27, count=1),\n",
       " Row(count=44, count=3),\n",
       " Row(count=236, count=1),\n",
       " Row(count=329, count=1),\n",
       " Row(count=12, count=5),\n",
       " Row(count=230, count=1),\n",
       " Row(count=225, count=1),\n",
       " Row(count=246, count=1),\n",
       " Row(count=346, count=1),\n",
       " Row(count=111, count=1),\n",
       " Row(count=8399, count=1),\n",
       " Row(count=370002, count=1),\n",
       " Row(count=827, count=1),\n",
       " Row(count=152, count=1),\n",
       " Row(count=185, count=1),\n",
       " Row(count=305, count=1),\n",
       " Row(count=325, count=2),\n",
       " Row(count=955, count=1),\n",
       " Row(count=660, count=1),\n",
       " Row(count=935, count=1),\n",
       " Row(count=259, count=1),\n",
       " Row(count=1, count=25),\n",
       " Row(count=7140, count=1),\n",
       " Row(count=442, count=1),\n",
       " Row(count=13, count=8),\n",
       " Row(count=6, count=1),\n",
       " Row(count=3, count=7),\n",
       " Row(count=867, count=1),\n",
       " Row(count=40, count=3),\n",
       " Row(count=20, count=3),\n",
       " Row(count=1353, count=1),\n",
       " Row(count=139, count=1),\n",
       " Row(count=920, count=1),\n",
       " Row(count=776, count=1),\n",
       " Row(count=235, count=1),\n",
       " Row(count=266, count=1),\n",
       " Row(count=268, count=1),\n",
       " Row(count=5, count=1),\n",
       " Row(count=279, count=1),\n",
       " Row(count=258, count=1),\n",
       " Row(count=19, count=3),\n",
       " Row(count=1420, count=1),\n",
       " Row(count=397, count=1),\n",
       " Row(count=64, count=1),\n",
       " Row(count=117, count=1),\n",
       " Row(count=1048, count=1),\n",
       " Row(count=41, count=2),\n",
       " Row(count=154, count=1),\n",
       " Row(count=15, count=5),\n",
       " Row(count=43, count=3),\n",
       " Row(count=666, count=1),\n",
       " Row(count=179, count=1),\n",
       " Row(count=61, count=1),\n",
       " Row(count=127, count=2),\n",
       " Row(count=318, count=1),\n",
       " Row(count=107, count=1),\n",
       " Row(count=202, count=1),\n",
       " Row(count=619, count=1),\n",
       " Row(count=35, count=1),\n",
       " Row(count=310, count=1),\n",
       " Row(count=290, count=1),\n",
       " Row(count=986, count=1),\n",
       " Row(count=217, count=1),\n",
       " Row(count=4, count=3),\n",
       " Row(count=59, count=3),\n",
       " Row(count=7187, count=1),\n",
       " Row(count=161, count=1),\n",
       " Row(count=39, count=2),\n",
       " Row(count=23, count=1),\n",
       " Row(count=176, count=1),\n",
       " Row(count=130, count=1),\n",
       " Row(count=136, count=1),\n",
       " Row(count=314, count=1),\n",
       " Row(count=465, count=1),\n",
       " Row(count=438, count=1),\n",
       " Row(count=69, count=2),\n",
       " Row(count=129, count=1),\n",
       " Row(count=63, count=2),\n",
       " Row(count=1970, count=1),\n",
       " Row(count=50, count=1),\n",
       " Row(count=952, count=1),\n",
       " Row(count=38, count=1),\n",
       " Row(count=320, count=1),\n",
       " Row(count=181, count=1),\n",
       " Row(count=510, count=1),\n",
       " Row(count=80, count=1),\n",
       " Row(count=25, count=3),\n",
       " Row(count=24, count=1),\n",
       " Row(count=70, count=1),\n",
       " Row(count=62, count=3),\n",
       " Row(count=121, count=1),\n",
       " Row(count=8483, count=1),\n",
       " Row(count=1336, count=1),\n",
       " Row(count=226, count=1),\n",
       " Row(count=21, count=2),\n",
       " Row(count=1548, count=1),\n",
       " Row(count=335, count=1),\n",
       " Row(count=32, count=2),\n",
       " Row(count=90, count=1),\n",
       " Row(count=60, count=1),\n",
       " Row(count=382, count=1),\n",
       " Row(count=608, count=1),\n",
       " Row(count=712, count=1),\n",
       " Row(count=414, count=1),\n",
       " Row(count=141, count=1),\n",
       " Row(count=145, count=1),\n",
       " Row(count=56, count=1),\n",
       " Row(count=109, count=1),\n",
       " Row(count=228, count=1),\n",
       " Row(count=478, count=1),\n",
       " Row(count=188, count=1),\n",
       " Row(count=58, count=1),\n",
       " Row(count=33, count=1),\n",
       " Row(count=508, count=1),\n",
       " Row(count=83, count=2),\n",
       " Row(count=561, count=1),\n",
       " Row(count=14, count=3),\n",
       " Row(count=344, count=1),\n",
       " Row(count=342, count=1),\n",
       " Row(count=123, count=1),\n",
       " Row(count=42, count=2),\n",
       " Row(count=119, count=1),\n",
       " Row(count=466, count=1),\n",
       " Row(count=337, count=1),\n",
       " Row(count=2, count=11),\n",
       " Row(count=201, count=1),\n",
       " Row(count=294, count=1),\n",
       " Row(count=118, count=1),\n",
       " Row(count=30, count=3),\n",
       " Row(count=313, count=1),\n",
       " Row(count=873, count=1),\n",
       " Row(count=174, count=1),\n",
       " Row(count=153, count=1),\n",
       " Row(count=420, count=1),\n",
       " Row(count=18, count=1),\n",
       " Row(count=74, count=1),\n",
       " Row(count=138, count=1),\n",
       " Row(count=180, count=1),\n",
       " Row(count=134, count=4),\n",
       " Row(count=407, count=1),\n",
       " Row(count=36, count=1)]"
      ]
     },
     "execution_count": 23,
     "metadata": {},
     "output_type": "execute_result"
    }
   ],
   "source": [
    "DF4"
   ]
  },
  {
   "cell_type": "code",
   "execution_count": 24,
   "metadata": {},
   "outputs": [
    {
     "data": {
      "text/plain": [
       "True"
      ]
     },
     "execution_count": 24,
     "metadata": {},
     "output_type": "execute_result"
    }
   ],
   "source": [
    "DF1.is_cached"
   ]
  },
  {
   "cell_type": "code",
   "execution_count": 25,
   "metadata": {},
   "outputs": [],
   "source": [
    "DF1.cache?"
   ]
  },
  {
   "cell_type": "code",
   "execution_count": null,
   "metadata": {},
   "outputs": [],
   "source": []
  }
 ],
 "metadata": {
  "kernelspec": {
   "display_name": "Python 3",
   "language": "python",
   "name": "python3"
  },
  "language_info": {
   "codemirror_mode": {
    "name": "ipython",
    "version": 3
   },
   "file_extension": ".py",
   "mimetype": "text/x-python",
   "name": "python",
   "nbconvert_exporter": "python",
   "pygments_lexer": "ipython3",
   "version": "3.7.3"
  }
 },
 "nbformat": 4,
 "nbformat_minor": 2
}
