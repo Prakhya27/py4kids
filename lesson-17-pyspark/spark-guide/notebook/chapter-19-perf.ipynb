{
 "cells": [
  {
   "cell_type": "code",
   "execution_count": null,
   "metadata": {},
   "outputs": [],
   "source": [
    "# Original loading code that does *not* cache DataFrame\n",
    "DF1 = spark.read.format(\"csv\")\\\n",
    "  .option(\"inferSchema\", \"true\")\\\n",
    "  .option(\"header\", \"true\")\\\n",
    "  .load(\"/data/flight-data/csv/2015-summary.csv\")\n",
    "DF2 = DF1.groupBy(\"DEST_COUNTRY_NAME\").count().collect()\n",
    "DF3 = DF1.groupBy(\"ORIGIN_COUNTRY_NAME\").count().collect()\n",
    "DF4 = DF1.groupBy(\"count\").count().collect()\n",
    "\n",
    "\n",
    "# COMMAND ----------\n",
    "\n",
    "DF1.cache()\n",
    "DF1.count()\n",
    "\n",
    "\n",
    "# COMMAND ----------\n",
    "\n",
    "DF2 = DF1.groupBy(\"DEST_COUNTRY_NAME\").count().collect()\n",
    "DF3 = DF1.groupBy(\"ORIGIN_COUNTRY_NAME\").count().collect()\n",
    "DF4 = DF1.groupBy(\"count\").count().collect()\n",
    "\n",
    "\n",
    "# COMMAND ----------\n",
    "\n"
   ]
  }
 ],
 "metadata": {
  "kernelspec": {
   "display_name": "Python 3",
   "language": "python",
   "name": "python3"
  },
  "language_info": {
   "codemirror_mode": {
    "name": "ipython",
    "version": 3
   },
   "file_extension": ".py",
   "mimetype": "text/x-python",
   "name": "python",
   "nbconvert_exporter": "python",
   "pygments_lexer": "ipython3",
   "version": "3.7.3"
  }
 },
 "nbformat": 4,
 "nbformat_minor": 2
}
