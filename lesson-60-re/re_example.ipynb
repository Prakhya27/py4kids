{
 "cells": [
  {
   "cell_type": "code",
   "execution_count": 40,
   "metadata": {},
   "outputs": [
    {
     "name": "stdout",
     "output_type": "stream",
     "text": [
      "international ('intern', 'ional')\n"
     ]
    }
   ],
   "source": [
    "import re\n",
    "\n",
    "pat_str, sample_str = \"-at-\", \"international\"\n",
    "\n",
    "# replace '-' with '(.*)'\n",
    "pat_str = \"\".join([i if len(i) > 0 else \"(.*)\" for i in pat_str.split('-')])\n",
    "\n",
    "# match\n",
    "match_grp = re.match(pat_str, sample_str)\n",
    "\n",
    "if match_grp:\n",
    "    print(match_grp.group(0), match_grp.groups())"
   ]
  },
  {
   "cell_type": "code",
   "execution_count": null,
   "metadata": {},
   "outputs": [],
   "source": []
  }
 ],
 "metadata": {
  "kernelspec": {
   "display_name": "Python 3",
   "language": "python",
   "name": "python3"
  },
  "language_info": {
   "codemirror_mode": {
    "name": "ipython",
    "version": 3
   },
   "file_extension": ".py",
   "mimetype": "text/x-python",
   "name": "python",
   "nbconvert_exporter": "python",
   "pygments_lexer": "ipython3",
   "version": "3.6.5"
  }
 },
 "nbformat": 4,
 "nbformat_minor": 2
}
