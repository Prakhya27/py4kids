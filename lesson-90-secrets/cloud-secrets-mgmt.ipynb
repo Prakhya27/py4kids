{
 "cells": [
  {
   "cell_type": "markdown",
   "metadata": {},
   "source": [
    "## How to Manage Secrets\n",
    "\n",
    "https://blog.cryptomove.com/secrets-management-guide-approaches-open-source-tools-commercial-products-challenges-db560fd0584d"
   ]
  },
  {
   "cell_type": "markdown",
   "metadata": {},
   "source": [
    "### Why\n",
    "\n",
    "__DevOps processes & microservices based architecture__\n",
    "\n",
    "leads to secrets proliferation. Teams undergoing DevOps transformations move fast and manage many different infrastructure environments and services for development, testing, integration, and deployment. Secrets management for DevOps environments is vital as part of the secure software development lifecycle."
   ]
  },
  {
   "cell_type": "markdown",
   "metadata": {},
   "source": [
    "### What\n",
    "\n",
    "__Type of secrets__\n",
    "* AWS access keys\n",
    "* Database credentials (host, port, username, password)\n",
    "* API tokens\n",
    "* Pem, Cert files\n",
    "* Accounts: url, username, password, email, secure Q&A"
   ]
  },
  {
   "cell_type": "markdown",
   "metadata": {},
   "source": [
    "### Who\n",
    "\n",
    "__Top providers__\n",
    "\n",
    "https://stackshare.io/secrets-management\n",
    "\n",
    "* [Vault](https://learn.hashicorp.com/vault/) (Hashicorp)\n",
    "* AWS [Key Management Service (KMS)](https://aws.amazon.com/kms/) \n",
    "* [Knox](https://github.com/pinterest/knox) (Pinterest)\n",
    "* [Confidant](https://github.com/lyft/confidant) (Lyft)\n",
    "* [Docker secrets](https://blog.docker.com/2017/02/docker-secrets-management/)\n",
    "* [Keywhiz](https://square.github.io/keywhiz/) (Square)"
   ]
  },
  {
   "cell_type": "markdown",
   "metadata": {},
   "source": [
    "### How\n",
    "\n",
    "#### Vault by Hashicorp\n",
    "\n",
    "* [Review](https://thenewstack.io/using-vault-to-manage-your-apps-secrets/)\n",
    "* [Blog](https://www.prodops.io/blog/taking-your-hashicorp-vault-to-the-next-level)\n",
    "* [Get started](https://learn.hashicorp.com/vault/)"
   ]
  },
  {
   "cell_type": "markdown",
   "metadata": {},
   "source": [
    "##### Install\n",
    "\n",
    "* download one binary\n",
    "\n",
    "* add to PATH, set 2 env vars\n",
    "\n",
    "```\n",
    "$ export VAULT_ADDR=\"http://127.0.0.1:8200\"\n",
    "$ export VAULT_DEV_ROOT_TOKEN_ID=\"s.4sSqAnf111111xxxxxxxxxx\"\n",
    "\n",
    "```\n",
    "\n",
    "* ready to go\n",
    "\n",
    "```\n",
    "$ vault\n",
    "$ vault server -dev    # start dev server\n",
    "$ vault status\n",
    "```"
   ]
  },
  {
   "cell_type": "markdown",
   "metadata": {},
   "source": [
    "##### Get started - CLI"
   ]
  },
  {
   "cell_type": "markdown",
   "metadata": {},
   "source": [
    "###### write a secret"
   ]
  },
  {
   "cell_type": "markdown",
   "metadata": {},
   "source": [
    "```\n",
    "$ vault kv put secret/hello foo=world\n",
    "$ vault kv put secret/test cloud_provider=aws today=2019-02-09\n",
    "\n",
    "```"
   ]
  },
  {
   "cell_type": "markdown",
   "metadata": {},
   "source": [
    "###### get secret"
   ]
  },
  {
   "cell_type": "markdown",
   "metadata": {},
   "source": [
    "```\n",
    "$ vault kv get secret/hello\n",
    "$ vault kv get -field=today secret/hello\n",
    "$ vault kv get -format=json secret/hello\n",
    "$ vault kv get -format=json secret/hello | jq -r .data.data.today\n",
    "```"
   ]
  },
  {
   "cell_type": "markdown",
   "metadata": {},
   "source": [
    "######  delete "
   ]
  },
  {
   "cell_type": "markdown",
   "metadata": {},
   "source": [
    "```\n",
    "$ vault kv delete secret/test\n",
    "```"
   ]
  },
  {
   "cell_type": "markdown",
   "metadata": {},
   "source": [
    "###### enable another secrets engine besides default secret"
   ]
  },
  {
   "cell_type": "markdown",
   "metadata": {},
   "source": [
    "```\n",
    "$ vault secrets enable kv\n",
    "$ vault write kv/my-secret value=\"s3c(eT\"\n",
    "$ vault write kv/hello target=world\n",
    "$ vault write kv/airplane type=boeing class=787\n",
    "$ vault list kv\n",
    "```"
   ]
  },
  {
   "cell_type": "markdown",
   "metadata": {},
   "source": [
    "##### [Python API](https://github.com/hvac/hvac)\n",
    "\n",
    "```\n",
    "$ pip install hvac\n",
    "```"
   ]
  },
  {
   "cell_type": "code",
   "execution_count": 1,
   "metadata": {},
   "outputs": [],
   "source": [
    "import os, hvac"
   ]
  },
  {
   "cell_type": "code",
   "execution_count": 2,
   "metadata": {},
   "outputs": [],
   "source": [
    "client = hvac.Client(url=os.environ['VAULT_ADDR'], token=os.environ['VAULT_DEV_ROOT_TOKEN_ID'])"
   ]
  },
  {
   "cell_type": "code",
   "execution_count": 3,
   "metadata": {},
   "outputs": [
    {
     "name": "stdout",
     "output_type": "stream",
     "text": [
      "{'request_id': '7ca92b81-7711-01f6-6d62-af123ad92e50', 'lease_id': '', 'renewable': False, 'lease_duration': 2764800, 'data': {'target': 'world'}, 'wrap_info': None, 'warnings': None, 'auth': None}\n"
     ]
    }
   ],
   "source": [
    "print(client.read('kv/hello'))"
   ]
  },
  {
   "cell_type": "code",
   "execution_count": 4,
   "metadata": {},
   "outputs": [],
   "source": [
    "client.write('kv/postgresql_dev', hostname='metadb.cjnq5tu75jam.us-east-1.rds.amazonaws.com', \\\n",
    "             port='5432', user='wgong', pwd='PostGreSQ121', db_name='traffic_db')"
   ]
  },
  {
   "cell_type": "code",
   "execution_count": 5,
   "metadata": {},
   "outputs": [
    {
     "name": "stdout",
     "output_type": "stream",
     "text": [
      "{'request_id': '665174ed-73d9-4ea7-a11e-41510deef9ec', 'lease_id': '', 'renewable': False, 'lease_duration': 2764800, 'data': {'db_name': 'traffic_db', 'hostname': 'metadb.cjnq5tu75jam.us-east-1.rds.amazonaws.com', 'port': '5432', 'pwd': 'PostGreSQ121', 'user': 'wgong'}, 'wrap_info': None, 'warnings': None, 'auth': None}\n"
     ]
    }
   ],
   "source": [
    "db_secrets = client.read('kv/postgresql_dev')\n",
    "print(db_secrets)"
   ]
  },
  {
   "cell_type": "code",
   "execution_count": 6,
   "metadata": {},
   "outputs": [],
   "source": [
    "db_host,db_port,table_name,db_user,db_pwd = \\\n",
    "    db_secrets['data']['hostname'], \\\n",
    "    db_secrets['data']['port'], \\\n",
    "    db_secrets['data']['db_name'], \\\n",
    "    db_secrets['data']['user'], \\\n",
    "    db_secrets['data']['pwd']"
   ]
  },
  {
   "cell_type": "code",
   "execution_count": 7,
   "metadata": {},
   "outputs": [
    {
     "name": "stdout",
     "output_type": "stream",
     "text": [
      "['metadb.cjnq5tu75jam.us-east-1.rds.amazonaws.com', '5432', 'traffic_db', 'wgong', 'PostGreSQ121']\n"
     ]
    }
   ],
   "source": [
    "print([db_host,db_port,table_name,db_user,db_pwd])"
   ]
  },
  {
   "cell_type": "markdown",
   "metadata": {},
   "source": [
    "##### Web UI\n",
    "\n",
    "* http://127.0.0.1:8200/ui"
   ]
  },
  {
   "cell_type": "markdown",
   "metadata": {},
   "source": [
    "<img src=vault.png/>"
   ]
  },
  {
   "cell_type": "code",
   "execution_count": null,
   "metadata": {},
   "outputs": [],
   "source": []
  }
 ],
 "metadata": {
  "kernelspec": {
   "display_name": "Python 3",
   "language": "python",
   "name": "python3"
  },
  "language_info": {
   "codemirror_mode": {
    "name": "ipython",
    "version": 3
   },
   "file_extension": ".py",
   "mimetype": "text/x-python",
   "name": "python",
   "nbconvert_exporter": "python",
   "pygments_lexer": "ipython3",
   "version": "3.6.5"
  }
 },
 "nbformat": 4,
 "nbformat_minor": 2
}
