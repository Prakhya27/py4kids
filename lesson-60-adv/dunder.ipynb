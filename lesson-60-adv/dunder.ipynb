{
 "cells": [
  {
   "cell_type": "markdown",
   "metadata": {},
   "source": [
    "https://medium.com/python-features/naming-conventions-with-underscores-in-python-791251ac7097\n",
    "\n",
    "https://www.geeksforgeeks.org/dunder-magic-methods-python/"
   ]
  },
  {
   "cell_type": "code",
   "execution_count": 2,
   "metadata": {},
   "outputs": [
    {
     "name": "stdout",
     "output_type": "stream",
     "text": [
      "<__main__.String object at 0x7fb16ccd8860>\n"
     ]
    }
   ],
   "source": [
    "# declare our own string class \n",
    "class String: \n",
    "      \n",
    "    # magic method to initiate object \n",
    "    def __init__(self, string): \n",
    "        self.string = string \n",
    "          \n",
    "# Driver Code \n",
    "if __name__ == '__main__': \n",
    "      \n",
    "    # object creation \n",
    "    string1 = String('Hello') \n",
    "  \n",
    "    # print object location \n",
    "    print(string1) "
   ]
  },
  {
   "cell_type": "code",
   "execution_count": 4,
   "metadata": {},
   "outputs": [
    {
     "data": {
      "text/plain": [
       "'Hello'"
      ]
     },
     "execution_count": 4,
     "metadata": {},
     "output_type": "execute_result"
    }
   ],
   "source": [
    "string1.string"
   ]
  },
  {
   "cell_type": "code",
   "execution_count": 5,
   "metadata": {},
   "outputs": [
    {
     "name": "stdout",
     "output_type": "stream",
     "text": [
      "<__main__.String object at 0x7fb16ccd8860>\n"
     ]
    }
   ],
   "source": [
    "print(string1)"
   ]
  },
  {
   "cell_type": "markdown",
   "metadata": {},
   "source": [
    "#### add `__repr__()`"
   ]
  },
  {
   "cell_type": "code",
   "execution_count": 6,
   "metadata": {},
   "outputs": [
    {
     "name": "stdout",
     "output_type": "stream",
     "text": [
      "Object: Hello\n"
     ]
    }
   ],
   "source": [
    "# declare our own string class \n",
    "class String: \n",
    "      \n",
    "    # magic method to initiate object \n",
    "    def __init__(self, string): \n",
    "        self.string = string \n",
    "          \n",
    "    # print our string object \n",
    "    def __repr__(self): \n",
    "        return 'Object: {}'.format(self.string) \n",
    "  \n",
    "# Driver Code \n",
    "if __name__ == '__main__': \n",
    "      \n",
    "    # object creation \n",
    "    string1 = String('Hello') \n",
    "  \n",
    "    # print object location \n",
    "    print(string1) "
   ]
  },
  {
   "cell_type": "markdown",
   "metadata": {},
   "source": [
    "#### method overload  `__add__()`"
   ]
  },
  {
   "cell_type": "code",
   "execution_count": 7,
   "metadata": {},
   "outputs": [
    {
     "name": "stdout",
     "output_type": "stream",
     "text": [
      "Hello Geeks\n"
     ]
    }
   ],
   "source": [
    "# declare our own string class \n",
    "class String: \n",
    "      \n",
    "    # magic method to initiate object \n",
    "    def __init__(self, string): \n",
    "        self.string = string  \n",
    "          \n",
    "    # print our string object \n",
    "    def __repr__(self): \n",
    "        return 'Object: {}'.format(self.string) \n",
    "          \n",
    "    def __add__(self, other): \n",
    "        return self.string + other \n",
    "  \n",
    "# Driver Code \n",
    "if __name__ == '__main__': \n",
    "      \n",
    "    # object creation \n",
    "    string1 = String('Hello') \n",
    "      \n",
    "    # concatenate String object and a string \n",
    "    print(string1 +' Geeks') "
   ]
  },
  {
   "cell_type": "markdown",
   "metadata": {},
   "source": [
    "## [A Guide to Python's Magic Methods](https://rszalski.github.io/magicmethods/)"
   ]
  },
  {
   "cell_type": "markdown",
   "metadata": {},
   "source": [
    "### Construction and Initialization"
   ]
  },
  {
   "cell_type": "code",
   "execution_count": 1,
   "metadata": {},
   "outputs": [],
   "source": [
    "from os.path import join\n",
    "\n",
    "class FileObject:\n",
    "    '''Wrapper for file objects to make sure the file gets closed on deletion.'''\n",
    "\n",
    "    def __init__(self, filepath='~', filename='sample.txt'):\n",
    "        # open a file filename in filepath in read and write mode\n",
    "        self.file = open(join(filepath, filename), 'r+')\n",
    "\n",
    "    def __del__(self):\n",
    "        self.file.close()\n",
    "        del self.file"
   ]
  },
  {
   "cell_type": "code",
   "execution_count": 2,
   "metadata": {},
   "outputs": [
    {
     "name": "stdout",
     "output_type": "stream",
     "text": [
      "dunder.ipynb\t  iterator.ipynb       regex2.ipynb\t       sys-os.ipynb\r\n",
      "functional.ipynb  points.log\t       regex.ipynb\t       thread.ipynb\r\n",
      "generator.ipynb   python-course.eu.py  search-word-in-file.py\r\n"
     ]
    }
   ],
   "source": [
    "!ls"
   ]
  },
  {
   "cell_type": "code",
   "execution_count": 3,
   "metadata": {},
   "outputs": [],
   "source": [
    "fo = FileObject('.', 'points.log')"
   ]
  },
  {
   "cell_type": "code",
   "execution_count": 4,
   "metadata": {},
   "outputs": [
    {
     "data": {
      "text/plain": [
       "<__main__.FileObject at 0x7f3c5434f4e0>"
      ]
     },
     "execution_count": 4,
     "metadata": {},
     "output_type": "execute_result"
    }
   ],
   "source": [
    "fo"
   ]
  },
  {
   "cell_type": "code",
   "execution_count": 6,
   "metadata": {},
   "outputs": [
    {
     "data": {
      "text/plain": [
       "'alan,  1\\nbetsy, 2\\ncarla, 3\\ndan,   4\\ngordon, N/A\\njerry,  5\\ntom,    N/A'"
      ]
     },
     "execution_count": 6,
     "metadata": {},
     "output_type": "execute_result"
    }
   ],
   "source": [
    "fo.file.read()"
   ]
  },
  {
   "cell_type": "code",
   "execution_count": 7,
   "metadata": {},
   "outputs": [],
   "source": [
    "del fo"
   ]
  },
  {
   "cell_type": "markdown",
   "metadata": {},
   "source": [
    "### Comparison magic methods"
   ]
  },
  {
   "cell_type": "code",
   "execution_count": 10,
   "metadata": {},
   "outputs": [],
   "source": [
    "class Word(str):\n",
    "    '''Class for words, defining comparison based on word length.'''\n",
    "\n",
    "    def __new__(cls, word):\n",
    "        # Note that we have to use __new__. This is because str is an immutable\n",
    "        # type, so we have to initialize it early (at creation)\n",
    "        if ' ' in word:\n",
    "            print (\"Value contains spaces. Truncating to first space.\")\n",
    "            word = word[:word.index(' ')] # Word is now all chars before first space\n",
    "        return str.__new__(cls, word)\n",
    "\n",
    "    def __gt__(self, other):\n",
    "        return len(self) > len(other)\n",
    "    def __lt__(self, other):\n",
    "        return len(self) < len(other)\n",
    "    def __ge__(self, other):\n",
    "        return len(self) >= len(other)\n",
    "    def __le__(self, other):\n",
    "        return len(self) <= len(other)"
   ]
  },
  {
   "cell_type": "code",
   "execution_count": 11,
   "metadata": {},
   "outputs": [
    {
     "name": "stdout",
     "output_type": "stream",
     "text": [
      "Value contains spaces. Truncating to first space.\n"
     ]
    }
   ],
   "source": [
    "w1 = Word(\"foo\")\n",
    "w2 = Word(\"bar boo\")"
   ]
  },
  {
   "cell_type": "code",
   "execution_count": 14,
   "metadata": {},
   "outputs": [
    {
     "data": {
      "text/plain": [
       "('foo', 'bar')"
      ]
     },
     "execution_count": 14,
     "metadata": {},
     "output_type": "execute_result"
    }
   ],
   "source": [
    "w1, w2"
   ]
  },
  {
   "cell_type": "code",
   "execution_count": 15,
   "metadata": {},
   "outputs": [
    {
     "data": {
      "text/plain": [
       "(False, True)"
      ]
     },
     "execution_count": 15,
     "metadata": {},
     "output_type": "execute_result"
    }
   ],
   "source": [
    "w1 > w2, w1 >= w2"
   ]
  },
  {
   "cell_type": "code",
   "execution_count": 16,
   "metadata": {},
   "outputs": [
    {
     "data": {
      "text/plain": [
       "False"
      ]
     },
     "execution_count": 16,
     "metadata": {},
     "output_type": "execute_result"
    }
   ],
   "source": [
    "w1 == w2"
   ]
  },
  {
   "cell_type": "code",
   "execution_count": 17,
   "metadata": {},
   "outputs": [],
   "source": [
    "class AccessCounter(object):\n",
    "    '''A class that contains a value and implements an access counter.\n",
    "    The counter increments each time the value is changed.'''\n",
    "\n",
    "    def __init__(self, val):\n",
    "        super(AccessCounter, self).__setattr__('counter', 0)\n",
    "        super(AccessCounter, self).__setattr__('value', val)\n",
    "\n",
    "    def __setattr__(self, name, value):\n",
    "        if name == 'value':\n",
    "            super(AccessCounter, self).__setattr__('counter', self.counter + 1)\n",
    "        # Make this unconditional.\n",
    "        # If you want to prevent other attributes to be set, raise AttributeError(name)\n",
    "        super(AccessCounter, self).__setattr__(name, value)\n",
    "\n",
    "    def __delattr__(self, name):\n",
    "        if name == 'value':\n",
    "            super(AccessCounter, self).__setattr__('counter', self.counter + 1)\n",
    "        super(AccessCounter, self).__delattr__(name)"
   ]
  },
  {
   "cell_type": "code",
   "execution_count": 18,
   "metadata": {},
   "outputs": [],
   "source": [
    "ac = AccessCounter(100)"
   ]
  },
  {
   "cell_type": "code",
   "execution_count": 19,
   "metadata": {},
   "outputs": [
    {
     "data": {
      "text/plain": [
       "<__main__.AccessCounter at 0x7f3c540bd128>"
      ]
     },
     "execution_count": 19,
     "metadata": {},
     "output_type": "execute_result"
    }
   ],
   "source": [
    "ac"
   ]
  },
  {
   "cell_type": "code",
   "execution_count": 29,
   "metadata": {},
   "outputs": [
    {
     "data": {
      "text/plain": [
       "(10000, 2)"
      ]
     },
     "execution_count": 29,
     "metadata": {},
     "output_type": "execute_result"
    }
   ],
   "source": [
    "ac.value, ac.counter"
   ]
  },
  {
   "cell_type": "code",
   "execution_count": 28,
   "metadata": {},
   "outputs": [],
   "source": [
    "ac.value = 10000"
   ]
  },
  {
   "cell_type": "code",
   "execution_count": 25,
   "metadata": {},
   "outputs": [],
   "source": [
    "ac.token = \"abc\""
   ]
  },
  {
   "cell_type": "code",
   "execution_count": 30,
   "metadata": {},
   "outputs": [
    {
     "data": {
      "text/plain": [
       "('abc', 2)"
      ]
     },
     "execution_count": 30,
     "metadata": {},
     "output_type": "execute_result"
    }
   ],
   "source": [
    "ac.token, ac.counter"
   ]
  },
  {
   "cell_type": "markdown",
   "metadata": {},
   "source": [
    "### Callable Objects"
   ]
  },
  {
   "cell_type": "code",
   "execution_count": 31,
   "metadata": {},
   "outputs": [],
   "source": [
    "class Entity:\n",
    "    '''Class to represent an entity. Callable to update the entity's position.'''\n",
    "\n",
    "    def __init__(self, size, x, y):\n",
    "        self.x, self.y = x, y\n",
    "        self.size = size\n",
    "\n",
    "    def __call__(self, x, y):\n",
    "        '''Change the position of the entity.'''\n",
    "        self.x, self.y = x, y"
   ]
  },
  {
   "cell_type": "code",
   "execution_count": 33,
   "metadata": {},
   "outputs": [],
   "source": [
    "e = Entity(10, 3, 4)"
   ]
  },
  {
   "cell_type": "code",
   "execution_count": 34,
   "metadata": {},
   "outputs": [
    {
     "data": {
      "text/plain": [
       "<__main__.Entity at 0x7f3c540b3048>"
      ]
     },
     "execution_count": 34,
     "metadata": {},
     "output_type": "execute_result"
    }
   ],
   "source": [
    "e"
   ]
  },
  {
   "cell_type": "code",
   "execution_count": 35,
   "metadata": {},
   "outputs": [
    {
     "data": {
      "text/plain": [
       "(3, 4, 10)"
      ]
     },
     "execution_count": 35,
     "metadata": {},
     "output_type": "execute_result"
    }
   ],
   "source": [
    "e.x, e.y, e.size"
   ]
  },
  {
   "cell_type": "code",
   "execution_count": 36,
   "metadata": {},
   "outputs": [],
   "source": [
    "e(10,20)"
   ]
  },
  {
   "cell_type": "code",
   "execution_count": 37,
   "metadata": {},
   "outputs": [
    {
     "data": {
      "text/plain": [
       "(10, 20, 10)"
      ]
     },
     "execution_count": 37,
     "metadata": {},
     "output_type": "execute_result"
    }
   ],
   "source": [
    "e.x, e.y, e.size"
   ]
  },
  {
   "cell_type": "markdown",
   "metadata": {},
   "source": [
    "### Making Custom Sequences"
   ]
  },
  {
   "cell_type": "code",
   "execution_count": 46,
   "metadata": {},
   "outputs": [],
   "source": [
    "class FunctionalList:\n",
    "    '''A class wrapping a list with some extra functional magic, like head,\n",
    "    tail, init, last, drop, and take.'''\n",
    "\n",
    "    def __init__(self, values=None):\n",
    "        if values is None:\n",
    "            self.values = []\n",
    "        else:\n",
    "            self.values = values\n",
    "\n",
    "    def __len__(self):\n",
    "        return len(self.values)\n",
    "\n",
    "    def __getitem__(self, key):\n",
    "        # if key is of invalid type or value, the list values will raise the error\n",
    "        return self.values[key]\n",
    "\n",
    "    def __setitem__(self, key, value):\n",
    "        self.values[key] = value\n",
    "\n",
    "    def __delitem__(self, key):\n",
    "        del self.values[key]\n",
    "\n",
    "    def __iter__(self):\n",
    "        return iter(self.values)\n",
    "\n",
    "    def __reversed__(self):\n",
    "        return reversed(self.values)\n",
    "\n",
    "    def append(self, value):\n",
    "        self.values.append(value)\n",
    "    def head(self):\n",
    "        # get the first element\n",
    "        if len(self.values) > 0:\n",
    "            return self.values[0]\n",
    "        else:\n",
    "            return None\n",
    "    def tail(self):\n",
    "        # get all elements after the first\n",
    "        if len(self.values) > 1:\n",
    "            return self.values[1:]\n",
    "        else:\n",
    "            return None\n",
    "    def init(self):\n",
    "        # get elements up to the last\n",
    "        return self.values[:-1]\n",
    "    def last(self):\n",
    "        # get last element\n",
    "        return self.values[-1]\n",
    "    def drop(self, n):\n",
    "        # get all elements except first n\n",
    "        return self.values[n:]\n",
    "    def take(self, n):\n",
    "        # get first n elements\n",
    "        return self.values[:n]"
   ]
  },
  {
   "cell_type": "code",
   "execution_count": 53,
   "metadata": {},
   "outputs": [],
   "source": [
    "l = list(range(1))"
   ]
  },
  {
   "cell_type": "code",
   "execution_count": 54,
   "metadata": {},
   "outputs": [
    {
     "data": {
      "text/plain": [
       "[0]"
      ]
     },
     "execution_count": 54,
     "metadata": {},
     "output_type": "execute_result"
    }
   ],
   "source": [
    "l"
   ]
  },
  {
   "cell_type": "code",
   "execution_count": 55,
   "metadata": {},
   "outputs": [],
   "source": [
    "fl = FunctionalList(l)"
   ]
  },
  {
   "cell_type": "code",
   "execution_count": 56,
   "metadata": {},
   "outputs": [
    {
     "data": {
      "text/plain": [
       "1"
      ]
     },
     "execution_count": 56,
     "metadata": {},
     "output_type": "execute_result"
    }
   ],
   "source": [
    "len(fl)"
   ]
  },
  {
   "cell_type": "code",
   "execution_count": 57,
   "metadata": {},
   "outputs": [
    {
     "ename": "IndexError",
     "evalue": "list index out of range",
     "output_type": "error",
     "traceback": [
      "\u001b[0;31m---------------------------------------------------------------------------\u001b[0m",
      "\u001b[0;31mIndexError\u001b[0m                                Traceback (most recent call last)",
      "\u001b[0;32m<ipython-input-57-116b7d656f33>\u001b[0m in \u001b[0;36m<module>\u001b[0;34m\u001b[0m\n\u001b[0;32m----> 1\u001b[0;31m \u001b[0mfl\u001b[0m\u001b[0;34m[\u001b[0m\u001b[0;36m1\u001b[0m\u001b[0;34m]\u001b[0m\u001b[0;34m\u001b[0m\u001b[0;34m\u001b[0m\u001b[0m\n\u001b[0m",
      "\u001b[0;32m<ipython-input-46-57479e45adfe>\u001b[0m in \u001b[0;36m__getitem__\u001b[0;34m(self, key)\u001b[0m\n\u001b[1;32m     14\u001b[0m     \u001b[0;32mdef\u001b[0m \u001b[0m__getitem__\u001b[0m\u001b[0;34m(\u001b[0m\u001b[0mself\u001b[0m\u001b[0;34m,\u001b[0m \u001b[0mkey\u001b[0m\u001b[0;34m)\u001b[0m\u001b[0;34m:\u001b[0m\u001b[0;34m\u001b[0m\u001b[0;34m\u001b[0m\u001b[0m\n\u001b[1;32m     15\u001b[0m         \u001b[0;31m# if key is of invalid type or value, the list values will raise the error\u001b[0m\u001b[0;34m\u001b[0m\u001b[0;34m\u001b[0m\u001b[0;34m\u001b[0m\u001b[0m\n\u001b[0;32m---> 16\u001b[0;31m         \u001b[0;32mreturn\u001b[0m \u001b[0mself\u001b[0m\u001b[0;34m.\u001b[0m\u001b[0mvalues\u001b[0m\u001b[0;34m[\u001b[0m\u001b[0mkey\u001b[0m\u001b[0;34m]\u001b[0m\u001b[0;34m\u001b[0m\u001b[0;34m\u001b[0m\u001b[0m\n\u001b[0m\u001b[1;32m     17\u001b[0m \u001b[0;34m\u001b[0m\u001b[0m\n\u001b[1;32m     18\u001b[0m     \u001b[0;32mdef\u001b[0m \u001b[0m__setitem__\u001b[0m\u001b[0;34m(\u001b[0m\u001b[0mself\u001b[0m\u001b[0;34m,\u001b[0m \u001b[0mkey\u001b[0m\u001b[0;34m,\u001b[0m \u001b[0mvalue\u001b[0m\u001b[0;34m)\u001b[0m\u001b[0;34m:\u001b[0m\u001b[0;34m\u001b[0m\u001b[0;34m\u001b[0m\u001b[0m\n",
      "\u001b[0;31mIndexError\u001b[0m: list index out of range"
     ]
    }
   ],
   "source": [
    "fl[1]"
   ]
  },
  {
   "cell_type": "code",
   "execution_count": 58,
   "metadata": {},
   "outputs": [
    {
     "data": {
      "text/plain": [
       "(0, None)"
      ]
     },
     "execution_count": 58,
     "metadata": {},
     "output_type": "execute_result"
    }
   ],
   "source": [
    "fl.head(),fl.tail()"
   ]
  },
  {
   "cell_type": "code",
   "execution_count": null,
   "metadata": {},
   "outputs": [],
   "source": []
  },
  {
   "cell_type": "code",
   "execution_count": null,
   "metadata": {},
   "outputs": [],
   "source": []
  }
 ],
 "metadata": {
  "kernelspec": {
   "display_name": "Python 3",
   "language": "python",
   "name": "python3"
  },
  "language_info": {
   "codemirror_mode": {
    "name": "ipython",
    "version": 3
   },
   "file_extension": ".py",
   "mimetype": "text/x-python",
   "name": "python",
   "nbconvert_exporter": "python",
   "pygments_lexer": "ipython3",
   "version": "3.7.3"
  }
 },
 "nbformat": 4,
 "nbformat_minor": 2
}
