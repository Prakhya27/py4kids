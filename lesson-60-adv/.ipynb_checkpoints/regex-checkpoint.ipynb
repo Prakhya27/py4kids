{
 "cells": [
  {
   "cell_type": "markdown",
   "metadata": {},
   "source": [
    "## Regular Expression\n",
    "\n",
    "https://www.tutorialspoint.com/python3/python_reg_expressions.htm\n",
    "\n",
    "\n",
    "Except for the control characters, (+ ? . * ^ $ ( ) [ ] { } | \\), all characters match themselves. You can escape a control character by preceding it with a backslash.\n",
    "```\n",
    ". single char\n",
    "? 0 or 1 occurrance\n",
    "+ 1 or N occurrance\n",
    "* 0 or N occurrance\n",
    "{n,m} n-m occurrances\n",
    "() grouping\n",
    "[] collection\n",
    "```"
   ]
  },
  {
   "cell_type": "code",
   "execution_count": 40,
   "metadata": {},
   "outputs": [],
   "source": [
    "import re"
   ]
  },
  {
   "cell_type": "markdown",
   "metadata": {},
   "source": [
    "### match"
   ]
  },
  {
   "cell_type": "code",
   "execution_count": 26,
   "metadata": {},
   "outputs": [
    {
     "name": "stdout",
     "output_type": "stream",
     "text": [
      "No match was found\n"
     ]
    }
   ],
   "source": [
    "line = \"I think I understand regular expressions\"\n",
    "\n",
    "rexResult = re.match('think', line, re.M|re.I)\n",
    "if rexResult:\n",
    "   print(\"Match Found: \" + rexResult.group())\n",
    "else:\n",
    "   print(\"No match was found\")\n"
   ]
  },
  {
   "cell_type": "code",
   "execution_count": 29,
   "metadata": {},
   "outputs": [
    {
     "name": "stdout",
     "output_type": "stream",
     "text": [
      "('I ', ' I understand regular expressions') 2\n",
      "Match Found: I think I understand regular expressions\n",
      "Match Found: I \n",
      "Match Found:  I understand regular expressions\n"
     ]
    }
   ],
   "source": [
    "rexResult = re.match(r'(.*)think(.*)', line, re.M|re.I)\n",
    "if rexResult:\n",
    "   print(rexResult.groups(), len(rexResult.groups()))\n",
    "   print(\"Match Found: \" + rexResult.group(0))\n",
    "   print(\"Match Found: \" + rexResult.group(1))\n",
    "   print(\"Match Found: \" + rexResult.group(2))\n",
    "else:\n",
    "   print(\"No match was found\")"
   ]
  },
  {
   "cell_type": "markdown",
   "metadata": {},
   "source": [
    "#### greedy match"
   ]
  },
  {
   "cell_type": "code",
   "execution_count": 42,
   "metadata": {},
   "outputs": [],
   "source": [
    "line = \"<python>perl>\""
   ]
  },
  {
   "cell_type": "code",
   "execution_count": 45,
   "metadata": {},
   "outputs": [
    {
     "name": "stdout",
     "output_type": "stream",
     "text": [
      "('python>perl',) 1\n",
      "Match Found: <python>perl>\n",
      "Match Found: python>perl\n"
     ]
    }
   ],
   "source": [
    "rexResult = re.match(r'<(.*)>', line, re.M|re.I)   # greedy\n",
    "\n",
    "if rexResult:\n",
    "   print(rexResult.groups(), len(rexResult.groups()))\n",
    "   print(\"Match Found: \" + rexResult.group(0))\n",
    "   print(\"Match Found: \" + rexResult.group(1))\n",
    "else:\n",
    "   print(\"No match was found\")"
   ]
  },
  {
   "cell_type": "code",
   "execution_count": 46,
   "metadata": {},
   "outputs": [
    {
     "name": "stdout",
     "output_type": "stream",
     "text": [
      "('python',) 1\n",
      "Match Found: <python>\n",
      "Match Found: python\n"
     ]
    }
   ],
   "source": [
    "rexResult = re.match(r'<(.*?)>', line, re.M|re.I)   # non-greedy\n",
    "\n",
    "if rexResult:\n",
    "   print(rexResult.groups(), len(rexResult.groups()))\n",
    "   print(\"Match Found: \" + rexResult.group(0))\n",
    "   print(\"Match Found: \" + rexResult.group(1))\n",
    "else:\n",
    "   print(\"No match was found\")"
   ]
  },
  {
   "cell_type": "markdown",
   "metadata": {},
   "source": [
    "### backreferences"
   ]
  },
  {
   "cell_type": "code",
   "execution_count": 52,
   "metadata": {},
   "outputs": [],
   "source": [
    "line = \"python&pails\" \n",
    "line = \"Python&pails\""
   ]
  },
  {
   "cell_type": "code",
   "execution_count": 53,
   "metadata": {},
   "outputs": [
    {
     "name": "stdout",
     "output_type": "stream",
     "text": [
      "('P',) 1\n",
      "Match Found: Python&pails\n",
      "Match Found: P\n"
     ]
    }
   ],
   "source": [
    "rexResult = re.match(r'([Pp])ython&\\1ails', line, re.M|re.I)\n",
    "\n",
    "if rexResult:\n",
    "   print(rexResult.groups(), len(rexResult.groups()))\n",
    "   print(\"Match Found: \" + rexResult.group(0))\n",
    "   print(\"Match Found: \" + rexResult.group(1))\n",
    "else:\n",
    "   print(\"No match was found\")"
   ]
  },
  {
   "cell_type": "code",
   "execution_count": 60,
   "metadata": {},
   "outputs": [],
   "source": [
    "line = '\"Halo Python\"'"
   ]
  },
  {
   "cell_type": "code",
   "execution_count": 61,
   "metadata": {},
   "outputs": [
    {
     "name": "stdout",
     "output_type": "stream",
     "text": [
      "('\"', 'Halo Python') 2\n",
      "Match Found: \"Halo Python\"\n",
      "Match Found: \"\n",
      "Match Found: Halo Python\n"
     ]
    }
   ],
   "source": [
    "rexResult = re.match(r'([\"])([^\\1]*)\\1', line, re.M|re.I)   # match any quoted string\n",
    "\n",
    "if rexResult:\n",
    "   print(rexResult.groups(), len(rexResult.groups()))\n",
    "   print(\"Match Found: \" + rexResult.group(0))\n",
    "   print(\"Match Found: \" + rexResult.group(1))\n",
    "   print(\"Match Found: \" + rexResult.group(2))\n",
    "else:\n",
    "   print(\"No match was found\")"
   ]
  },
  {
   "cell_type": "markdown",
   "metadata": {},
   "source": [
    "### search"
   ]
  },
  {
   "cell_type": "code",
   "execution_count": 35,
   "metadata": {},
   "outputs": [
    {
     "name": "stdout",
     "output_type": "stream",
     "text": [
      "() 0\n",
      "Search Found: think\n"
     ]
    }
   ],
   "source": [
    "rexResult = re.search('Think', line, re.M|re.I)\n",
    "if rexResult:\n",
    "   print(rexResult.groups(), len(rexResult.groups()))\n",
    "   print(\"Search Found: \"+rexResult.group(0))\n",
    "else:\n",
    "   print(\"Nothing found in search\")"
   ]
  },
  {
   "cell_type": "markdown",
   "metadata": {},
   "source": [
    "### search and replace"
   ]
  },
  {
   "cell_type": "code",
   "execution_count": 38,
   "metadata": {},
   "outputs": [
    {
     "name": "stdout",
     "output_type": "stream",
     "text": [
      "Phone Num :  200-959-4559 \n"
     ]
    }
   ],
   "source": [
    "phone = \"200-959-4559 # This is Phone Number\"\n",
    "\n",
    "# Delete Python-style comments\n",
    "num = re.sub(r'#.*$', \"\", phone)\n",
    "print (\"Phone Num : \", num)"
   ]
  },
  {
   "cell_type": "code",
   "execution_count": 39,
   "metadata": {},
   "outputs": [
    {
     "name": "stdout",
     "output_type": "stream",
     "text": [
      "Phone Num :  2009594559\n"
     ]
    }
   ],
   "source": [
    "# Remove anything other than digits\n",
    "num = re.sub(r'\\D', \"\", phone)    \n",
    "print (\"Phone Num : \", num)"
   ]
  },
  {
   "cell_type": "markdown",
   "metadata": {},
   "source": [
    "### parse weblog\n",
    "\n",
    "https://www.cloudera.com/developers/get-started-with-hadoop-tutorial/exercise-2.html\n",
    "```\n",
    "CREATE EXTERNAL TABLE intermediate_access_logs (\n",
    "    ip STRING,\n",
    "    date STRING,\n",
    "    method STRING,\n",
    "    url STRING,\n",
    "    http_version STRING,\n",
    "    code1 STRING,\n",
    "    code2 STRING,\n",
    "    dash STRING,\n",
    "    user_agent STRING)\n",
    "ROW FORMAT SERDE 'org.apache.hadoop.hive.contrib.serde2.RegexSerDe'\n",
    "WITH SERDEPROPERTIES (\n",
    "    'input.regex' = '([^ ]*) - - \\\\[([^\\\\]]*)\\\\] \"([^\\ ]*) ([^\\ ]*) ([^\\ ]*)\" (\\\\d*) (\\\\d*) \"([^\"]*)\" \"([^\"]*)\"',\n",
    "    'output.format.string' = \"%1$$s %2$$s %3$$s %4$$s %5$$s %6$$s %7$$s %8$$s %9$$s\")\n",
    "LOCATION '/user/hive/warehouse/original_access_logs';\n",
    "```"
   ]
  },
  {
   "cell_type": "code",
   "execution_count": 7,
   "metadata": {},
   "outputs": [],
   "source": [
    "web_log = 'local - - [24/Oct/1994:14:41:24 -0600] \"GET 36.html HTTP/1.0\" 200 822'\n",
    "rex = r'(\\w+) - - \\[([^\\]]*)\\] \"(\\w+) (.*) (.*)\" (\\d+) (\\d+)'"
   ]
  },
  {
   "cell_type": "code",
   "execution_count": 23,
   "metadata": {},
   "outputs": [
    {
     "name": "stdout",
     "output_type": "stream",
     "text": [
      "Match Found: local - - [24/Oct/1994:14:41:24 -0600] \"GET 36.html HTTP/1.0\" 200 822\n",
      "  source: local\n",
      "  datetime: 24/Oct/1994:14:41:24 -0600\n",
      "  req verb: GET\n",
      "  req path: 36.html\n",
      "  req proto: HTTP/1.0\n",
      "  status: 200\n",
      "  bytes: 822\n"
     ]
    }
   ],
   "source": [
    "matchResult = re.match(rex, web_log, re.M|re.I)\n",
    "if matchResult:\n",
    "    print(\"Match Found: \" + matchResult.group(0))\n",
    "    print(\"  source: \" + matchResult.group(1))\n",
    "    print(\"  datetime: \" + matchResult.group(2))\n",
    "    print(\"  req verb: \" + matchResult.group(3))\n",
    "    print(\"  req path: \" + matchResult.group(4))\n",
    "    print(\"  req proto: \" + matchResult.group(5))\n",
    "    print(\"  status: \" + matchResult.group(6))\n",
    "    print(\"  bytes: \" + matchResult.group(7))"
   ]
  },
  {
   "cell_type": "code",
   "execution_count": null,
   "metadata": {},
   "outputs": [],
   "source": []
  }
 ],
 "metadata": {
  "kernelspec": {
   "display_name": "Python 3",
   "language": "python",
   "name": "python3"
  },
  "language_info": {
   "codemirror_mode": {
    "name": "ipython",
    "version": 3
   },
   "file_extension": ".py",
   "mimetype": "text/x-python",
   "name": "python",
   "nbconvert_exporter": "python",
   "pygments_lexer": "ipython3",
   "version": "3.6.5"
  },
  "toc": {
   "base_numbering": 1,
   "nav_menu": {},
   "number_sections": false,
   "sideBar": false,
   "skip_h1_title": false,
   "title_cell": "Table of Contents",
   "title_sidebar": "Contents",
   "toc_cell": false,
   "toc_position": {},
   "toc_section_display": false,
   "toc_window_display": false
  }
 },
 "nbformat": 4,
 "nbformat_minor": 2
}
