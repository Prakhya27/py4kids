{
 "cells": [
  {
   "cell_type": "markdown",
   "metadata": {},
   "source": [
    "https://www.python-course.eu/threads.php"
   ]
  },
  {
   "cell_type": "code",
   "execution_count": 1,
   "metadata": {},
   "outputs": [
    {
     "name": "stdout",
     "output_type": "stream",
     "text": [
      "\n",
      "thread 0 sleeps for 5 seconds\n",
      "\n",
      "thread 1 sleeps for 5 seconds\n",
      "\n",
      "thread 2 sleeps for 5 seconds\n",
      "\n",
      "thread 3 sleeps for 5 seconds\n",
      "\n",
      "thread 4 sleeps for 5 seconds\n",
      "\n",
      "thread 5 sleeps for 5 seconds\n",
      "\n",
      "thread 6 sleeps for 5 seconds\n",
      "\n",
      "thread 7 sleeps for 5 seconds\n",
      "\n",
      "thread 8 sleeps for 5 seconds\n",
      "\n",
      "thread 9 sleeps for 5 seconds\n",
      "\n",
      "thread 0 woke up\n",
      "\n",
      "thread 5 woke up\n",
      "thread 2 woke up\n",
      "\n",
      "\n",
      "thread 7 woke up\n",
      "\n",
      "thread 1 woke up\n",
      "\n",
      "thread 3 woke up\n",
      "thread 4 woke up\n",
      "\n",
      "\n",
      "thread 6 woke up\n",
      "\n",
      "thread 8 woke up\n",
      "thread 9 woke up\n",
      "\n"
     ]
    }
   ],
   "source": [
    "import time\n",
    "from threading import Thread\n",
    "\n",
    "def sleeper(i):\n",
    "    print (\"\\nthread %d sleeps for 5 seconds\" % i)\n",
    "    time.sleep(5)\n",
    "    print (\"\\nthread %d woke up\" % i)\n",
    "\n",
    "for i in range(10):\n",
    "    t = Thread(target=sleeper, args=(i,))\n",
    "    t.start()"
   ]
  },
  {
   "cell_type": "markdown",
   "metadata": {},
   "source": [
    "## prime-factoring"
   ]
  },
  {
   "cell_type": "code",
   "execution_count": 2,
   "metadata": {},
   "outputs": [
    {
     "name": "stdout",
     "output_type": "stream",
     "text": [
      "numbers (space delimited, enter 0 to exit): 3 23 21 121 10000000000000000001\n",
      "\n",
      " 3 [prime]\n",
      "\n",
      " 23 [prime]\n",
      "\n",
      " 21 = 3 * 7 [not prime]\n",
      "\n",
      " 121 = 11 * 11 [not prime]\n",
      "\n",
      " 10000000000000000001 = 11 * 909090909090909056 [not prime]\n",
      "numbers (space delimited, enter 0 to exit): 3 23 21 121 100000000001\n",
      "\n",
      " 3 [prime]\n",
      "\n",
      " 23 [prime]\n",
      "\n",
      " 21 = 3 * 7 [not prime]\n",
      "\n",
      " 121 = 11 * 11 [not prime]\n",
      "\n",
      " 100000000001 = 11 * 9090909091 [not prime]\n",
      "numbers (space delimited, enter 0 to exit): 1000000000011\n",
      "\n",
      " 1000000000011 = 3 * 333333333337 [not prime]\n",
      "numbers (space delimited, enter 0 to exit): 0\n"
     ]
    }
   ],
   "source": [
    "import threading \n",
    " \n",
    "class PrimeNumber(threading.Thread): \n",
    "  def __init__(self, number): \n",
    "    threading.Thread.__init__(self) \n",
    "    self.Number = number\n",
    " \n",
    "  def run(self): \n",
    "    counter = 2 \n",
    "    while counter*counter <= self.Number: \n",
    "      if self.Number % counter == 0: \n",
    "        print (\"\\n %d = %d * %d [not prime]\" % ( self.Number, counter, self.Number / counter) )\n",
    "        return \n",
    "      counter += 1 \n",
    "    print (f\"\\n {self.Number} [prime]\")\n",
    "        \n",
    "threads = [] \n",
    "while True: \n",
    "    numbers = [int(n) for n in input(\"numbers (space delimited, enter 0 to exit): \").split()]\n",
    "    if len(numbers) == 1 and numbers[0] < 2: \n",
    "        break \n",
    " \n",
    "    for n in numbers:\n",
    "        if n < 2: continue\n",
    "        thread = PrimeNumber(n) \n",
    "        threads += [thread] \n",
    "        thread.start() \n",
    "\n",
    "for x in threads: \n",
    "    x.join()"
   ]
  },
  {
   "cell_type": "markdown",
   "metadata": {},
   "source": [
    "## Thread with return value\n",
    "\n",
    "https://stackoverflow.com/questions/6893968/how-to-get-the-return-value-from-a-thread-in-python"
   ]
  },
  {
   "cell_type": "code",
   "execution_count": 26,
   "metadata": {},
   "outputs": [],
   "source": [
    "def prime_factor(n):\n",
    "    if n < 2:\n",
    "        return None\n",
    "    counter = 2 \n",
    "    while counter*counter <= n: \n",
    "      if n % counter == 0: \n",
    "        factor = int(n / counter)\n",
    "        print (\"%d = %d * %d [not prime]\" % ( n, counter, factor) )\n",
    "        return (counter, factor)\n",
    "      counter += 1 \n",
    "    print (f\"{n} [prime]\")\n",
    "    return (n,)"
   ]
  },
  {
   "cell_type": "code",
   "execution_count": 27,
   "metadata": {},
   "outputs": [
    {
     "name": "stdout",
     "output_type": "stream",
     "text": [
      "11 [prime]\n",
      "121 = 11 * 11 [not prime]\n"
     ]
    },
    {
     "data": {
      "text/plain": [
       "((11,), None, (11, 11))"
      ]
     },
     "execution_count": 27,
     "metadata": {},
     "output_type": "execute_result"
    }
   ],
   "source": [
    "prime_factor(11), prime_factor(1), prime_factor(121)"
   ]
  },
  {
   "cell_type": "code",
   "execution_count": 28,
   "metadata": {},
   "outputs": [],
   "source": [
    "from threading import Thread\n",
    "\n",
    "class PrimeNumber(Thread):\n",
    "    def __init__(self, group=None, target=None, name=None, args=(), kwargs=None, *, daemon=None):\n",
    "        Thread.__init__(self, group, target, name, args, kwargs, daemon=daemon)\n",
    "        self._return = None\n",
    "\n",
    "    def run(self):\n",
    "        if self._target is not None:\n",
    "            self._return = self._target(*self._args, **self._kwargs)\n",
    "\n",
    "    def join(self):\n",
    "        Thread.join(self)\n",
    "        return self._return"
   ]
  },
  {
   "cell_type": "code",
   "execution_count": 29,
   "metadata": {},
   "outputs": [
    {
     "name": "stdout",
     "output_type": "stream",
     "text": [
      "numbers (space delimited, enter 0 to exit): 1 2 3 4 5 6 7 8 9 10 11 12 13 14 15 16 17 18 19 \n",
      "2 [prime]\n",
      "3 [prime]\n",
      "4 = 2 * 2 [not prime]\n",
      "5 [prime]6 = 2 * 3 [not prime]\n",
      "\n",
      "7 [prime]\n",
      "8 = 2 * 4 [not prime]\n",
      "9 = 3 * 3 [not prime]\n",
      "10 = 2 * 5 [not prime]\n",
      "11 [prime]\n",
      "12 = 2 * 6 [not prime]\n",
      "13 [prime]\n",
      "14 = 2 * 7 [not prime]\n",
      "15 = 3 * 5 [not prime]\n",
      "16 = 2 * 8 [not prime]\n",
      "17 [prime]\n",
      "18 = 2 * 9 [not prime]\n",
      "19 [prime]\n",
      "numbers (space delimited, enter 0 to exit): 0\n",
      "Primes are ...\n",
      "2\n",
      "3\n",
      "5\n",
      "7\n",
      "11\n",
      "13\n",
      "17\n",
      "19\n"
     ]
    }
   ],
   "source": [
    "_n2t = {}\n",
    "while True: \n",
    "    numbers = [int(n) for n in input(\"numbers (space delimited, enter 0 to exit): \").split()]\n",
    "    if len(numbers) == 1 and numbers[0] < 2: \n",
    "        break \n",
    " \n",
    "    for n in numbers:\n",
    "        if n < 2: \n",
    "            _n2t[n] = None\n",
    "            continue\n",
    "        if n in _n2t:\n",
    "            continue\n",
    "            \n",
    "        thread = PrimeNumber(target=prime_factor, args=(n,))\n",
    "        _n2t[n] = thread\n",
    "        thread.start() \n",
    "\n",
    "_n2p = {}\n",
    "for n,t in _n2t.items():\n",
    "    if t:\n",
    "        _n2p[n] = t.join()\n",
    "        \n",
    "print(\"Primes are ...\")\n",
    "for n, factors in _n2p.items():\n",
    "    if len(factors) < 2:\n",
    "        print(n)"
   ]
  },
  {
   "cell_type": "code",
   "execution_count": 21,
   "metadata": {},
   "outputs": [
    {
     "name": "stdout",
     "output_type": "stream",
     "text": [
      "1 2 3 4 5 6 7 8 9 10 11 12 13 14 15 16 17 18 19 "
     ]
    }
   ],
   "source": [
    "for i in range(1, 20): \n",
    "    print(i, end =\" \") "
   ]
  },
  {
   "cell_type": "markdown",
   "metadata": {},
   "source": [
    "### scan network\n",
    "\n",
    "#### ping host"
   ]
  },
  {
   "cell_type": "code",
   "execution_count": 32,
   "metadata": {},
   "outputs": [
    {
     "name": "stdout",
     "output_type": "stream",
     "text": [
      "Status from  192.168.1.1  is alive\n",
      "Status from  192.168.1.2  is alive\n",
      "Status from  192.168.1.3  is alive\n",
      "Status from  192.168.1.4  is no response\n",
      "Status from  192.168.1.5  is no response\n",
      "Status from  192.168.1.6  is no response\n",
      "Status from  192.168.1.7  is no response\n",
      "Status from  192.168.1.8  is no response\n",
      "Status from  192.168.1.9  is no response\n"
     ]
    }
   ],
   "source": [
    "import os, re, threading\n",
    "\n",
    "RECEIVED_PACKAGES = re.compile(r\"(\\d) received\")\n",
    "\n",
    "class ip_check(threading.Thread):\n",
    "   def __init__ (self,ip):\n",
    "      threading.Thread.__init__(self)\n",
    "      self.ip = ip\n",
    "      self.__successful_pings = -1\n",
    "   def run(self):\n",
    "      ping_out = os.popen(\"ping -q -c2 \"+self.ip,\"r\")\n",
    "      while True:\n",
    "        line = ping_out.readline()\n",
    "        if not line: break\n",
    "        n_received = re.findall(RECEIVED_PACKAGES,line)\n",
    "        if n_received:\n",
    "           self.__successful_pings = int(n_received[0])\n",
    "   def status(self):\n",
    "      if self.__successful_pings == 0:\n",
    "         return \"no response\"\n",
    "      elif self.__successful_pings == 1:\n",
    "         return \"alive, but 50 % package loss\"\n",
    "      elif self.__successful_pings == 2:\n",
    "         return \"alive\"\n",
    "      else:\n",
    "         return \"shouldn't occur\"\n",
    "\n",
    "# use $ ifconfig to get ip addr range of local network\n",
    "check_results = []\n",
    "for suffix in range(1,10):\n",
    "   ip_ = \"192.168.1.\" + str(suffix)\n",
    "   current = ip_check(ip_)\n",
    "   check_results.append(current)\n",
    "   current.start()\n",
    "\n",
    "for el in check_results:\n",
    "   el.join()\n",
    "   print (\"Status from \", el.ip, \" is\",el.status())"
   ]
  },
  {
   "cell_type": "markdown",
   "metadata": {},
   "source": [
    "#### scan port"
   ]
  },
  {
   "cell_type": "code",
   "execution_count": 38,
   "metadata": {},
   "outputs": [],
   "source": [
    "def scan_port(addr):\n",
    "    import platform\n",
    "    import socket\n",
    "    os_type = platform.system() #  \"Windows\"\n",
    "\n",
    "    _dict_ports = {\n",
    "        \"Windows\" : [135, 137, 138, 139, 445], \n",
    "        \"Linux\" : [20, 21, 22, 23, 25, 80, 111, 443, 445, 631, 993, 995], \n",
    "        \"Mac\" : [22, 445, 548, 631]\n",
    "    }\n",
    "    \n",
    "    open_ports = []\n",
    "    \n",
    "    try:\n",
    "        ports = _dict_ports[os_type]\n",
    "    except:\n",
    "        return open_ports\n",
    "    \n",
    "    for port in ports:\n",
    "        socket_obj = socket.socket(socket.AF_INET,socket.SOCK_STREAM)\n",
    "        socket.setdefaulttimeout(1)\n",
    "        result = socket_obj.connect_ex((addr,port))\n",
    "        socket_obj.close()\n",
    "        if result == 0:\n",
    "            print(f\"{addr}:{port} - open\")\n",
    "            open_ports.append(port)\n",
    "            \n",
    "    return open_ports"
   ]
  },
  {
   "cell_type": "code",
   "execution_count": 39,
   "metadata": {},
   "outputs": [
    {
     "name": "stdout",
     "output_type": "stream",
     "text": [
      "192.168.1.3:22 - open\n",
      "192.168.1.3:111 - open\n",
      "192.168.1.3:445 - open\n"
     ]
    },
    {
     "data": {
      "text/plain": [
       "[22, 111, 445]"
      ]
     },
     "execution_count": 39,
     "metadata": {},
     "output_type": "execute_result"
    }
   ],
   "source": [
    "scan_port(\"192.168.1.3\")"
   ]
  },
  {
   "cell_type": "code",
   "execution_count": null,
   "metadata": {},
   "outputs": [],
   "source": []
  }
 ],
 "metadata": {
  "kernelspec": {
   "display_name": "Python 3",
   "language": "python",
   "name": "python3"
  },
  "language_info": {
   "codemirror_mode": {
    "name": "ipython",
    "version": 3
   },
   "file_extension": ".py",
   "mimetype": "text/x-python",
   "name": "python",
   "nbconvert_exporter": "python",
   "pygments_lexer": "ipython3",
   "version": "3.7.3"
  }
 },
 "nbformat": 4,
 "nbformat_minor": 2
}
