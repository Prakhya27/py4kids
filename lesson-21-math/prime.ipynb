{
 "cells": [
  {
   "cell_type": "markdown",
   "metadata": {},
   "source": [
    "## prime factoring"
   ]
  },
  {
   "cell_type": "markdown",
   "metadata": {},
   "source": [
    "[arbitrary integer number in python](https://rosettacode.org/wiki/Arbitrary-precision_integers_(included)#Python)"
   ]
  },
  {
   "cell_type": "code",
   "execution_count": 7,
   "metadata": {},
   "outputs": [
    {
     "name": "stdout",
     "output_type": "stream",
     "text": [
      "Wall time: 432 ms\n",
      "5**4**3**2 = 62060698786608744707...92256259918212890625 and has 183231 digits\n"
     ]
    }
   ],
   "source": [
    "%time y = str( 5**(4**(3**2)))\n",
    "# y = str( 5**4**3**2 )\n",
    "print (\"5**4**3**2 = %s...%s and has %i digits\" % (y[:20], y[-20:], len(y)))\n",
    "#5**4**3**2 = 62060698786608744707...92256259918212890625 and has 183231 digits"
   ]
  },
  {
   "cell_type": "code",
   "execution_count": 8,
   "metadata": {},
   "outputs": [],
   "source": [
    "# worker function\n",
    "def prime_factor(n, debug=False):\n",
    "    \"\"\"\n",
    "    Args:\n",
    "        n - int >= 2\n",
    "        \n",
    "    Return:\n",
    "        tuple of factors. prime if its length = 1\n",
    "    \"\"\"\n",
    "    if n < 2:\n",
    "        return ()\n",
    "    factor1 = 2 \n",
    "    while factor1*factor1 <= n:\n",
    "        if n % factor1 == 0: \n",
    "            factor2 = int(n / factor1)\n",
    "            if debug:\n",
    "                print (\"%d = %d * %d [Non-prime]\\n\" % ( n, factor1, factor2) )\n",
    "            return (factor1, factor2)\n",
    "        factor1 += 1 \n",
    "    if debug:\n",
    "        print (f\"{n} [Prime]\\n\")\n",
    "    return (n,)\n",
    "\n",
    "import re\n",
    "from threading import Thread\n",
    "\n",
    "# Thread class\n",
    "class PrimeNumber(Thread):\n",
    "    def __init__(self, group=None, target=None, name=None, args=(), kwargs=None, *, daemon=None):\n",
    "        Thread.__init__(self, group, target, name, args, kwargs, daemon=daemon)\n",
    "        self._return = None\n",
    "\n",
    "    def run(self):\n",
    "        if self._target is not None:\n",
    "            self._return = self._target(*self._args, **self._kwargs)\n",
    "\n",
    "    def join(self):\n",
    "        Thread.join(self)\n",
    "        return self._return"
   ]
  },
  {
   "cell_type": "code",
   "execution_count": 9,
   "metadata": {},
   "outputs": [
    {
     "name": "stdout",
     "output_type": "stream",
     "text": [
      "numbers (space delimited, enter char to exit): 11111111111111111111111111111111111111111111111111111111111111\n",
      "Non-primes are:\n",
      "{11111111111111111111111111111111111111111111111111111111111111: (11, 1010101010101010107552568692234761726560690695952742957973504)}\n",
      "numbers (space delimited, enter char to exit): 11111111111111111111111111111111111110001111111111111111111111111\n",
      "Non-primes are:\n",
      "{11111111111111111111111111111111111110001111111111111111111111111: (19, 584795321637426871921434335031984756578318887015698611598000128)}\n",
      "numbers (space delimited, enter char to exit): 111111111111111111111111111111111111100013207111111111111111111111111\n",
      "Non-primes are:\n",
      "{111111111111111111111111111111111111100013207111111111111111111111111: (7, 15873015873015872409280766843535485656443690884721585048734377443328)}\n",
      "numbers (space delimited, enter char to exit): e\n",
      "EXIT\n"
     ]
    }
   ],
   "source": [
    "# runner\n",
    "threads = [] \n",
    "while True: \n",
    "    # handle input\n",
    "    tmp = [n.strip() for n in input(\"numbers (space delimited, enter char to exit): \").split()]\n",
    "    numbers = []\n",
    "    for n in tmp:\n",
    "        if re.match(r\"^\\d+$\", n):\n",
    "            numbers.append(int(n))\n",
    "    \n",
    "    if len(numbers) < 1: \n",
    "        print(\"EXIT\")\n",
    "        break \n",
    " \n",
    "    # find primes\n",
    "    number2thread = {}\n",
    "    for n in numbers:\n",
    "        if n < 2: \n",
    "            number2thread[n] = None\n",
    "            continue\n",
    "        thread = PrimeNumber(target=prime_factor, args=(n,))\n",
    "        number2thread[n] = thread\n",
    "        thread.start() \n",
    "\n",
    "    # print output\n",
    "    non_primes = {}\n",
    "    primes = []\n",
    "    for n,t in number2thread.items():\n",
    "        if t:\n",
    "            p = t.join()\n",
    "            if len(p) == 1:\n",
    "                primes.append(p[0])\n",
    "            else:\n",
    "                non_primes[n] = p\n",
    "    if primes:\n",
    "        print(f\"Primes are:\\n{sorted(primes)}\")\n",
    "    if non_primes:\n",
    "        print(f\"Non-primes are:\\n{non_primes}\")"
   ]
  },
  {
   "cell_type": "code",
   "execution_count": null,
   "metadata": {},
   "outputs": [],
   "source": []
  }
 ],
 "metadata": {
  "kernelspec": {
   "display_name": "Python 3",
   "language": "python",
   "name": "python3"
  },
  "language_info": {
   "codemirror_mode": {
    "name": "ipython",
    "version": 3
   },
   "file_extension": ".py",
   "mimetype": "text/x-python",
   "name": "python",
   "nbconvert_exporter": "python",
   "pygments_lexer": "ipython3",
   "version": "3.7.4"
  },
  "latex_envs": {
   "LaTeX_envs_menu_present": true,
   "autoclose": false,
   "autocomplete": true,
   "bibliofile": "biblio.bib",
   "cite_by": "apalike",
   "current_citInitial": 1,
   "eqLabelWithNumbers": true,
   "eqNumInitial": 1,
   "hotkeys": {
    "equation": "Ctrl-E",
    "itemize": "Ctrl-I"
   },
   "labels_anchors": false,
   "latex_user_defs": false,
   "report_style_numbering": false,
   "user_envs_cfg": false
  },
  "toc": {
   "base_numbering": 1,
   "nav_menu": {},
   "number_sections": true,
   "sideBar": true,
   "skip_h1_title": false,
   "title_cell": "Table of Contents",
   "title_sidebar": "Contents",
   "toc_cell": false,
   "toc_position": {},
   "toc_section_display": true,
   "toc_window_display": false
  }
 },
 "nbformat": 4,
 "nbformat_minor": 2
}
