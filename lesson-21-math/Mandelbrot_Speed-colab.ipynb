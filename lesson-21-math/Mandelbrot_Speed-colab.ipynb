{
  "nbformat": 4,
  "nbformat_minor": 0,
  "metadata": {
    "kernelspec": {
      "name": "python3",
      "display_name": "Python 3"
    },
    "language_info": {
      "codemirror_mode": {
        "name": "ipython",
        "version": 3
      },
      "file_extension": ".py",
      "mimetype": "text/x-python",
      "name": "python",
      "nbconvert_exporter": "python",
      "pygments_lexer": "ipython3",
      "version": "3.7.4"
    },
    "latex_envs": {
      "LaTeX_envs_menu_present": true,
      "autoclose": false,
      "autocomplete": true,
      "bibliofile": "biblio.bib",
      "cite_by": "apalike",
      "current_citInitial": 1,
      "eqLabelWithNumbers": true,
      "eqNumInitial": 1,
      "hotkeys": {
        "equation": "Ctrl-E",
        "itemize": "Ctrl-I"
      },
      "labels_anchors": false,
      "latex_user_defs": false,
      "report_style_numbering": false,
      "user_envs_cfg": false
    },
    "toc": {
      "base_numbering": 1,
      "nav_menu": {},
      "number_sections": true,
      "sideBar": true,
      "skip_h1_title": false,
      "title_cell": "Table of Contents",
      "title_sidebar": "Contents",
      "toc_cell": false,
      "toc_position": {},
      "toc_section_display": true,
      "toc_window_display": true
    },
    "colab": {
      "name": "Mandelbrot-Speed.ipynb",
      "provenance": []
    },
    "accelerator": "GPU"
  },
  "cells": [
    {
      "cell_type": "markdown",
      "metadata": {
        "id": "Clod0AzdyVmz",
        "colab_type": "text"
      },
      "source": [
        "[Source](https://gist.github.com/jfpuget/60e07a82dece69b011bb)  https://gist.github.com/jfpuget/60e07a82dece69b011bb"
      ]
    },
    {
      "cell_type": "markdown",
      "metadata": {
        "collapsed": true,
        "id": "CHQkHIKuyVm3",
        "colab_type": "text"
      },
      "source": [
        "# How To Quickly Compute The Mandelbrot Set In Python\n",
        "\n",
        "## An experiment with parallelism and gpu computing using Numpy, Numexpr, Numba, Cython, PyOpenGL, and PyCUDA.\n",
        "\n",
        "## Author: [Jean-François Puget](https://www.ibm.com/developerworks/community/blogs/jfp?lang=en)\n",
        "\n",
        "Motivation and explanation for the code is available at [How To Quickly Compute The Mandelbrot Set In Python](https://www.ibm.com/developerworks/community/blogs/jfp/entry/How_To_Compute_Mandelbrodt_Set_Quickly?lang=en)\n",
        "\n",
        "Timings depend heavily on the machine and Python version used.  The timings below are for a Windows laptop (Lenovo Thinkpad W520) with Anaconda 64 bits and Python 3.5.  A more recent machine could be way faster for gpu computing for instance."
      ]
    },
    {
      "cell_type": "code",
      "metadata": {
        "id": "KMHo5gKoyeCe",
        "colab_type": "code",
        "colab": {
          "base_uri": "https://localhost:8080/",
          "height": 507
        },
        "outputId": "3af413e0-49e3-452b-827a-b0b26e115b86"
      },
      "source": [
        "!pip install pycuda"
      ],
      "execution_count": 1,
      "outputs": [
        {
          "output_type": "stream",
          "text": [
            "Collecting pycuda\n",
            "\u001b[?25l  Downloading https://files.pythonhosted.org/packages/5e/3f/5658c38579b41866ba21ee1b5020b8225cec86fe717e4b1c5c972de0a33c/pycuda-2019.1.2.tar.gz (1.6MB)\n",
            "\u001b[K     |████████████████████████████████| 1.6MB 9.6MB/s \n",
            "\u001b[?25hCollecting pytools>=2011.2\n",
            "\u001b[?25l  Downloading https://files.pythonhosted.org/packages/66/c7/88a4f8b6f0f78d0115ec3320861a0cc1f6daa3b67e97c3c2842c33f9c089/pytools-2020.1.tar.gz (60kB)\n",
            "\u001b[K     |████████████████████████████████| 61kB 8.8MB/s \n",
            "\u001b[?25hRequirement already satisfied: decorator>=3.2.0 in /usr/local/lib/python3.6/dist-packages (from pycuda) (4.4.1)\n",
            "Collecting appdirs>=1.4.0\n",
            "  Downloading https://files.pythonhosted.org/packages/56/eb/810e700ed1349edde4cbdc1b2a21e28cdf115f9faf263f6bbf8447c1abf3/appdirs-1.4.3-py2.py3-none-any.whl\n",
            "Collecting mako\n",
            "\u001b[?25l  Downloading https://files.pythonhosted.org/packages/28/03/329b21f00243fc2d3815399413845dbbfb0745cff38a29d3597e97f8be58/Mako-1.1.1.tar.gz (468kB)\n",
            "\u001b[K     |████████████████████████████████| 471kB 61.0MB/s \n",
            "\u001b[?25hRequirement already satisfied: six>=1.8.0 in /usr/local/lib/python3.6/dist-packages (from pytools>=2011.2->pycuda) (1.12.0)\n",
            "Requirement already satisfied: numpy>=1.6.0 in /usr/local/lib/python3.6/dist-packages (from pytools>=2011.2->pycuda) (1.17.5)\n",
            "Requirement already satisfied: MarkupSafe>=0.9.2 in /usr/local/lib/python3.6/dist-packages (from mako->pycuda) (1.1.1)\n",
            "Building wheels for collected packages: pycuda, pytools, mako\n",
            "  Building wheel for pycuda (setup.py) ... \u001b[?25l\u001b[?25hdone\n",
            "  Created wheel for pycuda: filename=pycuda-2019.1.2-cp36-cp36m-linux_x86_64.whl size=4535691 sha256=ab44443c65e6424d4e386aacb40d8647e79e328159f68a122017b6572e05256e\n",
            "  Stored in directory: /root/.cache/pip/wheels/a6/60/f0/b1c430c73d281ac3e46070480db50f7907364eb6f6d3188396\n",
            "  Building wheel for pytools (setup.py) ... \u001b[?25l\u001b[?25hdone\n",
            "  Created wheel for pytools: filename=pytools-2020.1-py2.py3-none-any.whl size=59604 sha256=b567db0ffb2bc1e7c28e2f36942e19309fb25b83640087841dd454af4c3b9644\n",
            "  Stored in directory: /root/.cache/pip/wheels/6f/da/1b/946775a88291378182ed92c9800d6d0ebc2a554cb89829cc24\n",
            "  Building wheel for mako (setup.py) ... \u001b[?25l\u001b[?25hdone\n",
            "  Created wheel for mako: filename=Mako-1.1.1-cp36-none-any.whl size=75410 sha256=346fc8d0de80d438d4ccf6ffc3384b27d2844342b6bfbfe3ac6ce813100a61dc\n",
            "  Stored in directory: /root/.cache/pip/wheels/ff/50/a9/0ddeed8679a1fb65bf4677cb9c92701828b2c1821e22ef72fd\n",
            "Successfully built pycuda pytools mako\n",
            "Installing collected packages: appdirs, pytools, mako, pycuda\n",
            "Successfully installed appdirs-1.4.3 mako-1.1.1 pycuda-2019.1.2 pytools-2020.1\n"
          ],
          "name": "stdout"
        }
      ]
    },
    {
      "cell_type": "code",
      "metadata": {
        "id": "DJ2N3Wu21g22",
        "colab_type": "code",
        "colab": {
          "base_uri": "https://localhost:8080/",
          "height": 205
        },
        "outputId": "05d81521-42de-48fc-c5f5-beb315258017"
      },
      "source": [
        "!pip install pyopencl"
      ],
      "execution_count": 18,
      "outputs": [
        {
          "output_type": "stream",
          "text": [
            "Collecting pyopencl\n",
            "\u001b[?25l  Downloading https://files.pythonhosted.org/packages/11/5e/877a5f129473160217a15e8aa9dbd3195f36fd10ef06e6f5ee3631ed454e/pyopencl-2019.1.2-cp36-cp36m-manylinux1_x86_64.whl (725kB)\n",
            "\r\u001b[K     |▌                               | 10kB 25.3MB/s eta 0:00:01\r\u001b[K     |█                               | 20kB 5.8MB/s eta 0:00:01\r\u001b[K     |█▍                              | 30kB 8.3MB/s eta 0:00:01\r\u001b[K     |█▉                              | 40kB 5.5MB/s eta 0:00:01\r\u001b[K     |██▎                             | 51kB 6.7MB/s eta 0:00:01\r\u001b[K     |██▊                             | 61kB 7.9MB/s eta 0:00:01\r\u001b[K     |███▏                            | 71kB 9.0MB/s eta 0:00:01\r\u001b[K     |███▋                            | 81kB 10.0MB/s eta 0:00:01\r\u001b[K     |████                            | 92kB 11.1MB/s eta 0:00:01\r\u001b[K     |████▌                           | 102kB 8.9MB/s eta 0:00:01\r\u001b[K     |█████                           | 112kB 8.9MB/s eta 0:00:01\r\u001b[K     |█████▍                          | 122kB 8.9MB/s eta 0:00:01\r\u001b[K     |█████▉                          | 133kB 8.9MB/s eta 0:00:01\r\u001b[K     |██████▎                         | 143kB 8.9MB/s eta 0:00:01\r\u001b[K     |██████▊                         | 153kB 8.9MB/s eta 0:00:01\r\u001b[K     |███████▎                        | 163kB 8.9MB/s eta 0:00:01\r\u001b[K     |███████▊                        | 174kB 8.9MB/s eta 0:00:01\r\u001b[K     |████████▏                       | 184kB 8.9MB/s eta 0:00:01\r\u001b[K     |████████▋                       | 194kB 8.9MB/s eta 0:00:01\r\u001b[K     |█████████                       | 204kB 8.9MB/s eta 0:00:01\r\u001b[K     |█████████▌                      | 215kB 8.9MB/s eta 0:00:01\r\u001b[K     |██████████                      | 225kB 8.9MB/s eta 0:00:01\r\u001b[K     |██████████▍                     | 235kB 8.9MB/s eta 0:00:01\r\u001b[K     |██████████▉                     | 245kB 8.9MB/s eta 0:00:01\r\u001b[K     |███████████▎                    | 256kB 8.9MB/s eta 0:00:01\r\u001b[K     |███████████▊                    | 266kB 8.9MB/s eta 0:00:01\r\u001b[K     |████████████▏                   | 276kB 8.9MB/s eta 0:00:01\r\u001b[K     |████████████▋                   | 286kB 8.9MB/s eta 0:00:01\r\u001b[K     |█████████████                   | 296kB 8.9MB/s eta 0:00:01\r\u001b[K     |█████████████▌                  | 307kB 8.9MB/s eta 0:00:01\r\u001b[K     |██████████████                  | 317kB 8.9MB/s eta 0:00:01\r\u001b[K     |██████████████▌                 | 327kB 8.9MB/s eta 0:00:01\r\u001b[K     |███████████████                 | 337kB 8.9MB/s eta 0:00:01\r\u001b[K     |███████████████▍                | 348kB 8.9MB/s eta 0:00:01\r\u001b[K     |███████████████▉                | 358kB 8.9MB/s eta 0:00:01\r\u001b[K     |████████████████▎               | 368kB 8.9MB/s eta 0:00:01\r\u001b[K     |████████████████▊               | 378kB 8.9MB/s eta 0:00:01\r\u001b[K     |█████████████████▏              | 389kB 8.9MB/s eta 0:00:01\r\u001b[K     |█████████████████▋              | 399kB 8.9MB/s eta 0:00:01\r\u001b[K     |██████████████████              | 409kB 8.9MB/s eta 0:00:01\r\u001b[K     |██████████████████▌             | 419kB 8.9MB/s eta 0:00:01\r\u001b[K     |███████████████████             | 430kB 8.9MB/s eta 0:00:01\r\u001b[K     |███████████████████▍            | 440kB 8.9MB/s eta 0:00:01\r\u001b[K     |███████████████████▉            | 450kB 8.9MB/s eta 0:00:01\r\u001b[K     |████████████████████▎           | 460kB 8.9MB/s eta 0:00:01\r\u001b[K     |████████████████████▊           | 471kB 8.9MB/s eta 0:00:01\r\u001b[K     |█████████████████████▏          | 481kB 8.9MB/s eta 0:00:01\r\u001b[K     |█████████████████████▊          | 491kB 8.9MB/s eta 0:00:01\r\u001b[K     |██████████████████████▏         | 501kB 8.9MB/s eta 0:00:01\r\u001b[K     |██████████████████████▋         | 512kB 8.9MB/s eta 0:00:01\r\u001b[K     |███████████████████████         | 522kB 8.9MB/s eta 0:00:01\r\u001b[K     |███████████████████████▌        | 532kB 8.9MB/s eta 0:00:01\r\u001b[K     |████████████████████████        | 542kB 8.9MB/s eta 0:00:01\r\u001b[K     |████████████████████████▍       | 552kB 8.9MB/s eta 0:00:01\r\u001b[K     |████████████████████████▉       | 563kB 8.9MB/s eta 0:00:01\r\u001b[K     |█████████████████████████▎      | 573kB 8.9MB/s eta 0:00:01\r\u001b[K     |█████████████████████████▊      | 583kB 8.9MB/s eta 0:00:01\r\u001b[K     |██████████████████████████▏     | 593kB 8.9MB/s eta 0:00:01\r\u001b[K     |██████████████████████████▋     | 604kB 8.9MB/s eta 0:00:01\r\u001b[K     |███████████████████████████     | 614kB 8.9MB/s eta 0:00:01\r\u001b[K     |███████████████████████████▌    | 624kB 8.9MB/s eta 0:00:01\r\u001b[K     |████████████████████████████    | 634kB 8.9MB/s eta 0:00:01\r\u001b[K     |████████████████████████████▌   | 645kB 8.9MB/s eta 0:00:01\r\u001b[K     |█████████████████████████████   | 655kB 8.9MB/s eta 0:00:01\r\u001b[K     |█████████████████████████████▍  | 665kB 8.9MB/s eta 0:00:01\r\u001b[K     |█████████████████████████████▉  | 675kB 8.9MB/s eta 0:00:01\r\u001b[K     |██████████████████████████████▎ | 686kB 8.9MB/s eta 0:00:01\r\u001b[K     |██████████████████████████████▊ | 696kB 8.9MB/s eta 0:00:01\r\u001b[K     |███████████████████████████████▏| 706kB 8.9MB/s eta 0:00:01\r\u001b[K     |███████████████████████████████▋| 716kB 8.9MB/s eta 0:00:01\r\u001b[K     |████████████████████████████████| 727kB 8.9MB/s \n",
            "\u001b[?25hRequirement already satisfied: numpy in /usr/local/lib/python3.6/dist-packages (from pyopencl) (1.17.5)\n",
            "Requirement already satisfied: appdirs>=1.4.0 in /usr/local/lib/python3.6/dist-packages (from pyopencl) (1.4.3)\n",
            "Requirement already satisfied: decorator>=3.2.0 in /usr/local/lib/python3.6/dist-packages (from pyopencl) (4.4.1)\n",
            "Requirement already satisfied: pytools>=2017.6 in /usr/local/lib/python3.6/dist-packages (from pyopencl) (2020.1)\n",
            "Requirement already satisfied: six>=1.9.0 in /usr/local/lib/python3.6/dist-packages (from pyopencl) (1.12.0)\n",
            "Installing collected packages: pyopencl\n",
            "Successfully installed pyopencl-2019.1.2\n"
          ],
          "name": "stdout"
        }
      ]
    },
    {
      "cell_type": "markdown",
      "metadata": {
        "id": "uLrJEmqOyVm4",
        "colab_type": "text"
      },
      "source": [
        "Let's import some useful packages first."
      ]
    },
    {
      "cell_type": "code",
      "metadata": {
        "id": "SqnA-KrfyVm6",
        "colab_type": "code",
        "colab": {}
      },
      "source": [
        "import numpy as np\n",
        "from matplotlib import pyplot as plt\n",
        "from matplotlib import colors\n",
        "%matplotlib inline"
      ],
      "execution_count": 0,
      "outputs": []
    },
    {
      "cell_type": "markdown",
      "metadata": {
        "id": "zWzdmEQMyVm8",
        "colab_type": "text"
      },
      "source": [
        "# Display\n",
        "\n",
        "In order to check code correctness we will display the images.  \n",
        "\n",
        "The display code is taken from [How To Make Python Run As Fast As Julia.](https://www.ibm.com/developerworks/community/blogs/jfp/entry/Python_Meets_Julia_Micro_Performance?lang=en)\n",
        "\n",
        "We use small image sizes to enable quick check on all code, including the slowest ones.\n",
        "\n",
        "Square view is used (size):\n",
        "* width=height=length\n",
        "* origin at left lower corner: xmin=x0, xmax = x0 + size, ymin=y0, ymax = y0 + size "
      ]
    },
    {
      "cell_type": "code",
      "metadata": {
        "id": "g0U7oMmXyVm9",
        "colab_type": "code",
        "colab": {}
      },
      "source": [
        "def mandelbrot_image(xmin,xmax,ymin,ymax,width=3,height=3,maxiter=80,cmap='hot'):\n",
        "    \"\"\"\n",
        "    Args:\n",
        "        xmin,xmax,ymin,ymax: bounding box coordinates\n",
        "        width/height: image dimensions in inch\n",
        "        maxiter: max of iterations\n",
        "    \"\"\"\n",
        "    dpi = 72  # image resolution - dots per inch\n",
        "    img_width = dpi * width\n",
        "    img_height = dpi * height\n",
        "    x,y,z = mandelbrot_set(xmin,xmax,ymin,ymax,img_width,img_height,maxiter)\n",
        "    \n",
        "    fig, ax = plt.subplots(figsize=(width, height),dpi=dpi)\n",
        "    ticks = np.arange(0,img_width,3*dpi)\n",
        "    x_ticks = xmin + (xmax-xmin)*ticks/img_width\n",
        "    plt.xticks(ticks, x_ticks)\n",
        "    y_ticks = ymin + (ymax-ymin)*ticks/img_width\n",
        "    plt.yticks(ticks, y_ticks)\n",
        "    \n",
        "    norm = colors.PowerNorm(0.3)\n",
        "    ax.imshow(z.T,cmap=cmap,origin='lower',norm=norm) "
      ],
      "execution_count": 0,
      "outputs": []
    },
    {
      "cell_type": "markdown",
      "metadata": {
        "id": "d8tba623yVnB",
        "colab_type": "text"
      },
      "source": [
        "## Baseline\n",
        "\n",
        "Let's set a base line, using code from [Julia GitHhub](https://github.com/JuliaLang/julia/blob/master/test/perf/micro/perf.py)"
      ]
    },
    {
      "cell_type": "code",
      "metadata": {
        "id": "50mxCQIWyVnC",
        "colab_type": "code",
        "colab": {}
      },
      "source": [
        "def mandelbrot(c,maxiter):\n",
        "    z = c\n",
        "    for n in range(maxiter):\n",
        "        if (z.real * z.real + z.imag * z.imag) > 4:\n",
        "            return n\n",
        "        z = z*z + c\n",
        "    return 0\n",
        "\n",
        "def mandelbrot_set(xmin,xmax,ymin,ymax,width,height,maxiter):\n",
        "    r1 = np.linspace(xmin, xmax, width)\n",
        "    r2 = np.linspace(ymin, ymax, height)\n",
        "    n3 = np.empty((width,height))\n",
        "    for i in range(width):\n",
        "        for j in range(height):\n",
        "            n3[i,j] = mandelbrot(r1[i] + 1j*r2[j],maxiter)\n",
        "    return (r1,r2,n3)"
      ],
      "execution_count": 0,
      "outputs": []
    },
    {
      "cell_type": "markdown",
      "metadata": {
        "id": "AX9IbaMTyVnD",
        "colab_type": "text"
      },
      "source": [
        "We use two images for the benchmark"
      ]
    },
    {
      "cell_type": "markdown",
      "metadata": {
        "id": "PG-WF5ezyVnE",
        "colab_type": "text"
      },
      "source": [
        "%time mandelbrot_set(-2.0,0.5,-1.25,1.25,1000,1000,80)"
      ]
    },
    {
      "cell_type": "markdown",
      "metadata": {
        "id": "1RMeuc5nyVnF",
        "colab_type": "raw"
      },
      "source": [
        "%time mandelbrot_set(-0.74877,-0.74872,0.06505,0.06510,1000,1000,2048)"
      ]
    },
    {
      "cell_type": "code",
      "metadata": {
        "id": "P8KdFRXEyVnG",
        "colab_type": "code",
        "colab": {
          "base_uri": "https://localhost:8080/",
          "height": 245
        },
        "outputId": "00a91389-afb5-4414-a54f-0e63a2f189af"
      },
      "source": [
        "%time mandelbrot_image(-2.0,0.5,-1.25,1.25, maxiter=80,cmap='gnuplot2')"
      ],
      "execution_count": 6,
      "outputs": [
        {
          "output_type": "stream",
          "text": [
            "CPU times: user 1.45 s, sys: 3.04 ms, total: 1.45 s\n",
            "Wall time: 1.47 s\n"
          ],
          "name": "stdout"
        },
        {
          "output_type": "display_data",
          "data": {
            "image/png": "[encoded data removed]",
            "text/plain": [
              "<Figure size 216x216 with 1 Axes>"
            ]
          },
          "metadata": {
            "tags": []
          }
        }
      ]
    },
    {
      "cell_type": "markdown",
      "metadata": {
        "id": "7jYrUKG9yVnH",
        "colab_type": "text"
      },
      "source": [
        "# Numpy\n",
        "\n",
        "Let's replace lists with Numpy arrays."
      ]
    },
    {
      "cell_type": "code",
      "metadata": {
        "id": "UijpGIOQyVnI",
        "colab_type": "code",
        "colab": {}
      },
      "source": [
        "def mandelbrot(c,maxiter):\n",
        "    z = c\n",
        "    for n in range(maxiter):\n",
        "        if abs(z) > 2:\n",
        "            return n\n",
        "        z = z*z + c\n",
        "    return 0\n",
        "\n",
        "def mandelbrot_set(xmin,xmax,ymin,ymax,width,height,maxiter):\n",
        "    r1 = np.linspace(xmin, xmax, width)\n",
        "    r2 = np.linspace(ymin, ymax, height)\n",
        "    n3 = np.empty((width,height))\n",
        "    for i in range(width):\n",
        "        for j in range(height):\n",
        "            n3[i,j] = mandelbrot(r1[i] + 1j*r2[j],maxiter)\n",
        "    return (r1,r2,n3)"
      ],
      "execution_count": 0,
      "outputs": []
    },
    {
      "cell_type": "markdown",
      "metadata": {
        "id": "Cd_YaeGKyVnJ",
        "colab_type": "text"
      },
      "source": [
        "%time mandelbrot_set(-2.0,0.5,-1.25,1.25,1000,1000,10)"
      ]
    },
    {
      "cell_type": "markdown",
      "metadata": {
        "id": "H3swMbaFyVnL",
        "colab_type": "raw"
      },
      "source": [
        "%time mandelbrot_set(-0.74877,-0.74872,0.06505,0.06510,1000,1000,2048)"
      ]
    },
    {
      "cell_type": "markdown",
      "metadata": {
        "id": "zTBGT3xIyVnL",
        "colab_type": "text"
      },
      "source": [
        "Let's check these images are correct.  We check with a small size image given the code is really slow."
      ]
    },
    {
      "cell_type": "code",
      "metadata": {
        "id": "zQ5KQw-HyVnM",
        "colab_type": "code",
        "colab": {
          "base_uri": "https://localhost:8080/",
          "height": 245
        },
        "outputId": "f2b48034-8418-46db-a992-73e38bfe3e60"
      },
      "source": [
        "%time mandelbrot_image(-2.0,0.5,-1.25,1.25,maxiter=80,cmap='gnuplot2')"
      ],
      "execution_count": 30,
      "outputs": [
        {
          "output_type": "stream",
          "text": [
            "CPU times: user 694 ms, sys: 0 ns, total: 694 ms\n",
            "Wall time: 700 ms\n"
          ],
          "name": "stdout"
        },
        {
          "output_type": "display_data",
          "data": {
            "image/png": "[encoded data removed]",
            "text/plain": [
              "<Figure size 216x216 with 1 Axes>"
            ]
          },
          "metadata": {
            "tags": []
          }
        }
      ]
    },
    {
      "cell_type": "code",
      "metadata": {
        "id": "nkf9no7tyVnN",
        "colab_type": "code",
        "colab": {
          "base_uri": "https://localhost:8080/",
          "height": 245
        },
        "outputId": "fc0489ce-154f-4a8a-f4f0-fc6665bd1bdb"
      },
      "source": [
        "%time mandelbrot_image(-0.74877,-0.74872,0.06505,0.06510,maxiter=2048,cmap='gnuplot2')"
      ],
      "execution_count": 31,
      "outputs": [
        {
          "output_type": "stream",
          "text": [
            "CPU times: user 13.7 s, sys: 2.52 ms, total: 13.7 s\n",
            "Wall time: 13.7 s\n"
          ],
          "name": "stdout"
        },
        {
          "output_type": "display_data",
          "data": {
            "image/png": "[encoded data removed]",
            "text/plain": [
              "<Figure size 216x216 with 1 Axes>"
            ]
          },
          "metadata": {
            "tags": []
          }
        }
      ]
    },
    {
      "cell_type": "markdown",
      "metadata": {
        "id": "5ukg3dIIyVnO",
        "colab_type": "text"
      },
      "source": [
        "## Numba\n",
        "\n",
        "Compiling code with Numba is easy, we simply need to annotate the functions with `@jit`."
      ]
    },
    {
      "cell_type": "code",
      "metadata": {
        "id": "jgCfTdtfyVnP",
        "colab_type": "code",
        "colab": {}
      },
      "source": [
        "from numba import jit\n",
        "\n",
        "@jit\n",
        "def mandelbrot(c,maxiter):\n",
        "    z = c\n",
        "    for n in range(maxiter):\n",
        "        if abs(z) > 2:\n",
        "            return n\n",
        "        z = z*z + c\n",
        "    return 0\n",
        "\n",
        "@jit\n",
        "def mandelbrot_set(xmin,xmax,ymin,ymax,width,height,maxiter):\n",
        "    r1 = np.linspace(xmin, xmax, width)\n",
        "    r2 = np.linspace(ymin, ymax, height)\n",
        "    n3 = np.empty((width,height))\n",
        "    for i in range(width):\n",
        "        for j in range(height):\n",
        "            n3[i,j] = mandelbrot(r1[i] + 1j*r2[j],maxiter)\n",
        "    return (r1,r2,n3)"
      ],
      "execution_count": 0,
      "outputs": []
    },
    {
      "cell_type": "markdown",
      "metadata": {
        "id": "Nk5K5GPXyVnR",
        "colab_type": "text"
      },
      "source": [
        "Timing it shows it is pretty fast"
      ]
    },
    {
      "cell_type": "markdown",
      "metadata": {
        "id": "KDVlvb07yVnR",
        "colab_type": "text"
      },
      "source": [
        "%time mandelbrot_set(-2.0,0.5,-1.25,1.25,1000,1000,80)"
      ]
    },
    {
      "cell_type": "markdown",
      "metadata": {
        "id": "ApXurxvdyVnU",
        "colab_type": "raw"
      },
      "source": [
        "%time mandelbrot_set(-0.74877,-0.74872,0.06505,0.06510,1000,1000,2048)"
      ]
    },
    {
      "cell_type": "markdown",
      "metadata": {
        "id": "BHn9m5KZyVnU",
        "colab_type": "text"
      },
      "source": [
        "Checking if it is correct"
      ]
    },
    {
      "cell_type": "code",
      "metadata": {
        "id": "vrhTjT5VyVnU",
        "colab_type": "code",
        "colab": {
          "base_uri": "https://localhost:8080/",
          "height": 245
        },
        "outputId": "e0e9fde0-ff98-405d-830d-1cb49d09f406"
      },
      "source": [
        "%time mandelbrot_image(-2.0,0.5,-1.25,1.25,cmap='gnuplot2')"
      ],
      "execution_count": 10,
      "outputs": [
        {
          "output_type": "stream",
          "text": [
            "CPU times: user 409 ms, sys: 15 ms, total: 424 ms\n",
            "Wall time: 473 ms\n"
          ],
          "name": "stdout"
        },
        {
          "output_type": "display_data",
          "data": {
            "image/png": "[encoded data removed]",
            "text/plain": [
              "<Figure size 216x216 with 1 Axes>"
            ]
          },
          "metadata": {
            "tags": []
          }
        }
      ]
    },
    {
      "cell_type": "markdown",
      "metadata": {
        "id": "gs8ln2DGyVnW",
        "colab_type": "text"
      },
      "source": [
        "Removing square root computation within abs"
      ]
    },
    {
      "cell_type": "code",
      "metadata": {
        "id": "MaPM6ctbyVnW",
        "colab_type": "code",
        "colab": {}
      },
      "source": [
        "@jit\n",
        "def mandelbrot(c,maxiter):\n",
        "    z = c\n",
        "    for n in range(maxiter):\n",
        "        if z.real * z.real + z.imag * z.imag > 4.0:\n",
        "            return n\n",
        "        z = z*z + c\n",
        "    return 0\n",
        "\n",
        "@jit\n",
        "def mandelbrot_set(xmin,xmax,ymin,ymax,width,height,maxiter):\n",
        "    r1 = np.linspace(xmin, xmax, width)\n",
        "    r2 = np.linspace(ymin, ymax, height)\n",
        "    n3 = np.empty((width,height))\n",
        "    for i in range(width):\n",
        "        for j in range(height):\n",
        "            n3[i,j] = mandelbrot(r1[i] + 1j*r2[j],maxiter)\n",
        "    return (r1,r2,n3)"
      ],
      "execution_count": 0,
      "outputs": []
    },
    {
      "cell_type": "markdown",
      "metadata": {
        "id": "kj2FWdN4yVnY",
        "colab_type": "text"
      },
      "source": [
        "It is faster."
      ]
    },
    {
      "cell_type": "markdown",
      "metadata": {
        "id": "uYVaxLPAyVnY",
        "colab_type": "text"
      },
      "source": [
        "%time mandelbrot_set(-2.0,0.5,-1.25,1.25,1000,1000,80)"
      ]
    },
    {
      "cell_type": "markdown",
      "metadata": {
        "id": "VEQxji5WyVnZ",
        "colab_type": "raw"
      },
      "source": [
        "%time mandelbrot_set(-0.74877,-0.74872,0.06505,0.06510,1000,1000,2048)"
      ]
    },
    {
      "cell_type": "markdown",
      "metadata": {
        "id": "OsoFiMEpyVna",
        "colab_type": "text"
      },
      "source": [
        "Checking if it is correct"
      ]
    },
    {
      "cell_type": "code",
      "metadata": {
        "id": "eaxo-l75yVna",
        "colab_type": "code",
        "colab": {
          "base_uri": "https://localhost:8080/",
          "height": 245
        },
        "outputId": "572179cc-fcc0-4d84-e3cd-135adb6dd8f9"
      },
      "source": [
        "%time mandelbrot_image(-2.0,0.5,-1.25,1.25,cmap='gnuplot2')"
      ],
      "execution_count": 33,
      "outputs": [
        {
          "output_type": "stream",
          "text": [
            "CPU times: user 239 ms, sys: 24 µs, total: 239 ms\n",
            "Wall time: 242 ms\n"
          ],
          "name": "stdout"
        },
        {
          "output_type": "display_data",
          "data": {
            "image/png": "[encoded data removed]",
            "text/plain": [
              "<Figure size 216x216 with 1 Axes>"
            ]
          },
          "metadata": {
            "tags": []
          }
        }
      ]
    },
    {
      "cell_type": "markdown",
      "metadata": {
        "id": "8Yx7UZEJyVnd",
        "colab_type": "text"
      },
      "source": [
        "Decomposing complex into two floats."
      ]
    },
    {
      "cell_type": "code",
      "metadata": {
        "id": "wnZK9aLayVne",
        "colab_type": "code",
        "colab": {}
      },
      "source": [
        "@jit\n",
        "def mandelbrot(creal,cimag,maxiter):\n",
        "    real = creal\n",
        "    imag = cimag\n",
        "    for n in range(maxiter):\n",
        "        real2 = real*real\n",
        "        imag2 = imag*imag\n",
        "        if real2 + imag2 > 4.0:\n",
        "            return n\n",
        "        imag = 2* real*imag + cimag\n",
        "        real = real2 - imag2 + creal       \n",
        "    return 0\n",
        "\n",
        "\n",
        "@jit\n",
        "def mandelbrot_set(xmin,xmax,ymin,ymax,width,height,maxiter):\n",
        "    r1 = np.linspace(xmin, xmax, width)\n",
        "    r2 = np.linspace(ymin, ymax, height)\n",
        "    n3 = np.empty((width,height))\n",
        "    for i in range(width):\n",
        "        for j in range(height):\n",
        "            n3[i,j] = mandelbrot(r1[i],r2[j],maxiter)\n",
        "    return (r1,r2,n3)"
      ],
      "execution_count": 0,
      "outputs": []
    },
    {
      "cell_type": "markdown",
      "metadata": {
        "id": "lZ9-eahNyVnf",
        "colab_type": "text"
      },
      "source": [
        "Slightly faster."
      ]
    },
    {
      "cell_type": "markdown",
      "metadata": {
        "id": "Qdlvv0j7yVnf",
        "colab_type": "text"
      },
      "source": [
        "%time mandelbrot_set(-2.0,0.5,-1.25,1.25,1000,1000,80)"
      ]
    },
    {
      "cell_type": "markdown",
      "metadata": {
        "id": "G22H2ofDyVnh",
        "colab_type": "raw"
      },
      "source": [
        "%time mandelbrot_set(-0.74877,-0.74872,0.06505,0.06510,1000,1000,2048)"
      ]
    },
    {
      "cell_type": "code",
      "metadata": {
        "id": "IA7TNewEyVnh",
        "colab_type": "code",
        "colab": {
          "base_uri": "https://localhost:8080/",
          "height": 245
        },
        "outputId": "f57ae32a-e597-40db-c629-1451b199ee79"
      },
      "source": [
        "%time mandelbrot_image(-2.0,0.5,-1.25,1.25,cmap='gnuplot2')"
      ],
      "execution_count": 35,
      "outputs": [
        {
          "output_type": "stream",
          "text": [
            "CPU times: user 231 ms, sys: 993 µs, total: 232 ms\n",
            "Wall time: 233 ms\n"
          ],
          "name": "stdout"
        },
        {
          "output_type": "display_data",
          "data": {
            "image/png": "[encoded data removed]",
            "text/plain": [
              "<Figure size 216x216 with 1 Axes>"
            ]
          },
          "metadata": {
            "tags": []
          }
        }
      ]
    },
    {
      "cell_type": "markdown",
      "metadata": {
        "id": "8Mp3llSwyVnj",
        "colab_type": "text"
      },
      "source": [
        "Code from http://numba.pydata.org/numba-doc/0.21.0/user/examples.html"
      ]
    },
    {
      "cell_type": "code",
      "metadata": {
        "id": "acmSXynbyVnj",
        "colab_type": "code",
        "colab": {}
      },
      "source": [
        "@jit\n",
        "def mandel(x, y, max_iters):\n",
        "    \"\"\"\n",
        "    Given the real and imaginary parts of a complex number,\n",
        "    determine if it is a candidate for membership in the Mandelbrot\n",
        "    set given a fixed number of iterations.\n",
        "    \"\"\"\n",
        "    c = complex(x,y)\n",
        "    z = 0j\n",
        "    for i in range(max_iters):\n",
        "        z = z*z + c\n",
        "        if z.real * z.real + z.imag * z.imag > 4:\n",
        "            return i\n",
        "\n",
        "    return 0\n",
        "\n",
        "@jit(nopython=True)\n",
        "def create_fractal(min_x, max_x, min_y, max_y, width, height, iters):\n",
        "    image = np.empty((width,height))\n",
        "    pixel_size_x = (max_x - min_x) / width\n",
        "    pixel_size_y = (max_y - min_y) / height\n",
        "    for x in range(width):\n",
        "        real = min_x + x * pixel_size_x\n",
        "        for y in range(height):\n",
        "            imag = min_y + y * pixel_size_y\n",
        "            color = mandel(real, imag, iters)\n",
        "            image[y, x] = color\n",
        "\n",
        "    return image\n"
      ],
      "execution_count": 0,
      "outputs": []
    },
    {
      "cell_type": "markdown",
      "metadata": {
        "id": "59f_pJdbyVnk",
        "colab_type": "text"
      },
      "source": [
        "A tad slower than mine."
      ]
    },
    {
      "cell_type": "code",
      "metadata": {
        "id": "fXaGrfXpyVnl",
        "colab_type": "code",
        "colab": {
          "base_uri": "https://localhost:8080/",
          "height": 50
        },
        "outputId": "55b55417-0225-4597-b5b8-3ff68aac3073"
      },
      "source": [
        "%time img=create_fractal(-2.0,0.5,-1.25,1.25,1000,1000,80)"
      ],
      "execution_count": 37,
      "outputs": [
        {
          "output_type": "stream",
          "text": [
            "CPU times: user 272 ms, sys: 1.98 ms, total: 274 ms\n",
            "Wall time: 278 ms\n"
          ],
          "name": "stdout"
        }
      ]
    },
    {
      "cell_type": "markdown",
      "metadata": {
        "id": "fpRMbxOPyVnm",
        "colab_type": "raw"
      },
      "source": [
        "%time create_fractal(-0.74877,-0.74872,0.06505,0.06510,1000,1000,2048)"
      ]
    },
    {
      "cell_type": "code",
      "metadata": {
        "id": "BJPTf4jzyVnn",
        "colab_type": "code",
        "colab": {
          "base_uri": "https://localhost:8080/",
          "height": 286
        },
        "outputId": "f193ef7e-735d-4a9e-e87b-0b5492e1c335"
      },
      "source": [
        "plt.imshow(img)"
      ],
      "execution_count": 38,
      "outputs": [
        {
          "output_type": "execute_result",
          "data": {
            "text/plain": [
              "<matplotlib.image.AxesImage at 0x7fe43cc30f98>"
            ]
          },
          "metadata": {
            "tags": []
          },
          "execution_count": 38
        },
        {
          "output_type": "display_data",
          "data": {
            "image/png": "[encoded data removed]",
            "text/plain": [
              "<Figure size 432x288 with 1 Axes>"
            ]
          },
          "metadata": {
            "tags": []
          }
        }
      ]
    },
    {
      "cell_type": "markdown",
      "metadata": {
        "id": "oF2nfX0jyVno",
        "colab_type": "text"
      },
      "source": [
        "## Cython"
      ]
    },
    {
      "cell_type": "code",
      "metadata": {
        "id": "CrRcf_f3yVno",
        "colab_type": "code",
        "colab": {}
      },
      "source": [
        "%load_ext cython"
      ],
      "execution_count": 0,
      "outputs": []
    },
    {
      "cell_type": "code",
      "metadata": {
        "id": "njyE_aKzyVnq",
        "colab_type": "code",
        "colab": {}
      },
      "source": [
        "%%cython\n",
        "import cython\n",
        "import numpy as np\n",
        "\n",
        "cdef int mandelbrot(double creal, double cimag, int maxiter):\n",
        "    cdef:\n",
        "        double real2, imag2\n",
        "        double real = creal, imag = cimag\n",
        "        int n\n",
        "\n",
        "    for n in range(maxiter):\n",
        "        real2 = real*real\n",
        "        imag2 = imag*imag\n",
        "        if real2 + imag2 > 4.0:\n",
        "            return n\n",
        "        imag = 2* real*imag + cimag\n",
        "        real = real2 - imag2 + creal;\n",
        "    return 0\n",
        "\n",
        "@cython.boundscheck(False) \n",
        "@cython.wraparound(False)\n",
        "cpdef mandelbrot_set(double xmin, double xmax, double ymin, double ymax, int width, int height, int maxiter):\n",
        "    cdef:\n",
        "        double[:] r1 = np.linspace(xmin, xmax, width)\n",
        "        double[:] r2 = np.linspace(ymin, ymax, height)\n",
        "        long[:,:] n3 = np.empty((width,height), np.int64)\n",
        "        int i,j\n",
        "    \n",
        "    for i in range(width):\n",
        "        for j in range(height):\n",
        "            n3[i,j] = mandelbrot(r1[i], r2[j], maxiter)\n",
        "     \n",
        "    return (r1,r2,n3)"
      ],
      "execution_count": 0,
      "outputs": []
    },
    {
      "cell_type": "markdown",
      "metadata": {
        "id": "WZ4WBauGyVns",
        "colab_type": "text"
      },
      "source": [
        "Almost as fast as Numba"
      ]
    },
    {
      "cell_type": "markdown",
      "metadata": {
        "id": "aiWQ3PMzyVns",
        "colab_type": "text"
      },
      "source": [
        "%time mandelbrot_set(-2.0,0.5,-1.25,1.25,1000,1000,80)"
      ]
    },
    {
      "cell_type": "markdown",
      "metadata": {
        "id": "-L9YKG19yVnu",
        "colab_type": "text"
      },
      "source": [
        "%time mandelbrot_set(-0.74877,-0.74872,0.06505,0.06510,1000,1000,2048)"
      ]
    },
    {
      "cell_type": "markdown",
      "metadata": {
        "id": "00J_HpO1yVnv",
        "colab_type": "text"
      },
      "source": [
        "Let's check it"
      ]
    },
    {
      "cell_type": "code",
      "metadata": {
        "id": "n7oxxDCRyVnv",
        "colab_type": "code",
        "colab": {
          "base_uri": "https://localhost:8080/",
          "height": 245
        },
        "outputId": "e2399ef7-cf33-4e12-95c3-24cf0e22eea0"
      },
      "source": [
        "%time mandelbrot_image(-2.0,0.5,-1.25,1.25,cmap='gnuplot2')"
      ],
      "execution_count": 17,
      "outputs": [
        {
          "output_type": "stream",
          "text": [
            "CPU times: user 18.3 ms, sys: 4.97 ms, total: 23.3 ms\n",
            "Wall time: 28.8 ms\n"
          ],
          "name": "stdout"
        },
        {
          "output_type": "display_data",
          "data": {
            "image/png": "[encoded data removed]",
            "text/plain": [
              "<Figure size 216x216 with 1 Axes>"
            ]
          },
          "metadata": {
            "tags": []
          }
        }
      ]
    },
    {
      "cell_type": "markdown",
      "metadata": {
        "id": "PhePZ2ppyVnx",
        "colab_type": "text"
      },
      "source": [
        "## Numpy array operations"
      ]
    },
    {
      "cell_type": "markdown",
      "metadata": {
        "id": "esAp_NN7yVnx",
        "colab_type": "text"
      },
      "source": [
        "Code from https://github.com/pyopencl/pyopencl/blob/master/examples/demo_mandelbrot.py"
      ]
    },
    {
      "cell_type": "code",
      "metadata": {
        "id": "lqzGKrl5yVnx",
        "colab_type": "code",
        "colab": {}
      },
      "source": [
        "def mandelbrot_numpy(q, maxiter):\n",
        "    # calculate z using numpy, this is the original\n",
        "    # routine from vegaseat's URL\n",
        "    output = np.resize(np.array(0,), q.shape)\n",
        "    z = np.zeros(q.shape, np.complex64)\n",
        "    for it in range(maxiter):\n",
        "        z = z*z + q\n",
        "        done = np.greater(abs(z), 2.0)\n",
        "        q = np.where(done, 0+0j, q)\n",
        "        z = np.where(done, 0+0j, z)\n",
        "        output = np.where(done, it, output)\n",
        "    return output\n",
        "\n",
        "def mandelbrot_set(xmin,xmax,ymin,ymax,width,height,maxiter):\n",
        "    r1 = np.linspace(xmin, xmax, width)\n",
        "    r2 = np.linspace(ymin, ymax, height)\n",
        "    q = np.ravel(r1 + r2[:,None]*1j)\n",
        "    n3 = mandelbrot_numpy(q,maxiter)\n",
        "    n3 = n3.reshape((width,height))\n",
        "    return (r1,r2,n3.T)"
      ],
      "execution_count": 0,
      "outputs": []
    },
    {
      "cell_type": "markdown",
      "metadata": {
        "id": "QJSZSusQyVny",
        "colab_type": "text"
      },
      "source": [
        "%time mandelbrot_set(-2.0,0.5,-1.25,1.25,1000,1000,80)"
      ]
    },
    {
      "cell_type": "markdown",
      "metadata": {
        "id": "ARbPeMsdyVn0",
        "colab_type": "text"
      },
      "source": [
        "We can check it is correct with the following."
      ]
    },
    {
      "cell_type": "code",
      "metadata": {
        "id": "0mnIhPVfyVn0",
        "colab_type": "code",
        "colab": {
          "base_uri": "https://localhost:8080/",
          "height": 245
        },
        "outputId": "717b5246-4b85-452f-eaf9-267b858de589"
      },
      "source": [
        "%time mandelbrot_image(-2.0,0.5,-1.25,1.25,cmap='gnuplot2')"
      ],
      "execution_count": 40,
      "outputs": [
        {
          "output_type": "stream",
          "text": [
            "CPU times: user 102 ms, sys: 7.02 ms, total: 109 ms\n",
            "Wall time: 109 ms\n"
          ],
          "name": "stdout"
        },
        {
          "output_type": "display_data",
          "data": {
            "image/png": "[encoded data removed]",
            "text/plain": [
              "<Figure size 216x216 with 1 Axes>"
            ]
          },
          "metadata": {
            "tags": []
          }
        }
      ]
    },
    {
      "cell_type": "markdown",
      "metadata": {
        "id": "yORbX5gNyVn2",
        "colab_type": "text"
      },
      "source": [
        "There is a better code from http://www.vallis.org/salon/summary-10.html"
      ]
    },
    {
      "cell_type": "code",
      "metadata": {
        "id": "_Qu-UgMJyVn2",
        "colab_type": "code",
        "colab": {}
      },
      "source": [
        "def mandelbrot_numpy(c, maxiter):\n",
        "    output = np.zeros(c.shape)\n",
        "    z = np.empty(c.shape, np.complex64)\n",
        "    output[:] = maxiter\n",
        "    for it in range(maxiter):\n",
        "        notdone = (output == maxiter)\n",
        "        z[notdone] = z[notdone]**2 + c[notdone]\n",
        "        output[notdone & (z.real*z.real + z.imag*z.imag > 4.0)] = it\n",
        "        \n",
        "    return output"
      ],
      "execution_count": 0,
      "outputs": []
    },
    {
      "cell_type": "markdown",
      "metadata": {
        "id": "uNry79GuyVn3",
        "colab_type": "text"
      },
      "source": [
        "It is indeed way faster."
      ]
    },
    {
      "cell_type": "markdown",
      "metadata": {
        "id": "55FBUh7wyVn4",
        "colab_type": "text"
      },
      "source": [
        "%time mandelbrot_set(-2.0,0.5,-1.25,1.25,1000,1000,80)"
      ]
    },
    {
      "cell_type": "markdown",
      "metadata": {
        "id": "VISkU0t_yVn6",
        "colab_type": "text"
      },
      "source": [
        "The code can be made faster by only performing computation where needed. There is no need to ravel the input array either."
      ]
    },
    {
      "cell_type": "code",
      "metadata": {
        "id": "H4WAlol5yVn6",
        "colab_type": "code",
        "colab": {}
      },
      "source": [
        "def mandelbrot_numpy(c, maxiter):\n",
        "    output = np.zeros(c.shape)\n",
        "    z = np.zeros(c.shape, np.complex64)\n",
        "    for it in range(maxiter):\n",
        "        notdone = np.less(z.real*z.real + z.imag*z.imag, 4.0)\n",
        "        output[notdone] = it\n",
        "        z[notdone] = z[notdone]**2 + c[notdone]\n",
        "    output[output == maxiter-1] = 0\n",
        "    return output\n",
        "\n",
        "def mandelbrot_set(xmin,xmax,ymin,ymax,width,height,maxiter):\n",
        "    r1 = np.linspace(xmin, xmax, width, dtype=np.float32)\n",
        "    r2 = np.linspace(ymin, ymax, height, dtype=np.float32)\n",
        "    c = r1 + r2[:,None]*1j\n",
        "    n3 = mandelbrot_numpy(c,maxiter)\n",
        "    return (r1,r2,n3.T) "
      ],
      "execution_count": 0,
      "outputs": []
    },
    {
      "cell_type": "markdown",
      "metadata": {
        "id": "1q1bfYSgyVn8",
        "colab_type": "text"
      },
      "source": [
        "It is about 3 times faster than the first Numpy array code."
      ]
    },
    {
      "cell_type": "markdown",
      "metadata": {
        "id": "4nCXR9UAyVn8",
        "colab_type": "text"
      },
      "source": [
        "%time mandelbrot_set(-2.0,0.5,-1.25,1.25,1000,1000,80)"
      ]
    },
    {
      "cell_type": "markdown",
      "metadata": {
        "id": "rf9SX-EJyVn-",
        "colab_type": "raw"
      },
      "source": [
        "%time mandelbrot_set2(-0.74877,-0.74872,0.06505,0.06510,1000,1000,2048)"
      ]
    },
    {
      "cell_type": "markdown",
      "metadata": {
        "id": "3xR1WtIsyVn_",
        "colab_type": "text"
      },
      "source": [
        "We can check it is correct with the following."
      ]
    },
    {
      "cell_type": "code",
      "metadata": {
        "id": "WmMe0Y29yVn_",
        "colab_type": "code",
        "colab": {
          "base_uri": "https://localhost:8080/",
          "height": 245
        },
        "outputId": "3919bd8f-75ab-429b-e9d5-da63d4e267a2"
      },
      "source": [
        "%time mandelbrot_image(-2.0,0.5,-1.25,1.25,cmap='gnuplot2')"
      ],
      "execution_count": 42,
      "outputs": [
        {
          "output_type": "stream",
          "text": [
            "CPU times: user 34 ms, sys: 2 ms, total: 36 ms\n",
            "Wall time: 40.4 ms\n"
          ],
          "name": "stdout"
        },
        {
          "output_type": "display_data",
          "data": {
            "image/png": "[encoded data removed]",
            "text/plain": [
              "<Figure size 216x216 with 1 Axes>"
            ]
          },
          "metadata": {
            "tags": []
          }
        }
      ]
    },
    {
      "cell_type": "markdown",
      "metadata": {
        "id": "ytAv2mFHyVoA",
        "colab_type": "text"
      },
      "source": [
        "## Numexpr\n",
        "\n",
        "We can avoid temporary array creation with NumExpr."
      ]
    },
    {
      "cell_type": "code",
      "metadata": {
        "id": "a8MXdKIjyVoA",
        "colab_type": "code",
        "colab": {}
      },
      "source": [
        "import numexpr as ne\n",
        "\n",
        "def mandelbrot_numpy(c, maxiter):\n",
        "    output = np.zeros(c.shape)\n",
        "    z = np.zeros(c.shape, np.complex64)\n",
        "    for it in range(maxiter):\n",
        "        notdone = ne.evaluate('z.real*z.real + z.imag*z.imag < 4.0')\n",
        "        output[notdone] = it\n",
        "        z = ne.evaluate('where(notdone,z**2+c,z)')\n",
        "    output[output == maxiter-1] = 0    \n",
        "    return output"
      ],
      "execution_count": 0,
      "outputs": []
    },
    {
      "cell_type": "markdown",
      "metadata": {
        "id": "hReQMhTRyVoB",
        "colab_type": "text"
      },
      "source": [
        "This is faster."
      ]
    },
    {
      "cell_type": "code",
      "metadata": {
        "id": "7wO1TOawyVoC",
        "colab_type": "code",
        "colab": {},
        "outputId": "d344a258-0d15-4255-fb94-b2c8006e11d0"
      },
      "source": [
        "%time mandelbrot_set(-2.0,0.5,-1.25,1.25,1000,1000,80)"
      ],
      "execution_count": 0,
      "outputs": [
        {
          "output_type": "stream",
          "text": [
            "Wall time: 373 ms\n"
          ],
          "name": "stdout"
        },
        {
          "output_type": "execute_result",
          "data": {
            "text/plain": [
              "(array([-2.00000000e+00, -1.99749744e+00, -1.99499500e+00, -1.99249244e+00,\n",
              "        -1.98999000e+00, -1.98748744e+00, -1.98498499e+00, -1.98248243e+00,\n",
              "        -1.97997999e+00, -1.97747743e+00, -1.97497499e+00, -1.97247243e+00,\n",
              "        -1.96996999e+00, -1.96746743e+00, -1.96496499e+00, -1.96246243e+00,\n",
              "        -1.95995998e+00, -1.95745742e+00, -1.95495498e+00, -1.95245242e+00,\n",
              "        -1.94994998e+00, -1.94744742e+00, -1.94494498e+00, -1.94244242e+00,\n",
              "        -1.93993998e+00, -1.93743742e+00, -1.93493497e+00, -1.93243241e+00,\n",
              "        -1.92992997e+00, -1.92742741e+00, -1.92492497e+00, -1.92242241e+00,\n",
              "        -1.91991997e+00, -1.91741741e+00, -1.91491497e+00, -1.91241241e+00,\n",
              "        -1.90990996e+00, -1.90740740e+00, -1.90490496e+00, -1.90240240e+00,\n",
              "        -1.89989984e+00, -1.89739740e+00, -1.89489484e+00, -1.89239240e+00,\n",
              "        -1.88988984e+00, -1.88738739e+00, -1.88488483e+00, -1.88238239e+00,\n",
              "        -1.87987983e+00, -1.87737739e+00, -1.87487483e+00, -1.87237239e+00,\n",
              "        -1.86986983e+00, -1.86736739e+00, -1.86486483e+00, -1.86236238e+00,\n",
              "        -1.85985982e+00, -1.85735738e+00, -1.85485482e+00, -1.85235238e+00,\n",
              "        -1.84984982e+00, -1.84734738e+00, -1.84484482e+00, -1.84234238e+00,\n",
              "        -1.83983982e+00, -1.83733737e+00, -1.83483481e+00, -1.83233237e+00,\n",
              "        -1.82982981e+00, -1.82732737e+00, -1.82482481e+00, -1.82232237e+00,\n",
              "        -1.81981981e+00, -1.81731737e+00, -1.81481481e+00, -1.81231236e+00,\n",
              "        -1.80980980e+00, -1.80730736e+00, -1.80480480e+00, -1.80230236e+00,\n",
              "        -1.79979980e+00, -1.79729724e+00, -1.79479480e+00, -1.79229224e+00,\n",
              "        -1.78978980e+00, -1.78728724e+00, -1.78478479e+00, -1.78228223e+00,\n",
              "        -1.77977979e+00, -1.77727723e+00, -1.77477479e+00, -1.77227223e+00,\n",
              "        -1.76976979e+00, -1.76726723e+00, -1.76476479e+00, -1.76226223e+00,\n",
              "        -1.75975978e+00, -1.75725722e+00, -1.75475478e+00, -1.75225222e+00,\n",
              "        -1.74974978e+00, -1.74724722e+00, -1.74474478e+00, -1.74224222e+00,\n",
              "        -1.73973978e+00, -1.73723722e+00, -1.73473477e+00, -1.73223221e+00,\n",
              "        -1.72972977e+00, -1.72722721e+00, -1.72472477e+00, -1.72222221e+00,\n",
              "        -1.71971977e+00, -1.71721721e+00, -1.71471477e+00, -1.71221220e+00,\n",
              "        -1.70970976e+00, -1.70720720e+00, -1.70470476e+00, -1.70220220e+00,\n",
              "        -1.69969964e+00, -1.69719720e+00, -1.69469464e+00, -1.69219220e+00,\n",
              "        -1.68968964e+00, -1.68718719e+00, -1.68468463e+00, -1.68218219e+00,\n",
              "        -1.67967963e+00, -1.67717719e+00, -1.67467463e+00, -1.67217219e+00,\n",
              "        -1.66966963e+00, -1.66716719e+00, -1.66466463e+00, -1.66216218e+00,\n",
              "        -1.65965962e+00, -1.65715718e+00, -1.65465462e+00, -1.65215218e+00,\n",
              "        -1.64964962e+00, -1.64714718e+00, -1.64464462e+00, -1.64214218e+00,\n",
              "        -1.63963962e+00, -1.63713717e+00, -1.63463461e+00, -1.63213217e+00,\n",
              "        -1.62962961e+00, -1.62712717e+00, -1.62462461e+00, -1.62212217e+00,\n",
              "        -1.61961961e+00, -1.61711717e+00, -1.61461461e+00, -1.61211216e+00,\n",
              "        -1.60960960e+00, -1.60710716e+00, -1.60460460e+00, -1.60210216e+00,\n",
              "        -1.59959960e+00, -1.59709704e+00, -1.59459460e+00, -1.59209204e+00,\n",
              "        -1.58958960e+00, -1.58708704e+00, -1.58458459e+00, -1.58208203e+00,\n",
              "        -1.57957959e+00, -1.57707703e+00, -1.57457459e+00, -1.57207203e+00,\n",
              "        -1.56956959e+00, -1.56706703e+00, -1.56456459e+00, -1.56206203e+00,\n",
              "        -1.55955958e+00, -1.55705702e+00, -1.55455458e+00, -1.55205202e+00,\n",
              "        -1.54954958e+00, -1.54704702e+00, -1.54454458e+00, -1.54204202e+00,\n",
              "        -1.53953958e+00, -1.53703701e+00, -1.53453457e+00, -1.53203201e+00,\n",
              "        -1.52952957e+00, -1.52702701e+00, -1.52452457e+00, -1.52202201e+00,\n",
              "        -1.51951957e+00, -1.51701701e+00, -1.51451457e+00, -1.51201200e+00,\n",
              "        -1.50950956e+00, -1.50700700e+00, -1.50450456e+00, -1.50200200e+00,\n",
              "        -1.49949944e+00, -1.49699700e+00, -1.49449444e+00, -1.49199200e+00,\n",
              "        -1.48948944e+00, -1.48698699e+00, -1.48448443e+00, -1.48198199e+00,\n",
              "        -1.47947943e+00, -1.47697699e+00, -1.47447443e+00, -1.47197199e+00,\n",
              "        -1.46946943e+00, -1.46696699e+00, -1.46446443e+00, -1.46196198e+00,\n",
              "        -1.45945942e+00, -1.45695698e+00, -1.45445442e+00, -1.45195198e+00,\n",
              "        -1.44944942e+00, -1.44694698e+00, -1.44444442e+00, -1.44194198e+00,\n",
              "        -1.43943942e+00, -1.43693697e+00, -1.43443441e+00, -1.43193197e+00,\n",
              "        -1.42942941e+00, -1.42692697e+00, -1.42442441e+00, -1.42192197e+00,\n",
              "        -1.41941941e+00, -1.41691697e+00, -1.41441441e+00, -1.41191196e+00,\n",
              "        -1.40940940e+00, -1.40690696e+00, -1.40440440e+00, -1.40190196e+00,\n",
              "        -1.39939940e+00, -1.39689684e+00, -1.39439440e+00, -1.39189184e+00,\n",
              "        -1.38938940e+00, -1.38688684e+00, -1.38438439e+00, -1.38188183e+00,\n",
              "        -1.37937939e+00, -1.37687683e+00, -1.37437439e+00, -1.37187183e+00,\n",
              "        -1.36936939e+00, -1.36686683e+00, -1.36436439e+00, -1.36186182e+00,\n",
              "        -1.35935938e+00, -1.35685682e+00, -1.35435438e+00, -1.35185182e+00,\n",
              "        -1.34934938e+00, -1.34684682e+00, -1.34434438e+00, -1.34184182e+00,\n",
              "        -1.33933938e+00, -1.33683681e+00, -1.33433437e+00, -1.33183181e+00,\n",
              "        -1.32932937e+00, -1.32682681e+00, -1.32432437e+00, -1.32182181e+00,\n",
              "        -1.31931937e+00, -1.31681681e+00, -1.31431437e+00, -1.31181180e+00,\n",
              "        -1.30930936e+00, -1.30680680e+00, -1.30430436e+00, -1.30180180e+00,\n",
              "        -1.29929924e+00, -1.29679680e+00, -1.29429424e+00, -1.29179180e+00,\n",
              "        -1.28928924e+00, -1.28678679e+00, -1.28428423e+00, -1.28178179e+00,\n",
              "        -1.27927923e+00, -1.27677679e+00, -1.27427423e+00, -1.27177179e+00,\n",
              "        -1.26926923e+00, -1.26676679e+00, -1.26426423e+00, -1.26176178e+00,\n",
              "        -1.25925922e+00, -1.25675678e+00, -1.25425422e+00, -1.25175178e+00,\n",
              "        -1.24924922e+00, -1.24674678e+00, -1.24424422e+00, -1.24174178e+00,\n",
              "        -1.23923922e+00, -1.23673677e+00, -1.23423421e+00, -1.23173177e+00,\n",
              "        -1.22922921e+00, -1.22672677e+00, -1.22422421e+00, -1.22172177e+00,\n",
              "        -1.21921921e+00, -1.21671677e+00, -1.21421421e+00, -1.21171176e+00,\n",
              "        -1.20920920e+00, -1.20670676e+00, -1.20420420e+00, -1.20170176e+00,\n",
              "        -1.19919920e+00, -1.19669664e+00, -1.19419420e+00, -1.19169164e+00,\n",
              "        -1.18918920e+00, -1.18668664e+00, -1.18418419e+00, -1.18168163e+00,\n",
              "        -1.17917919e+00, -1.17667663e+00, -1.17417419e+00, -1.17167163e+00,\n",
              "        -1.16916919e+00, -1.16666663e+00, -1.16416419e+00, -1.16166162e+00,\n",
              "        -1.15915918e+00, -1.15665662e+00, -1.15415418e+00, -1.15165162e+00,\n",
              "        -1.14914918e+00, -1.14664662e+00, -1.14414418e+00, -1.14164162e+00,\n",
              "        -1.13913918e+00, -1.13663661e+00, -1.13413417e+00, -1.13163161e+00,\n",
              "        -1.12912917e+00, -1.12662661e+00, -1.12412417e+00, -1.12162161e+00,\n",
              "        -1.11911917e+00, -1.11661661e+00, -1.11411417e+00, -1.11161160e+00,\n",
              "        -1.10910916e+00, -1.10660660e+00, -1.10410416e+00, -1.10160160e+00,\n",
              "        -1.09909904e+00, -1.09659660e+00, -1.09409404e+00, -1.09159160e+00,\n",
              "        -1.08908904e+00, -1.08658659e+00, -1.08408403e+00, -1.08158159e+00,\n",
              "        -1.07907903e+00, -1.07657659e+00, -1.07407403e+00, -1.07157159e+00,\n",
              "        -1.06906903e+00, -1.06656659e+00, -1.06406403e+00, -1.06156158e+00,\n",
              "        -1.05905902e+00, -1.05655658e+00, -1.05405402e+00, -1.05155158e+00,\n",
              "        -1.04904902e+00, -1.04654658e+00, -1.04404402e+00, -1.04154158e+00,\n",
              "        -1.03903902e+00, -1.03653657e+00, -1.03403401e+00, -1.03153157e+00,\n",
              "        -1.02902901e+00, -1.02652657e+00, -1.02402401e+00, -1.02152157e+00,\n",
              "        -1.01901901e+00, -1.01651657e+00, -1.01401401e+00, -1.01151156e+00,\n",
              "        -1.00900900e+00, -1.00650656e+00, -1.00400400e+00, -1.00150156e+00,\n",
              "        -9.98999000e-01, -9.96496499e-01, -9.93993998e-01, -9.91491497e-01,\n",
              "        -9.88988996e-01, -9.86486495e-01, -9.83983994e-01, -9.81481493e-01,\n",
              "        -9.78978992e-01, -9.76476490e-01, -9.73973989e-01, -9.71471488e-01,\n",
              "        -9.68968987e-01, -9.66466486e-01, -9.63963985e-01, -9.61461484e-01,\n",
              "        -9.58958983e-01, -9.56456482e-01, -9.53953981e-01, -9.51451480e-01,\n",
              "        -9.48948920e-01, -9.46446419e-01, -9.43943918e-01, -9.41441417e-01,\n",
              "        -9.38938916e-01, -9.36436415e-01, -9.33933914e-01, -9.31431413e-01,\n",
              "        -9.28928912e-01, -9.26426411e-01, -9.23923910e-01, -9.21421409e-01,\n",
              "        -9.18918908e-01, -9.16416407e-01, -9.13913906e-01, -9.11411405e-01,\n",
              "        -9.08908904e-01, -9.06406403e-01, -9.03903902e-01, -9.01401401e-01,\n",
              "        -8.98898900e-01, -8.96396399e-01, -8.93893898e-01, -8.91391397e-01,\n",
              "        -8.88888896e-01, -8.86386395e-01, -8.83883893e-01, -8.81381392e-01,\n",
              "        -8.78878891e-01, -8.76376390e-01, -8.73873889e-01, -8.71371388e-01,\n",
              "        -8.68868887e-01, -8.66366386e-01, -8.63863885e-01, -8.61361384e-01,\n",
              "        -8.58858883e-01, -8.56356382e-01, -8.53853881e-01, -8.51351380e-01,\n",
              "        -8.48848820e-01, -8.46346319e-01, -8.43843818e-01, -8.41341317e-01,\n",
              "        -8.38838816e-01, -8.36336315e-01, -8.33833814e-01, -8.31331313e-01,\n",
              "        -8.28828812e-01, -8.26326311e-01, -8.23823810e-01, -8.21321309e-01,\n",
              "        -8.18818808e-01, -8.16316307e-01, -8.13813806e-01, -8.11311305e-01,\n",
              "        -8.08808804e-01, -8.06306303e-01, -8.03803802e-01, -8.01301301e-01,\n",
              "        -7.98798800e-01, -7.96296299e-01, -7.93793797e-01, -7.91291296e-01,\n",
              "        -7.88788795e-01, -7.86286294e-01, -7.83783793e-01, -7.81281292e-01,\n",
              "        -7.78778791e-01, -7.76276290e-01, -7.73773789e-01, -7.71271288e-01,\n",
              "        -7.68768787e-01, -7.66266286e-01, -7.63763785e-01, -7.61261284e-01,\n",
              "        -7.58758783e-01, -7.56256282e-01, -7.53753781e-01, -7.51251280e-01,\n",
              "        -7.48748720e-01, -7.46246219e-01, -7.43743718e-01, -7.41241217e-01,\n",
              "        -7.38738716e-01, -7.36236215e-01, -7.33733714e-01, -7.31231213e-01,\n",
              "        -7.28728712e-01, -7.26226211e-01, -7.23723710e-01, -7.21221209e-01,\n",
              "        -7.18718708e-01, -7.16216207e-01, -7.13713706e-01, -7.11211205e-01,\n",
              "        -7.08708704e-01, -7.06206203e-01, -7.03703701e-01, -7.01201200e-01,\n",
              "        -6.98698699e-01, -6.96196198e-01, -6.93693697e-01, -6.91191196e-01,\n",
              "        -6.88688695e-01, -6.86186194e-01, -6.83683693e-01, -6.81181192e-01,\n",
              "        -6.78678691e-01, -6.76176190e-01, -6.73673689e-01, -6.71171188e-01,\n",
              "        -6.68668687e-01, -6.66166186e-01, -6.63663685e-01, -6.61161184e-01,\n",
              "        -6.58658683e-01, -6.56156182e-01, -6.53653681e-01, -6.51151180e-01,\n",
              "        -6.48648620e-01, -6.46146119e-01, -6.43643618e-01, -6.41141117e-01,\n",
              "        -6.38638616e-01, -6.36136115e-01, -6.33633614e-01, -6.31131113e-01,\n",
              "        -6.28628612e-01, -6.26126111e-01, -6.23623610e-01, -6.21121109e-01,\n",
              "        -6.18618608e-01, -6.16116107e-01, -6.13613605e-01, -6.11111104e-01,\n",
              "        -6.08608603e-01, -6.06106102e-01, -6.03603601e-01, -6.01101100e-01,\n",
              "        -5.98598599e-01, -5.96096098e-01, -5.93593597e-01, -5.91091096e-01,\n",
              "        -5.88588595e-01, -5.86086094e-01, -5.83583593e-01, -5.81081092e-01,\n",
              "        -5.78578591e-01, -5.76076090e-01, -5.73573589e-01, -5.71071088e-01,\n",
              "        -5.68568587e-01, -5.66066086e-01, -5.63563585e-01, -5.61061084e-01,\n",
              "        -5.58558583e-01, -5.56056082e-01, -5.53553581e-01, -5.51051080e-01,\n",
              "        -5.48548520e-01, -5.46046019e-01, -5.43543518e-01, -5.41041017e-01,\n",
              "        -5.38538516e-01, -5.36036015e-01, -5.33533514e-01, -5.31031013e-01,\n",
              "        -5.28528512e-01, -5.26026011e-01, -5.23523510e-01, -5.21021008e-01,\n",
              "        -5.18518507e-01, -5.16016006e-01, -5.13513505e-01, -5.11011004e-01,\n",
              "        -5.08508503e-01, -5.06006002e-01, -5.03503501e-01, -5.01001000e-01,\n",
              "        -4.98498499e-01, -4.95995998e-01, -4.93493497e-01, -4.90990996e-01,\n",
              "        -4.88488495e-01, -4.85985994e-01, -4.83483493e-01, -4.80980992e-01,\n",
              "        -4.78478491e-01, -4.75975990e-01, -4.73473459e-01, -4.70970958e-01,\n",
              "        -4.68468457e-01, -4.65965956e-01, -4.63463455e-01, -4.60960954e-01,\n",
              "        -4.58458453e-01, -4.55955952e-01, -4.53453451e-01, -4.50950950e-01,\n",
              "        -4.48448449e-01, -4.45945948e-01, -4.43443447e-01, -4.40940946e-01,\n",
              "        -4.38438445e-01, -4.35935944e-01, -4.33433443e-01, -4.30930942e-01,\n",
              "        -4.28428441e-01, -4.25925940e-01, -4.23423409e-01, -4.20920908e-01,\n",
              "        -4.18418407e-01, -4.15915906e-01, -4.13413405e-01, -4.10910904e-01,\n",
              "        -4.08408403e-01, -4.05905902e-01, -4.03403401e-01, -4.00900900e-01,\n",
              "        -3.98398399e-01, -3.95895898e-01, -3.93393397e-01, -3.90890896e-01,\n",
              "        -3.88388395e-01, -3.85885894e-01, -3.83383393e-01, -3.80880892e-01,\n",
              "        -3.78378391e-01, -3.75875890e-01, -3.73373359e-01, -3.70870858e-01,\n",
              "        -3.68368357e-01, -3.65865856e-01, -3.63363355e-01, -3.60860854e-01,\n",
              "        -3.58358353e-01, -3.55855852e-01, -3.53353351e-01, -3.50850850e-01,\n",
              "        -3.48348349e-01, -3.45845848e-01, -3.43343347e-01, -3.40840846e-01,\n",
              "        -3.38338345e-01, -3.35835844e-01, -3.33333343e-01, -3.30830842e-01,\n",
              "        -3.28328341e-01, -3.25825840e-01, -3.23323309e-01, -3.20820808e-01,\n",
              "        -3.18318307e-01, -3.15815806e-01, -3.13313305e-01, -3.10810804e-01,\n",
              "        -3.08308303e-01, -3.05805802e-01, -3.03303301e-01, -3.00800800e-01,\n",
              "        -2.98298299e-01, -2.95795798e-01, -2.93293297e-01, -2.90790796e-01,\n",
              "        -2.88288295e-01, -2.85785794e-01, -2.83283293e-01, -2.80780792e-01,\n",
              "        -2.78278291e-01, -2.75775790e-01, -2.73273259e-01, -2.70770758e-01,\n",
              "        -2.68268257e-01, -2.65765756e-01, -2.63263255e-01, -2.60760754e-01,\n",
              "        -2.58258253e-01, -2.55755752e-01, -2.53253251e-01, -2.50750750e-01,\n",
              "        -2.48248249e-01, -2.45745748e-01, -2.43243247e-01, -2.40740746e-01,\n",
              "        -2.38238245e-01, -2.35735729e-01, -2.33233228e-01, -2.30730727e-01,\n",
              "        -2.28228226e-01, -2.25725725e-01, -2.23223224e-01, -2.20720723e-01,\n",
              "        -2.18218222e-01, -2.15715721e-01, -2.13213220e-01, -2.10710704e-01,\n",
              "        -2.08208203e-01, -2.05705702e-01, -2.03203201e-01, -2.00700700e-01,\n",
              "        -1.98198199e-01, -1.95695698e-01, -1.93193197e-01, -1.90690696e-01,\n",
              "        -1.88188195e-01, -1.85685679e-01, -1.83183178e-01, -1.80680677e-01,\n",
              "        -1.78178176e-01, -1.75675675e-01, -1.73173174e-01, -1.70670673e-01,\n",
              "        -1.68168172e-01, -1.65665671e-01, -1.63163170e-01, -1.60660654e-01,\n",
              "        -1.58158153e-01, -1.55655652e-01, -1.53153151e-01, -1.50650650e-01,\n",
              "        -1.48148149e-01, -1.45645648e-01, -1.43143147e-01, -1.40640646e-01,\n",
              "        -1.38138145e-01, -1.35635629e-01, -1.33133128e-01, -1.30630627e-01,\n",
              "        -1.28128126e-01, -1.25625625e-01, -1.23123124e-01, -1.20620623e-01,\n",
              "        -1.18118115e-01, -1.15615614e-01, -1.13113113e-01, -1.10610612e-01,\n",
              "        -1.08108111e-01, -1.05605602e-01, -1.03103101e-01, -1.00600600e-01,\n",
              "        -9.80980992e-02, -9.55955982e-02, -9.30930898e-02, -9.05905887e-02,\n",
              "        -8.80880877e-02, -8.55855867e-02, -8.30830857e-02, -8.05805773e-02,\n",
              "        -7.80780762e-02, -7.55755752e-02, -7.30730742e-02, -7.05705732e-02,\n",
              "        -6.80680647e-02, -6.55655637e-02, -6.30630627e-02, -6.05605617e-02,\n",
              "        -5.80580570e-02, -5.55555560e-02, -5.30530512e-02, -5.05505502e-02,\n",
              "        -4.80480492e-02, -4.55455445e-02, -4.30430435e-02, -4.05405387e-02,\n",
              "        -3.80380377e-02, -3.55355367e-02, -3.30330320e-02, -3.05305310e-02,\n",
              "        -2.80280281e-02, -2.55255252e-02, -2.30230223e-02, -2.05205213e-02,\n",
              "        -1.80180185e-02, -1.55155156e-02, -1.30130127e-02, -1.05105108e-02,\n",
              "        -8.00800789e-03, -5.50550548e-03, -3.00300308e-03, -5.00500493e-04,\n",
              "         2.00200197e-03,  4.50450461e-03,  7.00700702e-03,  9.50950943e-03,\n",
              "         1.20120123e-02,  1.45145142e-02,  1.70170162e-02,  1.95195191e-02,\n",
              "         2.20220219e-02,  2.45245248e-02,  2.70270277e-02,  2.95295287e-02,\n",
              "         3.20320316e-02,  3.45345363e-02,  3.70370373e-02,  3.95395383e-02,\n",
              "         4.20420431e-02,  4.45445441e-02,  4.70470488e-02,  4.95495498e-02,\n",
              "         5.20520508e-02,  5.45545556e-02,  5.70570566e-02,  5.95595613e-02,\n",
              "         6.20620623e-02,  6.45645633e-02,  6.70670643e-02,  6.95695728e-02,\n",
              "         7.20720738e-02,  7.45745748e-02,  7.70770758e-02,  7.95795768e-02,\n",
              "         8.20820853e-02,  8.45845863e-02,  8.70870873e-02,  8.95895883e-02,\n",
              "         9.20920894e-02,  9.45945978e-02,  9.70970988e-02,  9.95995998e-02,\n",
              "         1.02102101e-01,  1.04604602e-01,  1.07107110e-01,  1.09609611e-01,\n",
              "         1.12112112e-01,  1.14614613e-01,  1.17117114e-01,  1.19619623e-01,\n",
              "         1.22122124e-01,  1.24624625e-01,  1.27127126e-01,  1.29629627e-01,\n",
              "         1.32132128e-01,  1.34634629e-01,  1.37137130e-01,  1.39639646e-01,\n",
              "         1.42142147e-01,  1.44644648e-01,  1.47147149e-01,  1.49649650e-01,\n",
              "         1.52152151e-01,  1.54654652e-01,  1.57157153e-01,  1.59659654e-01,\n",
              "         1.62162155e-01,  1.64664671e-01,  1.67167172e-01,  1.69669673e-01,\n",
              "         1.72172174e-01,  1.74674675e-01,  1.77177176e-01,  1.79679677e-01,\n",
              "         1.82182178e-01,  1.84684679e-01,  1.87187180e-01,  1.89689696e-01,\n",
              "         1.92192197e-01,  1.94694698e-01,  1.97197199e-01,  1.99699700e-01,\n",
              "         2.02202201e-01,  2.04704702e-01,  2.07207203e-01,  2.09709704e-01,\n",
              "         2.12212205e-01,  2.14714721e-01,  2.17217222e-01,  2.19719723e-01,\n",
              "         2.22222224e-01,  2.24724725e-01,  2.27227226e-01,  2.29729727e-01,\n",
              "         2.32232228e-01,  2.34734729e-01,  2.37237230e-01,  2.39739746e-01,\n",
              "         2.42242247e-01,  2.44744748e-01,  2.47247249e-01,  2.49749750e-01,\n",
              "         2.52252251e-01,  2.54754752e-01,  2.57257253e-01,  2.59759754e-01,\n",
              "         2.62262255e-01,  2.64764756e-01,  2.67267257e-01,  2.69769758e-01,\n",
              "         2.72272259e-01,  2.74774760e-01,  2.77277291e-01,  2.79779792e-01,\n",
              "         2.82282293e-01,  2.84784794e-01,  2.87287295e-01,  2.89789796e-01,\n",
              "         2.92292297e-01,  2.94794798e-01,  2.97297299e-01,  2.99799800e-01,\n",
              "         3.02302301e-01,  3.04804802e-01,  3.07307303e-01,  3.09809804e-01,\n",
              "         3.12312305e-01,  3.14814806e-01,  3.17317307e-01,  3.19819808e-01,\n",
              "         3.22322309e-01,  3.24824810e-01,  3.27327341e-01,  3.29829842e-01,\n",
              "         3.32332343e-01,  3.34834844e-01,  3.37337345e-01,  3.39839846e-01,\n",
              "         3.42342347e-01,  3.44844848e-01,  3.47347349e-01,  3.49849850e-01,\n",
              "         3.52352351e-01,  3.54854852e-01,  3.57357353e-01,  3.59859854e-01,\n",
              "         3.62362355e-01,  3.64864856e-01,  3.67367357e-01,  3.69869858e-01,\n",
              "         3.72372359e-01,  3.74874860e-01,  3.77377391e-01,  3.79879892e-01,\n",
              "         3.82382393e-01,  3.84884894e-01,  3.87387395e-01,  3.89889896e-01,\n",
              "         3.92392397e-01,  3.94894898e-01,  3.97397399e-01,  3.99899900e-01,\n",
              "         4.02402401e-01,  4.04904902e-01,  4.07407403e-01,  4.09909904e-01,\n",
              "         4.12412405e-01,  4.14914906e-01,  4.17417407e-01,  4.19919908e-01,\n",
              "         4.22422409e-01,  4.24924910e-01,  4.27427441e-01,  4.29929942e-01,\n",
              "         4.32432443e-01,  4.34934944e-01,  4.37437445e-01,  4.39939946e-01,\n",
              "         4.42442447e-01,  4.44944948e-01,  4.47447449e-01,  4.49949950e-01,\n",
              "         4.52452451e-01,  4.54954952e-01,  4.57457453e-01,  4.59959954e-01,\n",
              "         4.62462455e-01,  4.64964956e-01,  4.67467457e-01,  4.69969958e-01,\n",
              "         4.72472459e-01,  4.74974960e-01,  4.77477491e-01,  4.79979992e-01,\n",
              "         4.82482493e-01,  4.84984994e-01,  4.87487495e-01,  4.89989996e-01,\n",
              "         4.92492497e-01,  4.94994998e-01,  4.97497499e-01,  5.00000000e-01],\n",
              "       dtype=float32),\n",
              " array([-1.25      , -1.2474974 , -1.244995  , -1.2424924 , -1.23999   ,\n",
              "        -1.2374874 , -1.234985  , -1.2324824 , -1.22998   , -1.2274774 ,\n",
              "        -1.224975  , -1.2224724 , -1.21997   , -1.2174674 , -1.214965  ,\n",
              "        -1.2124624 , -1.20996   , -1.2074574 , -1.204955  , -1.2024524 ,\n",
              "        -1.19995   , -1.1974474 , -1.194945  , -1.1924424 , -1.18994   ,\n",
              "        -1.1874374 , -1.184935  , -1.1824324 , -1.17993   , -1.1774274 ,\n",
              "        -1.174925  , -1.1724224 , -1.16992   , -1.1674174 , -1.164915  ,\n",
              "        -1.1624124 , -1.15991   , -1.1574074 , -1.154905  , -1.1524024 ,\n",
              "        -1.1498998 , -1.1473974 , -1.1448948 , -1.1423924 , -1.1398898 ,\n",
              "        -1.1373874 , -1.1348848 , -1.1323824 , -1.1298798 , -1.1273774 ,\n",
              "        -1.1248748 , -1.1223724 , -1.1198698 , -1.1173674 , -1.1148648 ,\n",
              "        -1.1123624 , -1.1098598 , -1.1073574 , -1.1048548 , -1.1023524 ,\n",
              "        -1.0998498 , -1.0973474 , -1.0948448 , -1.0923424 , -1.0898398 ,\n",
              "        -1.0873374 , -1.0848348 , -1.0823324 , -1.0798298 , -1.0773274 ,\n",
              "        -1.0748248 , -1.0723224 , -1.0698198 , -1.0673174 , -1.0648148 ,\n",
              "        -1.0623124 , -1.0598098 , -1.0573074 , -1.0548048 , -1.0523024 ,\n",
              "        -1.0497998 , -1.0472972 , -1.0447948 , -1.0422922 , -1.0397898 ,\n",
              "        -1.0372872 , -1.0347848 , -1.0322822 , -1.0297798 , -1.0272772 ,\n",
              "        -1.0247748 , -1.0222722 , -1.0197698 , -1.0172672 , -1.0147648 ,\n",
              "        -1.0122622 , -1.0097598 , -1.0072572 , -1.0047548 , -1.0022522 ,\n",
              "        -0.9997497 , -0.9972472 , -0.9947447 , -0.9922422 , -0.9897397 ,\n",
              "        -0.9872372 , -0.9847347 , -0.9822322 , -0.9797297 , -0.9772272 ,\n",
              "        -0.9747247 , -0.9722222 , -0.9697197 , -0.9672172 , -0.9647147 ,\n",
              "        -0.9622122 , -0.9597097 , -0.9572072 , -0.9547047 , -0.9522022 ,\n",
              "        -0.9496997 , -0.9471972 , -0.9446947 , -0.9421922 , -0.9396897 ,\n",
              "        -0.9371872 , -0.9346847 , -0.9321822 , -0.9296797 , -0.9271772 ,\n",
              "        -0.9246747 , -0.9221722 , -0.9196697 , -0.9171672 , -0.9146647 ,\n",
              "        -0.9121622 , -0.9096597 , -0.9071572 , -0.9046547 , -0.9021522 ,\n",
              "        -0.8996496 , -0.8971471 , -0.8946446 , -0.8921421 , -0.8896396 ,\n",
              "        -0.8871371 , -0.8846346 , -0.8821321 , -0.8796296 , -0.8771271 ,\n",
              "        -0.8746246 , -0.8721221 , -0.8696196 , -0.8671171 , -0.8646146 ,\n",
              "        -0.8621121 , -0.8596096 , -0.8571071 , -0.8546046 , -0.8521021 ,\n",
              "        -0.8495996 , -0.8470971 , -0.8445946 , -0.8420921 , -0.8395896 ,\n",
              "        -0.8370871 , -0.8345846 , -0.8320821 , -0.8295796 , -0.8270771 ,\n",
              "        -0.8245746 , -0.8220721 , -0.8195696 , -0.8170671 , -0.8145646 ,\n",
              "        -0.8120621 , -0.8095596 , -0.8070571 , -0.8045546 , -0.8020521 ,\n",
              "        -0.7995495 , -0.797047  , -0.7945445 , -0.792042  , -0.7895395 ,\n",
              "        -0.787037  , -0.7845345 , -0.782032  , -0.7795295 , -0.777027  ,\n",
              "        -0.7745245 , -0.772022  , -0.7695195 , -0.767017  , -0.7645145 ,\n",
              "        -0.762012  , -0.7595095 , -0.757007  , -0.7545045 , -0.752002  ,\n",
              "        -0.7494995 , -0.746997  , -0.7444945 , -0.741992  , -0.7394895 ,\n",
              "        -0.736987  , -0.7344845 , -0.731982  , -0.7294795 , -0.726977  ,\n",
              "        -0.7244745 , -0.721972  , -0.7194695 , -0.716967  , -0.7144645 ,\n",
              "        -0.711962  , -0.7094595 , -0.706957  , -0.7044545 , -0.701952  ,\n",
              "        -0.6994494 , -0.6969469 , -0.6944444 , -0.6919419 , -0.6894394 ,\n",
              "        -0.6869369 , -0.6844344 , -0.6819319 , -0.6794294 , -0.6769269 ,\n",
              "        -0.6744244 , -0.6719219 , -0.6694194 , -0.6669169 , -0.6644144 ,\n",
              "        -0.6619119 , -0.6594094 , -0.6569069 , -0.6544044 , -0.6519019 ,\n",
              "        -0.6493994 , -0.6468969 , -0.6443944 , -0.6418919 , -0.6393894 ,\n",
              "        -0.6368869 , -0.6343844 , -0.6318819 , -0.6293794 , -0.6268769 ,\n",
              "        -0.6243744 , -0.6218719 , -0.6193694 , -0.6168669 , -0.6143644 ,\n",
              "        -0.6118619 , -0.6093594 , -0.6068569 , -0.6043544 , -0.6018519 ,\n",
              "        -0.5993493 , -0.5968468 , -0.5943443 , -0.5918418 , -0.5893393 ,\n",
              "        -0.5868368 , -0.5843343 , -0.5818318 , -0.5793293 , -0.5768268 ,\n",
              "        -0.5743243 , -0.5718218 , -0.5693193 , -0.5668168 , -0.5643143 ,\n",
              "        -0.5618118 , -0.5593093 , -0.5568068 , -0.5543043 , -0.5518018 ,\n",
              "        -0.5492993 , -0.5467968 , -0.5442943 , -0.5417918 , -0.5392893 ,\n",
              "        -0.5367868 , -0.5342843 , -0.5317818 , -0.5292793 , -0.5267768 ,\n",
              "        -0.5242743 , -0.5217718 , -0.5192693 , -0.5167668 , -0.5142643 ,\n",
              "        -0.5117618 , -0.5092593 , -0.5067568 , -0.5042543 , -0.5017518 ,\n",
              "        -0.49924925, -0.49674675, -0.49424425, -0.49174175, -0.48923925,\n",
              "        -0.48673674, -0.48423424, -0.48173174, -0.47922924, -0.47672674,\n",
              "        -0.4742242 , -0.4717217 , -0.4692192 , -0.4667167 , -0.4642142 ,\n",
              "        -0.4617117 , -0.4592092 , -0.4567067 , -0.4542042 , -0.4517017 ,\n",
              "        -0.4491992 , -0.4466967 , -0.4441942 , -0.4416917 , -0.4391892 ,\n",
              "        -0.4366867 , -0.4341842 , -0.4316817 , -0.4291792 , -0.4266767 ,\n",
              "        -0.42417416, -0.42167166, -0.41916916, -0.41666666, -0.41416416,\n",
              "        -0.41166165, -0.40915915, -0.40665665, -0.40415415, -0.40165165,\n",
              "        -0.39914915, -0.39664665, -0.39414415, -0.39164165, -0.38913915,\n",
              "        -0.38663664, -0.38413414, -0.38163164, -0.37912914, -0.37662664,\n",
              "        -0.3741241 , -0.3716216 , -0.3691191 , -0.3666166 , -0.3641141 ,\n",
              "        -0.3616116 , -0.3591091 , -0.3566066 , -0.3541041 , -0.3516016 ,\n",
              "        -0.3490991 , -0.3465966 , -0.3440941 , -0.3415916 , -0.3390891 ,\n",
              "        -0.3365866 , -0.3340841 , -0.3315816 , -0.3290791 , -0.3265766 ,\n",
              "        -0.32407406, -0.32157156, -0.31906906, -0.31656656, -0.31406406,\n",
              "        -0.31156155, -0.30905905, -0.30655655, -0.30405405, -0.30155155,\n",
              "        -0.29904905, -0.29654655, -0.29404405, -0.29154155, -0.28903905,\n",
              "        -0.28653654, -0.28403404, -0.28153154, -0.27902904, -0.27652654,\n",
              "        -0.274024  , -0.2715215 , -0.269019  , -0.2665165 , -0.264014  ,\n",
              "        -0.2615115 , -0.259009  , -0.2565065 , -0.254004  , -0.2515015 ,\n",
              "        -0.248999  , -0.2464965 , -0.243994  , -0.2414915 , -0.238989  ,\n",
              "        -0.23648648, -0.23398398, -0.23148148, -0.22897898, -0.22647648,\n",
              "        -0.22397397, -0.22147147, -0.21896897, -0.21646647, -0.21396397,\n",
              "        -0.21146145, -0.20895895, -0.20645645, -0.20395395, -0.20145145,\n",
              "        -0.19894895, -0.19644645, -0.19394395, -0.19144145, -0.18893895,\n",
              "        -0.18643643, -0.18393393, -0.18143143, -0.17892893, -0.17642643,\n",
              "        -0.17392392, -0.17142142, -0.16891892, -0.16641642, -0.16391392,\n",
              "        -0.1614114 , -0.1589089 , -0.1564064 , -0.1539039 , -0.1514014 ,\n",
              "        -0.1488989 , -0.1463964 , -0.1438939 , -0.1413914 , -0.1388889 ,\n",
              "        -0.13638638, -0.13388388, -0.13138138, -0.12887888, -0.12637638,\n",
              "        -0.12387387, -0.12137137, -0.11886887, -0.11636636, -0.11386386,\n",
              "        -0.11136136, -0.10885886, -0.10635636, -0.10385385, -0.10135135,\n",
              "        -0.09884885, -0.09634635, -0.09384385, -0.09134134, -0.08883884,\n",
              "        -0.08633634, -0.08383384, -0.08133134, -0.07882883, -0.07632633,\n",
              "        -0.07382382, -0.07132132, -0.06881882, -0.06631631, -0.06381381,\n",
              "        -0.06131131, -0.05880881, -0.05630631, -0.05380381, -0.0513013 ,\n",
              "        -0.0487988 , -0.04629629, -0.04379379, -0.04129129, -0.03878879,\n",
              "        -0.03628629, -0.03378378, -0.03128128, -0.02877878, -0.02627628,\n",
              "        -0.02377377, -0.02127127, -0.01876877, -0.01626627, -0.01376376,\n",
              "        -0.01126126, -0.00875876, -0.00625626, -0.00375375, -0.00125125,\n",
              "         0.00125125,  0.00375375,  0.00625626,  0.00875876,  0.01126126,\n",
              "         0.01376376,  0.01626627,  0.01876877,  0.02127127,  0.02377377,\n",
              "         0.02627628,  0.02877878,  0.03128128,  0.03378378,  0.03628629,\n",
              "         0.03878879,  0.04129129,  0.04379379,  0.04629629,  0.0487988 ,\n",
              "         0.0513013 ,  0.05380381,  0.05630631,  0.05880881,  0.06131131,\n",
              "         0.06381381,  0.06631631,  0.06881882,  0.07132132,  0.07382382,\n",
              "         0.07632633,  0.07882883,  0.08133134,  0.08383384,  0.08633634,\n",
              "         0.08883884,  0.09134134,  0.09384385,  0.09634635,  0.09884885,\n",
              "         0.10135135,  0.10385385,  0.10635636,  0.10885886,  0.11136136,\n",
              "         0.11386386,  0.11636636,  0.11886887,  0.12137137,  0.12387387,\n",
              "         0.12637638,  0.12887888,  0.13138138,  0.13388388,  0.13638638,\n",
              "         0.1388889 ,  0.1413914 ,  0.1438939 ,  0.1463964 ,  0.1488989 ,\n",
              "         0.1514014 ,  0.1539039 ,  0.1564064 ,  0.1589089 ,  0.1614114 ,\n",
              "         0.16391392,  0.16641642,  0.16891892,  0.17142142,  0.17392392,\n",
              "         0.17642643,  0.17892893,  0.18143143,  0.18393393,  0.18643643,\n",
              "         0.18893895,  0.19144145,  0.19394395,  0.19644645,  0.19894895,\n",
              "         0.20145145,  0.20395395,  0.20645645,  0.20895895,  0.21146145,\n",
              "         0.21396397,  0.21646647,  0.21896897,  0.22147147,  0.22397397,\n",
              "         0.22647648,  0.22897898,  0.23148148,  0.23398398,  0.23648648,\n",
              "         0.238989  ,  0.2414915 ,  0.243994  ,  0.2464965 ,  0.248999  ,\n",
              "         0.2515015 ,  0.254004  ,  0.2565065 ,  0.259009  ,  0.2615115 ,\n",
              "         0.264014  ,  0.2665165 ,  0.269019  ,  0.2715215 ,  0.274024  ,\n",
              "         0.27652654,  0.27902904,  0.28153154,  0.28403404,  0.28653654,\n",
              "         0.28903905,  0.29154155,  0.29404405,  0.29654655,  0.29904905,\n",
              "         0.30155155,  0.30405405,  0.30655655,  0.30905905,  0.31156155,\n",
              "         0.31406406,  0.31656656,  0.31906906,  0.32157156,  0.32407406,\n",
              "         0.3265766 ,  0.3290791 ,  0.3315816 ,  0.3340841 ,  0.3365866 ,\n",
              "         0.3390891 ,  0.3415916 ,  0.3440941 ,  0.3465966 ,  0.3490991 ,\n",
              "         0.3516016 ,  0.3541041 ,  0.3566066 ,  0.3591091 ,  0.3616116 ,\n",
              "         0.3641141 ,  0.3666166 ,  0.3691191 ,  0.3716216 ,  0.3741241 ,\n",
              "         0.37662664,  0.37912914,  0.38163164,  0.38413414,  0.38663664,\n",
              "         0.38913915,  0.39164165,  0.39414415,  0.39664665,  0.39914915,\n",
              "         0.40165165,  0.40415415,  0.40665665,  0.40915915,  0.41166165,\n",
              "         0.41416416,  0.41666666,  0.41916916,  0.42167166,  0.42417416,\n",
              "         0.4266767 ,  0.4291792 ,  0.4316817 ,  0.4341842 ,  0.4366867 ,\n",
              "         0.4391892 ,  0.4416917 ,  0.4441942 ,  0.4466967 ,  0.4491992 ,\n",
              "         0.4517017 ,  0.4542042 ,  0.4567067 ,  0.4592092 ,  0.4617117 ,\n",
              "         0.4642142 ,  0.4667167 ,  0.4692192 ,  0.4717217 ,  0.4742242 ,\n",
              "         0.47672674,  0.47922924,  0.48173174,  0.48423424,  0.48673674,\n",
              "         0.48923925,  0.49174175,  0.49424425,  0.49674675,  0.49924925,\n",
              "         0.5017518 ,  0.5042543 ,  0.5067568 ,  0.5092593 ,  0.5117618 ,\n",
              "         0.5142643 ,  0.5167668 ,  0.5192693 ,  0.5217718 ,  0.5242743 ,\n",
              "         0.5267768 ,  0.5292793 ,  0.5317818 ,  0.5342843 ,  0.5367868 ,\n",
              "         0.5392893 ,  0.5417918 ,  0.5442943 ,  0.5467968 ,  0.5492993 ,\n",
              "         0.5518018 ,  0.5543043 ,  0.5568068 ,  0.5593093 ,  0.5618118 ,\n",
              "         0.5643143 ,  0.5668168 ,  0.5693193 ,  0.5718218 ,  0.5743243 ,\n",
              "         0.5768268 ,  0.5793293 ,  0.5818318 ,  0.5843343 ,  0.5868368 ,\n",
              "         0.5893393 ,  0.5918418 ,  0.5943443 ,  0.5968468 ,  0.5993493 ,\n",
              "         0.6018519 ,  0.6043544 ,  0.6068569 ,  0.6093594 ,  0.6118619 ,\n",
              "         0.6143644 ,  0.6168669 ,  0.6193694 ,  0.6218719 ,  0.6243744 ,\n",
              "         0.6268769 ,  0.6293794 ,  0.6318819 ,  0.6343844 ,  0.6368869 ,\n",
              "         0.6393894 ,  0.6418919 ,  0.6443944 ,  0.6468969 ,  0.6493994 ,\n",
              "         0.6519019 ,  0.6544044 ,  0.6569069 ,  0.6594094 ,  0.6619119 ,\n",
              "         0.6644144 ,  0.6669169 ,  0.6694194 ,  0.6719219 ,  0.6744244 ,\n",
              "         0.6769269 ,  0.6794294 ,  0.6819319 ,  0.6844344 ,  0.6869369 ,\n",
              "         0.6894394 ,  0.6919419 ,  0.6944444 ,  0.6969469 ,  0.6994494 ,\n",
              "         0.701952  ,  0.7044545 ,  0.706957  ,  0.7094595 ,  0.711962  ,\n",
              "         0.7144645 ,  0.716967  ,  0.7194695 ,  0.721972  ,  0.7244745 ,\n",
              "         0.726977  ,  0.7294795 ,  0.731982  ,  0.7344845 ,  0.736987  ,\n",
              "         0.7394895 ,  0.741992  ,  0.7444945 ,  0.746997  ,  0.7494995 ,\n",
              "         0.752002  ,  0.7545045 ,  0.757007  ,  0.7595095 ,  0.762012  ,\n",
              "         0.7645145 ,  0.767017  ,  0.7695195 ,  0.772022  ,  0.7745245 ,\n",
              "         0.777027  ,  0.7795295 ,  0.782032  ,  0.7845345 ,  0.787037  ,\n",
              "         0.7895395 ,  0.792042  ,  0.7945445 ,  0.797047  ,  0.7995495 ,\n",
              "         0.8020521 ,  0.8045546 ,  0.8070571 ,  0.8095596 ,  0.8120621 ,\n",
              "         0.8145646 ,  0.8170671 ,  0.8195696 ,  0.8220721 ,  0.8245746 ,\n",
              "         0.8270771 ,  0.8295796 ,  0.8320821 ,  0.8345846 ,  0.8370871 ,\n",
              "         0.8395896 ,  0.8420921 ,  0.8445946 ,  0.8470971 ,  0.8495996 ,\n",
              "         0.8521021 ,  0.8546046 ,  0.8571071 ,  0.8596096 ,  0.8621121 ,\n",
              "         0.8646146 ,  0.8671171 ,  0.8696196 ,  0.8721221 ,  0.8746246 ,\n",
              "         0.8771271 ,  0.8796296 ,  0.8821321 ,  0.8846346 ,  0.8871371 ,\n",
              "         0.8896396 ,  0.8921421 ,  0.8946446 ,  0.8971471 ,  0.8996496 ,\n",
              "         0.9021522 ,  0.9046547 ,  0.9071572 ,  0.9096597 ,  0.9121622 ,\n",
              "         0.9146647 ,  0.9171672 ,  0.9196697 ,  0.9221722 ,  0.9246747 ,\n",
              "         0.9271772 ,  0.9296797 ,  0.9321822 ,  0.9346847 ,  0.9371872 ,\n",
              "         0.9396897 ,  0.9421922 ,  0.9446947 ,  0.9471972 ,  0.9496997 ,\n",
              "         0.9522022 ,  0.9547047 ,  0.9572072 ,  0.9597097 ,  0.9622122 ,\n",
              "         0.9647147 ,  0.9672172 ,  0.9697197 ,  0.9722222 ,  0.9747247 ,\n",
              "         0.9772272 ,  0.9797297 ,  0.9822322 ,  0.9847347 ,  0.9872372 ,\n",
              "         0.9897397 ,  0.9922422 ,  0.9947447 ,  0.9972472 ,  0.9997497 ,\n",
              "         1.0022522 ,  1.0047548 ,  1.0072572 ,  1.0097598 ,  1.0122622 ,\n",
              "         1.0147648 ,  1.0172672 ,  1.0197698 ,  1.0222722 ,  1.0247748 ,\n",
              "         1.0272772 ,  1.0297798 ,  1.0322822 ,  1.0347848 ,  1.0372872 ,\n",
              "         1.0397898 ,  1.0422922 ,  1.0447948 ,  1.0472972 ,  1.0497998 ,\n",
              "         1.0523024 ,  1.0548048 ,  1.0573074 ,  1.0598098 ,  1.0623124 ,\n",
              "         1.0648148 ,  1.0673174 ,  1.0698198 ,  1.0723224 ,  1.0748248 ,\n",
              "         1.0773274 ,  1.0798298 ,  1.0823324 ,  1.0848348 ,  1.0873374 ,\n",
              "         1.0898398 ,  1.0923424 ,  1.0948448 ,  1.0973474 ,  1.0998498 ,\n",
              "         1.1023524 ,  1.1048548 ,  1.1073574 ,  1.1098598 ,  1.1123624 ,\n",
              "         1.1148648 ,  1.1173674 ,  1.1198698 ,  1.1223724 ,  1.1248748 ,\n",
              "         1.1273774 ,  1.1298798 ,  1.1323824 ,  1.1348848 ,  1.1373874 ,\n",
              "         1.1398898 ,  1.1423924 ,  1.1448948 ,  1.1473974 ,  1.1498998 ,\n",
              "         1.1524024 ,  1.154905  ,  1.1574074 ,  1.15991   ,  1.1624124 ,\n",
              "         1.164915  ,  1.1674174 ,  1.16992   ,  1.1724224 ,  1.174925  ,\n",
              "         1.1774274 ,  1.17993   ,  1.1824324 ,  1.184935  ,  1.1874374 ,\n",
              "         1.18994   ,  1.1924424 ,  1.194945  ,  1.1974474 ,  1.19995   ,\n",
              "         1.2024524 ,  1.204955  ,  1.2074574 ,  1.20996   ,  1.2124624 ,\n",
              "         1.214965  ,  1.2174674 ,  1.21997   ,  1.2224724 ,  1.224975  ,\n",
              "         1.2274774 ,  1.22998   ,  1.2324824 ,  1.234985  ,  1.2374874 ,\n",
              "         1.23999   ,  1.2424924 ,  1.244995  ,  1.2474974 ,  1.25      ],\n",
              "       dtype=float32),\n",
              " array([[0., 0., 0., ..., 0., 0., 0.],\n",
              "        [0., 0., 0., ..., 0., 0., 0.],\n",
              "        [0., 0., 0., ..., 0., 0., 0.],\n",
              "        ...,\n",
              "        [1., 1., 1., ..., 1., 1., 1.],\n",
              "        [1., 1., 1., ..., 1., 1., 1.],\n",
              "        [1., 1., 1., ..., 1., 1., 1.]]))"
            ]
          },
          "metadata": {
            "tags": []
          },
          "execution_count": 51
        }
      ]
    },
    {
      "cell_type": "markdown",
      "metadata": {
        "id": "Qltbdy0myVoD",
        "colab_type": "text"
      },
      "source": [
        "Check."
      ]
    },
    {
      "cell_type": "code",
      "metadata": {
        "id": "ZsmPkzwgyVoE",
        "colab_type": "code",
        "colab": {},
        "outputId": "097de77e-ed85-446e-efca-c73744fc4ac4"
      },
      "source": [
        "%time mandelbrot_image(-2.0,0.5,-1.25,1.25,cmap='gnuplot2')"
      ],
      "execution_count": 0,
      "outputs": [
        {
          "output_type": "stream",
          "text": [
            "Wall time: 85.8 ms\n"
          ],
          "name": "stdout"
        },
        {
          "output_type": "display_data",
          "data": {
            "image/png": "[encoded data removed]",
            "text/plain": [
              "<Figure size 216x216 with 1 Axes>"
            ]
          },
          "metadata": {
            "tags": [],
            "needs_background": "light"
          }
        }
      ]
    },
    {
      "cell_type": "markdown",
      "metadata": {
        "id": "8Kg3LS0LyVoG",
        "colab_type": "text"
      },
      "source": [
        "## Numba vectorize\n",
        "\n",
        "An alternative to NumExpr."
      ]
    },
    {
      "cell_type": "code",
      "metadata": {
        "id": "ow43l7syyVoG",
        "colab_type": "code",
        "colab": {}
      },
      "source": [
        "from numba import vectorize, complex64, boolean, jit\n",
        "\n",
        "@vectorize([boolean(complex64)])\n",
        "def f(z):\n",
        "    return (z.real*z.real + z.imag*z.imag) < 4.0\n",
        "\n",
        "@vectorize([complex64(complex64, complex64)])\n",
        "def g(z,c):\n",
        "    return z*z + c \n",
        "\n",
        "@jit\n",
        "def mandelbrot_numpy(c, maxiter):\n",
        "    output = np.zeros(c.shape, np.int)\n",
        "    z = np.empty(c.shape, np.complex64)\n",
        "    for it in range(maxiter):\n",
        "        notdone = f(z)\n",
        "        output[notdone] = it\n",
        "        z[notdone] = g(z[notdone],c[notdone]) \n",
        "    output[output == maxiter-1] = 0\n",
        "    return output\n",
        "\n",
        "\n",
        "def mandelbrot_set(xmin,xmax,ymin,ymax,width,height,maxiter):\n",
        "    r1 = np.linspace(xmin, xmax, width, dtype=np.float32)\n",
        "    r2 = np.linspace(ymin, ymax, height, dtype=np.float32)\n",
        "    c = np.empty((r1.shape[0], r2.shape[0]), dtype=np.complex64)\n",
        "    c[:,:] = r1 + r2[:,None]*1j\n",
        "    n3 = mandelbrot_numpy(c,maxiter)\n",
        "    return (r1,r2,n3.T) "
      ],
      "execution_count": 0,
      "outputs": []
    },
    {
      "cell_type": "markdown",
      "metadata": {
        "id": "TTpjdWgCyVoH",
        "colab_type": "text"
      },
      "source": [
        "Even faster!"
      ]
    },
    {
      "cell_type": "markdown",
      "metadata": {
        "id": "OY7JGWeLyVoH",
        "colab_type": "text"
      },
      "source": [
        "%time mandelbrot_set(-2.0,0.5,-1.25,1.25,1000,1000,80)"
      ]
    },
    {
      "cell_type": "markdown",
      "metadata": {
        "id": "34JYH1vhyVoI",
        "colab_type": "raw"
      },
      "source": [
        "%time mandelbrot_set5(-0.74877,-0.74872,0.06505,0.06510,1000,1000,2048)"
      ]
    },
    {
      "cell_type": "markdown",
      "metadata": {
        "id": "q98FfSfOyVoJ",
        "colab_type": "text"
      },
      "source": [
        "Check."
      ]
    },
    {
      "cell_type": "code",
      "metadata": {
        "id": "S6RWkY9EyVoJ",
        "colab_type": "code",
        "colab": {}
      },
      "source": [
        "%time mandelbrot_image(-2.0,0.5,-1.25,1.25,cmap='gnuplot2')"
      ],
      "execution_count": 0,
      "outputs": []
    },
    {
      "cell_type": "markdown",
      "metadata": {
        "id": "CVaVYf86yVoK",
        "colab_type": "text"
      },
      "source": [
        "Try parallelism"
      ]
    },
    {
      "cell_type": "code",
      "metadata": {
        "id": "MfPiGpl7yVoK",
        "colab_type": "code",
        "colab": {}
      },
      "source": [
        "from numba import vectorize, complex64, boolean\n",
        "\n",
        "@vectorize([boolean(complex64)], target='parallel')\n",
        "def f(z):\n",
        "    return (z.real*z.real + z.imag*z.imag) < 4.0\n",
        "\n",
        "@vectorize([complex64(complex64, complex64)], target='parallel')\n",
        "def g(z,c):\n",
        "    return z*z + c \n",
        "\n",
        "def mandelbrot_numpy(c, maxiter):\n",
        "    output = np.empty(c.shape, np.int)\n",
        "    z = np.zeros(c.shape, np.complex64)\n",
        "    for it in range(maxiter):\n",
        "        notdone = f(z)\n",
        "        output[notdone] = it\n",
        "        z[notdone] = g(z[notdone],c[notdone])   \n",
        "    return output"
      ],
      "execution_count": 0,
      "outputs": []
    },
    {
      "cell_type": "markdown",
      "metadata": {
        "id": "fEZXpLV5yVoL",
        "colab_type": "text"
      },
      "source": [
        "Not paying off."
      ]
    },
    {
      "cell_type": "code",
      "metadata": {
        "id": "kNTmbgT2yVoM",
        "colab_type": "code",
        "colab": {},
        "outputId": "9031f6a1-3a1f-4e87-b5ce-5cacbe59f24a"
      },
      "source": [
        "%time mandelbrot_set2(-2.0,0.5,-1.25,1.25,1000,1000,80)"
      ],
      "execution_count": 0,
      "outputs": [
        {
          "output_type": "stream",
          "text": [
            "1 loops, best of 3: 793 ms per loop\n"
          ],
          "name": "stdout"
        }
      ]
    },
    {
      "cell_type": "code",
      "metadata": {
        "id": "nVK7Je62yVoN",
        "colab_type": "code",
        "colab": {},
        "outputId": "2cd4e706-1b78-4d12-d425-a3271e38280e"
      },
      "source": [
        "%time mandelbrot_set2(-0.74877,-0.74872,0.06505,0.06510,1000,1000,2048)"
      ],
      "execution_count": 0,
      "outputs": [
        {
          "output_type": "stream",
          "text": [
            "1 loops, best of 3: 27.3 s per loop\n"
          ],
          "name": "stdout"
        }
      ]
    },
    {
      "cell_type": "code",
      "metadata": {
        "id": "Lgnz5qrc4uFE",
        "colab_type": "code",
        "colab": {
          "base_uri": "https://localhost:8080/",
          "height": 245
        },
        "outputId": "c14a03ca-2bab-4055-859a-8672b46b156f"
      },
      "source": [
        "%time mandelbrot_image(-2.0,0.5,-1.25,1.25,cmap='gnuplot2')"
      ],
      "execution_count": 46,
      "outputs": [
        {
          "output_type": "stream",
          "text": [
            "CPU times: user 51.4 ms, sys: 4.01 ms, total: 55.4 ms\n",
            "Wall time: 52.7 ms\n"
          ],
          "name": "stdout"
        },
        {
          "output_type": "display_data",
          "data": {
            "image/png": "[encoded data removed]",
            "text/plain": [
              "<Figure size 216x216 with 1 Axes>"
            ]
          },
          "metadata": {
            "tags": []
          }
        }
      ]
    },
    {
      "cell_type": "markdown",
      "metadata": {
        "id": "A8VU1L9DyVoO",
        "colab_type": "text"
      },
      "source": [
        "We should parallelize the top loop.  We can do it via guvectorize."
      ]
    },
    {
      "cell_type": "markdown",
      "metadata": {
        "id": "yh85xtPsyVoO",
        "colab_type": "text"
      },
      "source": [
        "## Numba Guvectorize\n",
        "\n",
        "Let's try guvectorize too.  It amounts to reusing the sequential code."
      ]
    },
    {
      "cell_type": "code",
      "metadata": {
        "id": "AD3F8bu6yVoO",
        "colab_type": "code",
        "colab": {}
      },
      "source": [
        "import numpy as np\n",
        "from numba import jit, vectorize, guvectorize, float64, complex64, int32, float32\n",
        "\n",
        "@jit(int32(complex64, int32))\n",
        "def mandelbrot(c,maxiter):\n",
        "    nreal = 0\n",
        "    real = 0\n",
        "    imag = 0\n",
        "    for n in range(maxiter):\n",
        "        nreal = real*real - imag*imag + c.real\n",
        "        imag = 2* real*imag + c.imag\n",
        "        real = nreal;\n",
        "        if real * real + imag * imag > 4.0:\n",
        "            return n\n",
        "    return 0\n",
        "\n",
        "@guvectorize([(complex64[:], int32[:], int32[:])], '(n),()->(n)',target='parallel')\n",
        "def mandelbrot_numpy(c, maxit, output):\n",
        "    maxiter = maxit[0]\n",
        "    for i in range(c.shape[0]):\n",
        "        output[i] = mandelbrot(c[i],maxiter)\n",
        "        \n",
        "def mandelbrot_set(xmin,xmax,ymin,ymax,width,height,maxiter):\n",
        "    r1 = np.linspace(xmin, xmax, width, dtype=np.float32)\n",
        "    r2 = np.linspace(ymin, ymax, height, dtype=np.float32)\n",
        "    c = r1 + r2[:,None]*1j\n",
        "    n3 = mandelbrot_numpy(c,maxiter)\n",
        "    return (r1,r2,n3.T) "
      ],
      "execution_count": 0,
      "outputs": []
    },
    {
      "cell_type": "markdown",
      "metadata": {
        "id": "XPeXR4ApyVoP",
        "colab_type": "text"
      },
      "source": [
        "Way faster than the sequential code compiled with Numba. "
      ]
    },
    {
      "cell_type": "markdown",
      "metadata": {
        "id": "nxw8atMpyVoP",
        "colab_type": "text"
      },
      "source": [
        "%time mandelbrot_set(-2.0,0.5,-1.25,1.25,1000,1000,80)"
      ]
    },
    {
      "cell_type": "markdown",
      "metadata": {
        "id": "ItIXI_VLyVoR",
        "colab_type": "raw"
      },
      "source": [
        "%time mandelbrot_set2(-0.74877,-0.74872,0.06505,0.06510,1000,1000,2048)"
      ]
    },
    {
      "cell_type": "markdown",
      "metadata": {
        "id": "VxJZGuGvyVoR",
        "colab_type": "text"
      },
      "source": [
        "Check"
      ]
    },
    {
      "cell_type": "code",
      "metadata": {
        "id": "f8LdkTBkyVoR",
        "colab_type": "code",
        "colab": {
          "base_uri": "https://localhost:8080/",
          "height": 245
        },
        "outputId": "a9216079-ea91-494f-fbb8-8d2ed134041c"
      },
      "source": [
        "%time mandelbrot_image(-2.0,0.5,-1.25,1.25,cmap='gnuplot2')"
      ],
      "execution_count": 48,
      "outputs": [
        {
          "output_type": "stream",
          "text": [
            "CPU times: user 25.6 ms, sys: 12 µs, total: 25.6 ms\n",
            "Wall time: 28.2 ms\n"
          ],
          "name": "stdout"
        },
        {
          "output_type": "display_data",
          "data": {
            "image/png": "[encoded data removed]",
            "text/plain": [
              "<Figure size 216x216 with 1 Axes>"
            ]
          },
          "metadata": {
            "tags": []
          }
        }
      ]
    },
    {
      "cell_type": "markdown",
      "metadata": {
        "id": "qI9ozGfUyVoT",
        "colab_type": "text"
      },
      "source": [
        "Let's try Cuda target.  Since there is a bug, we must pass the iteration max as an array too.\n",
        "\n",
        "`$ conda install cudatoolkit`"
      ]
    },
    {
      "cell_type": "code",
      "metadata": {
        "id": "2zcFvMOo5PPx",
        "colab_type": "code",
        "colab": {
          "base_uri": "https://localhost:8080/",
          "height": 50
        },
        "outputId": "a2440b24-e3a9-49ee-95e8-34e74dd0b1ec"
      },
      "source": [
        "!pip install cudatoolkit"
      ],
      "execution_count": 50,
      "outputs": [
        {
          "output_type": "stream",
          "text": [
            "\u001b[31mERROR: Could not find a version that satisfies the requirement cudatoolkit (from versions: none)\u001b[0m\n",
            "\u001b[31mERROR: No matching distribution found for cudatoolkit\u001b[0m\n"
          ],
          "name": "stdout"
        }
      ]
    },
    {
      "cell_type": "code",
      "metadata": {
        "id": "-wTgTRSdyVoU",
        "colab_type": "code",
        "colab": {
          "base_uri": "https://localhost:8080/",
          "height": 370
        },
        "outputId": "e1fb4c33-3ca8-49a0-bdba-ecfa3ea2b426"
      },
      "source": [
        "import numpy as np\n",
        "from numba import jit, vectorize, guvectorize, float64, complex64, int32, float32\n",
        "\n",
        "@jit(int32(complex64, int32))\n",
        "def mandelbrot(c,maxiter):\n",
        "    creal = c.real\n",
        "    cimag = c.imag\n",
        "    real = creal\n",
        "    imag = cimag\n",
        "    for n in range(maxiter):\n",
        "        real2 = real*real\n",
        "        imag2 = imag*imag\n",
        "        if real2 + imag2 > 4.0:\n",
        "            return n\n",
        "        imag = 2* real*imag + cimag\n",
        "        real = real2 - imag2 + creal\n",
        "        \n",
        "    return 0\n",
        "\n",
        "@guvectorize([(complex64[:], int32[:], int32[:])], '(n),(n)->(n)', target='cuda')\n",
        "def mandelbrot_numpy(c, maxit, output):\n",
        "    maxiter = maxit[0]\n",
        "    for i in range(c.shape[0]):\n",
        "        creal = c[i].real\n",
        "        cimag = c[i].imag\n",
        "        real = creal\n",
        "        imag = cimag\n",
        "        output[i] = 0\n",
        "        for n in range(maxiter):\n",
        "            real2 = real*real\n",
        "            imag2 = imag*imag\n",
        "            if real2 + imag2 > 4.0:\n",
        "                output[i] = n\n",
        "                break\n",
        "            imag = 2* real*imag + cimag\n",
        "            real = real2 - imag2 + creal\n",
        "            \n",
        "        \n",
        "def mandelbrot_set(xmin,xmax,ymin,ymax,width,height,maxiter):\n",
        "    r1 = np.linspace(xmin, xmax, width, dtype=np.float32)\n",
        "    r2 = np.linspace(ymin, ymax, height, dtype=np.float32)\n",
        "    c = r1 + r2[:,None]*1j\n",
        "    n3 = np.empty(c.shape, int)\n",
        "    maxit = np.ones(c.shape, int) * maxiter\n",
        "    n3 = mandelbrot_numpy(c,maxit)\n",
        "    return (r1,r2,n3.T) "
      ],
      "execution_count": 49,
      "outputs": [
        {
          "output_type": "error",
          "ename": "RuntimeError",
          "evalue": "ignored",
          "traceback": [
            "\u001b[0;31m---------------------------------------------------------------------------\u001b[0m",
            "\u001b[0;31mRuntimeError\u001b[0m                              Traceback (most recent call last)",
            "\u001b[0;32m<ipython-input-49-6e0cb96516e3>\u001b[0m in \u001b[0;36m<module>\u001b[0;34m()\u001b[0m\n\u001b[1;32m     18\u001b[0m     \u001b[0;32mreturn\u001b[0m \u001b[0;36m0\u001b[0m\u001b[0;34m\u001b[0m\u001b[0;34m\u001b[0m\u001b[0m\n\u001b[1;32m     19\u001b[0m \u001b[0;34m\u001b[0m\u001b[0m\n\u001b[0;32m---> 20\u001b[0;31m \u001b[0;34m@\u001b[0m\u001b[0mguvectorize\u001b[0m\u001b[0;34m(\u001b[0m\u001b[0;34m[\u001b[0m\u001b[0;34m(\u001b[0m\u001b[0mcomplex64\u001b[0m\u001b[0;34m[\u001b[0m\u001b[0;34m:\u001b[0m\u001b[0;34m]\u001b[0m\u001b[0;34m,\u001b[0m \u001b[0mint32\u001b[0m\u001b[0;34m[\u001b[0m\u001b[0;34m:\u001b[0m\u001b[0;34m]\u001b[0m\u001b[0;34m,\u001b[0m \u001b[0mint32\u001b[0m\u001b[0;34m[\u001b[0m\u001b[0;34m:\u001b[0m\u001b[0;34m]\u001b[0m\u001b[0;34m)\u001b[0m\u001b[0;34m]\u001b[0m\u001b[0;34m,\u001b[0m \u001b[0;34m'(n),(n)->(n)'\u001b[0m\u001b[0;34m,\u001b[0m \u001b[0mtarget\u001b[0m\u001b[0;34m=\u001b[0m\u001b[0;34m'cuda'\u001b[0m\u001b[0;34m)\u001b[0m\u001b[0;34m\u001b[0m\u001b[0;34m\u001b[0m\u001b[0m\n\u001b[0m\u001b[1;32m     21\u001b[0m \u001b[0;32mdef\u001b[0m \u001b[0mmandelbrot_numpy\u001b[0m\u001b[0;34m(\u001b[0m\u001b[0mc\u001b[0m\u001b[0;34m,\u001b[0m \u001b[0mmaxit\u001b[0m\u001b[0;34m,\u001b[0m \u001b[0moutput\u001b[0m\u001b[0;34m)\u001b[0m\u001b[0;34m:\u001b[0m\u001b[0;34m\u001b[0m\u001b[0;34m\u001b[0m\u001b[0m\n\u001b[1;32m     22\u001b[0m     \u001b[0mmaxiter\u001b[0m \u001b[0;34m=\u001b[0m \u001b[0mmaxit\u001b[0m\u001b[0;34m[\u001b[0m\u001b[0;36m0\u001b[0m\u001b[0;34m]\u001b[0m\u001b[0;34m\u001b[0m\u001b[0;34m\u001b[0m\u001b[0m\n",
            "\u001b[0;32m/usr/local/lib/python3.6/dist-packages/numba/npyufunc/decorators.py\u001b[0m in \u001b[0;36mwrap\u001b[0;34m(func)\u001b[0m\n\u001b[1;32m    177\u001b[0m         \u001b[0mguvec\u001b[0m \u001b[0;34m=\u001b[0m \u001b[0mGUVectorize\u001b[0m\u001b[0;34m(\u001b[0m\u001b[0mfunc\u001b[0m\u001b[0;34m,\u001b[0m \u001b[0msignature\u001b[0m\u001b[0;34m,\u001b[0m \u001b[0;34m**\u001b[0m\u001b[0mkws\u001b[0m\u001b[0;34m)\u001b[0m\u001b[0;34m\u001b[0m\u001b[0;34m\u001b[0m\u001b[0m\n\u001b[1;32m    178\u001b[0m         \u001b[0;32mfor\u001b[0m \u001b[0mfty\u001b[0m \u001b[0;32min\u001b[0m \u001b[0mftylist\u001b[0m\u001b[0;34m:\u001b[0m\u001b[0;34m\u001b[0m\u001b[0;34m\u001b[0m\u001b[0m\n\u001b[0;32m--> 179\u001b[0;31m             \u001b[0mguvec\u001b[0m\u001b[0;34m.\u001b[0m\u001b[0madd\u001b[0m\u001b[0;34m(\u001b[0m\u001b[0mfty\u001b[0m\u001b[0;34m)\u001b[0m\u001b[0;34m\u001b[0m\u001b[0;34m\u001b[0m\u001b[0m\n\u001b[0m\u001b[1;32m    180\u001b[0m         \u001b[0;32mreturn\u001b[0m \u001b[0mguvec\u001b[0m\u001b[0;34m.\u001b[0m\u001b[0mbuild_ufunc\u001b[0m\u001b[0;34m(\u001b[0m\u001b[0;34m)\u001b[0m\u001b[0;34m\u001b[0m\u001b[0;34m\u001b[0m\u001b[0m\n\u001b[1;32m    181\u001b[0m \u001b[0;34m\u001b[0m\u001b[0m\n",
            "\u001b[0;32m/usr/local/lib/python3.6/dist-packages/numba/npyufunc/deviceufunc.py\u001b[0m in \u001b[0;36madd\u001b[0;34m(***failed resolving arguments***)\u001b[0m\n\u001b[1;32m    485\u001b[0m \u001b[0;34m\u001b[0m\u001b[0m\n\u001b[1;32m    486\u001b[0m         \u001b[0moutertys\u001b[0m \u001b[0;34m=\u001b[0m \u001b[0mlist\u001b[0m\u001b[0;34m(\u001b[0m\u001b[0m_determine_gufunc_outer_types\u001b[0m\u001b[0;34m(\u001b[0m\u001b[0margs\u001b[0m\u001b[0;34m,\u001b[0m \u001b[0mindims\u001b[0m \u001b[0;34m+\u001b[0m \u001b[0moutdims\u001b[0m\u001b[0;34m)\u001b[0m\u001b[0;34m)\u001b[0m\u001b[0;34m\u001b[0m\u001b[0;34m\u001b[0m\u001b[0m\n\u001b[0;32m--> 487\u001b[0;31m         \u001b[0mkernel\u001b[0m \u001b[0;34m=\u001b[0m \u001b[0mself\u001b[0m\u001b[0;34m.\u001b[0m\u001b[0m_compile_kernel\u001b[0m\u001b[0;34m(\u001b[0m\u001b[0mfnobj\u001b[0m\u001b[0;34m,\u001b[0m \u001b[0msig\u001b[0m\u001b[0;34m=\u001b[0m\u001b[0mtuple\u001b[0m\u001b[0;34m(\u001b[0m\u001b[0moutertys\u001b[0m\u001b[0;34m)\u001b[0m\u001b[0;34m)\u001b[0m\u001b[0;34m\u001b[0m\u001b[0;34m\u001b[0m\u001b[0m\n\u001b[0m\u001b[1;32m    488\u001b[0m \u001b[0;34m\u001b[0m\u001b[0m\n\u001b[1;32m    489\u001b[0m         \u001b[0mdtypes\u001b[0m \u001b[0;34m=\u001b[0m \u001b[0mtuple\u001b[0m\u001b[0;34m(\u001b[0m\u001b[0mnp\u001b[0m\u001b[0;34m.\u001b[0m\u001b[0mdtype\u001b[0m\u001b[0;34m(\u001b[0m\u001b[0mstr\u001b[0m\u001b[0;34m(\u001b[0m\u001b[0mt\u001b[0m\u001b[0;34m.\u001b[0m\u001b[0mdtype\u001b[0m\u001b[0;34m)\u001b[0m\u001b[0;34m)\u001b[0m \u001b[0;32mfor\u001b[0m \u001b[0mt\u001b[0m \u001b[0;32min\u001b[0m \u001b[0moutertys\u001b[0m\u001b[0;34m)\u001b[0m\u001b[0;34m\u001b[0m\u001b[0;34m\u001b[0m\u001b[0m\n",
            "\u001b[0;32m/usr/local/lib/python3.6/dist-packages/numba/cuda/vectorizers.py\u001b[0m in \u001b[0;36m_compile_kernel\u001b[0;34m(self, fnobj, sig)\u001b[0m\n\u001b[1;32m     53\u001b[0m \u001b[0;34m\u001b[0m\u001b[0m\n\u001b[1;32m     54\u001b[0m     \u001b[0;32mdef\u001b[0m \u001b[0m_compile_kernel\u001b[0m\u001b[0;34m(\u001b[0m\u001b[0mself\u001b[0m\u001b[0;34m,\u001b[0m \u001b[0mfnobj\u001b[0m\u001b[0;34m,\u001b[0m \u001b[0msig\u001b[0m\u001b[0;34m)\u001b[0m\u001b[0;34m:\u001b[0m\u001b[0;34m\u001b[0m\u001b[0;34m\u001b[0m\u001b[0m\n\u001b[0;32m---> 55\u001b[0;31m         \u001b[0;32mreturn\u001b[0m \u001b[0mcuda\u001b[0m\u001b[0;34m.\u001b[0m\u001b[0mjit\u001b[0m\u001b[0;34m(\u001b[0m\u001b[0msig\u001b[0m\u001b[0;34m)\u001b[0m\u001b[0;34m(\u001b[0m\u001b[0mfnobj\u001b[0m\u001b[0;34m)\u001b[0m\u001b[0;34m\u001b[0m\u001b[0;34m\u001b[0m\u001b[0m\n\u001b[0m\u001b[1;32m     56\u001b[0m \u001b[0;34m\u001b[0m\u001b[0m\n\u001b[1;32m     57\u001b[0m     \u001b[0;34m@\u001b[0m\u001b[0mproperty\u001b[0m\u001b[0;34m\u001b[0m\u001b[0;34m\u001b[0m\u001b[0m\n",
            "\u001b[0;32m/usr/local/lib/python3.6/dist-packages/numba/cuda/decorators.py\u001b[0m in \u001b[0;36mkernel_jit\u001b[0;34m(func)\u001b[0m\n\u001b[1;32m     99\u001b[0m             \u001b[0;31m# Force compilation for the current context\u001b[0m\u001b[0;34m\u001b[0m\u001b[0;34m\u001b[0m\u001b[0;34m\u001b[0m\u001b[0m\n\u001b[1;32m    100\u001b[0m             \u001b[0;32mif\u001b[0m \u001b[0mbind\u001b[0m\u001b[0;34m:\u001b[0m\u001b[0;34m\u001b[0m\u001b[0;34m\u001b[0m\u001b[0m\n\u001b[0;32m--> 101\u001b[0;31m                 \u001b[0mkernel\u001b[0m\u001b[0;34m.\u001b[0m\u001b[0mbind\u001b[0m\u001b[0;34m(\u001b[0m\u001b[0;34m)\u001b[0m\u001b[0;34m\u001b[0m\u001b[0;34m\u001b[0m\u001b[0m\n\u001b[0m\u001b[1;32m    102\u001b[0m \u001b[0;34m\u001b[0m\u001b[0m\n\u001b[1;32m    103\u001b[0m             \u001b[0;32mreturn\u001b[0m \u001b[0mkernel\u001b[0m\u001b[0;34m\u001b[0m\u001b[0;34m\u001b[0m\u001b[0m\n",
            "\u001b[0;32m/usr/local/lib/python3.6/dist-packages/numba/cuda/compiler.py\u001b[0m in \u001b[0;36mbind\u001b[0;34m(self)\u001b[0m\n\u001b[1;32m    540\u001b[0m         \u001b[0mForce\u001b[0m \u001b[0mbinding\u001b[0m \u001b[0mto\u001b[0m \u001b[0mcurrent\u001b[0m \u001b[0mCUDA\u001b[0m \u001b[0mcontext\u001b[0m\u001b[0;34m\u001b[0m\u001b[0;34m\u001b[0m\u001b[0m\n\u001b[1;32m    541\u001b[0m         \"\"\"\n\u001b[0;32m--> 542\u001b[0;31m         \u001b[0mself\u001b[0m\u001b[0;34m.\u001b[0m\u001b[0m_func\u001b[0m\u001b[0;34m.\u001b[0m\u001b[0mget\u001b[0m\u001b[0;34m(\u001b[0m\u001b[0;34m)\u001b[0m\u001b[0;34m\u001b[0m\u001b[0;34m\u001b[0m\u001b[0m\n\u001b[0m\u001b[1;32m    543\u001b[0m \u001b[0;34m\u001b[0m\u001b[0m\n\u001b[1;32m    544\u001b[0m     \u001b[0;34m@\u001b[0m\u001b[0mproperty\u001b[0m\u001b[0;34m\u001b[0m\u001b[0;34m\u001b[0m\u001b[0m\n",
            "\u001b[0;32m/usr/local/lib/python3.6/dist-packages/numba/cuda/compiler.py\u001b[0m in \u001b[0;36mget\u001b[0;34m(self)\u001b[0m\n\u001b[1;32m    414\u001b[0m \u001b[0;34m\u001b[0m\u001b[0m\n\u001b[1;32m    415\u001b[0m     \u001b[0;32mdef\u001b[0m \u001b[0mget\u001b[0m\u001b[0;34m(\u001b[0m\u001b[0mself\u001b[0m\u001b[0;34m)\u001b[0m\u001b[0;34m:\u001b[0m\u001b[0;34m\u001b[0m\u001b[0;34m\u001b[0m\u001b[0m\n\u001b[0;32m--> 416\u001b[0;31m         \u001b[0mcuctx\u001b[0m \u001b[0;34m=\u001b[0m \u001b[0mget_context\u001b[0m\u001b[0;34m(\u001b[0m\u001b[0;34m)\u001b[0m\u001b[0;34m\u001b[0m\u001b[0;34m\u001b[0m\u001b[0m\n\u001b[0m\u001b[1;32m    417\u001b[0m         \u001b[0mdevice\u001b[0m \u001b[0;34m=\u001b[0m \u001b[0mcuctx\u001b[0m\u001b[0;34m.\u001b[0m\u001b[0mdevice\u001b[0m\u001b[0;34m\u001b[0m\u001b[0;34m\u001b[0m\u001b[0m\n\u001b[1;32m    418\u001b[0m         \u001b[0mcufunc\u001b[0m \u001b[0;34m=\u001b[0m \u001b[0mself\u001b[0m\u001b[0;34m.\u001b[0m\u001b[0mcache\u001b[0m\u001b[0;34m.\u001b[0m\u001b[0mget\u001b[0m\u001b[0;34m(\u001b[0m\u001b[0mdevice\u001b[0m\u001b[0;34m.\u001b[0m\u001b[0mid\u001b[0m\u001b[0;34m)\u001b[0m\u001b[0;34m\u001b[0m\u001b[0;34m\u001b[0m\u001b[0m\n",
            "\u001b[0;32m/usr/local/lib/python3.6/dist-packages/numba/cuda/cudadrv/devices.py\u001b[0m in \u001b[0;36mget_context\u001b[0;34m(devnum)\u001b[0m\n\u001b[1;32m    211\u001b[0m     \u001b[0;32mreturn\u001b[0m \u001b[0mthe\u001b[0m \u001b[0mCUDA\u001b[0m \u001b[0mcontext\u001b[0m\u001b[0;34m.\u001b[0m\u001b[0;34m\u001b[0m\u001b[0;34m\u001b[0m\u001b[0m\n\u001b[1;32m    212\u001b[0m     \"\"\"\n\u001b[0;32m--> 213\u001b[0;31m     \u001b[0;32mreturn\u001b[0m \u001b[0m_runtime\u001b[0m\u001b[0;34m.\u001b[0m\u001b[0mget_or_create_context\u001b[0m\u001b[0;34m(\u001b[0m\u001b[0mdevnum\u001b[0m\u001b[0;34m)\u001b[0m\u001b[0;34m\u001b[0m\u001b[0;34m\u001b[0m\u001b[0m\n\u001b[0m\u001b[1;32m    214\u001b[0m \u001b[0;34m\u001b[0m\u001b[0m\n\u001b[1;32m    215\u001b[0m \u001b[0;34m\u001b[0m\u001b[0m\n",
            "\u001b[0;32m/usr/local/lib/python3.6/dist-packages/numba/cuda/cudadrv/devices.py\u001b[0m in \u001b[0;36mget_or_create_context\u001b[0;34m(self, devnum)\u001b[0m\n\u001b[1;32m    137\u001b[0m             \u001b[0mattached_ctx\u001b[0m \u001b[0;34m=\u001b[0m \u001b[0mself\u001b[0m\u001b[0;34m.\u001b[0m\u001b[0m_get_attached_context\u001b[0m\u001b[0;34m(\u001b[0m\u001b[0;34m)\u001b[0m\u001b[0;34m\u001b[0m\u001b[0;34m\u001b[0m\u001b[0m\n\u001b[1;32m    138\u001b[0m             \u001b[0;32mif\u001b[0m \u001b[0mattached_ctx\u001b[0m \u001b[0;32mis\u001b[0m \u001b[0;32mNone\u001b[0m\u001b[0;34m:\u001b[0m\u001b[0;34m\u001b[0m\u001b[0;34m\u001b[0m\u001b[0m\n\u001b[0;32m--> 139\u001b[0;31m                 \u001b[0;32mreturn\u001b[0m \u001b[0mself\u001b[0m\u001b[0;34m.\u001b[0m\u001b[0m_get_or_create_context_uncached\u001b[0m\u001b[0;34m(\u001b[0m\u001b[0mdevnum\u001b[0m\u001b[0;34m)\u001b[0m\u001b[0;34m\u001b[0m\u001b[0;34m\u001b[0m\u001b[0m\n\u001b[0m\u001b[1;32m    140\u001b[0m             \u001b[0;32melse\u001b[0m\u001b[0;34m:\u001b[0m\u001b[0;34m\u001b[0m\u001b[0;34m\u001b[0m\u001b[0m\n\u001b[1;32m    141\u001b[0m                 \u001b[0;32mreturn\u001b[0m \u001b[0mattached_ctx\u001b[0m\u001b[0;34m\u001b[0m\u001b[0;34m\u001b[0m\u001b[0m\n",
            "\u001b[0;32m/usr/local/lib/python3.6/dist-packages/numba/cuda/cudadrv/devices.py\u001b[0m in \u001b[0;36m_get_or_create_context_uncached\u001b[0;34m(self, devnum)\u001b[0m\n\u001b[1;32m    160\u001b[0m                         msg = ('Numba cannot operate on non-primary'\n\u001b[1;32m    161\u001b[0m                                ' CUDA context {:x}')\n\u001b[0;32m--> 162\u001b[0;31m                         \u001b[0;32mraise\u001b[0m \u001b[0mRuntimeError\u001b[0m\u001b[0;34m(\u001b[0m\u001b[0mmsg\u001b[0m\u001b[0;34m.\u001b[0m\u001b[0mformat\u001b[0m\u001b[0;34m(\u001b[0m\u001b[0mac\u001b[0m\u001b[0;34m.\u001b[0m\u001b[0mcontext_handle\u001b[0m\u001b[0;34m.\u001b[0m\u001b[0mvalue\u001b[0m\u001b[0;34m)\u001b[0m\u001b[0;34m)\u001b[0m\u001b[0;34m\u001b[0m\u001b[0;34m\u001b[0m\u001b[0m\n\u001b[0m\u001b[1;32m    163\u001b[0m                     \u001b[0;31m# Ensure the context is ready\u001b[0m\u001b[0;34m\u001b[0m\u001b[0;34m\u001b[0m\u001b[0;34m\u001b[0m\u001b[0m\n\u001b[1;32m    164\u001b[0m                     \u001b[0mctx\u001b[0m\u001b[0;34m.\u001b[0m\u001b[0mprepare_for_use\u001b[0m\u001b[0;34m(\u001b[0m\u001b[0;34m)\u001b[0m\u001b[0;34m\u001b[0m\u001b[0;34m\u001b[0m\u001b[0m\n",
            "\u001b[0;31mRuntimeError\u001b[0m: Numba cannot operate on non-primary CUDA context 462a000"
          ]
        }
      ]
    },
    {
      "cell_type": "markdown",
      "metadata": {
        "collapsed": true,
        "id": "b_44zYPmyVoV",
        "colab_type": "text"
      },
      "source": [
        "Slightly slower."
      ]
    },
    {
      "cell_type": "markdown",
      "metadata": {
        "id": "-06f_GpByVoV",
        "colab_type": "text"
      },
      "source": [
        "%time mandelbrot_set(-2.0,0.5,-1.25,1.25,1000,1000,80)"
      ]
    },
    {
      "cell_type": "markdown",
      "metadata": {
        "id": "fG5owiVSyVoW",
        "colab_type": "raw"
      },
      "source": [
        "%time mandelbrot_set2(-0.74877,-0.74872,0.06505,0.06510,1000,1000,2048)"
      ]
    },
    {
      "cell_type": "markdown",
      "metadata": {
        "id": "60ClWePEyVoW",
        "colab_type": "text"
      },
      "source": [
        "Check"
      ]
    },
    {
      "cell_type": "code",
      "metadata": {
        "id": "9qy_cINfyVoX",
        "colab_type": "code",
        "colab": {},
        "outputId": "7f43be67-afdf-46ef-b084-1ac9e56329dc"
      },
      "source": [
        "%time mandelbrot_image(-2.0,0.5,-1.25,1.25,cmap='gnuplot2')"
      ],
      "execution_count": 0,
      "outputs": [
        {
          "output_type": "stream",
          "text": [
            "Wall time: 14.1 ms\n"
          ],
          "name": "stdout"
        },
        {
          "output_type": "display_data",
          "data": {
            "image/png": "[encoded data removed]",
            "text/plain": [
              "<Figure size 216x216 with 1 Axes>"
            ]
          },
          "metadata": {
            "tags": [],
            "needs_background": "light"
          }
        }
      ]
    },
    {
      "cell_type": "markdown",
      "metadata": {
        "id": "CuDc3d9myVoY",
        "colab_type": "text"
      },
      "source": [
        "## TensorFlow\n",
        "\n",
        "Code from https://github.com/tensorflow/examples/blob/master/community/en/mandelbrot.ipynb"
      ]
    },
    {
      "cell_type": "markdown",
      "metadata": {
        "collapsed": true,
        "id": "cR4-M7X2yVoZ",
        "colab_type": "text"
      },
      "source": [
        "Timings on my machine:\n",
        "\n",
        "5.29394221306\n",
        "\n",
        "34.6283330917"
      ]
    },
    {
      "cell_type": "markdown",
      "metadata": {
        "collapsed": true,
        "id": "X76sVsmFyVoa",
        "colab_type": "text"
      },
      "source": [
        "## PyOpenCl\n",
        "\n",
        "We reuse the boilerplate code from PyOpenCl documentation as much as possible."
      ]
    },
    {
      "cell_type": "code",
      "metadata": {
        "id": "3sQRMcyLyVoa",
        "colab_type": "code",
        "colab": {}
      },
      "source": [
        "from __future__ import absolute_import\n",
        "from __future__ import print_function\n",
        "\n",
        "import pyopencl as cl"
      ],
      "execution_count": 0,
      "outputs": []
    },
    {
      "cell_type": "markdown",
      "metadata": {
        "id": "5NX0xQKvyVob",
        "colab_type": "text"
      },
      "source": [
        "failed to `pip install pyopencl` on windows, ok on WSL"
      ]
    },
    {
      "cell_type": "code",
      "metadata": {
        "id": "kKvGQl4TyVob",
        "colab_type": "code",
        "colab": {
          "base_uri": "https://localhost:8080/",
          "height": 50
        },
        "outputId": "02914820-5615-4947-a3e7-b91dd8f07d29"
      },
      "source": [
        "%load_ext pyopencl.ipython_ext"
      ],
      "execution_count": 21,
      "outputs": [
        {
          "output_type": "stream",
          "text": [
            "The pyopencl.ipython_ext extension is already loaded. To reload it, use:\n",
            "  %reload_ext pyopencl.ipython_ext\n"
          ],
          "name": "stdout"
        }
      ]
    },
    {
      "cell_type": "markdown",
      "metadata": {
        "id": "UbONRQ7lyVoc",
        "colab_type": "text"
      },
      "source": [
        "We create a context interactively in order to select which device to use."
      ]
    },
    {
      "cell_type": "code",
      "metadata": {
        "id": "6pFxZhgyyVod",
        "colab_type": "code",
        "colab": {
          "base_uri": "https://localhost:8080/",
          "height": 101
        },
        "outputId": "8ba8d540-272a-4528-9478-00d5baab953b"
      },
      "source": [
        "ctx = cl.create_some_context(interactive=True)\n",
        "devices = ctx.get_info(cl.context_info.DEVICES)\n",
        "print(devices)"
      ],
      "execution_count": 22,
      "outputs": [
        {
          "output_type": "stream",
          "text": [
            "Choose platform:\n",
            "[0] <pyopencl.Platform 'NVIDIA CUDA' at 0x596ab40>\n",
            "Choice [0]:0\n",
            "Set the environment variable PYOPENCL_CTX='0' to avoid being asked again.\n",
            "[<pyopencl.Device 'Tesla T4' on 'NVIDIA CUDA' at 0x596c1c0>]\n"
          ],
          "name": "stdout"
        }
      ]
    },
    {
      "cell_type": "markdown",
      "metadata": {
        "id": "IjDr2NR8yVoe",
        "colab_type": "text"
      },
      "source": [
        "The code is moving the heavy duty piece to a piece of C code thta gets compiled and run on the selected device.\n",
        "\n",
        "Input and output for that code is handled in Python."
      ]
    },
    {
      "cell_type": "code",
      "metadata": {
        "id": "WN7lMtP-yVoe",
        "colab_type": "code",
        "colab": {}
      },
      "source": [
        "def mandelbrot_gpu(q, maxiter):\n",
        "\n",
        "    global ctx\n",
        "    \n",
        "    queue = cl.CommandQueue(ctx)\n",
        "    \n",
        "    output = np.empty(q.shape, dtype=np.uint16)\n",
        "\n",
        "    prg = cl.Program(ctx, \"\"\"\n",
        "    #pragma OPENCL EXTENSION cl_khr_byte_addressable_store : enable\n",
        "    __kernel void mandelbrot(__global float2 *q,\n",
        "                     __global ushort *output, ushort const maxiter)\n",
        "    {\n",
        "        int gid = get_global_id(0);\n",
        "        float nreal, real = 0;\n",
        "        float imag = 0;\n",
        "        output[gid] = 0;\n",
        "        for(int curiter = 0; curiter < maxiter; curiter++) {\n",
        "            nreal = real*real - imag*imag + q[gid].x;\n",
        "            imag = 2* real*imag + q[gid].y;\n",
        "            real = nreal;\n",
        "            if (real*real + imag*imag > 4.0f){\n",
        "                 output[gid] = curiter;\n",
        "                 break;\n",
        "            }\n",
        "        }\n",
        "    }\n",
        "    \"\"\").build()\n",
        "\n",
        "    mf = cl.mem_flags\n",
        "    q_opencl = cl.Buffer(ctx, mf.READ_ONLY | mf.COPY_HOST_PTR, hostbuf=q)\n",
        "    output_opencl = cl.Buffer(ctx, mf.WRITE_ONLY, output.nbytes)\n",
        "\n",
        "\n",
        "    prg.mandelbrot(queue, output.shape, None, q_opencl,\n",
        "                   output_opencl, np.uint16(maxiter))\n",
        "\n",
        "    cl.enqueue_copy(queue, output, output_opencl).wait()\n",
        "    \n",
        "    return output\n",
        "\n",
        "def mandelbrot_set(xmin,xmax,ymin,ymax,width,height,maxiter):\n",
        "    r1 = np.linspace(xmin, xmax, width, dtype=np.float32)\n",
        "    r2 = np.linspace(ymin, ymax, height, dtype=np.float32)\n",
        "    c = r1 + r2[:,None]*1j\n",
        "    c = np.ravel(c)\n",
        "    n3 = mandelbrot_gpu(c,maxiter)\n",
        "    n3 = n3.reshape((width,height))\n",
        "    return (r1,r2,n3.T)"
      ],
      "execution_count": 0,
      "outputs": []
    },
    {
      "cell_type": "code",
      "metadata": {
        "id": "NC3Lmy1eyVof",
        "colab_type": "code",
        "colab": {
          "base_uri": "https://localhost:8080/",
          "height": 245
        },
        "outputId": "8b97ed49-949a-4f21-e11e-304dbbe74b80"
      },
      "source": [
        "%time mandelbrot_image(-2.0,0.5,-1.25,1.25,cmap='gnuplot2')"
      ],
      "execution_count": 24,
      "outputs": [
        {
          "output_type": "stream",
          "text": [
            "CPU times: user 111 ms, sys: 24 ms, total: 135 ms\n",
            "Wall time: 375 ms\n"
          ],
          "name": "stdout"
        },
        {
          "output_type": "display_data",
          "data": {
            "image/png": "[encoded data removed]",
            "text/plain": [
              "<Figure size 216x216 with 1 Axes>"
            ]
          },
          "metadata": {
            "tags": []
          }
        }
      ]
    },
    {
      "cell_type": "markdown",
      "metadata": {
        "id": "kn2CPD26yVoh",
        "colab_type": "text"
      },
      "source": [
        "Following code is faster on gpu, above code is faster on cpu."
      ]
    },
    {
      "cell_type": "code",
      "metadata": {
        "id": "HmmyZ0byyVoh",
        "colab_type": "code",
        "colab": {}
      },
      "source": [
        "def mandelbrot_gpu(q, maxiter):\n",
        "\n",
        "    global ctx\n",
        "    \n",
        "    queue = cl.CommandQueue(ctx)\n",
        "    \n",
        "    output = np.empty(q.shape, dtype=np.uint16)\n",
        "\n",
        "    prg = cl.Program(ctx, \"\"\"\n",
        "    #pragma OPENCL EXTENSION cl_khr_byte_addressable_store : enable\n",
        "    __kernel void mandelbrot(__global float2 *q,\n",
        "                     __global ushort *output, ushort const maxiter)\n",
        "    {\n",
        "        int gid = get_global_id(0);\n",
        "        float real = q[gid].x;\n",
        "        float imag = q[gid].y;\n",
        "        output[gid] = 0;\n",
        "        for(int curiter = 0; curiter < maxiter; curiter++) {\n",
        "            float real2 = real*real, imag2 = imag*imag;\n",
        "            if (real*real + imag*imag > 4.0f){\n",
        "                 output[gid] = curiter;\n",
        "                 return;\n",
        "            }\n",
        "            imag = 2* real*imag + q[gid].y;\n",
        "            real = real2 - imag2 + q[gid].x;\n",
        "            \n",
        "        }\n",
        "    }\n",
        "    \"\"\").build()\n",
        "\n",
        "    mf = cl.mem_flags\n",
        "    q_opencl = cl.Buffer(ctx, mf.READ_ONLY | mf.COPY_HOST_PTR, hostbuf=q)\n",
        "    output_opencl = cl.Buffer(ctx, mf.WRITE_ONLY, output.nbytes)\n",
        "\n",
        "\n",
        "    prg.mandelbrot(queue, output.shape, None, q_opencl,\n",
        "                   output_opencl, np.uint16(maxiter))\n",
        "\n",
        "    cl.enqueue_copy(queue, output, output_opencl).wait()\n",
        "    \n",
        "    return output\n",
        "\n",
        "def mandelbrot_set(xmin,xmax,ymin,ymax,width,height,maxiter):\n",
        "    r1 = np.linspace(xmin, xmax, width, dtype=np.float32)\n",
        "    r2 = np.linspace(ymin, ymax, height, dtype=np.float32)\n",
        "    c = r1 + r2[:,None]*1j\n",
        "    c = np.ravel(c)\n",
        "    n3 = mandelbrot_gpu(c,maxiter)\n",
        "    n3 = n3.reshape((width,height))\n",
        "    return (r1,r2,n3.T)"
      ],
      "execution_count": 0,
      "outputs": []
    },
    {
      "cell_type": "markdown",
      "metadata": {
        "id": "2gWOZCHqyVoi",
        "colab_type": "text"
      },
      "source": [
        "This is way faster than the rest"
      ]
    },
    {
      "cell_type": "markdown",
      "metadata": {
        "id": "664v71goyVoi",
        "colab_type": "text"
      },
      "source": [
        "Let's check it is correct"
      ]
    },
    {
      "cell_type": "code",
      "metadata": {
        "id": "sRdDES2fyVoj",
        "colab_type": "code",
        "colab": {
          "base_uri": "https://localhost:8080/",
          "height": 245
        },
        "outputId": "e1136966-1068-45df-f63c-e42882718511"
      },
      "source": [
        "%time mandelbrot_image(-2.0,0.5,-1.25,1.25,cmap='gnuplot2')"
      ],
      "execution_count": 26,
      "outputs": [
        {
          "output_type": "stream",
          "text": [
            "CPU times: user 109 ms, sys: 4.99 ms, total: 114 ms\n",
            "Wall time: 115 ms\n"
          ],
          "name": "stdout"
        },
        {
          "output_type": "display_data",
          "data": {
            "image/png": "[encoded data removed]",
            "text/plain": [
              "<Figure size 216x216 with 1 Axes>"
            ]
          },
          "metadata": {
            "tags": []
          }
        }
      ]
    },
    {
      "cell_type": "code",
      "metadata": {
        "id": "VMyXw08oyVok",
        "colab_type": "code",
        "colab": {
          "base_uri": "https://localhost:8080/",
          "height": 245
        },
        "outputId": "eb1a24c4-827f-4505-ab49-a6a3f2aa1f70"
      },
      "source": [
        "%time mandelbrot_image(-0.74877,-0.74872,0.06505,0.06510,maxiter=2048,cmap='gnuplot2')"
      ],
      "execution_count": 27,
      "outputs": [
        {
          "output_type": "stream",
          "text": [
            "CPU times: user 14.3 ms, sys: 2.01 ms, total: 16.3 ms\n",
            "Wall time: 23.6 ms\n"
          ],
          "name": "stdout"
        },
        {
          "output_type": "display_data",
          "data": {
            "image/png": "[encoded data removed]",
            "text/plain": [
              "<Figure size 216x216 with 1 Axes>"
            ]
          },
          "metadata": {
            "tags": []
          }
        }
      ]
    },
    {
      "cell_type": "markdown",
      "metadata": {
        "id": "cLHXXX_MyVol",
        "colab_type": "text"
      },
      "source": [
        "%time mandelbrot_set3(-2.0,0.5,-1.25,1.25,1000,1000,80)"
      ]
    },
    {
      "cell_type": "markdown",
      "metadata": {
        "id": "YzJGjqbAyVon",
        "colab_type": "text"
      },
      "source": [
        "%time mandelbrot_set3(-0.74877,-0.74872,0.06505,0.06510,1000,1000,2048)"
      ]
    },
    {
      "cell_type": "markdown",
      "metadata": {
        "id": "5oS6NXDhyVop",
        "colab_type": "text"
      },
      "source": [
        "## PyCUDA\n",
        "\n",
        "Modified from http://wiki.tiker.net/PyCuda/Examples/Mandelbrot"
      ]
    },
    {
      "cell_type": "code",
      "metadata": {
        "id": "0d4DoAf4yVop",
        "colab_type": "code",
        "colab": {}
      },
      "source": [
        "import pycuda.driver as drv\n",
        "import pycuda.tools\n",
        "import pycuda.autoinit\n",
        "from pycuda.compiler import SourceModule\n",
        "import pycuda.gpuarray as gpuarray\n",
        "from pycuda.elementwise import ElementwiseKernel\n",
        "\n",
        "complex_gpu1 = ElementwiseKernel(\n",
        "    \"pycuda::complex<float> *q, int *output, int maxiter\",\n",
        "    \"\"\"\n",
        "    {\n",
        "        float nreal, real = 0;\n",
        "        float imag = 0;\n",
        "        output[i] = 0;\n",
        "        for(int curiter = 0; curiter < maxiter; curiter++) {\n",
        "            nreal = real*real - imag*imag + q[i].real();\n",
        "            imag = 2* real*imag + q[i].imag();\n",
        "            real = nreal;\n",
        "            if (real*real + imag*imag > 4.0f){\n",
        "                output[i] = curiter;\n",
        "                break;\n",
        "                };\n",
        "        };\n",
        "    }\n",
        "    \"\"\",\n",
        "    \"complex5\",\n",
        "    preamble=\"#include <pycuda-complex.hpp>\",)\n",
        "\n",
        "complex_gpu = ElementwiseKernel(\n",
        "    \"pycuda::complex<float> *q, int *output, int maxiter\",\n",
        "    \"\"\"\n",
        "    {\n",
        "        float nreal, real = 0;\n",
        "        float imag = 0;\n",
        "        output[i] = 0;\n",
        "        for(int curiter = 0; curiter < maxiter; curiter++) {\n",
        "            float real2 = real*real;\n",
        "            float imag2 = imag*imag;\n",
        "            nreal = real2 - imag2 + q[i].real();\n",
        "            imag = 2* real*imag + q[i].imag();\n",
        "            real = nreal;\n",
        "            if (real2 + imag2 > 4.0f){\n",
        "                output[i] = curiter;\n",
        "                break;\n",
        "                };\n",
        "        };\n",
        "    }\n",
        "    \"\"\",\n",
        "    \"complex5\",\n",
        "    preamble=\"#include <pycuda-complex.hpp>\",)\n",
        "\n",
        "complex_gpu1 = ElementwiseKernel(\n",
        "    \"pycuda::complex<float> *q, int *output, int maxiter\",\n",
        "    \"\"\"\n",
        "    {\n",
        "        float real = q[i].real();\n",
        "        float imag = q[i].imag();\n",
        "        output[i] = 0;\n",
        "        for(int curiter = 0; curiter < maxiter; curiter++) {\n",
        "            float real2 = real*real;\n",
        "            float imag2 = imag*imag;\n",
        "            if (real2 + imag2 > 4.0f){\n",
        "                output[i] = curiter;\n",
        "                break;\n",
        "            };\n",
        "            imag = 2* real*imag + q[i].imag();\n",
        "            real = real2 - imag2 + q[i].real();\n",
        "         };\n",
        "    }\n",
        "    \"\"\",\n",
        "    \"complex5\",\n",
        "    preamble=\"#include <pycuda-complex.hpp>\",)\n",
        "\n",
        "def mandelbrot_gpu(c, maxiter):\n",
        "    q_gpu = gpuarray.to_gpu(c.astype(np.complex64))\n",
        "    iterations_gpu = gpuarray.to_gpu(np.empty(c.shape, dtype=np.int))\n",
        "    complex_gpu(q_gpu, iterations_gpu, maxiter)\n",
        "\n",
        "    return iterations_gpu.get()"
      ],
      "execution_count": 0,
      "outputs": []
    },
    {
      "cell_type": "markdown",
      "metadata": {
        "id": "ukc5x7QvyVor",
        "colab_type": "text"
      },
      "source": [
        "Let's check it is correct"
      ]
    },
    {
      "cell_type": "code",
      "metadata": {
        "id": "y5OuddYSyVos",
        "colab_type": "code",
        "colab": {
          "base_uri": "https://localhost:8080/",
          "height": 245
        },
        "outputId": "16433c62-ac24-4508-cd51-68b7ada17e44"
      },
      "source": [
        "%time mandelbrot_image(-2.0,0.5,-1.25,1.25,cmap='gnuplot2')"
      ],
      "execution_count": 8,
      "outputs": [
        {
          "output_type": "stream",
          "text": [
            "CPU times: user 1.48 s, sys: 982 µs, total: 1.48 s\n",
            "Wall time: 1.48 s\n"
          ],
          "name": "stdout"
        },
        {
          "output_type": "display_data",
          "data": {
            "image/png": "[encoded data removed]",
            "text/plain": [
              "<Figure size 216x216 with 1 Axes>"
            ]
          },
          "metadata": {
            "tags": []
          }
        }
      ]
    },
    {
      "cell_type": "code",
      "metadata": {
        "id": "C-ymtdmCyVot",
        "colab_type": "code",
        "colab": {},
        "outputId": "48c0b6e8-40f7-4d06-cdc1-a6897f4b4af1"
      },
      "source": [
        "%time mandelbrot_image(-0.74877,-0.74872,0.06505,0.06510,maxiter=2048,cmap='gnuplot2')"
      ],
      "execution_count": 0,
      "outputs": [
        {
          "output_type": "display_data",
          "data": {
            "image/png": "[encoded data removed]",
            "text/plain": [
              "<matplotlib.figure.Figure at 0xeda8208>"
            ]
          },
          "metadata": {
            "tags": []
          }
        }
      ]
    },
    {
      "cell_type": "code",
      "metadata": {
        "id": "0du226P1yVou",
        "colab_type": "code",
        "colab": {},
        "outputId": "87148477-c34e-4495-97e7-da822f5bb83e"
      },
      "source": [
        "%time mandelbrot_set3(-2.0,0.5,-1.25,1.25,1000,1000,80)"
      ],
      "execution_count": 0,
      "outputs": [
        {
          "output_type": "stream",
          "text": [
            "10 loops, best of 3: 31.9 ms per loop\n"
          ],
          "name": "stdout"
        }
      ]
    },
    {
      "cell_type": "code",
      "metadata": {
        "id": "rByaxQc2yVov",
        "colab_type": "code",
        "colab": {},
        "outputId": "2772270d-14b5-49e8-9a9c-2de169206b2a"
      },
      "source": [
        "%time mandelbrot_set3(-0.74877,-0.74872,0.06505,0.06510,1000,1000,2048)"
      ],
      "execution_count": 0,
      "outputs": [
        {
          "output_type": "stream",
          "text": [
            "1 loops, best of 3: 193 ms per loop\n"
          ],
          "name": "stdout"
        }
      ]
    },
    {
      "cell_type": "markdown",
      "metadata": {
        "id": "fRylt3jSyVow",
        "colab_type": "text"
      },
      "source": [
        "## Number of iterations\n",
        "\n",
        "Total running time isn't the only way to look at results. Time per iteration is also interesting. We have two flavors of code, those who loop first on pixels, then on iteration of complex computation, and those who loop first on the complex iteration using array operations.  The average number of iteration is way lower in the former case.  Let's compute it.\n",
        "\n",
        "We must be careful though, as we set to 0 the pixels that did not escape horizon.  let's use a code variant that does not do this."
      ]
    },
    {
      "cell_type": "code",
      "metadata": {
        "collapsed": true,
        "id": "MO2ZLv0hyVow",
        "colab_type": "code",
        "colab": {}
      },
      "source": [
        "from numba import jit\n",
        "\n",
        "@jit\n",
        "def mandelbrot(creal,cimag,maxiter):\n",
        "    real = creal\n",
        "    imag = cimag\n",
        "    for n in range(maxiter):\n",
        "        real2 = real*real\n",
        "        imag2 = imag*imag\n",
        "        if real2 + imag2 > 4.0:\n",
        "            return n\n",
        "        imag = 2* real*imag + cimag\n",
        "        real = real2 - imag2 + creal       \n",
        "    return maxiter\n",
        "\n",
        "\n",
        "@jit\n",
        "def mandelbrot_set4(xmin,xmax,ymin,ymax,width,height,maxiter):\n",
        "    r1 = np.linspace(xmin, xmax, width)\n",
        "    r2 = np.linspace(ymin, ymax, height)\n",
        "    n3 = np.empty((width,height))\n",
        "    for i in range(width):\n",
        "        for j in range(height):\n",
        "            n3[i,j] = mandelbrot(r1[i],r2[j],maxiter)\n",
        "    return (r1,r2,n3)"
      ],
      "execution_count": 0,
      "outputs": []
    },
    {
      "cell_type": "code",
      "metadata": {
        "id": "SDpGihJyyVox",
        "colab_type": "code",
        "colab": {},
        "outputId": "5f5d9cb0-a248-491d-e519-0a0ba05177d5"
      },
      "source": [
        "(r1,r2,n3) = mandelbrot_set4(-2.0,0.5,-1.25,1.25,1000,1000,80)\n",
        "print(n3.mean())\n",
        "\n",
        "(r1,r2,n3) = mandelbrot_set4(-0.74877,-0.74872,0.06505,0.06510,1000,1000,2048)\n",
        "print(n3.mean())"
      ],
      "execution_count": 0,
      "outputs": [
        {
          "output_type": "stream",
          "text": [
            "23.46311\n",
            "582.160638\n"
          ],
          "name": "stdout"
        }
      ]
    }
  ]
}